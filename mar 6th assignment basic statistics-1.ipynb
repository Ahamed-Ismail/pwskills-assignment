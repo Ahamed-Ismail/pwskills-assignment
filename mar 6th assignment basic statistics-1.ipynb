{
 "cells": [
  {
   "cell_type": "markdown",
   "id": "0e6a3daa",
   "metadata": {},
   "source": [
    "## Q1. What is Statistics?\n",
    "\n",
    "Statistic is a branch of mathematics which involve collecting, organising and analysing the data.\n",
    "Statistics is used to find meaningful inferences and insights into the data.\n",
    "It is used in various fields such as Finance, Medicine, Economics and so on.\n"
   ]
  },
  {
   "cell_type": "markdown",
   "id": "a356103f",
   "metadata": {},
   "source": [
    "## Q2. Define the different types of statistics and give an example of when each type might be used.\n",
    "\n",
    "There are two main types of statistics\n",
    "\n",
    "1. Descriptive statistics:\n",
    "   It involved the summary and presentation of data using measures such as measure of central tendency and measure of dispersion. The data is presented visually using various graphs such as barplot, histogram, pieplot, etc.\n",
    "   \n",
    "   Example: Mean, Median, Mode, Variance, Standard Deviations.\n",
    "\n",
    "\n",
    "\n",
    "2. Inferential statistics:\n",
    "   Inferential statistics, on the other hand, involves using data from a sample to make inferences or draw conclusions about a larger population. It includes techniques such as hypothesis testing, estimation, and regression analysis. Inferential statistics allows researchers to make generalizations and predictions based on a subset of data.\n",
    "   \n",
    "   Example: Hypothesis testing, P-value, Estimation."
   ]
  },
  {
   "cell_type": "markdown",
   "id": "0db46450",
   "metadata": {},
   "source": [
    "## Q3. What are the different types of data and how do they differ from each other? Provide an example of each type of data.\n",
    "\n",
    "\n",
    "\n",
    "1. Nominal Data: Nominal data consists of categories or labels that have no inherent order or ranking. It represents qualitative or categorical variables. Examples of nominal data include:\n",
    "   - Types of fruits: apple, orange, banana.\n",
    "   - Marital status: single, married, divorced.\n",
    "\n",
    "2. Ordinal Data: Ordinal data represents categories that have a natural order or ranking. The difference between categories is not precisely measurable, but the relative order is significant. Examples of ordinal data include:\n",
    "   - Educational levels: elementary, high school, bachelor's, master's.\n",
    "   - Satisfaction rating: very dissatisfied, dissatisfied, neutral, satisfied, very satisfied.\n",
    "\n",
    "3. Interval Data: Interval data has a consistent interval or distance between the values. It doesn't have a true zero point and can include both positive and negative numbers. Examples of interval data include:\n",
    "   - Temperature in Celsius or Fahrenheit: 25°C, 30°C, 35°C.\n",
    "   - Calendar dates: January 1st, February 15th, July 4th.\n",
    "\n",
    "4. Ratio Data: Ratio data has a meaningful zero point and allows for comparison of both the intervals and ratios between values. It includes measurements with a natural zero, such as age, weight, or time. Examples of ratio data include:\n",
    "   - Height in centimeters: 160 cm, 175 cm, 190 cm.\n",
    "   - Number of siblings: 0, 1, 2, 3.\n"
   ]
  },
  {
   "cell_type": "markdown",
   "id": "6e4de762",
   "metadata": {},
   "source": [
    "## Q4. Categorise the following datasets with respect to quantitative and qualitative data types:\n",
    "## (i) Grading in exam: A+, A, B+, B, C+, C, D, E\n",
    "## (ii) Colour of mangoes: yellow, green, orange, red\n",
    "## (iii) Height data of a class: [178.9, 179, 179.5, 176, 177.2, 178.3, 175.8,...]\n",
    "## (iv) Number of mangoes exported by a farm: [500, 600, 478, 672, ...]\n",
    "\n",
    "\n",
    "(i) Grading in exam: A+, A, B+, B, C+, C, D, E :\n",
    "   - It belongs to Ordinal Scale data as they are qualitative and can be ordered according to ranks.\n",
    "     \n",
    "     \n",
    "(ii) Colour of mangoes: yellow, green, orange, red\n",
    "   - It belongs to Nominal Scale data as they are qualitative and the order or ranking cannot be given.\n",
    "     \n",
    "     \n",
    "(iii) Height data of a class: [178.9, 179, 179.5, 176, 177.2, 178.3, 175.8,...]\n",
    "   - It belongs to interval data as they dont have true Zero point (Height cannot be 0 cms)\n",
    "   \n",
    "   \n",
    "(iv) Number of mangoes exported by a farm: [500, 600, 478, 672, ...]\n",
    "   - They belong to ratio scale data as they have true Zero point (0 mangoes can be exported)"
   ]
  },
  {
   "cell_type": "markdown",
   "id": "9280b4f2",
   "metadata": {},
   "source": [
    "## Q5. Explain the concept of levels of measurement and give an example of a variable for each level.\n",
    "\n",
    "Levels of measurement, also known as scales of measurement, refer to the different ways in which variables can be measured or classified. There are four main levels of measurement: nominal, ordinal, interval, and ratio. These levels define the properties and characteristics of the data and determine the types of statistical analyses that can be applied.\n",
    "\n",
    "1. Nominal Level: At the nominal level of measurement, variables are classified into distinct categories or groups with no inherent order or ranking. Examples of variables at the nominal level include:\n",
    "   - Blood types: A, B, AB, O.\n",
    "   - Political affiliation: Democrat, Republican, Independent.\n",
    "   - Eye colors: Blue, Brown, Green.\n",
    "\n",
    "2. Ordinal Level: In ordinal measurement, variables can be ranked or ordered, but the differences between values may not be precisely measurable. The relative order or position of values is significant. Examples of variables at the ordinal level include:\n",
    "   - Education level: High school diploma, Bachelor's degree, Master's degree, Ph.D.\n",
    "   - Customer satisfaction rating: Very dissatisfied, Dissatisfied, Neutral, Satisfied, Very satisfied.\n",
    "   - Rank in a race: 1st place, 2nd place, 3rd place, and so on.\n",
    "\n",
    "3. Interval Level: Variables at the interval level have a consistent interval or distance between values, but there is no true zero point. Examples of variables at the interval level include:\n",
    "   - Temperature in Celsius or Fahrenheit: 20°C, 30°C, 40°C.\n",
    "   - Calendar dates: January 1st, February 15th, July 4th.\n",
    "   - IQ scores: 100, 120, 140.\n",
    "\n",
    "4. Ratio Level: The ratio level of measurement possesses all the characteristics of the interval level, but it also has a meaningful zero point, allowing for the comparison of both intervals and ratios between values. Examples of variables at the ratio level include:\n",
    "   - Age: 25 years old, 40 years old, 60 years old.\n",
    "   - Weight: 50 kg, 70 kg, 90 kg.\n",
    "   - Income: $30,000, $50,000, $70,000.\n"
   ]
  },
  {
   "cell_type": "markdown",
   "id": "ed31bc48",
   "metadata": {},
   "source": [
    "## Q6. Why is it important to understand the level of measurement when analyzing data? Provide an example to illustrate your answer.\n",
    "\n",
    "Understanding the level of measurement is crucial when analyzing data because it determines the appropriate statistical operations and analyses that can be applied. Different levels of measurement have specific properties and restrictions, which influence the types of calculations and interpretations that can be made. Failing to consider the level of measurement can lead to incorrect analyses and misinterpretations of the data.\n",
    "\n",
    "For example, let's consider a scenario where we have collected data on the level of education of individuals using a scale: \"High school diploma,\" \"Associate's degree,\" \"Bachelor's degree,\" and \"Master's degree.\" If we treat this variable as a numerical variable and perform calculations such as taking the mean or performing arithmetic operations, it would be incorrect because the variable is at the ordinal level of measurement. The values have an order but the differences between the categories are not precisely measurable. Treating it as numerical data would imply that the difference between \"High school diploma\" and \"Associate's degree\" is the same as the difference between \"Bachelor's degree\" and \"Master's degree,\" which is not the case.\n",
    "\n",
    "In this example, understanding the level of measurement (ordinal) allows us to use appropriate descriptive statistics and analysis methods. Instead of calculating means, we can use measures such as mode or median to summarize the data. Additionally, we can use non-parametric tests or ordinal regression analysis to examine relationships and make valid inferences.\n",
    "\n",
    "By correctly identifying and understanding the level of measurement, researchers and analysts can choose the most appropriate statistical techniques, ensure accurate interpretations, and avoid erroneous conclusions or generalizations based on incorrect assumptions about the data."
   ]
  },
  {
   "cell_type": "markdown",
   "id": "b1b1347e",
   "metadata": {},
   "source": [
    "## Q7. How nominal data type is different from ordinal data type.\n",
    "\n",
    "Nominal data and ordinal data are both categorical variables, but they differ in terms of the properties and characteristics associated with them.\n",
    "\n",
    "1. Nominal Data:\n",
    "   - Nominal data consists of categories or labels with no inherent order or ranking.\n",
    "   - The values in nominal data are distinct and can be classified into different groups or categories.\n",
    "   - Nominal data cannot be arranged in a meaningful order or sequence.\n",
    "   - Examples of nominal data include gender (male, female), eye color (blue, brown, green), or types of fruits (apple, orange, banana).\n",
    "   - Statistical analysis of nominal data typically involves frequency counts, percentages, mode, or chi-square tests.\n",
    "\n",
    "2. Ordinal Data:\n",
    "   - Ordinal data represents categories that have a natural order or ranking.\n",
    "   - The values in ordinal data can be ranked or ordered, indicating relative differences between them.\n",
    "   - However, the differences between categories may not be precisely measurable or uniform.\n",
    "   - Examples of ordinal data include educational levels (high school diploma, associate's degree, bachelor's degree, master's degree) or satisfaction ratings (very dissatisfied, dissatisfied, neutral, satisfied, very satisfied).\n",
    "   - Analyzing ordinal data often involves ranking the categories, calculating medians, and using non-parametric tests like the Mann-Whitney U test or Spearman's rank correlation.\n",
    "\n",
    "In summary, while both nominal and ordinal data are categorical, the key difference lies in the nature of the categories. Nominal data has no inherent order or ranking, whereas ordinal data possesses a natural order or ranking, though the precise differences between categories may not be quantitatively measurable."
   ]
  },
  {
   "cell_type": "markdown",
   "id": "1023fa7f",
   "metadata": {},
   "source": [
    "## Q8. Which type of plot can be used to display data in terms of range?\n",
    "\n",
    "A type of plot that can be used to display data in terms of range is a range plot or a range chart. Range plots are particularly useful when you want to visualize the variability or spread of a dataset.\n",
    "\n",
    "A range plot typically consists of two horizontal axes. The first axis represents the categories or groups being compared, while the second axis represents the range or spread of values within each category. Each category is associated with a range bar that shows the minimum and maximum values or the lower and upper bounds of the range.\n",
    "\n",
    "Range plots are commonly used in quality control, manufacturing, and process improvement to monitor and display the variation in a process or product. They help identify outliers, compare ranges across categories, and assess the consistency of data within each group.\n",
    "\n",
    "An alternative type of plot that can be used to display the range of data is a box plot or box-and-whisker plot. Box plots provide a visual representation of the minimum, first quartile, median, third quartile, and maximum values of a dataset. The \"box\" in a box plot represents the interquartile range (IQR), which indicates the range of the middle 50% of the data. The \"whiskers\" extend from the box to show the range of the data within a certain distance from the median.\n",
    "\n",
    "Both range plots and box plots effectively illustrate the range or spread of data, allowing viewers to quickly grasp the variability and distribution of values within different categories or groups."
   ]
  },
  {
   "cell_type": "markdown",
   "id": "f2451a3d",
   "metadata": {},
   "source": [
    "## Q9. Describe the difference between descriptive and inferential statistics. Give an example of each type of statistics and explain how they are used.\n",
    "\n",
    "Descriptive statistics and inferential statistics are two branches of statistics that serve distinct purposes in data analysis.\n",
    "\n",
    "1. Descriptive Statistics:\n",
    "   - Descriptive statistics involves summarizing, organizing, and presenting data in a meaningful way.\n",
    "   - It focuses on describing and summarizing the main features of a dataset, such as central tendency (mean, median, mode), dispersion (range, standard deviation), and visual representations (graphs, charts).\n",
    "   - Descriptive statistics are used to provide a concise and informative summary of data, allowing researchers and analysts to understand the characteristics and patterns within a dataset.\n",
    "   - Example: Calculating the mean and standard deviation of a set of exam scores to describe the average performance and variability of students in a class.\n",
    "\n",
    "2. Inferential Statistics:\n",
    "   - Inferential statistics involves making inferences, drawing conclusions, and generalizing from a sample to a larger population.\n",
    "   - It uses sample data to make predictions, test hypotheses, estimate parameters, and determine the significance of relationships or differences.\n",
    "   - Inferential statistics aim to make broader statements or inferences about a population based on a smaller subset of data.\n",
    "   - Example: Conducting a hypothesis test to determine if a new drug has a significant effect in reducing blood pressure, based on a sample of patients. Inferential statistics would help determine whether the observed effect is likely to be present in the larger population.\n"
   ]
  },
  {
   "cell_type": "markdown",
   "id": "3d040e83",
   "metadata": {},
   "source": [
    "## Q10. What are some common measures of central tendency and variability used in statistics? Explain how each measure can be used to describe a dataset.\n",
    "\n",
    "In statistics, measures of central tendency and variability are used to summarize and describe the characteristics of a dataset. Here are some common measures of central tendency and variability:\n",
    "\n",
    "Measures of Central Tendency:\n",
    "1. Mean: The mean is the average of a set of values. It is calculated by summing all the values and dividing by the total number of observations. The mean represents the \"typical\" value in a dataset and provides an overall measure of central location.\n",
    "\n",
    "2. Median: The median is the middle value in an ordered dataset. It divides the data into two equal halves. If the dataset has an odd number of observations, the median is the middle value. If the dataset has an even number of observations, the median is the average of the two middle values. The median is less sensitive to extreme values and provides a measure of the central value.\n",
    "\n",
    "3. Mode: The mode represents the most frequently occurring value(s) in a dataset. It identifies the value(s) with the highest frequency. The mode is useful for identifying the most common category or value in a dataset and can be applied to both categorical and numerical data.\n",
    "\n",
    "Measures of Variability:\n",
    "1. Range: The range is the difference between the maximum and minimum values in a dataset. It provides a simple measure of the spread or dispersion of the data. However, it is sensitive to extreme values and may not capture the entire range of values effectively.\n",
    "\n",
    "2. Variance: Variance measures the average squared deviation from the mean. It quantifies the spread of values around the mean. A higher variance indicates greater variability in the data.\n",
    "\n",
    "3. Standard Deviation: The standard deviation is the square root of the variance. It provides a measure of the average distance between each data point and the mean. The standard deviation is widely used and is valuable for understanding the dispersion of data.\n",
    "\n",
    "4. Interquartile Range (IQR): The interquartile range is the range between the first quartile (25th percentile) and the third quartile (75th percentile). It represents the spread of the middle 50% of the data, making it less affected by extreme values. The IQR is useful for identifying the variability within the central portion of a dataset.\n",
    "\n",
    "These measures help summarize and describe different aspects of a dataset, such as the typical value, the spread or dispersion of values, and the presence of outliers. By using a combination of measures of central tendency and variability, researchers can gain a comprehensive understanding of the characteristics of the data."
   ]
  }
 ],
 "metadata": {
  "kernelspec": {
   "display_name": "Python 3 (ipykernel)",
   "language": "python",
   "name": "python3"
  },
  "language_info": {
   "codemirror_mode": {
    "name": "ipython",
    "version": 3
   },
   "file_extension": ".py",
   "mimetype": "text/x-python",
   "name": "python",
   "nbconvert_exporter": "python",
   "pygments_lexer": "ipython3",
   "version": "3.10.0"
  }
 },
 "nbformat": 4,
 "nbformat_minor": 5
}
