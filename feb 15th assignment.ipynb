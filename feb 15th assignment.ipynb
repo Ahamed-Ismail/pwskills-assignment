{
 "cells": [
  {
   "cell_type": "markdown",
   "id": "abcf4514",
   "metadata": {},
   "source": [
    "## Q1. What is multiprocessing in python? Why is it useful?\n",
    "\n",
    "In Python, multiprocessing is a module that enables the execution of multiple processes, which are separate instances of the program running concurrently. It provides a way to utilize multiple processors or cores available in a computer to perform tasks in parallel, thereby improving the overall performance and efficiency of the program.\n",
    "\n",
    "The multiprocessing module allows you to spawn new processes, each with its own Python interpreter, memory space, and resources. \n",
    "\n",
    "1. Increased Performance\n",
    "2. Parallel Execution\n",
    "3. Improved Responsiveness\n",
    "4. Resource Isolation"
   ]
  },
  {
   "cell_type": "markdown",
   "id": "78e41437",
   "metadata": {},
   "source": [
    "## Q2. What are the differences between multiprocessing and multithreading?\n",
    "\n",
    "1. Execution Model:\n",
    "   Multiprocessing: In multiprocessing, multiple processes are created, each with its own memory space and resources. These processes run independently and can execute tasks in parallel, utilizing multiple CPU cores or processors.\n",
    "   Multithreading: In multithreading, multiple threads are created within a single process, and they share the same memory space and resources. These threads run concurrently, but typically on a single CPU core due to the Global Interpreter Lock (GIL) in Python.\n",
    "\n",
    "2. Resource Usage:\n",
    "   Multiprocessing: Each process in multiprocessing has its own memory space, allowing for better resource isolation. Processes do not directly share memory and must use inter-process communication (IPC) mechanisms like pipes, queues, or shared memory to exchange data.\n",
    "    Multithreading: Threads within the same process share the same memory space. They can directly access and modify shared data, which can lead to potential synchronization issues and the need for thread synchronization mechanisms like locks or semaphores to prevent data conflicts.\n",
    "    \n",
    "3. Parallelism:\n",
    "    Multiprocessing: Multiprocessing enables true parallel execution by distributing tasks across multiple processes, taking advantage of multiple CPU cores or processors. Each process can run on a separate core, allowing for efficient utilization of available hardware resources.\n",
    "    Multithreading: Due to the GIL in Python, multithreading does not provide true parallelism. Although threads can run concurrently, only one thread can execute Python bytecode at a time. This limitation restricts the performance improvement in CPU-bound tasks when using threads."
   ]
  },
  {
   "cell_type": "markdown",
   "id": "b8007038",
   "metadata": {},
   "source": [
    "## Q3. Write a python code to create a process using the multiprocessing module."
   ]
  },
  {
   "cell_type": "code",
   "execution_count": 15,
   "id": "36654cac",
   "metadata": {},
   "outputs": [
    {
     "name": "stdout",
     "output_type": "stream",
     "text": [
      "Process execution complete.\n"
     ]
    }
   ],
   "source": [
    "import multiprocessing\n",
    "\n",
    "def process_task(name):\n",
    "    print(f\"Executing task: {name}\")\n",
    "\n",
    "if __name__ == '__main__':\n",
    "\n",
    "    process = multiprocessing.Process(target=process_task, args=('Process 1',))\n",
    "\n",
    "\n",
    "    process.start()\n",
    "\n",
    "    process.join()\n",
    "\n",
    "    print(\"Process execution complete.\")\n"
   ]
  },
  {
   "cell_type": "markdown",
   "id": "4548e0e8",
   "metadata": {},
   "source": [
    "## Q4. What is a multiprocessing pool in python? Why is it used?\n",
    "\n",
    "In Python, a multiprocessing pool refers to a mechanism provided by the `multiprocessing` module that allows for the creation and management of a pool of worker processes. It provides a convenient way to distribute tasks across multiple processes, abstracting away the complexities of process creation and management.\n",
    "\n",
    "The multiprocessing pool is represented by the `Pool` class, which offers various methods to submit tasks for execution and retrieve their results. The main purpose of using a multiprocessing pool is to achieve parallelism and improve the performance of CPU-bound or time-consuming tasks by leveraging multiple processes.\n",
    "\n",
    "Here are some key aspects and benefits of using a multiprocessing pool:\n",
    "\n",
    "1. Task Distribution: With a multiprocessing pool, you can divide a large task or a collection of similar tasks into smaller units of work. The pool automatically distributes these tasks among the available worker processes, allowing them to be executed in parallel.\n",
    "\n",
    "2. Load Balancing: The pool manages the allocation of tasks to worker processes, ensuring a balanced distribution of the workload. It automatically assigns tasks to idle processes, optimizing the utilization of available CPU cores or processors.\n",
    "\n",
    "3. Simplified Interface: The multiprocessing pool provides a high-level and straightforward interface to work with parallel processing. You can submit tasks to the pool using the `apply()`, `map()`, or `imap()` methods, and retrieve the results using the corresponding result retrieval methods.\n",
    "\n",
    "4. Resource Management: The pool abstracts away the complexities of creating and managing individual processes. It automatically manages the creation and termination of worker processes, allowing you to focus on defining the tasks and processing logic.\n",
    "\n",
    "5. Result Aggregation: The multiprocessing pool provides methods to retrieve the results of the executed tasks. These methods, such as `get()`, `map()`, or `imap()`, return the results in the order they were submitted or as they become available. This makes it convenient to collect and process the results of parallel computations.\n",
    "\n",
    "\n",
    "\n"
   ]
  },
  {
   "cell_type": "markdown",
   "id": "5e0f7e0e",
   "metadata": {},
   "source": [
    "## Q5. How can we create a pool of worker processes in python using the multiprocessing module?\n",
    "\n",
    "To create a pool of worker processes in Python using the multiprocessing module, you can utilize the Pool class. The Pool class provides a convenient interface for managing a pool of worker processes and distributing tasks across them."
   ]
  },
  {
   "cell_type": "code",
   "execution_count": null,
   "id": "84c5488b",
   "metadata": {},
   "outputs": [],
   "source": [
    "import multiprocessing\n",
    "\n",
    "def process_task(name):\n",
    "    return f\"Executing task: {name}\"\n",
    "\n",
    "if __name__ == '__main__':\n",
    "    pool = multiprocessing.Pool()\n",
    "\n",
    "    tasks = ['Task 1', 'Task 2', 'Task 3', 'Task 4', 'Task 5']\n",
    "\n",
    "    results = pool.map(process_task, tasks)\n",
    "\n",
    "    pool.close()\n",
    "    pool.join()\n",
    "\n",
    "    for result in results:\n",
    "        print(result)\n"
   ]
  },
  {
   "cell_type": "markdown",
   "id": "4f4f0cd0",
   "metadata": {},
   "source": [
    "## Q6. Write a python program to create 4 processes, each process should print a different number using the multiprocessing module in python."
   ]
  },
  {
   "cell_type": "code",
   "execution_count": null,
   "id": "fd9eb4f8",
   "metadata": {},
   "outputs": [],
   "source": [
    "import multiprocessing\n",
    "\n",
    "def print_number(number):\n",
    "    print(f\"Process ID: {multiprocessing.current_process().pid}, Number: {number}\")\n",
    "\n",
    "if __name__ == '__main__':\n",
    "    processes = []\n",
    "\n",
    "    for i in range(1, 5):\n",
    "        process = multiprocessing.Process(target=print_number, args=(i,))\n",
    "        processes.append(process)\n",
    "        process.start()\n",
    "\n",
    "    for process in processes:\n",
    "        process.join()\n",
    "\n",
    "    print(\"All processes completed.\")\n"
   ]
  }
 ],
 "metadata": {
  "kernelspec": {
   "display_name": "Python 3 (ipykernel)",
   "language": "python",
   "name": "python3"
  },
  "language_info": {
   "codemirror_mode": {
    "name": "ipython",
    "version": 3
   },
   "file_extension": ".py",
   "mimetype": "text/x-python",
   "name": "python",
   "nbconvert_exporter": "python",
   "pygments_lexer": "ipython3",
   "version": "3.10.0"
  }
 },
 "nbformat": 4,
 "nbformat_minor": 5
}
