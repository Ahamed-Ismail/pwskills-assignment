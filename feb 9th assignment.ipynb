{
 "cells": [
  {
   "cell_type": "markdown",
   "id": "2463a6e0",
   "metadata": {},
   "source": [
    "## Q1, Create a vehicle class with an init method having instance variables as name_of_vehicle, max_speed and average_of_vehicle."
   ]
  },
  {
   "cell_type": "code",
   "execution_count": 9,
   "id": "3ddda676",
   "metadata": {},
   "outputs": [],
   "source": [
    "class vehicle:\n",
    "    \n",
    "    def __init__(self, name_of_vehicle, max_speed, average_speed):\n",
    "        self.name_of_vehicle=name_of_vehicle\n",
    "        self.max_speed=max_speed\n",
    "        self.average_speed=average_speed"
   ]
  },
  {
   "cell_type": "markdown",
   "id": "981d848e",
   "metadata": {},
   "source": [
    "## Q2. Create a child class car from the vehicle class created in Que 1, which will inherit the vehicle class. Create a method named seating_capacity which takes capacity as an argument and returns the name of the vehicle and its seating capacity."
   ]
  },
  {
   "cell_type": "code",
   "execution_count": 10,
   "id": "5b71de3a",
   "metadata": {},
   "outputs": [],
   "source": [
    "class car(vehicle):\n",
    "    def seating_capacity(self, capacity):\n",
    "        self.capacity=capacity\n",
    "        return self.name_of_vehicle,self.capacity"
   ]
  },
  {
   "cell_type": "code",
   "execution_count": 14,
   "id": "b2279443",
   "metadata": {},
   "outputs": [
    {
     "data": {
      "text/plain": [
       "('Honda', 4)"
      ]
     },
     "execution_count": 14,
     "metadata": {},
     "output_type": "execute_result"
    }
   ],
   "source": [
    "c=car('Honda',220,80)\n",
    "c.seating_capacity(4)"
   ]
  },
  {
   "cell_type": "markdown",
   "id": "b909865b",
   "metadata": {},
   "source": [
    "## Q3. What is multiple inheritance? Write a python code to demonstrate multiple inheritance.\n",
    "\n",
    "Multiple inheritance is a feature in object-oriented programming languages where a class can inherit attributes and methods from multiple parent classes. It allows a subclass to inherit and combine the characteristics of multiple parent classes."
   ]
  },
  {
   "cell_type": "code",
   "execution_count": 15,
   "id": "6350f272",
   "metadata": {},
   "outputs": [
    {
     "name": "stdout",
     "output_type": "stream",
     "text": [
      "Sparrow is eating.\n",
      "Sparrow is flying.\n",
      "Sparrow is chirping.\n"
     ]
    }
   ],
   "source": [
    "class Animal:\n",
    "    def __init__(self, name):\n",
    "        self.name = name\n",
    "\n",
    "    def eat(self):\n",
    "        print(f\"{self.name} is eating.\")\n",
    "\n",
    "\n",
    "class Flyable:\n",
    "    def fly(self):\n",
    "        print(f\"{self.name} is flying.\")\n",
    "\n",
    "\n",
    "class Bird(Animal, Flyable):\n",
    "    def __init__(self, name):\n",
    "        super().__init__(name)\n",
    "\n",
    "    def chirp(self):\n",
    "        print(f\"{self.name} is chirping.\")\n",
    "\n",
    "\n",
    "bird = Bird(\"Sparrow\")\n",
    "\n",
    "# Calling methods from the Animal class\n",
    "bird.eat()\n",
    "\n",
    "# Calling methods from the Flyable class\n",
    "bird.fly()\n",
    "\n",
    "# Calling a method specific to the Bird class\n",
    "bird.chirp()\n"
   ]
  },
  {
   "cell_type": "markdown",
   "id": "44deab1f",
   "metadata": {},
   "source": [
    "## Q4. What are getter and setter in python? Create a class and create a getter and a setter method in this class.\n",
    "\n",
    "\n",
    "In Python, getter and setter methods are used to provide controlled access to class attributes or properties. They allow you to retrieve the value of an attribute (getter) and modify the value of an attribute (setter) through specific methods, rather than directly accessing the attribute."
   ]
  },
  {
   "cell_type": "code",
   "execution_count": 18,
   "id": "5bc4e10b",
   "metadata": {},
   "outputs": [
    {
     "name": "stdout",
     "output_type": "stream",
     "text": [
      "John\n",
      "-------Setting name to Alice-------\n",
      "Alice\n"
     ]
    }
   ],
   "source": [
    "class Person:\n",
    "    def __init__(self, name):\n",
    "        self._name = name\n",
    "    \n",
    "    @property  \n",
    "    def get_name(self):\n",
    "        return self._name\n",
    "    \n",
    "    @get_name.setter\n",
    "    def set_name(self, new_name):\n",
    "        self._name = new_name\n",
    "\n",
    "\n",
    "person = Person(\"John\")\n",
    "\n",
    "print(person.get_name)\n",
    "person.set_name=\"Alice\"\n",
    "\n",
    "print('-------Setting name to Alice-------')\n",
    "print(person.get_name) \n"
   ]
  },
  {
   "cell_type": "markdown",
   "id": "3581fe27",
   "metadata": {},
   "source": [
    "## Q5.What is method overriding in python? Write a python code to demonstrate method overriding.\n",
    "\n",
    "\n",
    "Method overriding in Python is a feature of object-oriented programming that allows a subclass to provide a different implementation of a method that is already defined in its superclass. The overridden method in the subclass will have the same name, but a different implementation."
   ]
  },
  {
   "cell_type": "code",
   "execution_count": 20,
   "id": "4766c2e6",
   "metadata": {},
   "outputs": [
    {
     "name": "stdout",
     "output_type": "stream",
     "text": [
      "Vehicle is being driven.\n",
      "Car is being driven.\n"
     ]
    }
   ],
   "source": [
    "class Vehicle:\n",
    "    def drive(self):\n",
    "        print(\"Vehicle is being driven.\")\n",
    "\n",
    "\n",
    "class Car(Vehicle):\n",
    "    def drive(self):   #overridden method\n",
    "        print(\"Car is being driven.\")\n",
    "\n",
    "\n",
    "vehicle = Vehicle()\n",
    "car = Car()\n",
    "\n",
    "vehicle.drive()  \n",
    "car.drive()  \n"
   ]
  }
 ],
 "metadata": {
  "kernelspec": {
   "display_name": "Python 3 (ipykernel)",
   "language": "python",
   "name": "python3"
  },
  "language_info": {
   "codemirror_mode": {
    "name": "ipython",
    "version": 3
   },
   "file_extension": ".py",
   "mimetype": "text/x-python",
   "name": "python",
   "nbconvert_exporter": "python",
   "pygments_lexer": "ipython3",
   "version": "3.10.0"
  }
 },
 "nbformat": 4,
 "nbformat_minor": 5
}
