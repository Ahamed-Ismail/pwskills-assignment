{
 "cells": [
  {
   "cell_type": "markdown",
   "id": "0fe0b5b3",
   "metadata": {},
   "source": [
    "# Q1. Theory and concepts"
   ]
  },
  {
   "cell_type": "markdown",
   "id": "93ed68c0",
   "metadata": {},
   "source": [
    "## 1. Explain the concept of batch normalization in the context of Artificial Neural Networks\n",
    "\n",
    "Batch normalization is a technique used in the training of artificial neural networks to standardize the inputs of each layer, making the network more stable and efficient. It aims to address the problem of internal covariate shift, which refers to the change in the distribution of network activations as the parameters of the preceding layers change during training. This can slow down the training process and make it difficult to choose appropriate learning rates.\n",
    "\n",
    "## 2. Describe the benefits of using batch normalization during training\n",
    "\n",
    "The working principle of batch normalization involves two key steps:\n",
    "\n",
    "1. Normalization Step: In this step, the inputs to a specific layer are normalized to have a mean of zero and a variance of one. This is done by subtracting the batch mean and dividing by the batch standard deviation, calculated over each mini-batch during the training process. This normalization ensures that the inputs to each layer have a similar distribution, reducing the internal covariate shift.\n",
    "\n",
    "2. Learnable Parameters: Batch normalization introduces learnable parameters, namely gamma and beta, for each layer. These parameters allow the model to learn the optimal scale and shift of the normalized values. Gamma controls the standard deviation of the outputs of the layer, while beta controls the mean. By allowing the network to learn the best scale and shift for each layer, batch normalization helps the model to adapt to different types of data and improve the learning process.\n",
    "\n",
    "\n",
    "## 3. Discuss the working principle of batch normalization, including the normalization step and the learnable parameters.\n",
    "\n",
    "The benefits of using batch normalization during training include:\n",
    "\n",
    "1. Improved Training Speed: Batch normalization reduces internal covariate shift, allowing for higher learning rates and faster convergence during training. This results in faster training times and more stable learning dynamics.\n",
    "\n",
    "2. Better Generalization: By reducing the dependency of the network on specific parameter initializations, batch normalization helps the model generalize better to unseen data, leading to improved performance on validation and test sets.\n",
    "\n",
    "3. Reduction of Vanishing and Exploding Gradients: Batch normalization helps alleviate the vanishing and exploding gradient problems by maintaining stable activation values throughout the network. This allows for the training of deeper networks without encountering gradient-related issues.\n",
    "\n",
    "4. Regularization Effect: Batch normalization acts as a form of regularization by adding noise to the training process, reducing overfitting and improving the model's ability to generalize to unseen data.\n",
    "\n"
   ]
  },
  {
   "cell_type": "markdown",
   "id": "6deb8d53",
   "metadata": {},
   "source": [
    "# Q2. Implementation"
   ]
  },
  {
   "cell_type": "markdown",
   "id": "b82f3eb7",
   "metadata": {},
   "source": [
    "### 1. Choose a dataset of your choice (e.g., MNIST, CIAR-0) and preprocess it"
   ]
  },
  {
   "cell_type": "code",
   "execution_count": 1,
   "id": "f6cd9e52",
   "metadata": {},
   "outputs": [],
   "source": [
    "import tensorflow as tf\n",
    "import pandas as pd"
   ]
  },
  {
   "cell_type": "code",
   "execution_count": 3,
   "id": "b7ba99e4",
   "metadata": {},
   "outputs": [],
   "source": [
    "mnist=tf.keras.datasets.mnist"
   ]
  },
  {
   "cell_type": "code",
   "execution_count": 5,
   "id": "8460cffc",
   "metadata": {},
   "outputs": [],
   "source": [
    "(xtrain_full,ytrain_full),(xtest,ytest)=mnist.load_data()"
   ]
  },
  {
   "cell_type": "code",
   "execution_count": 8,
   "id": "3c37feca",
   "metadata": {},
   "outputs": [
    {
     "data": {
      "text/plain": [
       "((60000, 28, 28), (10000, 28, 28))"
      ]
     },
     "execution_count": 8,
     "metadata": {},
     "output_type": "execute_result"
    }
   ],
   "source": [
    "xtrain_full.shape,xtest.shape"
   ]
  },
  {
   "cell_type": "code",
   "execution_count": 12,
   "id": "95c82634",
   "metadata": {},
   "outputs": [],
   "source": [
    "from sklearn.model_selection import train_test_split\n",
    "\n",
    "xtrain,xvalid,ytrain,yvalid=train_test_split(xtrain_full,ytrain_full,test_size=0.25,random_state=42)"
   ]
  },
  {
   "cell_type": "code",
   "execution_count": 13,
   "id": "18cce5bc",
   "metadata": {},
   "outputs": [
    {
     "data": {
      "text/plain": [
       "(15000, 28, 28)"
      ]
     },
     "execution_count": 13,
     "metadata": {},
     "output_type": "execute_result"
    }
   ],
   "source": [
    "xvalid.shape"
   ]
  },
  {
   "cell_type": "markdown",
   "id": "19f15914",
   "metadata": {},
   "source": [
    "### 2. Implement a simple feedforward neural network using any deep learning framework/library (e.g., Tensorlow, pyTorch)\n"
   ]
  },
  {
   "cell_type": "markdown",
   "id": "a1792e9b",
   "metadata": {},
   "source": [
    "### 3. Train the neural network on the chosen dataset without using batch normalization\n"
   ]
  },
  {
   "cell_type": "code",
   "execution_count": 35,
   "id": "a2bfebe1",
   "metadata": {},
   "outputs": [],
   "source": [
    "LAYERS=[\n",
    "    tf.keras.layers.Flatten(input_shape=[28,28]),\n",
    "    tf.keras.layers.Dense(300, activation='relu'),\n",
    "    tf.keras.layers.Dense(100, activation='relu'),\n",
    "    tf.keras.layers.Dense(10, activation='softmax')\n",
    "    ]\n",
    "model_no_norm=tf.keras.models.Sequential(LAYERS)   #model without normalization\n",
    "\n",
    "model_no_norm.compile(optimizer='adam',\n",
    "              loss='sparse_categorical_crossentropy',\n",
    "              metrics=['accuracy'])"
   ]
  },
  {
   "cell_type": "code",
   "execution_count": 36,
   "id": "c368f9d3",
   "metadata": {
    "scrolled": true
   },
   "outputs": [
    {
     "name": "stdout",
     "output_type": "stream",
     "text": [
      "Epoch 1/10\n",
      "1407/1407 [==============================] - 14s 9ms/step - loss: 1.6497 - accuracy: 0.8342 - val_loss: 0.5023 - val_accuracy: 0.8911\n",
      "Epoch 2/10\n",
      "1407/1407 [==============================] - 15s 11ms/step - loss: 0.3258 - accuracy: 0.9158 - val_loss: 0.3020 - val_accuracy: 0.9309\n",
      "Epoch 3/10\n",
      "1407/1407 [==============================] - 12s 9ms/step - loss: 0.2089 - accuracy: 0.9427 - val_loss: 0.2508 - val_accuracy: 0.9349\n",
      "Epoch 4/10\n",
      "1407/1407 [==============================] - 14s 10ms/step - loss: 0.1743 - accuracy: 0.9519 - val_loss: 0.1891 - val_accuracy: 0.9539\n",
      "Epoch 5/10\n",
      "1407/1407 [==============================] - 13s 9ms/step - loss: 0.1500 - accuracy: 0.9577 - val_loss: 0.1901 - val_accuracy: 0.9521\n",
      "Epoch 6/10\n",
      "1407/1407 [==============================] - 14s 10ms/step - loss: 0.1369 - accuracy: 0.9633 - val_loss: 0.1595 - val_accuracy: 0.9609\n",
      "Epoch 7/10\n",
      "1407/1407 [==============================] - 12s 8ms/step - loss: 0.1239 - accuracy: 0.9668 - val_loss: 0.2024 - val_accuracy: 0.9585\n",
      "Epoch 8/10\n",
      "1407/1407 [==============================] - 16s 11ms/step - loss: 0.1049 - accuracy: 0.9724 - val_loss: 0.1778 - val_accuracy: 0.9608\n",
      "Epoch 9/10\n",
      "1407/1407 [==============================] - 12s 8ms/step - loss: 0.1134 - accuracy: 0.9714 - val_loss: 0.1793 - val_accuracy: 0.9621\n",
      "Epoch 10/10\n",
      "1407/1407 [==============================] - 11s 8ms/step - loss: 0.0937 - accuracy: 0.9750 - val_loss: 0.1835 - val_accuracy: 0.9610\n"
     ]
    }
   ],
   "source": [
    "history_no_norm=model_no_norm.fit(xtrain,ytrain,epochs=10 ,validation_data=(xvalid,yvalid))"
   ]
  },
  {
   "cell_type": "code",
   "execution_count": 37,
   "id": "091ae9f0",
   "metadata": {},
   "outputs": [
    {
     "data": {
      "text/html": [
       "<div>\n",
       "<style scoped>\n",
       "    .dataframe tbody tr th:only-of-type {\n",
       "        vertical-align: middle;\n",
       "    }\n",
       "\n",
       "    .dataframe tbody tr th {\n",
       "        vertical-align: top;\n",
       "    }\n",
       "\n",
       "    .dataframe thead th {\n",
       "        text-align: right;\n",
       "    }\n",
       "</style>\n",
       "<table border=\"1\" class=\"dataframe\">\n",
       "  <thead>\n",
       "    <tr style=\"text-align: right;\">\n",
       "      <th></th>\n",
       "      <th>loss</th>\n",
       "      <th>accuracy</th>\n",
       "      <th>val_loss</th>\n",
       "      <th>val_accuracy</th>\n",
       "    </tr>\n",
       "  </thead>\n",
       "  <tbody>\n",
       "    <tr>\n",
       "      <th>0</th>\n",
       "      <td>1.649663</td>\n",
       "      <td>0.834200</td>\n",
       "      <td>0.502278</td>\n",
       "      <td>0.891067</td>\n",
       "    </tr>\n",
       "    <tr>\n",
       "      <th>1</th>\n",
       "      <td>0.325811</td>\n",
       "      <td>0.915844</td>\n",
       "      <td>0.302006</td>\n",
       "      <td>0.930933</td>\n",
       "    </tr>\n",
       "    <tr>\n",
       "      <th>2</th>\n",
       "      <td>0.208869</td>\n",
       "      <td>0.942667</td>\n",
       "      <td>0.250772</td>\n",
       "      <td>0.934867</td>\n",
       "    </tr>\n",
       "    <tr>\n",
       "      <th>3</th>\n",
       "      <td>0.174260</td>\n",
       "      <td>0.951933</td>\n",
       "      <td>0.189078</td>\n",
       "      <td>0.953933</td>\n",
       "    </tr>\n",
       "    <tr>\n",
       "      <th>4</th>\n",
       "      <td>0.150010</td>\n",
       "      <td>0.957733</td>\n",
       "      <td>0.190139</td>\n",
       "      <td>0.952133</td>\n",
       "    </tr>\n",
       "    <tr>\n",
       "      <th>5</th>\n",
       "      <td>0.136861</td>\n",
       "      <td>0.963333</td>\n",
       "      <td>0.159469</td>\n",
       "      <td>0.960933</td>\n",
       "    </tr>\n",
       "    <tr>\n",
       "      <th>6</th>\n",
       "      <td>0.123941</td>\n",
       "      <td>0.966844</td>\n",
       "      <td>0.202363</td>\n",
       "      <td>0.958533</td>\n",
       "    </tr>\n",
       "    <tr>\n",
       "      <th>7</th>\n",
       "      <td>0.104857</td>\n",
       "      <td>0.972356</td>\n",
       "      <td>0.177789</td>\n",
       "      <td>0.960800</td>\n",
       "    </tr>\n",
       "    <tr>\n",
       "      <th>8</th>\n",
       "      <td>0.113417</td>\n",
       "      <td>0.971444</td>\n",
       "      <td>0.179349</td>\n",
       "      <td>0.962067</td>\n",
       "    </tr>\n",
       "    <tr>\n",
       "      <th>9</th>\n",
       "      <td>0.093682</td>\n",
       "      <td>0.975044</td>\n",
       "      <td>0.183465</td>\n",
       "      <td>0.961000</td>\n",
       "    </tr>\n",
       "  </tbody>\n",
       "</table>\n",
       "</div>"
      ],
      "text/plain": [
       "       loss  accuracy  val_loss  val_accuracy\n",
       "0  1.649663  0.834200  0.502278      0.891067\n",
       "1  0.325811  0.915844  0.302006      0.930933\n",
       "2  0.208869  0.942667  0.250772      0.934867\n",
       "3  0.174260  0.951933  0.189078      0.953933\n",
       "4  0.150010  0.957733  0.190139      0.952133\n",
       "5  0.136861  0.963333  0.159469      0.960933\n",
       "6  0.123941  0.966844  0.202363      0.958533\n",
       "7  0.104857  0.972356  0.177789      0.960800\n",
       "8  0.113417  0.971444  0.179349      0.962067\n",
       "9  0.093682  0.975044  0.183465      0.961000"
      ]
     },
     "execution_count": 37,
     "metadata": {},
     "output_type": "execute_result"
    }
   ],
   "source": [
    "history_no_norm_df=pd.DataFrame(history_no_norm.history)\n",
    "history_no_norm_df"
   ]
  },
  {
   "cell_type": "code",
   "execution_count": 38,
   "id": "8bda02b9",
   "metadata": {},
   "outputs": [
    {
     "data": {
      "text/plain": [
       "<Axes: >"
      ]
     },
     "execution_count": 38,
     "metadata": {},
     "output_type": "execute_result"
    },
    {
     "data": {
      "image/png": "[encoded data removed]",
      "text/plain": [
       "<Figure size 640x480 with 1 Axes>"
      ]
     },
     "metadata": {},
     "output_type": "display_data"
    }
   ],
   "source": [
    "history_no_norm_df.plot()"
   ]
  },
  {
   "cell_type": "markdown",
   "id": "40fa5f59",
   "metadata": {},
   "source": [
    "### 4. Implement batch normalization layers in the neural network and train the model again\n"
   ]
  },
  {
   "cell_type": "code",
   "execution_count": 39,
   "id": "2d9e7070",
   "metadata": {},
   "outputs": [],
   "source": [
    "LAYERS=[\n",
    "    tf.keras.layers.Flatten(input_shape=[28,28]),\n",
    "    tf.keras.layers.Dense(300, activation='relu'),\n",
    "    tf.keras.layers.BatchNormalization(),\n",
    "    tf.keras.layers.Dense(100, activation='relu'),\n",
    "    tf.keras.layers.BatchNormalization(),\n",
    "    tf.keras.layers.Dense(10, activation='softmax')\n",
    "    ]\n",
    "model_with_norm=tf.keras.models.Sequential(LAYERS)   #model with normalization\n",
    "\n",
    "model_with_norm.compile(optimizer='adam',\n",
    "              loss='sparse_categorical_crossentropy',\n",
    "              metrics=['accuracy'])"
   ]
  },
  {
   "cell_type": "code",
   "execution_count": 40,
   "id": "2046db44",
   "metadata": {},
   "outputs": [
    {
     "name": "stdout",
     "output_type": "stream",
     "text": [
      "Epoch 1/10\n",
      "1407/1407 [==============================] - 20s 13ms/step - loss: 0.2366 - accuracy: 0.9285 - val_loss: 0.1643 - val_accuracy: 0.9529\n",
      "Epoch 2/10\n",
      "1407/1407 [==============================] - 16s 11ms/step - loss: 0.1200 - accuracy: 0.9627 - val_loss: 0.1358 - val_accuracy: 0.9683\n",
      "Epoch 3/10\n",
      "1407/1407 [==============================] - 14s 10ms/step - loss: 0.0906 - accuracy: 0.9716 - val_loss: 0.3760 - val_accuracy: 0.9688\n",
      "Epoch 4/10\n",
      "1407/1407 [==============================] - 16s 12ms/step - loss: 0.0722 - accuracy: 0.9774 - val_loss: 0.1640 - val_accuracy: 0.9731\n",
      "Epoch 5/10\n",
      "1407/1407 [==============================] - 17s 12ms/step - loss: 0.0607 - accuracy: 0.9802 - val_loss: 0.1724 - val_accuracy: 0.9711\n",
      "Epoch 6/10\n",
      "1407/1407 [==============================] - 15s 10ms/step - loss: 0.0488 - accuracy: 0.9839 - val_loss: 0.1729 - val_accuracy: 0.9727\n",
      "Epoch 7/10\n",
      "1407/1407 [==============================] - 17s 12ms/step - loss: 0.0470 - accuracy: 0.9847 - val_loss: 0.2485 - val_accuracy: 0.9639\n",
      "Epoch 8/10\n",
      "1407/1407 [==============================] - 17s 12ms/step - loss: 0.0384 - accuracy: 0.9873 - val_loss: 0.1789 - val_accuracy: 0.9741\n",
      "Epoch 9/10\n",
      "1407/1407 [==============================] - 17s 12ms/step - loss: 0.0344 - accuracy: 0.9884 - val_loss: 0.1992 - val_accuracy: 0.9749\n",
      "Epoch 10/10\n",
      "1407/1407 [==============================] - 18s 13ms/step - loss: 0.0339 - accuracy: 0.9887 - val_loss: 0.2250 - val_accuracy: 0.9760\n"
     ]
    }
   ],
   "source": [
    "history_with_norm=model_with_norm.fit(xtrain,ytrain,epochs=10 ,validation_data=(xvalid,yvalid))"
   ]
  },
  {
   "cell_type": "code",
   "execution_count": 43,
   "id": "aca5c53d",
   "metadata": {},
   "outputs": [
    {
     "data": {
      "text/html": [
       "<div>\n",
       "<style scoped>\n",
       "    .dataframe tbody tr th:only-of-type {\n",
       "        vertical-align: middle;\n",
       "    }\n",
       "\n",
       "    .dataframe tbody tr th {\n",
       "        vertical-align: top;\n",
       "    }\n",
       "\n",
       "    .dataframe thead th {\n",
       "        text-align: right;\n",
       "    }\n",
       "</style>\n",
       "<table border=\"1\" class=\"dataframe\">\n",
       "  <thead>\n",
       "    <tr style=\"text-align: right;\">\n",
       "      <th></th>\n",
       "      <th>loss</th>\n",
       "      <th>accuracy</th>\n",
       "      <th>val_loss</th>\n",
       "      <th>val_accuracy</th>\n",
       "    </tr>\n",
       "  </thead>\n",
       "  <tbody>\n",
       "    <tr>\n",
       "      <th>0</th>\n",
       "      <td>0.236599</td>\n",
       "      <td>0.928467</td>\n",
       "      <td>0.164335</td>\n",
       "      <td>0.952933</td>\n",
       "    </tr>\n",
       "    <tr>\n",
       "      <th>1</th>\n",
       "      <td>0.119972</td>\n",
       "      <td>0.962667</td>\n",
       "      <td>0.135843</td>\n",
       "      <td>0.968267</td>\n",
       "    </tr>\n",
       "    <tr>\n",
       "      <th>2</th>\n",
       "      <td>0.090613</td>\n",
       "      <td>0.971600</td>\n",
       "      <td>0.375981</td>\n",
       "      <td>0.968800</td>\n",
       "    </tr>\n",
       "    <tr>\n",
       "      <th>3</th>\n",
       "      <td>0.072173</td>\n",
       "      <td>0.977378</td>\n",
       "      <td>0.163977</td>\n",
       "      <td>0.973067</td>\n",
       "    </tr>\n",
       "    <tr>\n",
       "      <th>4</th>\n",
       "      <td>0.060662</td>\n",
       "      <td>0.980156</td>\n",
       "      <td>0.172372</td>\n",
       "      <td>0.971133</td>\n",
       "    </tr>\n",
       "    <tr>\n",
       "      <th>5</th>\n",
       "      <td>0.048833</td>\n",
       "      <td>0.983911</td>\n",
       "      <td>0.172895</td>\n",
       "      <td>0.972667</td>\n",
       "    </tr>\n",
       "    <tr>\n",
       "      <th>6</th>\n",
       "      <td>0.047029</td>\n",
       "      <td>0.984689</td>\n",
       "      <td>0.248537</td>\n",
       "      <td>0.963933</td>\n",
       "    </tr>\n",
       "    <tr>\n",
       "      <th>7</th>\n",
       "      <td>0.038396</td>\n",
       "      <td>0.987267</td>\n",
       "      <td>0.178924</td>\n",
       "      <td>0.974133</td>\n",
       "    </tr>\n",
       "    <tr>\n",
       "      <th>8</th>\n",
       "      <td>0.034359</td>\n",
       "      <td>0.988378</td>\n",
       "      <td>0.199181</td>\n",
       "      <td>0.974933</td>\n",
       "    </tr>\n",
       "    <tr>\n",
       "      <th>9</th>\n",
       "      <td>0.033907</td>\n",
       "      <td>0.988667</td>\n",
       "      <td>0.224957</td>\n",
       "      <td>0.976000</td>\n",
       "    </tr>\n",
       "  </tbody>\n",
       "</table>\n",
       "</div>"
      ],
      "text/plain": [
       "       loss  accuracy  val_loss  val_accuracy\n",
       "0  0.236599  0.928467  0.164335      0.952933\n",
       "1  0.119972  0.962667  0.135843      0.968267\n",
       "2  0.090613  0.971600  0.375981      0.968800\n",
       "3  0.072173  0.977378  0.163977      0.973067\n",
       "4  0.060662  0.980156  0.172372      0.971133\n",
       "5  0.048833  0.983911  0.172895      0.972667\n",
       "6  0.047029  0.984689  0.248537      0.963933\n",
       "7  0.038396  0.987267  0.178924      0.974133\n",
       "8  0.034359  0.988378  0.199181      0.974933\n",
       "9  0.033907  0.988667  0.224957      0.976000"
      ]
     },
     "execution_count": 43,
     "metadata": {},
     "output_type": "execute_result"
    }
   ],
   "source": [
    "history_with_norm_df=pd.DataFrame(history_with_norm.history)\n",
    "history_with_norm_df"
   ]
  },
  {
   "cell_type": "code",
   "execution_count": 44,
   "id": "f1efbbf7",
   "metadata": {},
   "outputs": [
    {
     "data": {
      "text/plain": [
       "<Axes: >"
      ]
     },
     "execution_count": 44,
     "metadata": {},
     "output_type": "execute_result"
    },
    {
     "data": {
      "image/png": "[encoded data removed]",
      "text/plain": [
       "<Figure size 640x480 with 1 Axes>"
      ]
     },
     "metadata": {},
     "output_type": "display_data"
    }
   ],
   "source": [
    "history_with_norm_df.plot()"
   ]
  },
  {
   "cell_type": "markdown",
   "id": "adf0d41f",
   "metadata": {},
   "source": [
    "### 5. Compare the training and validation performance (e.g., accuracy, loss) between the models with and without batch normalization"
   ]
  },
  {
   "cell_type": "code",
   "execution_count": 58,
   "id": "ef678cdc",
   "metadata": {},
   "outputs": [
    {
     "data": {
      "text/plain": [
       "loss           -0.059776\n",
       "accuracy        0.013622\n",
       "val_loss        0.041491\n",
       "val_accuracy    0.015000\n",
       "Name: 9, dtype: float64"
      ]
     },
     "execution_count": 58,
     "metadata": {},
     "output_type": "execute_result"
    }
   ],
   "source": [
    "history_with_norm_df.iloc[-1]-history_no_norm_df.iloc[-1]"
   ]
  },
  {
   "cell_type": "markdown",
   "id": "9293ffe6",
   "metadata": {},
   "source": [
    "### Result\n",
    "- We could see that model with batch normalization has higher accuracy (0.015 more) and lower loss(0.059 less)"
   ]
  },
  {
   "cell_type": "markdown",
   "id": "34da1d02",
   "metadata": {},
   "source": [
    "### 6. Discuss the impact of batch normalization on the training process and the performance of the neural network.\n",
    "\n",
    "1. **Improved Training Stability:** Batch normalization reduces the internal covariate shift, making the network less sensitive to parameter initialization and allowing for smoother and more stable updates during training. This results in faster convergence and more stable training dynamics.\n",
    "\n",
    "2. **Faster Convergence:** By stabilizing the gradients and enabling the use of higher learning rates, batch normalization accelerates the convergence of the training process. This speedup is particularly beneficial when dealing with deeper networks, where convergence can be more challenging.\n",
    "\n",
    "3. **Enhanced Generalization:** With reduced internal covariate shift, batch normalization helps the model generalize better to unseen data. By maintaining stable distributions of activations across layers, it prevents the network from overfitting and improves its ability to generalize to new and unseen data.\n",
    "\n",
    "4. **Easier Hyperparameter Tuning:** Batch normalization reduces the dependence of the model on specific hyperparameter choices, such as learning rates and weight initialization. This property simplifies the process of hyperparameter tuning and allows for more efficient experimentation with various network architectures.\n",
    "\n",
    "5. **Ability to Use Higher Learning Rates:** Batch normalization allows for the use of higher learning rates without causing the training process to become unstable. This property is especially useful in deep learning tasks, where finding an optimal learning rate is crucial for efficient training.\n",
    "\n",
    "6. **Alleviation of Vanishing and Exploding Gradients:** Batch normalization mitigates the issues of vanishing and exploding gradients by ensuring that the gradients remain at a reasonable scale throughout the network. This enables the training of deeper networks without encountering the problems associated with unstable gradients.\n",
    "\n",
    "7. **Reduction of Internal Co-Dependency:** By decoupling the layers' dependencies on one another during training, batch normalization reduces the risk of individual layers relying too heavily on the specific behavior of other layers. This aspect improves the robustness and stability of the overall network.\n"
   ]
  },
  {
   "cell_type": "markdown",
   "id": "eb8da800",
   "metadata": {},
   "source": [
    "## Q3. Experimentation and Analysis\n"
   ]
  },
  {
   "cell_type": "markdown",
   "id": "99e2efb7",
   "metadata": {},
   "source": [
    "### 1. Experiment with different batch sizes and observe the effect on the training dynamics and model performance\n"
   ]
  },
  {
   "cell_type": "code",
   "execution_count": 63,
   "id": "78b3b238",
   "metadata": {},
   "outputs": [
    {
     "name": "stdout",
     "output_type": "stream",
     "text": [
      "Epoch 1/7\n",
      "1407/1407 [==============================] - 17s 10ms/step - loss: 0.2359 - accuracy: 0.9298 - val_loss: 0.1383 - val_accuracy: 0.9612\n",
      "Epoch 2/7\n",
      "1407/1407 [==============================] - 19s 14ms/step - loss: 0.1196 - accuracy: 0.9628 - val_loss: 0.1470 - val_accuracy: 0.9647\n",
      "Epoch 3/7\n",
      "1407/1407 [==============================] - 19s 14ms/step - loss: 0.0911 - accuracy: 0.9715 - val_loss: 0.1199 - val_accuracy: 0.9684\n",
      "Epoch 4/7\n",
      "1407/1407 [==============================] - 17s 12ms/step - loss: 0.0729 - accuracy: 0.9763 - val_loss: 0.1230 - val_accuracy: 0.9694\n",
      "Epoch 5/7\n",
      "1407/1407 [==============================] - 19s 14ms/step - loss: 0.0601 - accuracy: 0.9804 - val_loss: 0.1136 - val_accuracy: 0.9719\n",
      "Epoch 6/7\n",
      "1407/1407 [==============================] - 19s 13ms/step - loss: 0.0528 - accuracy: 0.9828 - val_loss: 0.1675 - val_accuracy: 0.9746\n",
      "Epoch 7/7\n",
      "1407/1407 [==============================] - 19s 14ms/step - loss: 0.0457 - accuracy: 0.9844 - val_loss: 0.1146 - val_accuracy: 0.9743\n",
      "Model with Batch size 32 has accuracy of 0.9843778014183044\n",
      "Epoch 1/7\n",
      "704/704 [==============================] - 13s 14ms/step - loss: 0.2191 - accuracy: 0.9335 - val_loss: 0.1273 - val_accuracy: 0.9601\n",
      "Epoch 2/7\n",
      "704/704 [==============================] - 9s 13ms/step - loss: 0.0989 - accuracy: 0.9704 - val_loss: 0.1031 - val_accuracy: 0.9702\n",
      "Epoch 3/7\n",
      "704/704 [==============================] - 7s 10ms/step - loss: 0.0709 - accuracy: 0.9777 - val_loss: 0.0930 - val_accuracy: 0.9729\n",
      "Epoch 4/7\n",
      "704/704 [==============================] - 10s 14ms/step - loss: 0.0489 - accuracy: 0.9846 - val_loss: 0.0881 - val_accuracy: 0.9740\n",
      "Epoch 5/7\n",
      "704/704 [==============================] - 12s 16ms/step - loss: 0.0391 - accuracy: 0.9871 - val_loss: 0.1019 - val_accuracy: 0.9739\n",
      "Epoch 6/7\n",
      "704/704 [==============================] - 10s 14ms/step - loss: 0.0365 - accuracy: 0.9879 - val_loss: 0.1044 - val_accuracy: 0.9766\n",
      "Epoch 7/7\n",
      "704/704 [==============================] - 11s 16ms/step - loss: 0.0295 - accuracy: 0.9907 - val_loss: 0.1096 - val_accuracy: 0.9744\n",
      "Model with Batch size 64 has accuracy of 0.9906888604164124\n",
      "Epoch 1/7\n",
      "352/352 [==============================] - 9s 19ms/step - loss: 0.2341 - accuracy: 0.9296 - val_loss: 0.1352 - val_accuracy: 0.9608\n",
      "Epoch 2/7\n",
      "352/352 [==============================] - 6s 18ms/step - loss: 0.0867 - accuracy: 0.9742 - val_loss: 0.1088 - val_accuracy: 0.9682\n",
      "Epoch 3/7\n",
      "352/352 [==============================] - 4s 11ms/step - loss: 0.0565 - accuracy: 0.9823 - val_loss: 0.1062 - val_accuracy: 0.9681\n",
      "Epoch 4/7\n",
      "352/352 [==============================] - 3s 9ms/step - loss: 0.0380 - accuracy: 0.9888 - val_loss: 0.0909 - val_accuracy: 0.9739\n",
      "Epoch 5/7\n",
      "352/352 [==============================] - 5s 13ms/step - loss: 0.0309 - accuracy: 0.9901 - val_loss: 0.0932 - val_accuracy: 0.9751\n",
      "Epoch 6/7\n",
      "352/352 [==============================] - 5s 14ms/step - loss: 0.0239 - accuracy: 0.9930 - val_loss: 0.0979 - val_accuracy: 0.9745\n",
      "Epoch 7/7\n",
      "352/352 [==============================] - 6s 18ms/step - loss: 0.0173 - accuracy: 0.9950 - val_loss: 0.1242 - val_accuracy: 0.9699\n",
      "Model with Batch size 128 has accuracy of 0.9949555397033691\n"
     ]
    }
   ],
   "source": [
    "batch_sizes=[32,64,128]\n",
    "\n",
    "for batch in batch_sizes:\n",
    "    LAYERS=[\n",
    "    tf.keras.layers.Flatten(input_shape=[28,28]),\n",
    "    tf.keras.layers.Dense(300, activation='relu'),\n",
    "    tf.keras.layers.BatchNormalization(),\n",
    "    tf.keras.layers.Dense(100, activation='relu'),\n",
    "    tf.keras.layers.BatchNormalization(),\n",
    "    tf.keras.layers.Dense(10, activation='softmax')\n",
    "    ]\n",
    "    model=tf.keras.models.Sequential(LAYERS)   #model with normalization\n",
    "\n",
    "    model.compile(optimizer='adam',\n",
    "              loss='sparse_categorical_crossentropy',\n",
    "              metrics=['accuracy'])\n",
    "    history=model.fit(xtrain, ytrain, epochs=7, validation_data=(xvalid,yvalid), batch_size=batch)\n",
    "    df=pd.DataFrame(history.history)\n",
    "    print(f\"Model with Batch size {batch} has accuracy of {df.iloc[-1]['accuracy']}\")"
   ]
  },
  {
   "cell_type": "markdown",
   "id": "bc4567eb",
   "metadata": {},
   "source": [
    "## Result\n",
    "- we could see that model with higher batch_size has better acccuracy"
   ]
  },
  {
   "cell_type": "markdown",
   "id": "e52ca659",
   "metadata": {},
   "source": [
    "### 2. Discuss the advantages and potential limitations of batch normalization in improving the training of neural networks."
   ]
  },
  {
   "cell_type": "markdown",
   "id": "de73b1cc",
   "metadata": {},
   "source": [
    "\n",
    "\n",
    "Advantages of Batch Normalization:\n",
    "\n",
    "1. Improved Training Stability: Batch normalization helps to stabilize the training process by reducing the internal covariate shift, ensuring that each layer's inputs have a consistent distribution. This stability enables the use of higher learning rates, leading to faster convergence during training.\n",
    "\n",
    "2. Accelerated Training: By enabling the use of higher learning rates and ensuring stable gradients, batch normalization accelerates the training process, reducing the overall training time and computational resources required.\n",
    "\n",
    "3. Reduced Sensitivity to Weight Initialization: Batch normalization reduces the sensitivity of the model to weight initialization, making it less reliant on carefully chosen initial weights. This property simplifies the process of initializing the weights and biases of the neural network, allowing for faster experimentation and training.\n",
    "\n",
    "4. Regularization Effect: Batch normalization acts as a form of regularization, reducing overfitting by adding noise to the training process. This noise can help prevent the model from memorizing the training data, leading to improved generalization performance on unseen data.\n",
    "\n",
    "Potential Limitations of Batch Normalization:\n",
    "\n",
    "1. Increased Computational Overhead: Batch normalization introduces additional computations during both the forward and backward passes, which can increase the overall computational overhead and training time. In some cases, the computational cost can be significant, especially when training large-scale deep neural networks.\n",
    "\n",
    "2. Dependency on Batch Size: The effectiveness of batch normalization can be influenced by the choice of batch size. Using very small batch sizes may introduce noise, leading to unstable updates, while very large batch sizes can reduce the generalization capabilities of the model.\n",
    "\n",
    "3. Reduced Model Interpretability: Batch normalization can make it challenging to interpret the model's behavior since the standardization of each batch may hide the original distribution of the data. This aspect can sometimes hinder the interpretability and transparency of the neural network.\n",
    "\n",
    "4. Performance Variability: In certain cases, batch normalization may not consistently improve the performance of the model. Its effectiveness can depend on the specific architecture of the neural network, the nature of the data, and the complexity of the task, making it less universally applicable in all scenarios.\n",
    "\n"
   ]
  }
 ],
 "metadata": {
  "kernelspec": {
   "display_name": "Python 3 (ipykernel)",
   "language": "python",
   "name": "python3"
  },
  "language_info": {
   "codemirror_mode": {
    "name": "ipython",
    "version": 3
   },
   "file_extension": ".py",
   "mimetype": "text/x-python",
   "name": "python",
   "nbconvert_exporter": "python",
   "pygments_lexer": "ipython3",
   "version": "3.10.0"
  }
 },
 "nbformat": 4,
 "nbformat_minor": 5
}
