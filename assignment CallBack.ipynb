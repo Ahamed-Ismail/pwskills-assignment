{
 "cells": [
  {
   "cell_type": "code",
   "execution_count": 1,
   "id": "dff3d7cd",
   "metadata": {},
   "outputs": [],
   "source": [
    "import warnings\n",
    "warnings.filterwarnings('ignore')"
   ]
  },
  {
   "cell_type": "markdown",
   "id": "c5d79b6c",
   "metadata": {},
   "source": [
    "## Q1. Install and load the latest versions of TensorFlow and Keras. Print their versions."
   ]
  },
  {
   "cell_type": "code",
   "execution_count": 2,
   "id": "4d6aa1a5",
   "metadata": {},
   "outputs": [
    {
     "name": "stdout",
     "output_type": "stream",
     "text": [
      "Tensorflow version  2.14.0\n",
      "keras version  2.14.0\n"
     ]
    }
   ],
   "source": [
    "import keras \n",
    "import tensorflow as tf\n",
    "\n",
    "print('Tensorflow version ',tf.__version__)\n",
    "print('keras version ',keras.__version__)"
   ]
  },
  {
   "cell_type": "markdown",
   "id": "6e26311c",
   "metadata": {},
   "source": [
    "## Q2. Load the Wine Quality dataset and explore its dimensions."
   ]
  },
  {
   "cell_type": "code",
   "execution_count": 3,
   "id": "f19c2d68",
   "metadata": {},
   "outputs": [],
   "source": [
    "import pandas as pd"
   ]
  },
  {
   "cell_type": "code",
   "execution_count": 4,
   "id": "1b0383b8",
   "metadata": {},
   "outputs": [],
   "source": [
    "df=pd.read_csv(r'C:\\Users\\tanji\\Desktop\\myPW\\assignments\\datasets\\wine.csv')"
   ]
  },
  {
   "cell_type": "code",
   "execution_count": 5,
   "id": "a403eaa6",
   "metadata": {},
   "outputs": [
    {
     "data": {
      "text/html": [
       "<div>\n",
       "<style scoped>\n",
       "    .dataframe tbody tr th:only-of-type {\n",
       "        vertical-align: middle;\n",
       "    }\n",
       "\n",
       "    .dataframe tbody tr th {\n",
       "        vertical-align: top;\n",
       "    }\n",
       "\n",
       "    .dataframe thead th {\n",
       "        text-align: right;\n",
       "    }\n",
       "</style>\n",
       "<table border=\"1\" class=\"dataframe\">\n",
       "  <thead>\n",
       "    <tr style=\"text-align: right;\">\n",
       "      <th></th>\n",
       "      <th>fixed acidity</th>\n",
       "      <th>volatile acidity</th>\n",
       "      <th>citric acid</th>\n",
       "      <th>residual sugar</th>\n",
       "      <th>chlorides</th>\n",
       "      <th>free sulfur dioxide</th>\n",
       "      <th>total sulfur dioxide</th>\n",
       "      <th>density</th>\n",
       "      <th>pH</th>\n",
       "      <th>sulphates</th>\n",
       "      <th>alcohol</th>\n",
       "      <th>quality</th>\n",
       "    </tr>\n",
       "  </thead>\n",
       "  <tbody>\n",
       "    <tr>\n",
       "      <th>0</th>\n",
       "      <td>7.4</td>\n",
       "      <td>0.70</td>\n",
       "      <td>0.00</td>\n",
       "      <td>1.9</td>\n",
       "      <td>0.076</td>\n",
       "      <td>11.0</td>\n",
       "      <td>34.0</td>\n",
       "      <td>0.9978</td>\n",
       "      <td>3.51</td>\n",
       "      <td>0.56</td>\n",
       "      <td>9.4</td>\n",
       "      <td>bad</td>\n",
       "    </tr>\n",
       "    <tr>\n",
       "      <th>1</th>\n",
       "      <td>7.8</td>\n",
       "      <td>0.88</td>\n",
       "      <td>0.00</td>\n",
       "      <td>2.6</td>\n",
       "      <td>0.098</td>\n",
       "      <td>25.0</td>\n",
       "      <td>67.0</td>\n",
       "      <td>0.9968</td>\n",
       "      <td>3.20</td>\n",
       "      <td>0.68</td>\n",
       "      <td>9.8</td>\n",
       "      <td>bad</td>\n",
       "    </tr>\n",
       "    <tr>\n",
       "      <th>2</th>\n",
       "      <td>7.8</td>\n",
       "      <td>0.76</td>\n",
       "      <td>0.04</td>\n",
       "      <td>2.3</td>\n",
       "      <td>0.092</td>\n",
       "      <td>15.0</td>\n",
       "      <td>54.0</td>\n",
       "      <td>0.9970</td>\n",
       "      <td>3.26</td>\n",
       "      <td>0.65</td>\n",
       "      <td>9.8</td>\n",
       "      <td>bad</td>\n",
       "    </tr>\n",
       "    <tr>\n",
       "      <th>3</th>\n",
       "      <td>11.2</td>\n",
       "      <td>0.28</td>\n",
       "      <td>0.56</td>\n",
       "      <td>1.9</td>\n",
       "      <td>0.075</td>\n",
       "      <td>17.0</td>\n",
       "      <td>60.0</td>\n",
       "      <td>0.9980</td>\n",
       "      <td>3.16</td>\n",
       "      <td>0.58</td>\n",
       "      <td>9.8</td>\n",
       "      <td>good</td>\n",
       "    </tr>\n",
       "    <tr>\n",
       "      <th>4</th>\n",
       "      <td>7.4</td>\n",
       "      <td>0.70</td>\n",
       "      <td>0.00</td>\n",
       "      <td>1.9</td>\n",
       "      <td>0.076</td>\n",
       "      <td>11.0</td>\n",
       "      <td>34.0</td>\n",
       "      <td>0.9978</td>\n",
       "      <td>3.51</td>\n",
       "      <td>0.56</td>\n",
       "      <td>9.4</td>\n",
       "      <td>bad</td>\n",
       "    </tr>\n",
       "  </tbody>\n",
       "</table>\n",
       "</div>"
      ],
      "text/plain": [
       "   fixed acidity  volatile acidity  citric acid  residual sugar  chlorides  \\\n",
       "0            7.4              0.70         0.00             1.9      0.076   \n",
       "1            7.8              0.88         0.00             2.6      0.098   \n",
       "2            7.8              0.76         0.04             2.3      0.092   \n",
       "3           11.2              0.28         0.56             1.9      0.075   \n",
       "4            7.4              0.70         0.00             1.9      0.076   \n",
       "\n",
       "   free sulfur dioxide  total sulfur dioxide  density    pH  sulphates  \\\n",
       "0                 11.0                  34.0   0.9978  3.51       0.56   \n",
       "1                 25.0                  67.0   0.9968  3.20       0.68   \n",
       "2                 15.0                  54.0   0.9970  3.26       0.65   \n",
       "3                 17.0                  60.0   0.9980  3.16       0.58   \n",
       "4                 11.0                  34.0   0.9978  3.51       0.56   \n",
       "\n",
       "   alcohol quality  \n",
       "0      9.4     bad  \n",
       "1      9.8     bad  \n",
       "2      9.8     bad  \n",
       "3      9.8    good  \n",
       "4      9.4     bad  "
      ]
     },
     "execution_count": 5,
     "metadata": {},
     "output_type": "execute_result"
    }
   ],
   "source": [
    "df.head()"
   ]
  },
  {
   "cell_type": "code",
   "execution_count": 6,
   "id": "662e1992",
   "metadata": {},
   "outputs": [
    {
     "data": {
      "text/plain": [
       "Index(['fixed acidity', 'volatile acidity', 'citric acid', 'residual sugar',\n",
       "       'chlorides', 'free sulfur dioxide', 'total sulfur dioxide', 'density',\n",
       "       'pH', 'sulphates', 'alcohol', 'quality'],\n",
       "      dtype='object')"
      ]
     },
     "execution_count": 6,
     "metadata": {},
     "output_type": "execute_result"
    }
   ],
   "source": [
    "df.columns"
   ]
  },
  {
   "cell_type": "markdown",
   "id": "0e28dddc",
   "metadata": {},
   "source": [
    "## Q3. Check for null values, identify categorical variables, and encode them."
   ]
  },
  {
   "cell_type": "code",
   "execution_count": 7,
   "id": "9f2d5418",
   "metadata": {},
   "outputs": [
    {
     "data": {
      "text/plain": [
       "fixed acidity           0\n",
       "volatile acidity        0\n",
       "citric acid             0\n",
       "residual sugar          0\n",
       "chlorides               0\n",
       "free sulfur dioxide     0\n",
       "total sulfur dioxide    0\n",
       "density                 0\n",
       "pH                      0\n",
       "sulphates               0\n",
       "alcohol                 0\n",
       "quality                 0\n",
       "dtype: int64"
      ]
     },
     "execution_count": 7,
     "metadata": {},
     "output_type": "execute_result"
    }
   ],
   "source": [
    "df.isnull().sum()"
   ]
  },
  {
   "cell_type": "code",
   "execution_count": 8,
   "id": "2ecedd0e",
   "metadata": {},
   "outputs": [],
   "source": [
    "cat_col=df.select_dtypes(include=['object']).columns.tolist()\n",
    "num_col=df.select_dtypes(exclude=['object']).columns.tolist()"
   ]
  },
  {
   "cell_type": "code",
   "execution_count": 9,
   "id": "e4ab43af",
   "metadata": {},
   "outputs": [
    {
     "data": {
      "text/plain": [
       "(['quality'],\n",
       " ['fixed acidity',\n",
       "  'volatile acidity',\n",
       "  'citric acid',\n",
       "  'residual sugar',\n",
       "  'chlorides',\n",
       "  'free sulfur dioxide',\n",
       "  'total sulfur dioxide',\n",
       "  'density',\n",
       "  'pH',\n",
       "  'sulphates',\n",
       "  'alcohol'])"
      ]
     },
     "execution_count": 9,
     "metadata": {},
     "output_type": "execute_result"
    }
   ],
   "source": [
    "cat_col, num_col\n"
   ]
  },
  {
   "cell_type": "code",
   "execution_count": 10,
   "id": "4fb807e0",
   "metadata": {},
   "outputs": [],
   "source": [
    "from sklearn.preprocessing import OrdinalEncoder"
   ]
  },
  {
   "cell_type": "code",
   "execution_count": 11,
   "id": "974404c6",
   "metadata": {},
   "outputs": [
    {
     "data": {
      "text/plain": [
       "array(['bad', 'good'], dtype=object)"
      ]
     },
     "execution_count": 11,
     "metadata": {},
     "output_type": "execute_result"
    }
   ],
   "source": [
    "df['quality'].unique()"
   ]
  },
  {
   "cell_type": "code",
   "execution_count": 12,
   "id": "79eee8d9",
   "metadata": {},
   "outputs": [],
   "source": [
    "encoder=OrdinalEncoder()\n",
    "\n",
    "df['quality']=encoder.fit_transform(df[['quality']])\n",
    "df['quality']=df['quality'].astype('int32')"
   ]
  },
  {
   "cell_type": "code",
   "execution_count": 13,
   "id": "3a81b2de",
   "metadata": {},
   "outputs": [
    {
     "data": {
      "text/html": [
       "<div>\n",
       "<style scoped>\n",
       "    .dataframe tbody tr th:only-of-type {\n",
       "        vertical-align: middle;\n",
       "    }\n",
       "\n",
       "    .dataframe tbody tr th {\n",
       "        vertical-align: top;\n",
       "    }\n",
       "\n",
       "    .dataframe thead th {\n",
       "        text-align: right;\n",
       "    }\n",
       "</style>\n",
       "<table border=\"1\" class=\"dataframe\">\n",
       "  <thead>\n",
       "    <tr style=\"text-align: right;\">\n",
       "      <th></th>\n",
       "      <th>fixed acidity</th>\n",
       "      <th>volatile acidity</th>\n",
       "      <th>citric acid</th>\n",
       "      <th>residual sugar</th>\n",
       "      <th>chlorides</th>\n",
       "      <th>free sulfur dioxide</th>\n",
       "      <th>total sulfur dioxide</th>\n",
       "      <th>density</th>\n",
       "      <th>pH</th>\n",
       "      <th>sulphates</th>\n",
       "      <th>alcohol</th>\n",
       "      <th>quality</th>\n",
       "    </tr>\n",
       "  </thead>\n",
       "  <tbody>\n",
       "    <tr>\n",
       "      <th>0</th>\n",
       "      <td>7.4</td>\n",
       "      <td>0.70</td>\n",
       "      <td>0.00</td>\n",
       "      <td>1.9</td>\n",
       "      <td>0.076</td>\n",
       "      <td>11.0</td>\n",
       "      <td>34.0</td>\n",
       "      <td>0.9978</td>\n",
       "      <td>3.51</td>\n",
       "      <td>0.56</td>\n",
       "      <td>9.4</td>\n",
       "      <td>0</td>\n",
       "    </tr>\n",
       "    <tr>\n",
       "      <th>1</th>\n",
       "      <td>7.8</td>\n",
       "      <td>0.88</td>\n",
       "      <td>0.00</td>\n",
       "      <td>2.6</td>\n",
       "      <td>0.098</td>\n",
       "      <td>25.0</td>\n",
       "      <td>67.0</td>\n",
       "      <td>0.9968</td>\n",
       "      <td>3.20</td>\n",
       "      <td>0.68</td>\n",
       "      <td>9.8</td>\n",
       "      <td>0</td>\n",
       "    </tr>\n",
       "    <tr>\n",
       "      <th>2</th>\n",
       "      <td>7.8</td>\n",
       "      <td>0.76</td>\n",
       "      <td>0.04</td>\n",
       "      <td>2.3</td>\n",
       "      <td>0.092</td>\n",
       "      <td>15.0</td>\n",
       "      <td>54.0</td>\n",
       "      <td>0.9970</td>\n",
       "      <td>3.26</td>\n",
       "      <td>0.65</td>\n",
       "      <td>9.8</td>\n",
       "      <td>0</td>\n",
       "    </tr>\n",
       "    <tr>\n",
       "      <th>3</th>\n",
       "      <td>11.2</td>\n",
       "      <td>0.28</td>\n",
       "      <td>0.56</td>\n",
       "      <td>1.9</td>\n",
       "      <td>0.075</td>\n",
       "      <td>17.0</td>\n",
       "      <td>60.0</td>\n",
       "      <td>0.9980</td>\n",
       "      <td>3.16</td>\n",
       "      <td>0.58</td>\n",
       "      <td>9.8</td>\n",
       "      <td>1</td>\n",
       "    </tr>\n",
       "    <tr>\n",
       "      <th>4</th>\n",
       "      <td>7.4</td>\n",
       "      <td>0.70</td>\n",
       "      <td>0.00</td>\n",
       "      <td>1.9</td>\n",
       "      <td>0.076</td>\n",
       "      <td>11.0</td>\n",
       "      <td>34.0</td>\n",
       "      <td>0.9978</td>\n",
       "      <td>3.51</td>\n",
       "      <td>0.56</td>\n",
       "      <td>9.4</td>\n",
       "      <td>0</td>\n",
       "    </tr>\n",
       "  </tbody>\n",
       "</table>\n",
       "</div>"
      ],
      "text/plain": [
       "   fixed acidity  volatile acidity  citric acid  residual sugar  chlorides  \\\n",
       "0            7.4              0.70         0.00             1.9      0.076   \n",
       "1            7.8              0.88         0.00             2.6      0.098   \n",
       "2            7.8              0.76         0.04             2.3      0.092   \n",
       "3           11.2              0.28         0.56             1.9      0.075   \n",
       "4            7.4              0.70         0.00             1.9      0.076   \n",
       "\n",
       "   free sulfur dioxide  total sulfur dioxide  density    pH  sulphates  \\\n",
       "0                 11.0                  34.0   0.9978  3.51       0.56   \n",
       "1                 25.0                  67.0   0.9968  3.20       0.68   \n",
       "2                 15.0                  54.0   0.9970  3.26       0.65   \n",
       "3                 17.0                  60.0   0.9980  3.16       0.58   \n",
       "4                 11.0                  34.0   0.9978  3.51       0.56   \n",
       "\n",
       "   alcohol  quality  \n",
       "0      9.4        0  \n",
       "1      9.8        0  \n",
       "2      9.8        0  \n",
       "3      9.8        1  \n",
       "4      9.4        0  "
      ]
     },
     "execution_count": 13,
     "metadata": {},
     "output_type": "execute_result"
    }
   ],
   "source": [
    "df.head()"
   ]
  },
  {
   "cell_type": "markdown",
   "id": "9de8c93f",
   "metadata": {},
   "source": [
    "## Q4. Separate the features and target variables from the dataframe.\n"
   ]
  },
  {
   "cell_type": "code",
   "execution_count": 14,
   "id": "2671cfc2",
   "metadata": {},
   "outputs": [],
   "source": [
    "x=df.drop('quality', axis=1)\n",
    "y=df['quality']"
   ]
  },
  {
   "cell_type": "markdown",
   "id": "6f146bd9",
   "metadata": {},
   "source": [
    "## Q5. Perform a train-test split and divide the data into training, validation, and test datasets."
   ]
  },
  {
   "cell_type": "code",
   "execution_count": 15,
   "id": "d88dbe82",
   "metadata": {},
   "outputs": [],
   "source": [
    "from sklearn.model_selection import train_test_split\n",
    "\n",
    "xtrain,xtest,ytrain,ytest= train_test_split(x,y,test_size=0.25, random_state=42)"
   ]
  },
  {
   "cell_type": "code",
   "execution_count": 16,
   "id": "5d21a932",
   "metadata": {},
   "outputs": [
    {
     "data": {
      "text/plain": [
       "((1199, 11), (400, 11))"
      ]
     },
     "execution_count": 16,
     "metadata": {},
     "output_type": "execute_result"
    }
   ],
   "source": [
    "xtrain.shape, xtest.shape"
   ]
  },
  {
   "cell_type": "markdown",
   "id": "341adccb",
   "metadata": {},
   "source": [
    "## Q6. Perform scaling on the dataset."
   ]
  },
  {
   "cell_type": "code",
   "execution_count": 17,
   "id": "5fe01656",
   "metadata": {},
   "outputs": [],
   "source": [
    "from sklearn.preprocessing import StandardScaler"
   ]
  },
  {
   "cell_type": "code",
   "execution_count": 18,
   "id": "0c1c75e3",
   "metadata": {},
   "outputs": [],
   "source": [
    "scaler=StandardScaler()\n",
    "xtrain=scaler.fit_transform(xtrain)\n",
    "xtest=scaler.transform(xtest)"
   ]
  },
  {
   "cell_type": "markdown",
   "id": "603ec7cc",
   "metadata": {},
   "source": [
    "## Q7. Create at least 2 hidden layers and an output layer for the binary categorical variables."
   ]
  },
  {
   "cell_type": "code",
   "execution_count": 19,
   "id": "7a8645f6",
   "metadata": {},
   "outputs": [],
   "source": [
    "import tensorflow as tf"
   ]
  },
  {
   "cell_type": "code",
   "execution_count": 20,
   "id": "059da159",
   "metadata": {},
   "outputs": [],
   "source": [
    "LAYERS=[\n",
    "    tf.keras.layers.Dense(100, activation='relu', input_shape=xtrain.shape[1:]),\n",
    "    tf.keras.layers.Dense(50,activation='relu'),\n",
    "    tf.keras.layers.Dense(1, activation='sigmoid')\n",
    "]"
   ]
  },
  {
   "cell_type": "markdown",
   "id": "43bc1846",
   "metadata": {},
   "source": [
    "## Q8. Create a Sequential model and add all the layers to it."
   ]
  },
  {
   "cell_type": "code",
   "execution_count": 21,
   "id": "dbe75625",
   "metadata": {},
   "outputs": [],
   "source": [
    "model=tf.keras.models.Sequential(LAYERS)"
   ]
  },
  {
   "cell_type": "markdown",
   "id": "4f55b30b",
   "metadata": {},
   "source": [
    "## Q9. Implement a TensorBoard callback to visualize and monitor the model's training process."
   ]
  },
  {
   "cell_type": "code",
   "execution_count": 22,
   "id": "b0565a59",
   "metadata": {},
   "outputs": [],
   "source": [
    "import shutil,os\n",
    "\n",
    "\n",
    "log_folder='callback_assignment_logs'\n",
    "%reload_ext tensorboard\n",
    "\n",
    "if os.path.exists(log_folder):\n",
    "    shutil.rmtree(log_folder)\n",
    "    \n",
    "tb_cb=tf.keras.callbacks.TensorBoard(log_dir=log_folder, histogram_freq=1)"
   ]
  },
  {
   "cell_type": "markdown",
   "id": "6fccb62e",
   "metadata": {},
   "source": [
    "## Q10. Use Early Stopping to prevent overfitting by monitoring a chosen metric and stopping the training if no improvement is observed."
   ]
  },
  {
   "cell_type": "code",
   "execution_count": 23,
   "id": "ccc9469c",
   "metadata": {},
   "outputs": [
    {
     "data": {
      "text/plain": [
       "<keras.src.callbacks.EarlyStopping at 0x1e804749c30>"
      ]
     },
     "execution_count": 23,
     "metadata": {},
     "output_type": "execute_result"
    }
   ],
   "source": [
    "es_cb=tf.keras.callbacks.EarlyStopping(patience=1, min_delta=0.001)\n",
    "es_cb"
   ]
  },
  {
   "cell_type": "markdown",
   "id": "bd2a158b",
   "metadata": {},
   "source": [
    "## Q11. Implement a ModelCheckpoint callback to save the best model based on a chosen metric during training."
   ]
  },
  {
   "cell_type": "code",
   "execution_count": 24,
   "id": "fa9c6950",
   "metadata": {},
   "outputs": [],
   "source": [
    "CKPT_path='callback_assignment_model.h5'\n",
    "mc_cb=tf.keras.callbacks.ModelCheckpoint(CKPT_path, save_best_only=True)"
   ]
  },
  {
   "cell_type": "code",
   "execution_count": 25,
   "id": "d4922c1d",
   "metadata": {},
   "outputs": [],
   "source": [
    "model.build(input_shape=(None,11))"
   ]
  },
  {
   "cell_type": "markdown",
   "id": "536e55e6",
   "metadata": {},
   "source": [
    "## Q12. Print the model summary."
   ]
  },
  {
   "cell_type": "code",
   "execution_count": 26,
   "id": "6336a00a",
   "metadata": {},
   "outputs": [
    {
     "name": "stdout",
     "output_type": "stream",
     "text": [
      "Model: \"sequential\"\n",
      "_________________________________________________________________\n",
      " Layer (type)                Output Shape              Param #   \n",
      "=================================================================\n",
      " dense (Dense)               (None, 100)               1200      \n",
      "                                                                 \n",
      " dense_1 (Dense)             (None, 50)                5050      \n",
      "                                                                 \n",
      " dense_2 (Dense)             (None, 1)                 51        \n",
      "                                                                 \n",
      "=================================================================\n",
      "Total params: 6301 (24.61 KB)\n",
      "Trainable params: 6301 (24.61 KB)\n",
      "Non-trainable params: 0 (0.00 Byte)\n",
      "_________________________________________________________________\n"
     ]
    }
   ],
   "source": [
    "model.summary()"
   ]
  },
  {
   "cell_type": "markdown",
   "id": "8a223828",
   "metadata": {},
   "source": [
    "## Q13. Use binary cross-entropy as the loss function, Adam optimizer, and include the metric ['accuracy']."
   ]
  },
  {
   "cell_type": "code",
   "execution_count": 27,
   "id": "2e007fb5",
   "metadata": {},
   "outputs": [],
   "source": [
    "OPTIMIZER='adam'\n",
    "LOSS='binary_crossentropy'\n",
    "METRICS=['accuracy']"
   ]
  },
  {
   "cell_type": "markdown",
   "id": "5714559a",
   "metadata": {},
   "source": [
    "## Q14. Compile the model with the specified loss function, optimizer, and metrics."
   ]
  },
  {
   "cell_type": "code",
   "execution_count": 28,
   "id": "aa098119",
   "metadata": {},
   "outputs": [],
   "source": [
    "model.compile(loss=LOSS,\n",
    "              optimizer=OPTIMIZER,\n",
    "             metrics=METRICS\n",
    "             )"
   ]
  },
  {
   "cell_type": "markdown",
   "id": "da7a121b",
   "metadata": {},
   "source": [
    "## Q15. Fit the model to the data, incorporating the TensorBoard, Early Stopping, and ModelCheckpoint callbacks."
   ]
  },
  {
   "cell_type": "code",
   "execution_count": 29,
   "id": "7c7057e6",
   "metadata": {},
   "outputs": [],
   "source": [
    "import numpy as np\n",
    "\n",
    "# Reshape ytrain to have a 2D shape\n",
    "ytrain = np.reshape(ytrain, (-1, 1))\n"
   ]
  },
  {
   "cell_type": "code",
   "execution_count": 30,
   "id": "05ccc936",
   "metadata": {},
   "outputs": [],
   "source": [
    "xvalid=xtrain[:200]\n",
    "yvalid=ytrain[:200]\n",
    "xtrain=xtrain[200:]\n",
    "ytrain=ytrain[200:]"
   ]
  },
  {
   "cell_type": "code",
   "execution_count": 31,
   "id": "6f78bffa",
   "metadata": {
    "scrolled": false
   },
   "outputs": [
    {
     "name": "stdout",
     "output_type": "stream",
     "text": [
      "Epoch 1/10\n",
      "32/32 [==============================] - 2s 24ms/step - loss: 0.6335 - accuracy: 0.6717 - val_loss: 0.5767 - val_accuracy: 0.7050\n",
      "Epoch 2/10\n",
      "32/32 [==============================] - 0s 9ms/step - loss: 0.5353 - accuracy: 0.7447 - val_loss: 0.5503 - val_accuracy: 0.7100\n",
      "Epoch 3/10\n",
      "32/32 [==============================] - 0s 8ms/step - loss: 0.5037 - accuracy: 0.7668 - val_loss: 0.5476 - val_accuracy: 0.7150\n",
      "Epoch 4/10\n",
      "32/32 [==============================] - 0s 6ms/step - loss: 0.4903 - accuracy: 0.7718 - val_loss: 0.5527 - val_accuracy: 0.7200\n"
     ]
    }
   ],
   "source": [
    "EPOCHS=10\n",
    "\n",
    "history=model.fit(xtrain, ytrain, epochs=EPOCHS, validation_data=(xvalid,yvalid), callbacks=[ es_cb, mc_cb])"
   ]
  },
  {
   "cell_type": "markdown",
   "id": "58efaed0",
   "metadata": {},
   "source": [
    "## Q16. Get the model's parameters."
   ]
  },
  {
   "cell_type": "code",
   "execution_count": 32,
   "id": "69df7d4c",
   "metadata": {},
   "outputs": [
    {
     "name": "stdout",
     "output_type": "stream",
     "text": [
      "Layer 1 weights: [[ 0.10908137 -0.06492085 -0.01176834 ...  0.16920315  0.0685862\n",
      "  -0.09830671]\n",
      " [ 0.17298397 -0.12729573 -0.08615506 ... -0.24647388  0.08714494\n",
      "  -0.12680036]\n",
      " [-0.06734558 -0.19080657  0.1953045  ... -0.2272899  -0.15354574\n",
      "  -0.1430753 ]\n",
      " ...\n",
      " [ 0.14261298  0.0495848  -0.16576631 ...  0.16833036 -0.21512085\n",
      "   0.15657336]\n",
      " [ 0.18175878 -0.13674873 -0.00253172 ...  0.09905981  0.22739188\n",
      "   0.01706504]\n",
      " [ 0.14357644  0.22157733  0.2619168  ...  0.13968639 -0.15082438\n",
      "  -0.13610157]]\n",
      "Layer 1 biases: [-0.00637253  0.0355922   0.03896503  0.00940197 -0.00343369  0.01434129\n",
      " -0.01641358  0.08245151  0.02560347  0.02725192  0.06543712 -0.00401709\n",
      "  0.02907595 -0.01562223  0.03066492 -0.00417222  0.02678154  0.0383405\n",
      " -0.03019633  0.00202601 -0.01274715  0.00068311  0.01762207  0.03427868\n",
      "  0.00021262  0.010744    0.03853124  0.02415861  0.01766405 -0.00885724\n",
      " -0.00604114  0.03185282 -0.01016024  0.00902133  0.03436552 -0.01219765\n",
      "  0.01411847 -0.00055971  0.0478295   0.01472901  0.00376875  0.0325298\n",
      " -0.00572153  0.01318025  0.05193854  0.01775945  0.03913414  0.04892011\n",
      " -0.01807616  0.03968258  0.04752345 -0.00149333  0.05160086  0.05672587\n",
      " -0.03504205 -0.01871945  0.00109808  0.02940394  0.05249194 -0.01524237\n",
      "  0.04350638  0.02818631  0.02632187 -0.01389673  0.03055014  0.01029094\n",
      "  0.02897248  0.0148565  -0.01859127 -0.02654123 -0.00842196 -0.00872747\n",
      " -0.03303671 -0.02652199 -0.03064087 -0.00646537  0.0408325   0.01263159\n",
      " -0.03617276  0.02845738  0.05294966  0.03418859 -0.00945455 -0.04648409\n",
      "  0.00793273  0.02317023  0.03547104  0.03053543 -0.03944864 -0.00941633\n",
      " -0.03041928 -0.01480729  0.01973537 -0.00233092  0.01341604  0.03294873\n",
      "  0.0324821   0.08045171 -0.02495548  0.00208824]\n",
      "============================================================\n",
      "Layer 2 weights: [[ 0.07739596 -0.01025527 -0.19778316 ...  0.16484773  0.04523215\n",
      "   0.2258685 ]\n",
      " [-0.04049758 -0.08335351 -0.04549678 ... -0.06401344  0.0903339\n",
      "  -0.11138561]\n",
      " [-0.20028575  0.10761292  0.16240472 ... -0.05395205  0.09086911\n",
      "  -0.07199026]\n",
      " ...\n",
      " [-0.1754657   0.03414783 -0.23435745 ... -0.05913267  0.11843729\n",
      "  -0.15697543]\n",
      " [ 0.147897    0.10274646 -0.00042537 ...  0.08092824 -0.06967166\n",
      "   0.10551091]\n",
      " [-0.03559742  0.19572085 -0.0573433  ...  0.09874535 -0.1390709\n",
      "  -0.10567906]]\n",
      "Layer 2 biases: [ 0.01318705 -0.00309934  0.02534818  0.04794797  0.00529576  0.02745715\n",
      " -0.03109607  0.02988284  0.0284226  -0.01809121  0.01648922 -0.01673567\n",
      "  0.01210548  0.01905501  0.03182857 -0.02273684 -0.01363278 -0.00661696\n",
      " -0.00749186  0.02519833 -0.01070068  0.00042128  0.00342961  0.0015242\n",
      " -0.01502593  0.04274718 -0.01177424 -0.0036136   0.01024342  0.03916749\n",
      "  0.00087212  0.00855403  0.01803022  0.02997828  0.03630588 -0.0054754\n",
      "  0.01765038  0.01018116 -0.01087461  0.02376145 -0.01580833  0.03208799\n",
      "  0.00450647  0.01344068 -0.00034464  0.01022751  0.01748526 -0.00814658\n",
      "  0.0368143  -0.01089177]\n",
      "============================================================\n",
      "Layer 3 weights: [[-0.2666209 ]\n",
      " [-0.03711646]\n",
      " [-0.27683163]\n",
      " [ 0.2985595 ]\n",
      " [-0.29288405]\n",
      " [ 0.1522954 ]\n",
      " [-0.00680466]\n",
      " [ 0.16214898]\n",
      " [ 0.13826919]\n",
      " [-0.2280885 ]\n",
      " [-0.29639834]\n",
      " [-0.03476262]\n",
      " [-0.25251335]\n",
      " [ 0.1772135 ]\n",
      " [ 0.18811207]\n",
      " [-0.02238568]\n",
      " [ 0.03509575]\n",
      " [-0.0877078 ]\n",
      " [-0.22650228]\n",
      " [ 0.14312539]\n",
      " [ 0.10601007]\n",
      " [-0.2482301 ]\n",
      " [ 0.04425705]\n",
      " [-0.05586974]\n",
      " [-0.0973831 ]\n",
      " [ 0.38333258]\n",
      " [-0.2286915 ]\n",
      " [-0.05845928]\n",
      " [ 0.08395842]\n",
      " [-0.209067  ]\n",
      " [-0.1587408 ]\n",
      " [-0.24624795]\n",
      " [-0.12561007]\n",
      " [-0.15897602]\n",
      " [ 0.04779298]\n",
      " [-0.3244786 ]\n",
      " [-0.08624944]\n",
      " [-0.09147392]\n",
      " [ 0.00534407]\n",
      " [ 0.29862592]\n",
      " [ 0.28882685]\n",
      " [ 0.18928978]\n",
      " [-0.28447708]\n",
      " [ 0.27105165]\n",
      " [ 0.30712715]\n",
      " [-0.05002708]\n",
      " [-0.27296466]\n",
      " [-0.21306223]\n",
      " [ 0.3700645 ]\n",
      " [ 0.10699467]]\n",
      "Layer 3 biases: [0.02161088]\n",
      "============================================================\n"
     ]
    }
   ],
   "source": [
    "model_weights = model.get_weights()\n",
    "\n",
    "for i in range(0, len(model_weights), 2):\n",
    "    weights = model_weights[i]\n",
    "    biases = model_weights[i + 1]\n",
    "    print(f'Layer {i//2 + 1} weights: {weights}')\n",
    "    print(f'Layer {i//2 + 1} biases: {biases}')\n",
    "    print(\"============================================================\")\n",
    "\n"
   ]
  },
  {
   "cell_type": "markdown",
   "id": "8cd45841",
   "metadata": {},
   "source": [
    "## Q17. Store the model's training history as a Pandas DataFrame."
   ]
  },
  {
   "cell_type": "code",
   "execution_count": 33,
   "id": "ba31ce33",
   "metadata": {},
   "outputs": [],
   "source": [
    "import pandas as pd"
   ]
  },
  {
   "cell_type": "code",
   "execution_count": 34,
   "id": "85b25729",
   "metadata": {},
   "outputs": [],
   "source": [
    "df=pd.DataFrame(history.history)"
   ]
  },
  {
   "cell_type": "markdown",
   "id": "baa8c883",
   "metadata": {},
   "source": [
    "## Q18. Plot the model's training history."
   ]
  },
  {
   "cell_type": "code",
   "execution_count": 35,
   "id": "4e934e5e",
   "metadata": {},
   "outputs": [
    {
     "data": {
      "text/html": [
       "<div>\n",
       "<style scoped>\n",
       "    .dataframe tbody tr th:only-of-type {\n",
       "        vertical-align: middle;\n",
       "    }\n",
       "\n",
       "    .dataframe tbody tr th {\n",
       "        vertical-align: top;\n",
       "    }\n",
       "\n",
       "    .dataframe thead th {\n",
       "        text-align: right;\n",
       "    }\n",
       "</style>\n",
       "<table border=\"1\" class=\"dataframe\">\n",
       "  <thead>\n",
       "    <tr style=\"text-align: right;\">\n",
       "      <th></th>\n",
       "      <th>loss</th>\n",
       "      <th>accuracy</th>\n",
       "      <th>val_loss</th>\n",
       "      <th>val_accuracy</th>\n",
       "    </tr>\n",
       "  </thead>\n",
       "  <tbody>\n",
       "    <tr>\n",
       "      <th>0</th>\n",
       "      <td>0.633546</td>\n",
       "      <td>0.671672</td>\n",
       "      <td>0.576672</td>\n",
       "      <td>0.705</td>\n",
       "    </tr>\n",
       "    <tr>\n",
       "      <th>1</th>\n",
       "      <td>0.535292</td>\n",
       "      <td>0.744745</td>\n",
       "      <td>0.550299</td>\n",
       "      <td>0.710</td>\n",
       "    </tr>\n",
       "    <tr>\n",
       "      <th>2</th>\n",
       "      <td>0.503693</td>\n",
       "      <td>0.766767</td>\n",
       "      <td>0.547554</td>\n",
       "      <td>0.715</td>\n",
       "    </tr>\n",
       "    <tr>\n",
       "      <th>3</th>\n",
       "      <td>0.490270</td>\n",
       "      <td>0.771772</td>\n",
       "      <td>0.552678</td>\n",
       "      <td>0.720</td>\n",
       "    </tr>\n",
       "  </tbody>\n",
       "</table>\n",
       "</div>"
      ],
      "text/plain": [
       "       loss  accuracy  val_loss  val_accuracy\n",
       "0  0.633546  0.671672  0.576672         0.705\n",
       "1  0.535292  0.744745  0.550299         0.710\n",
       "2  0.503693  0.766767  0.547554         0.715\n",
       "3  0.490270  0.771772  0.552678         0.720"
      ]
     },
     "execution_count": 35,
     "metadata": {},
     "output_type": "execute_result"
    }
   ],
   "source": [
    "df"
   ]
  },
  {
   "cell_type": "markdown",
   "id": "98ff5fd0",
   "metadata": {},
   "source": [
    "## Q19. Evaluate the model's performance using the test data."
   ]
  },
  {
   "cell_type": "code",
   "execution_count": 37,
   "id": "e116c1c2",
   "metadata": {},
   "outputs": [
    {
     "name": "stdout",
     "output_type": "stream",
     "text": [
      "13/13 - 0s - loss: 0.5243 - accuracy: 0.7300 - 90ms/epoch - 7ms/step\n"
     ]
    },
    {
     "data": {
      "text/plain": [
       "[0.5243217945098877, 0.7300000190734863]"
      ]
     },
     "execution_count": 37,
     "metadata": {},
     "output_type": "execute_result"
    }
   ],
   "source": [
    "evaluation=model.evaluate(xtest, ytest, verbose=2)\n",
    "evaluation"
   ]
  },
  {
   "cell_type": "code",
   "execution_count": 42,
   "id": "81899f95",
   "metadata": {},
   "outputs": [
    {
     "name": "stdout",
     "output_type": "stream",
     "text": [
      "13/13 [==============================] - 0s 3ms/step\n"
     ]
    }
   ],
   "source": [
    "ypred=model.predict(xtest)\n",
    "\n",
    "ypred=np.where(ypred>0.5,1,0)"
   ]
  },
  {
   "cell_type": "code",
   "execution_count": 40,
   "id": "56f86b01",
   "metadata": {},
   "outputs": [],
   "source": [
    "from sklearn.metrics import confusion_matrix, accuracy_score, classification_report"
   ]
  },
  {
   "cell_type": "code",
   "execution_count": 43,
   "id": "b13fda23",
   "metadata": {},
   "outputs": [
    {
     "data": {
      "text/plain": [
       "array([[132,  46],\n",
       "       [ 62, 160]], dtype=int64)"
      ]
     },
     "execution_count": 43,
     "metadata": {},
     "output_type": "execute_result"
    }
   ],
   "source": [
    "confusion_matrix(ytest,ypred)"
   ]
  },
  {
   "cell_type": "code",
   "execution_count": 44,
   "id": "877d6daf",
   "metadata": {},
   "outputs": [
    {
     "data": {
      "text/plain": [
       "0.73"
      ]
     },
     "execution_count": 44,
     "metadata": {},
     "output_type": "execute_result"
    }
   ],
   "source": [
    "accuracy_score(ytest,ypred)"
   ]
  },
  {
   "cell_type": "code",
   "execution_count": 46,
   "id": "32dc6c1a",
   "metadata": {},
   "outputs": [
    {
     "name": "stdout",
     "output_type": "stream",
     "text": [
      "              precision    recall  f1-score   support\n",
      "\n",
      "           0       0.68      0.74      0.71       178\n",
      "           1       0.78      0.72      0.75       222\n",
      "\n",
      "    accuracy                           0.73       400\n",
      "   macro avg       0.73      0.73      0.73       400\n",
      "weighted avg       0.73      0.73      0.73       400\n",
      "\n"
     ]
    }
   ],
   "source": [
    "print(classification_report(ytest,ypred))"
   ]
  }
 ],
 "metadata": {
  "kernelspec": {
   "display_name": "Python 3 (ipykernel)",
   "language": "python",
   "name": "python3"
  },
  "language_info": {
   "codemirror_mode": {
    "name": "ipython",
    "version": 3
   },
   "file_extension": ".py",
   "mimetype": "text/x-python",
   "name": "python",
   "nbconvert_exporter": "python",
   "pygments_lexer": "ipython3",
   "version": "3.10.0"
  }
 },
 "nbformat": 4,
 "nbformat_minor": 5
}
