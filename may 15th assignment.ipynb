{
 "cells": [
  {
   "cell_type": "markdown",
   "id": "323f20aa",
   "metadata": {},
   "source": [
    "## Q1. How do you comment code in Python? What are the different types of comments?\n",
    "\n",
    "In Python, you can add comments to your code to make it more readable and provide explanations or documentation for yourself or others who may read the code. There are two types of comments in Python: single-line comments and multi-line comments.\n",
    "\n",
    "1. Single-line comments: To add a comment that spans only a single line, you can use the hash character (#) followed by the comment text. The hash symbol indicates that the rest of the line is a comment and will be ignored by the Python interpreter.\n",
    "\n",
    "2. Multi-line comments: If you need to add comments that span multiple lines, you can enclose the text within triple quotes (either single or double). This is often referred to as a docstring, and it can be used for multi-line comments as well as function or class documentation."
   ]
  },
  {
   "cell_type": "code",
   "execution_count": 2,
   "id": "2eaad0b0",
   "metadata": {},
   "outputs": [
    {
     "data": {
      "text/plain": [
       "'\\nthis \\nis \\na multi line comment'"
      ]
     },
     "execution_count": 2,
     "metadata": {},
     "output_type": "execute_result"
    }
   ],
   "source": [
    "#this is a single line comment\n",
    "'''\n",
    "this \n",
    "is \n",
    "a multi line comment'''\n"
   ]
  },
  {
   "cell_type": "markdown",
   "id": "cea9b7f6",
   "metadata": {},
   "source": [
    "## Q2. What are variables in Python? How do you declare and assign values to variables?\n",
    "\n",
    "In Python, variables are used to store data or values that can be referenced and manipulated in a program. A variable is like a container that holds a value, and it can have different types such as numbers, strings, lists, etc."
   ]
  },
  {
   "cell_type": "code",
   "execution_count": 3,
   "id": "297d9f1e",
   "metadata": {},
   "outputs": [
    {
     "data": {
      "text/plain": [
       "'Ram'"
      ]
     },
     "execution_count": 3,
     "metadata": {},
     "output_type": "execute_result"
    }
   ],
   "source": [
    "#Here's an example that declares a variable named \"name\" and assigns it the value \"Ram\"\n",
    "name='Ram'\n",
    "name"
   ]
  },
  {
   "cell_type": "markdown",
   "id": "c1c0698a",
   "metadata": {},
   "source": [
    "## Q3. How do you convert one data type to another in Python?\n",
    "\n",
    "In Python, you can convert one data type to another using type conversion functions or methods. Here are some commonly used methods for type conversion:\n",
    "\n",
    "int(), float(), str(), bool(): These functions can be used to convert values to integer, float, string, and boolean types, respectively."
   ]
  },
  {
   "cell_type": "code",
   "execution_count": 1,
   "id": "4c004c22",
   "metadata": {},
   "outputs": [
    {
     "name": "stdout",
     "output_type": "stream",
     "text": [
      "25\n",
      "10\n",
      "True\n",
      "True\n"
     ]
    }
   ],
   "source": [
    "# Convert a string to an integer\n",
    "num_str = \"25\"\n",
    "num_int = int(num_str)\n",
    "print(num_int)  # Output: 25\n",
    "\n",
    "# Convert an integer to a string\n",
    "num_int = 10\n",
    "num_str = str(num_int)\n",
    "print(num_str)  # Output: \"10\"\n",
    "\n",
    "# Convert a boolean to a string\n",
    "is_true = True\n",
    "bool_str = str(is_true)\n",
    "print(bool_str)  # Output: \"True\"\n",
    "\n",
    "# Convert a string to a boolean\n",
    "bool_str = \"False\"\n",
    "is_false = bool(bool_str)\n",
    "print(is_false)  # Output: False\n"
   ]
  },
  {
   "cell_type": "markdown",
   "id": "ce095c63",
   "metadata": {},
   "source": [
    "## Q4. How do you write and execute a Python script from the command line?\n",
    "\n",
    "To write and execute a Python script from the command line, you can follow these steps:\n",
    "\n",
    "1. Open a text editor and create a new file. You can choose any name for your script, but it's common to use the `.py` extension to indicate that it's a Python file. For example, let's create a file called `my_script.py`.\n",
    "\n",
    "2. In the text editor, write your Python code in the file. For example, you can write a simple script that prints a message:\n",
    "\n",
    "   ```python\n",
    "   # my_script.py\n",
    "   print(\"Hello, World!\")\n",
    "   ```\n",
    "\n",
    "3. Save the file and close the text editor.\n",
    "\n",
    "4. Open the command line or terminal.\n",
    "\n",
    "5. Navigate to the directory where your Python script is located. You can use the `cd` command (change directory) to navigate through folders. For example, if your script is located in the `Documents` folder, you can navigate to it like this:\n",
    "\n",
    "   ```bash\n",
    "   cd Documents\n",
    "   ```\n",
    "\n",
    "6. Once you are in the correct directory, you can execute the Python script using the `python` command followed by the script's filename. For example:\n",
    "\n",
    "   ```bash\n",
    "   python my_script.py\n",
    "   ```\n",
    "\n",
    "   This will execute the script, and the output (in this case, \"Hello, World!\") will be displayed in the command line.\n",
    "\n",
    "That's it! You have written and executed a Python script from the command line. You can modify the script in the text editor, save it, and re-run the `python` command to see the updated output."
   ]
  },
  {
   "cell_type": "markdown",
   "id": "a3a8873d",
   "metadata": {},
   "source": [
    "## Q5. Given a list my_list = [1, 2, 3, 4, 5], write the code to slice the list and obtain the sub-list [2, 3]."
   ]
  },
  {
   "cell_type": "code",
   "execution_count": 4,
   "id": "8f2a0e57",
   "metadata": {},
   "outputs": [
    {
     "data": {
      "text/plain": [
       "[2, 3]"
      ]
     },
     "execution_count": 4,
     "metadata": {},
     "output_type": "execute_result"
    }
   ],
   "source": [
    "my_lst=[1,2,3,4,5]\n",
    "my_lst[1:3]"
   ]
  },
  {
   "cell_type": "markdown",
   "id": "0633684b",
   "metadata": {},
   "source": [
    "## Q6. What is a complex number in mathematics, and how is it represented in Python?\n",
    "\n",
    "In mathematics, a complex number is a number of the form \"a + bi,\" where \"a\" and \"b\" are real numbers, and \"i\" represents the imaginary unit (√-1).\n",
    "In Python, complex numbers are represented using the complex data type. The complex type is built-in, and you can create a complex number by specifying the real and imaginary parts."
   ]
  },
  {
   "cell_type": "code",
   "execution_count": 5,
   "id": "2936cb1b",
   "metadata": {},
   "outputs": [
    {
     "name": "stdout",
     "output_type": "stream",
     "text": [
      "(2+3j) <class 'complex'>\n",
      "(-1.5-2.5j) <class 'complex'>\n",
      "(4-1j) <class 'complex'>\n"
     ]
    }
   ],
   "source": [
    "z1 = 2 + 3j\n",
    "z2 = -1.5 - 2.5j\n",
    "z3 = complex(4, -1)\n",
    "print(z1,type(z1))\n",
    "print(z2,type(z2))\n",
    "print(z3,type(z3))"
   ]
  },
  {
   "cell_type": "markdown",
   "id": "ba29fad1",
   "metadata": {},
   "source": [
    "## Q7. What is the correct way to declare a variable named age and assign the value 25 to it?\n",
    "\n",
    "Age is the variable name, and 25 is the value assigned to it. This statement declares the variable age and initializes it with the value 25"
   ]
  },
  {
   "cell_type": "code",
   "execution_count": 6,
   "id": "fcb35aa8",
   "metadata": {},
   "outputs": [
    {
     "data": {
      "text/plain": [
       "25"
      ]
     },
     "execution_count": 6,
     "metadata": {},
     "output_type": "execute_result"
    }
   ],
   "source": [
    "age=25\n",
    "age"
   ]
  },
  {
   "cell_type": "markdown",
   "id": "835f6639",
   "metadata": {},
   "source": [
    "## Q8. Declare a variable named price and assign the value 9.99 to it. What data type does this variable belong to?\n",
    "\n",
    "The type the variable belongs to is 'float'"
   ]
  },
  {
   "cell_type": "code",
   "execution_count": 7,
   "id": "8b983e9d",
   "metadata": {},
   "outputs": [
    {
     "data": {
      "text/plain": [
       "float"
      ]
     },
     "execution_count": 7,
     "metadata": {},
     "output_type": "execute_result"
    }
   ],
   "source": [
    "price=9.99\n",
    "type(price)"
   ]
  },
  {
   "cell_type": "markdown",
   "id": "9e7800dd",
   "metadata": {},
   "source": [
    "## Q9. Create a variable named name and assign your full name to it as a string. How would you print the value of this variable?\n",
    "\n",
    "Value of any variable can be print to the console using the Python in-built funtion \n",
    "      ```print()```"
   ]
  },
  {
   "cell_type": "code",
   "execution_count": 8,
   "id": "06a5b8df",
   "metadata": {},
   "outputs": [
    {
     "name": "stdout",
     "output_type": "stream",
     "text": [
      "Ahamed Ismail Hisam M\n"
     ]
    }
   ],
   "source": [
    "name='Ahamed Ismail Hisam M'\n",
    "print(name)"
   ]
  },
  {
   "cell_type": "markdown",
   "id": "0b71ffa0",
   "metadata": {},
   "source": [
    "## Q10. Given the string \"Hello, World!\", extract the substring \"World\"."
   ]
  },
  {
   "cell_type": "code",
   "execution_count": 9,
   "id": "94ee0b4c",
   "metadata": {},
   "outputs": [
    {
     "data": {
      "text/plain": [
       "'World'"
      ]
     },
     "execution_count": 9,
     "metadata": {},
     "output_type": "execute_result"
    }
   ],
   "source": [
    "string='Hello, World!'\n",
    "string[7:-1]"
   ]
  },
  {
   "cell_type": "markdown",
   "id": "1b9c520d",
   "metadata": {},
   "source": [
    "## Q11. Create a variable named \"is_student\" and assign it a boolean value indicating whether you are currently a student or not."
   ]
  },
  {
   "cell_type": "code",
   "execution_count": 10,
   "id": "b42d2a5c",
   "metadata": {},
   "outputs": [
    {
     "name": "stdout",
     "output_type": "stream",
     "text": [
      "I am a student\n"
     ]
    }
   ],
   "source": [
    "is_student=True\n",
    "if is_student:\n",
    "    print(\"I am a student\")\n",
    "else:\n",
    "    print('I am not a student')"
   ]
  }
 ],
 "metadata": {
  "kernelspec": {
   "display_name": "Python 3 (ipykernel)",
   "language": "python",
   "name": "python3"
  },
  "language_info": {
   "codemirror_mode": {
    "name": "ipython",
    "version": 3
   },
   "file_extension": ".py",
   "mimetype": "text/x-python",
   "name": "python",
   "nbconvert_exporter": "python",
   "pygments_lexer": "ipython3",
   "version": "3.10.0"
  }
 },
 "nbformat": 4,
 "nbformat_minor": 5
}
