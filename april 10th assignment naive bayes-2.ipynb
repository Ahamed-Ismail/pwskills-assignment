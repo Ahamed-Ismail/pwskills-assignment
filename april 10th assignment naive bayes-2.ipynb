{
 "cells": [
  {
   "cell_type": "markdown",
   "id": "16134d6a",
   "metadata": {},
   "source": [
    "## Q1. A company conducted a survey of its employees and found that 70% of the employees use the company's health insurance plan, while 40% of the employees who use the plan are smokers. What is the probability that an employee is a smoker given that he/she uses the health insurance plan?\n",
    "\n",
    "To find the probability that an employee is a smoker given that he/she uses the health insurance plan, you can use conditional probability. You want to find P(Smoker | Uses Health Insurance), which is read as \"the probability of being a smoker given that one uses the health insurance plan.\"\n",
    "\n",
    "You are given the following information:\n",
    "\n",
    "- P(Uses Health Insurance) = 70% = 0.70\n",
    "- P(Smoker | Uses Health Insurance) = 40% = 0.40\n",
    "\n",
    "You can use the formula for conditional probability:\n",
    "\n",
    "$P(A|B) = \\frac{P(A \\cap B)}{P(B)}$\n",
    "\n",
    "In this case:\n",
    "\n",
    "- A is the event of being a smoker.\n",
    "- B is the event of using the health insurance plan.\n",
    "\n",
    "So, you want to find $P(A|B)$, which is the probability of being a smoker given that one uses the health insurance plan. Plugging in the values:\n",
    "\n",
    "$P(Smoker | Uses Health Insurance) = \\frac{P(Smoker \\cap Uses Health Insurance)}{P(Uses Health Insurance)}$\n",
    "\n",
    "Now, you have:\n",
    "\n",
    "- $P(Smoker | Uses Health Insurance) = \\frac{P(Smoker \\cap Uses Health Insurance)}{0.70}$\n",
    "\n",
    "You know $P(Uses Health Insurance)$ is 0.70 and $P(Smoker | Uses Health Insurance)$ is 0.40, so you can rearrange the equation to find $P(Smoker \\cap Uses Health Insurance)$:\n",
    "\n",
    "$P(Smoker \\cap Uses Health Insurance) = 0.40 \\times 0.70$\n",
    "\n",
    "Now, calculate the value:\n",
    "\n",
    "$P(Smoker \\cap Uses Health Insurance) = 0.28$\n",
    "\n",
    "So, the probability that an employee is a smoker given that he/she uses the health insurance plan is 0.28 or 28%."
   ]
  },
  {
   "cell_type": "markdown",
   "id": "e566f80a",
   "metadata": {},
   "source": [
    "## Q2. What is the difference between Bernoulli Naive Bayes and Multinomial Naive Bayes?\n",
    "\n",
    "Bernoulli Naive Bayes and Multinomial Naive Bayes are two different variants of the Naive Bayes algorithm used in machine learning, and they are primarily used for text classification tasks. The main difference between them lies in how they handle the features and the underlying probability distributions they assume.\n",
    "\n",
    "1. **Bernoulli Naive Bayes**:\n",
    "\n",
    "   - **Features**: Bernoulli Naive Bayes is typically used for binary feature vectors, where each feature is either present or absent. This makes it suitable for tasks like text classification, where the presence or absence of specific words or terms is important.\n",
    "\n",
    "   - **Probability Distribution**: It models the probability of a document belonging to a particular class as a product of the probabilities of the presence or absence of each term in the document given the class. It assumes a Bernoulli distribution for each feature.\n",
    "\n",
    "   - **Use Cases**: It is commonly used for problems like sentiment analysis, spam detection, and document classification, where the presence or absence of specific words is more important than their frequency.\n",
    "\n",
    "2. **Multinomial Naive Bayes**:\n",
    "\n",
    "   - **Features**: Multinomial Naive Bayes is used when dealing with discrete data, such as word counts in text data. It is suitable for text classification tasks where the frequency of words in a document matters.\n",
    "\n",
    "   - **Probability Distribution**: It models the probability of a document belonging to a particular class as a product of the probabilities of the word counts or frequencies in the document given the class. It assumes a multinomial distribution for each feature.\n",
    "\n",
    "   - **Use Cases**: It is commonly used for tasks like document categorization, topic classification, and spam filtering, where the frequency of words or terms in a document is crucial.\n"
   ]
  },
  {
   "cell_type": "markdown",
   "id": "dc6bfbf6",
   "metadata": {},
   "source": [
    "## Q3. How does Bernoulli Naive Bayes handle missing values?\n",
    "\n",
    "Bernoulli Naive Bayes, like other variants of Naive Bayes, generally assumes that all features are binary (i.e., they are either present or absent) and does not handle missing values in the traditional sense. When using Bernoulli Naive Bayes, it's essential to preprocess your data and ensure that all features are properly binary-encoded.\n",
    "\n",
    "Here are some common strategies for dealing with missing values when using Bernoulli Naive Bayes:\n",
    "\n",
    "1. **Imputation**:\n",
    "   - One approach is to impute missing values before applying Bernoulli Naive Bayes. You can replace missing values with a specific value (e.g., 0 or 1) based on domain knowledge or by analyzing the data. This ensures that all features are binary.\n",
    "\n",
    "2. **Dropping Missing Data**:\n",
    "   - If the number of instances with missing values is relatively small, you may choose to remove those instances from your dataset. However, be cautious when doing this, as it can result in a loss of information.\n",
    "\n",
    "3. **Use a Special Category**:\n",
    "   - Another option is to create a special category for missing values and encode it as a binary feature. This allows you to explicitly model the absence of data as a feature in your Bernoulli Naive Bayes classifier.\n",
    "\n",
    "4. **Data Imputation Algorithms**:\n",
    "   - You can apply data imputation techniques specifically designed for binary data. These methods aim to estimate missing values based on the observed data while maintaining the binary nature of the features.\n",
    "\n",
    "5. **Advanced Models**:\n",
    "   - In some cases, if dealing with missing values is a significant concern, you might consider using other classification algorithms that handle missing data more naturally, such as decision trees, random forests, or support vector machines.\n",
    "\n"
   ]
  },
  {
   "cell_type": "markdown",
   "id": "5db9827f",
   "metadata": {},
   "source": [
    "## Q4. Can Gaussian Naive Bayes be used for multi-class classification?\n",
    "\n",
    "Yes, Gaussian Naive Bayes can be used for multi-class classification tasks. Gaussian Naive Bayes is a variant of the Naive Bayes algorithm that assumes that the features follow a Gaussian (normal) distribution. It's particularly suited for continuous or real-valued features.\n",
    "\n",
    "In the context of multi-class classification, Gaussian Naive Bayes extends the binary classification capability of the standard Gaussian Naive Bayes to handle multiple classes. It does this by applying the Gaussian probability density function separately for each class and then assigning the class with the highest probability as the predicted class.\n",
    "\n",
    "Here's how Gaussian Naive Bayes works for multi-class classification:\n",
    "\n",
    "1. **Model Building**:\n",
    "   - For each class in the dataset, Gaussian Naive Bayes estimates the mean and variance of each feature. These parameters are used to characterize the Gaussian distribution for each class.\n",
    "\n",
    "2. **Class Probability**:\n",
    "   - When making a prediction for a new data point, the algorithm calculates the probability of the data point belonging to each class based on the Gaussian distribution parameters for each class. This is done using the Gaussian probability density function.\n",
    "\n",
    "3. **Prediction**:\n",
    "   - The algorithm assigns the class with the highest calculated probability as the predicted class for the new data point.\n",
    "\n",
    "Gaussian Naive Bayes can be effective for multi-class classification problems, especially when the assumption of Gaussian distribution for the features is reasonable. However, it's essential to keep in mind that the \"naive\" assumption of independence between features still applies, which may or may not hold in your specific dataset.\n",
    "\n"
   ]
  },
  {
   "cell_type": "markdown",
   "id": "592d0072",
   "metadata": {},
   "source": [
    "## Q5. Assignment:\n",
    "## Data preparation:\n",
    "\n",
    "Download the \"Spambase Data Set\" from the UCI Machine Learning Repository (https://archive.ics.uci.edu/ml/\n",
    "datasets/Spambase). This dataset contains email messages, where the goal is to predict whether a message\n",
    "is spam or not based on several input features.\n",
    "\n",
    "## Implementation:\n",
    "\n",
    "Implement Bernoulli Naive Bayes, Multinomial Naive Bayes, and Gaussian Naive Bayes classifiers using the\n",
    "scikit-learn library in Python. Use 10-fold cross-validation to evaluate the performance of each classifier on the\n",
    "dataset. You should use the default hyperparameters for each classifier.\n",
    "\n",
    "## Results:\n",
    "\n",
    "Report the following performance metrics for each classifier:\n",
    "\n",
    "Accuracy\n",
    "\n",
    "Precision\n",
    "\n",
    "Recall\n",
    "\n",
    "F1 score\n",
    "\n",
    "## Discussion:\n",
    "\n",
    "Discuss the results you obtained. Which variant of Naive Bayes performed the best? Why do you think that is\n",
    "the case? Are there any limitations of Naive Bayes that you observed?\n",
    "\n",
    "## Conclusion:\n",
    "\n",
    "Summarise your findings and provide some suggestions for future work."
   ]
  },
  {
   "cell_type": "code",
   "execution_count": 1,
   "id": "c4d4994e",
   "metadata": {},
   "outputs": [],
   "source": [
    "import pandas as pd\n",
    "from sklearn.model_selection import cross_val_score\n",
    "from sklearn.naive_bayes import BernoulliNB, MultinomialNB, GaussianNB\n",
    "from sklearn.metrics import accuracy_score, precision_score, recall_score, f1_score\n",
    "import matplotlib.pyplot as plt\n",
    "import seaborn as sns\n",
    "from sklearn.preprocessing import MinMaxScaler\n",
    "import warnings\n",
    "warnings.filterwarnings('ignore')"
   ]
  },
  {
   "cell_type": "code",
   "execution_count": 2,
   "id": "a6a28ac0",
   "metadata": {},
   "outputs": [
    {
     "data": {
      "text/html": [
       "<div>\n",
       "<style scoped>\n",
       "    .dataframe tbody tr th:only-of-type {\n",
       "        vertical-align: middle;\n",
       "    }\n",
       "\n",
       "    .dataframe tbody tr th {\n",
       "        vertical-align: top;\n",
       "    }\n",
       "\n",
       "    .dataframe thead th {\n",
       "        text-align: right;\n",
       "    }\n",
       "</style>\n",
       "<table border=\"1\" class=\"dataframe\">\n",
       "  <thead>\n",
       "    <tr style=\"text-align: right;\">\n",
       "      <th></th>\n",
       "      <th>Email No.</th>\n",
       "      <th>the</th>\n",
       "      <th>to</th>\n",
       "      <th>ect</th>\n",
       "      <th>and</th>\n",
       "      <th>for</th>\n",
       "      <th>of</th>\n",
       "      <th>a</th>\n",
       "      <th>you</th>\n",
       "      <th>hou</th>\n",
       "      <th>...</th>\n",
       "      <th>connevey</th>\n",
       "      <th>jay</th>\n",
       "      <th>valued</th>\n",
       "      <th>lay</th>\n",
       "      <th>infrastructure</th>\n",
       "      <th>military</th>\n",
       "      <th>allowing</th>\n",
       "      <th>ff</th>\n",
       "      <th>dry</th>\n",
       "      <th>Prediction</th>\n",
       "    </tr>\n",
       "  </thead>\n",
       "  <tbody>\n",
       "    <tr>\n",
       "      <th>0</th>\n",
       "      <td>Email 1</td>\n",
       "      <td>0</td>\n",
       "      <td>0</td>\n",
       "      <td>1</td>\n",
       "      <td>0</td>\n",
       "      <td>0</td>\n",
       "      <td>0</td>\n",
       "      <td>2</td>\n",
       "      <td>0</td>\n",
       "      <td>0</td>\n",
       "      <td>...</td>\n",
       "      <td>0</td>\n",
       "      <td>0</td>\n",
       "      <td>0</td>\n",
       "      <td>0</td>\n",
       "      <td>0</td>\n",
       "      <td>0</td>\n",
       "      <td>0</td>\n",
       "      <td>0</td>\n",
       "      <td>0</td>\n",
       "      <td>0</td>\n",
       "    </tr>\n",
       "    <tr>\n",
       "      <th>1</th>\n",
       "      <td>Email 2</td>\n",
       "      <td>8</td>\n",
       "      <td>13</td>\n",
       "      <td>24</td>\n",
       "      <td>6</td>\n",
       "      <td>6</td>\n",
       "      <td>2</td>\n",
       "      <td>102</td>\n",
       "      <td>1</td>\n",
       "      <td>27</td>\n",
       "      <td>...</td>\n",
       "      <td>0</td>\n",
       "      <td>0</td>\n",
       "      <td>0</td>\n",
       "      <td>0</td>\n",
       "      <td>0</td>\n",
       "      <td>0</td>\n",
       "      <td>0</td>\n",
       "      <td>1</td>\n",
       "      <td>0</td>\n",
       "      <td>0</td>\n",
       "    </tr>\n",
       "    <tr>\n",
       "      <th>2</th>\n",
       "      <td>Email 3</td>\n",
       "      <td>0</td>\n",
       "      <td>0</td>\n",
       "      <td>1</td>\n",
       "      <td>0</td>\n",
       "      <td>0</td>\n",
       "      <td>0</td>\n",
       "      <td>8</td>\n",
       "      <td>0</td>\n",
       "      <td>0</td>\n",
       "      <td>...</td>\n",
       "      <td>0</td>\n",
       "      <td>0</td>\n",
       "      <td>0</td>\n",
       "      <td>0</td>\n",
       "      <td>0</td>\n",
       "      <td>0</td>\n",
       "      <td>0</td>\n",
       "      <td>0</td>\n",
       "      <td>0</td>\n",
       "      <td>0</td>\n",
       "    </tr>\n",
       "    <tr>\n",
       "      <th>3</th>\n",
       "      <td>Email 4</td>\n",
       "      <td>0</td>\n",
       "      <td>5</td>\n",
       "      <td>22</td>\n",
       "      <td>0</td>\n",
       "      <td>5</td>\n",
       "      <td>1</td>\n",
       "      <td>51</td>\n",
       "      <td>2</td>\n",
       "      <td>10</td>\n",
       "      <td>...</td>\n",
       "      <td>0</td>\n",
       "      <td>0</td>\n",
       "      <td>0</td>\n",
       "      <td>0</td>\n",
       "      <td>0</td>\n",
       "      <td>0</td>\n",
       "      <td>0</td>\n",
       "      <td>0</td>\n",
       "      <td>0</td>\n",
       "      <td>0</td>\n",
       "    </tr>\n",
       "    <tr>\n",
       "      <th>4</th>\n",
       "      <td>Email 5</td>\n",
       "      <td>7</td>\n",
       "      <td>6</td>\n",
       "      <td>17</td>\n",
       "      <td>1</td>\n",
       "      <td>5</td>\n",
       "      <td>2</td>\n",
       "      <td>57</td>\n",
       "      <td>0</td>\n",
       "      <td>9</td>\n",
       "      <td>...</td>\n",
       "      <td>0</td>\n",
       "      <td>0</td>\n",
       "      <td>0</td>\n",
       "      <td>0</td>\n",
       "      <td>0</td>\n",
       "      <td>0</td>\n",
       "      <td>0</td>\n",
       "      <td>1</td>\n",
       "      <td>0</td>\n",
       "      <td>0</td>\n",
       "    </tr>\n",
       "  </tbody>\n",
       "</table>\n",
       "<p>5 rows × 3002 columns</p>\n",
       "</div>"
      ],
      "text/plain": [
       "  Email No.  the  to  ect  and  for  of    a  you  hou  ...  connevey  jay   \n",
       "0   Email 1    0   0    1    0    0   0    2    0    0  ...         0    0  \\\n",
       "1   Email 2    8  13   24    6    6   2  102    1   27  ...         0    0   \n",
       "2   Email 3    0   0    1    0    0   0    8    0    0  ...         0    0   \n",
       "3   Email 4    0   5   22    0    5   1   51    2   10  ...         0    0   \n",
       "4   Email 5    7   6   17    1    5   2   57    0    9  ...         0    0   \n",
       "\n",
       "   valued  lay  infrastructure  military  allowing  ff  dry  Prediction  \n",
       "0       0    0               0         0         0   0    0           0  \n",
       "1       0    0               0         0         0   1    0           0  \n",
       "2       0    0               0         0         0   0    0           0  \n",
       "3       0    0               0         0         0   0    0           0  \n",
       "4       0    0               0         0         0   1    0           0  \n",
       "\n",
       "[5 rows x 3002 columns]"
      ]
     },
     "execution_count": 2,
     "metadata": {},
     "output_type": "execute_result"
    }
   ],
   "source": [
    "\n",
    "df=pd.read_csv(r'C:\\Users\\tanji\\Desktop\\myPW\\assignments\\datasets\\emails.csv')\n",
    "df.head()"
   ]
  },
  {
   "cell_type": "code",
   "execution_count": 3,
   "id": "5fea2a82",
   "metadata": {},
   "outputs": [
    {
     "data": {
      "text/plain": [
       "Prediction\n",
       "0    3672\n",
       "1    1500\n",
       "Name: count, dtype: int64"
      ]
     },
     "execution_count": 3,
     "metadata": {},
     "output_type": "execute_result"
    }
   ],
   "source": [
    "df.Prediction.value_counts()"
   ]
  },
  {
   "cell_type": "code",
   "execution_count": 4,
   "id": "874d019d",
   "metadata": {},
   "outputs": [],
   "source": [
    "df_minority=df[df['Prediction']==1]\n",
    "df_majority=df[df['Prediction']==0]"
   ]
  },
  {
   "cell_type": "code",
   "execution_count": 5,
   "id": "b0df3eb2",
   "metadata": {},
   "outputs": [
    {
     "data": {
      "text/plain": [
       "(3672, 3002)"
      ]
     },
     "execution_count": 5,
     "metadata": {},
     "output_type": "execute_result"
    }
   ],
   "source": [
    "from sklearn.utils import resample \n",
    "df_minority_upsampled= resample(df_minority, replace=True,  #upsampling minority group\n",
    "                               n_samples=len(df_majority),\n",
    "                               random_state=42\n",
    "                               )\n",
    "df_minority_upsampled.shape"
   ]
  },
  {
   "cell_type": "code",
   "execution_count": 6,
   "id": "f2060f7c",
   "metadata": {},
   "outputs": [
    {
     "data": {
      "text/plain": [
       "Prediction\n",
       "0    3672\n",
       "1    3672\n",
       "Name: count, dtype: int64"
      ]
     },
     "execution_count": 6,
     "metadata": {},
     "output_type": "execute_result"
    }
   ],
   "source": [
    "newdf_upsampled=pd.concat([df_majority,df_minority_upsampled])\n",
    "newdf_upsampled['Prediction'].value_counts()"
   ]
  },
  {
   "cell_type": "code",
   "execution_count": 7,
   "id": "09313117",
   "metadata": {},
   "outputs": [],
   "source": [
    "newdf_upsampled.drop('Email No.', axis=1, inplace=True)"
   ]
  },
  {
   "cell_type": "code",
   "execution_count": 8,
   "id": "4f9d2fc7",
   "metadata": {},
   "outputs": [],
   "source": [
    "X = newdf_upsampled.iloc[:, :-1]  # Features\n",
    "y = newdf_upsampled.iloc[:, -1] "
   ]
  },
  {
   "cell_type": "markdown",
   "id": "772ae34d",
   "metadata": {},
   "source": [
    "## bernoulli NB"
   ]
  },
  {
   "cell_type": "code",
   "execution_count": 9,
   "id": "b560b89c",
   "metadata": {
    "scrolled": true
   },
   "outputs": [
    {
     "name": "stdout",
     "output_type": "stream",
     "text": [
      "BernoulliNB()\n"
     ]
    },
    {
     "name": "stderr",
     "output_type": "stream",
     "text": [
      "[Parallel(n_jobs=1)]: Using backend SequentialBackend with 1 concurrent workers.\n"
     ]
    },
    {
     "name": "stdout",
     "output_type": "stream",
     "text": [
      "[CV] END ................................ score: (test=0.863) total time=   1.4s\n"
     ]
    },
    {
     "name": "stderr",
     "output_type": "stream",
     "text": [
      "[Parallel(n_jobs=1)]: Done   1 out of   1 | elapsed:    1.5s remaining:    0.0s\n"
     ]
    },
    {
     "name": "stdout",
     "output_type": "stream",
     "text": [
      "[CV] END ................................ score: (test=0.814) total time=   1.4s\n"
     ]
    },
    {
     "name": "stderr",
     "output_type": "stream",
     "text": [
      "[Parallel(n_jobs=1)]: Done   2 out of   2 | elapsed:    3.0s remaining:    0.0s\n"
     ]
    },
    {
     "name": "stdout",
     "output_type": "stream",
     "text": [
      "[CV] END ................................ score: (test=0.850) total time=   1.4s\n",
      "[CV] END ................................ score: (test=0.854) total time=   1.4s\n",
      "[CV] END ................................ score: (test=0.873) total time=   1.5s\n",
      "[CV] END ................................ score: (test=0.868) total time=   1.4s\n",
      "[CV] END ................................ score: (test=0.846) total time=   1.4s\n",
      "[CV] END ................................ score: (test=0.837) total time=   1.5s\n",
      "[CV] END ................................ score: (test=0.858) total time=   1.5s\n",
      "[CV] END ................................ score: (test=0.759) total time=   1.5s\n"
     ]
    },
    {
     "name": "stderr",
     "output_type": "stream",
     "text": [
      "[Parallel(n_jobs=1)]: Done  10 out of  10 | elapsed:   15.6s finished\n",
      "[Parallel(n_jobs=1)]: Using backend SequentialBackend with 1 concurrent workers.\n"
     ]
    },
    {
     "name": "stdout",
     "output_type": "stream",
     "text": [
      "[CV] END ................................ score: (test=0.918) total time=   1.3s\n"
     ]
    },
    {
     "name": "stderr",
     "output_type": "stream",
     "text": [
      "[Parallel(n_jobs=1)]: Done   1 out of   1 | elapsed:    1.3s remaining:    0.0s\n"
     ]
    },
    {
     "name": "stdout",
     "output_type": "stream",
     "text": [
      "[CV] END ................................ score: (test=0.899) total time=   1.1s\n"
     ]
    },
    {
     "name": "stderr",
     "output_type": "stream",
     "text": [
      "[Parallel(n_jobs=1)]: Done   2 out of   2 | elapsed:    2.6s remaining:    0.0s\n"
     ]
    },
    {
     "name": "stdout",
     "output_type": "stream",
     "text": [
      "[CV] END ................................ score: (test=0.951) total time=   1.7s\n",
      "[CV] END ................................ score: (test=0.928) total time=   1.8s\n",
      "[CV] END ................................ score: (test=0.939) total time=   1.4s\n",
      "[CV] END ................................ score: (test=0.950) total time=   1.7s\n",
      "[CV] END ................................ score: (test=0.899) total time=   1.4s\n",
      "[CV] END ................................ score: (test=0.924) total time=   1.5s\n",
      "[CV] END ................................ score: (test=0.928) total time=   1.4s\n",
      "[CV] END ................................ score: (test=0.765) total time=   1.4s\n"
     ]
    },
    {
     "name": "stderr",
     "output_type": "stream",
     "text": [
      "[Parallel(n_jobs=1)]: Done  10 out of  10 | elapsed:   16.1s finished\n",
      "[Parallel(n_jobs=1)]: Using backend SequentialBackend with 1 concurrent workers.\n"
     ]
    },
    {
     "name": "stdout",
     "output_type": "stream",
     "text": [
      "[CV] END ................................ score: (test=0.796) total time=   1.4s\n"
     ]
    },
    {
     "name": "stderr",
     "output_type": "stream",
     "text": [
      "[Parallel(n_jobs=1)]: Done   1 out of   1 | elapsed:    1.4s remaining:    0.0s\n"
     ]
    },
    {
     "name": "stdout",
     "output_type": "stream",
     "text": [
      "[CV] END ................................ score: (test=0.706) total time=   1.4s\n"
     ]
    },
    {
     "name": "stderr",
     "output_type": "stream",
     "text": [
      "[Parallel(n_jobs=1)]: Done   2 out of   2 | elapsed:    3.0s remaining:    0.0s\n"
     ]
    },
    {
     "name": "stdout",
     "output_type": "stream",
     "text": [
      "[CV] END ................................ score: (test=0.739) total time=   1.5s\n",
      "[CV] END ................................ score: (test=0.769) total time=   1.4s\n",
      "[CV] END ................................ score: (test=0.798) total time=   1.4s\n",
      "[CV] END ................................ score: (test=0.777) total time=   1.4s\n",
      "[CV] END ................................ score: (test=0.779) total time=   1.6s\n",
      "[CV] END ................................ score: (test=0.733) total time=   1.5s\n",
      "[CV] END ................................ score: (test=0.777) total time=   1.4s\n",
      "[CV] END ................................ score: (test=0.747) total time=   1.4s\n"
     ]
    },
    {
     "name": "stderr",
     "output_type": "stream",
     "text": [
      "[Parallel(n_jobs=1)]: Done  10 out of  10 | elapsed:   15.7s finished\n",
      "[Parallel(n_jobs=1)]: Using backend SequentialBackend with 1 concurrent workers.\n"
     ]
    },
    {
     "name": "stdout",
     "output_type": "stream",
     "text": [
      "[CV] END ................................ score: (test=0.853) total time=   1.5s\n"
     ]
    },
    {
     "name": "stderr",
     "output_type": "stream",
     "text": [
      "[Parallel(n_jobs=1)]: Done   1 out of   1 | elapsed:    1.5s remaining:    0.0s\n"
     ]
    },
    {
     "name": "stdout",
     "output_type": "stream",
     "text": [
      "[CV] END ................................ score: (test=0.791) total time=   1.4s\n"
     ]
    },
    {
     "name": "stderr",
     "output_type": "stream",
     "text": [
      "[Parallel(n_jobs=1)]: Done   2 out of   2 | elapsed:    3.0s remaining:    0.0s\n"
     ]
    },
    {
     "name": "stdout",
     "output_type": "stream",
     "text": [
      "[CV] END ................................ score: (test=0.832) total time=   1.5s\n",
      "[CV] END ................................ score: (test=0.841) total time=   1.4s\n",
      "[CV] END ................................ score: (test=0.863) total time=   1.4s\n",
      "[CV] END ................................ score: (test=0.855) total time=   1.5s\n",
      "[CV] END ................................ score: (test=0.835) total time=   1.4s\n",
      "[CV] END ................................ score: (test=0.818) total time=   1.4s\n",
      "[CV] END ................................ score: (test=0.846) total time=   1.4s\n",
      "[CV] END ................................ score: (test=0.756) total time=   1.4s\n",
      "MultinomialNB()\n"
     ]
    },
    {
     "name": "stderr",
     "output_type": "stream",
     "text": [
      "[Parallel(n_jobs=1)]: Done  10 out of  10 | elapsed:   15.3s finished\n",
      "[Parallel(n_jobs=1)]: Using backend SequentialBackend with 1 concurrent workers.\n"
     ]
    },
    {
     "name": "stdout",
     "output_type": "stream",
     "text": [
      "[CV] END ................................ score: (test=0.947) total time=   0.3s\n"
     ]
    },
    {
     "name": "stderr",
     "output_type": "stream",
     "text": [
      "[Parallel(n_jobs=1)]: Done   1 out of   1 | elapsed:    0.4s remaining:    0.0s\n"
     ]
    },
    {
     "name": "stdout",
     "output_type": "stream",
     "text": [
      "[CV] END ................................ score: (test=0.940) total time=   0.3s\n"
     ]
    },
    {
     "name": "stderr",
     "output_type": "stream",
     "text": [
      "[Parallel(n_jobs=1)]: Done   2 out of   2 | elapsed:    0.8s remaining:    0.0s\n"
     ]
    },
    {
     "name": "stdout",
     "output_type": "stream",
     "text": [
      "[CV] END ................................ score: (test=0.965) total time=   0.4s\n",
      "[CV] END ................................ score: (test=0.951) total time=   0.3s\n",
      "[CV] END ................................ score: (test=0.956) total time=   0.3s\n",
      "[CV] END ................................ score: (test=0.965) total time=   0.4s\n",
      "[CV] END ................................ score: (test=0.946) total time=   0.3s\n",
      "[CV] END ................................ score: (test=0.937) total time=   0.3s\n",
      "[CV] END ................................ score: (test=0.940) total time=   0.3s\n",
      "[CV] END ................................ score: (test=0.891) total time=   0.3s\n"
     ]
    },
    {
     "name": "stderr",
     "output_type": "stream",
     "text": [
      "[Parallel(n_jobs=1)]: Done  10 out of  10 | elapsed:    4.4s finished\n",
      "[Parallel(n_jobs=1)]: Using backend SequentialBackend with 1 concurrent workers.\n"
     ]
    },
    {
     "name": "stdout",
     "output_type": "stream",
     "text": [
      "[CV] END ................................ score: (test=0.946) total time=   0.3s\n"
     ]
    },
    {
     "name": "stderr",
     "output_type": "stream",
     "text": [
      "[Parallel(n_jobs=1)]: Done   1 out of   1 | elapsed:    0.4s remaining:    0.0s\n"
     ]
    },
    {
     "name": "stdout",
     "output_type": "stream",
     "text": [
      "[CV] END ................................ score: (test=0.945) total time=   0.3s\n"
     ]
    },
    {
     "name": "stderr",
     "output_type": "stream",
     "text": [
      "[Parallel(n_jobs=1)]: Done   2 out of   2 | elapsed:    0.8s remaining:    0.0s\n"
     ]
    },
    {
     "name": "stdout",
     "output_type": "stream",
     "text": [
      "[CV] END ................................ score: (test=0.980) total time=   0.4s\n",
      "[CV] END ................................ score: (test=0.956) total time=   0.4s\n",
      "[CV] END ................................ score: (test=0.972) total time=   0.4s\n",
      "[CV] END ................................ score: (test=0.967) total time=   0.4s\n",
      "[CV] END ................................ score: (test=0.934) total time=   0.3s\n",
      "[CV] END ................................ score: (test=0.935) total time=   0.3s\n",
      "[CV] END ................................ score: (test=0.945) total time=   0.3s\n",
      "[CV] END ................................ score: (test=0.844) total time=   0.3s\n"
     ]
    },
    {
     "name": "stderr",
     "output_type": "stream",
     "text": [
      "[Parallel(n_jobs=1)]: Done  10 out of  10 | elapsed:    4.7s finished\n",
      "[Parallel(n_jobs=1)]: Using backend SequentialBackend with 1 concurrent workers.\n"
     ]
    },
    {
     "name": "stdout",
     "output_type": "stream",
     "text": [
      "[CV] END ................................ score: (test=0.948) total time=   0.3s\n"
     ]
    },
    {
     "name": "stderr",
     "output_type": "stream",
     "text": [
      "[Parallel(n_jobs=1)]: Done   1 out of   1 | elapsed:    0.3s remaining:    0.0s\n"
     ]
    },
    {
     "name": "stdout",
     "output_type": "stream",
     "text": [
      "[CV] END ................................ score: (test=0.935) total time=   0.3s\n"
     ]
    },
    {
     "name": "stderr",
     "output_type": "stream",
     "text": [
      "[Parallel(n_jobs=1)]: Done   2 out of   2 | elapsed:    0.8s remaining:    0.0s\n"
     ]
    },
    {
     "name": "stdout",
     "output_type": "stream",
     "text": [
      "[CV] END ................................ score: (test=0.948) total time=   0.3s\n",
      "[CV] END ................................ score: (test=0.946) total time=   0.3s\n",
      "[CV] END ................................ score: (test=0.940) total time=   0.3s\n",
      "[CV] END ................................ score: (test=0.962) total time=   0.3s\n",
      "[CV] END ................................ score: (test=0.959) total time=   0.3s\n",
      "[CV] END ................................ score: (test=0.940) total time=   0.3s\n",
      "[CV] END ................................ score: (test=0.935) total time=   0.3s\n",
      "[CV] END ................................ score: (test=0.959) total time=   0.3s\n"
     ]
    },
    {
     "name": "stderr",
     "output_type": "stream",
     "text": [
      "[Parallel(n_jobs=1)]: Done  10 out of  10 | elapsed:    4.3s finished\n",
      "[Parallel(n_jobs=1)]: Using backend SequentialBackend with 1 concurrent workers.\n"
     ]
    },
    {
     "name": "stdout",
     "output_type": "stream",
     "text": [
      "[CV] END ................................ score: (test=0.947) total time=   0.3s\n"
     ]
    },
    {
     "name": "stderr",
     "output_type": "stream",
     "text": [
      "[Parallel(n_jobs=1)]: Done   1 out of   1 | elapsed:    0.4s remaining:    0.0s\n"
     ]
    },
    {
     "name": "stdout",
     "output_type": "stream",
     "text": [
      "[CV] END ................................ score: (test=0.940) total time=   0.3s\n"
     ]
    },
    {
     "name": "stderr",
     "output_type": "stream",
     "text": [
      "[Parallel(n_jobs=1)]: Done   2 out of   2 | elapsed:    0.8s remaining:    0.0s\n"
     ]
    },
    {
     "name": "stdout",
     "output_type": "stream",
     "text": [
      "[CV] END ................................ score: (test=0.964) total time=   0.3s\n",
      "[CV] END ................................ score: (test=0.951) total time=   0.3s\n",
      "[CV] END ................................ score: (test=0.956) total time=   0.3s\n",
      "[CV] END ................................ score: (test=0.964) total time=   0.3s\n",
      "[CV] END ................................ score: (test=0.946) total time=   0.3s\n",
      "[CV] END ................................ score: (test=0.938) total time=   0.3s\n",
      "[CV] END ................................ score: (test=0.940) total time=   0.3s\n",
      "[CV] END ................................ score: (test=0.898) total time=   0.3s\n",
      "GaussianNB()\n"
     ]
    },
    {
     "name": "stderr",
     "output_type": "stream",
     "text": [
      "[Parallel(n_jobs=1)]: Done  10 out of  10 | elapsed:    4.4s finished\n",
      "[Parallel(n_jobs=1)]: Using backend SequentialBackend with 1 concurrent workers.\n"
     ]
    },
    {
     "name": "stdout",
     "output_type": "stream",
     "text": [
      "[CV] END ................................ score: (test=0.961) total time=   1.2s\n"
     ]
    },
    {
     "name": "stderr",
     "output_type": "stream",
     "text": [
      "[Parallel(n_jobs=1)]: Done   1 out of   1 | elapsed:    1.2s remaining:    0.0s\n"
     ]
    },
    {
     "name": "stdout",
     "output_type": "stream",
     "text": [
      "[CV] END ................................ score: (test=0.965) total time=   1.2s\n"
     ]
    },
    {
     "name": "stderr",
     "output_type": "stream",
     "text": [
      "[Parallel(n_jobs=1)]: Done   2 out of   2 | elapsed:    2.5s remaining:    0.0s\n"
     ]
    },
    {
     "name": "stdout",
     "output_type": "stream",
     "text": [
      "[CV] END ................................ score: (test=0.986) total time=   1.1s\n",
      "[CV] END ................................ score: (test=0.976) total time=   1.2s\n",
      "[CV] END ................................ score: (test=0.981) total time=   1.2s\n",
      "[CV] END ................................ score: (test=0.970) total time=   1.1s\n",
      "[CV] END ................................ score: (test=0.955) total time=   1.1s\n",
      "[CV] END ................................ score: (test=0.962) total time=   1.1s\n",
      "[CV] END ................................ score: (test=0.970) total time=   1.1s\n",
      "[CV] END ................................ score: (test=0.940) total time=   1.1s\n"
     ]
    },
    {
     "name": "stderr",
     "output_type": "stream",
     "text": [
      "[Parallel(n_jobs=1)]: Done  10 out of  10 | elapsed:   12.7s finished\n",
      "[Parallel(n_jobs=1)]: Using backend SequentialBackend with 1 concurrent workers.\n"
     ]
    },
    {
     "name": "stdout",
     "output_type": "stream",
     "text": [
      "[CV] END ................................ score: (test=0.940) total time=   1.2s\n"
     ]
    },
    {
     "name": "stderr",
     "output_type": "stream",
     "text": [
      "[Parallel(n_jobs=1)]: Done   1 out of   1 | elapsed:    1.2s remaining:    0.0s\n"
     ]
    },
    {
     "name": "stdout",
     "output_type": "stream",
     "text": [
      "[CV] END ................................ score: (test=0.948) total time=   1.1s\n"
     ]
    },
    {
     "name": "stderr",
     "output_type": "stream",
     "text": [
      "[Parallel(n_jobs=1)]: Done   2 out of   2 | elapsed:    2.5s remaining:    0.0s\n"
     ]
    },
    {
     "name": "stdout",
     "output_type": "stream",
     "text": [
      "[CV] END ................................ score: (test=0.981) total time=   1.2s\n",
      "[CV] END ................................ score: (test=0.970) total time=   1.1s\n",
      "[CV] END ................................ score: (test=0.971) total time=   1.1s\n",
      "[CV] END ................................ score: (test=0.950) total time=   1.1s\n",
      "[CV] END ................................ score: (test=0.937) total time=   1.2s\n",
      "[CV] END ................................ score: (test=0.943) total time=   1.1s\n",
      "[CV] END ................................ score: (test=0.948) total time=   1.1s\n",
      "[CV] END ................................ score: (test=0.907) total time=   1.1s\n"
     ]
    },
    {
     "name": "stderr",
     "output_type": "stream",
     "text": [
      "[Parallel(n_jobs=1)]: Done  10 out of  10 | elapsed:   12.6s finished\n",
      "[Parallel(n_jobs=1)]: Using backend SequentialBackend with 1 concurrent workers.\n"
     ]
    },
    {
     "name": "stdout",
     "output_type": "stream",
     "text": [
      "[CV] END ................................ score: (test=0.984) total time=   1.2s\n"
     ]
    },
    {
     "name": "stderr",
     "output_type": "stream",
     "text": [
      "[Parallel(n_jobs=1)]: Done   1 out of   1 | elapsed:    1.2s remaining:    0.0s\n"
     ]
    },
    {
     "name": "stdout",
     "output_type": "stream",
     "text": [
      "[CV] END ................................ score: (test=0.984) total time=   1.1s\n"
     ]
    },
    {
     "name": "stderr",
     "output_type": "stream",
     "text": [
      "[Parallel(n_jobs=1)]: Done   2 out of   2 | elapsed:    2.5s remaining:    0.0s\n"
     ]
    },
    {
     "name": "stdout",
     "output_type": "stream",
     "text": [
      "[CV] END ................................ score: (test=0.992) total time=   1.2s\n",
      "[CV] END ................................ score: (test=0.981) total time=   1.2s\n",
      "[CV] END ................................ score: (test=0.992) total time=   1.1s\n",
      "[CV] END ................................ score: (test=0.992) total time=   1.1s\n",
      "[CV] END ................................ score: (test=0.975) total time=   1.1s\n",
      "[CV] END ................................ score: (test=0.984) total time=   1.2s\n",
      "[CV] END ................................ score: (test=0.995) total time=   1.1s\n",
      "[CV] END ................................ score: (test=0.981) total time=   1.1s\n"
     ]
    },
    {
     "name": "stderr",
     "output_type": "stream",
     "text": [
      "[Parallel(n_jobs=1)]: Done  10 out of  10 | elapsed:   12.6s finished\n",
      "[Parallel(n_jobs=1)]: Using backend SequentialBackend with 1 concurrent workers.\n"
     ]
    },
    {
     "name": "stdout",
     "output_type": "stream",
     "text": [
      "[CV] END ................................ score: (test=0.961) total time=   1.1s\n"
     ]
    },
    {
     "name": "stderr",
     "output_type": "stream",
     "text": [
      "[Parallel(n_jobs=1)]: Done   1 out of   1 | elapsed:    1.2s remaining:    0.0s\n"
     ]
    },
    {
     "name": "stdout",
     "output_type": "stream",
     "text": [
      "[CV] END ................................ score: (test=0.965) total time=   1.1s\n"
     ]
    },
    {
     "name": "stderr",
     "output_type": "stream",
     "text": [
      "[Parallel(n_jobs=1)]: Done   2 out of   2 | elapsed:    2.4s remaining:    0.0s\n"
     ]
    },
    {
     "name": "stdout",
     "output_type": "stream",
     "text": [
      "[CV] END ................................ score: (test=0.986) total time=   1.1s\n",
      "[CV] END ................................ score: (test=0.976) total time=   1.2s\n",
      "[CV] END ................................ score: (test=0.981) total time=   1.1s\n",
      "[CV] END ................................ score: (test=0.971) total time=   1.1s\n",
      "[CV] END ................................ score: (test=0.956) total time=   1.4s\n",
      "[CV] END ................................ score: (test=0.963) total time=   1.2s\n",
      "[CV] END ................................ score: (test=0.971) total time=   1.1s\n",
      "[CV] END ................................ score: (test=0.942) total time=   1.4s\n"
     ]
    },
    {
     "name": "stderr",
     "output_type": "stream",
     "text": [
      "[Parallel(n_jobs=1)]: Done  10 out of  10 | elapsed:   13.1s finished\n"
     ]
    }
   ],
   "source": [
    "bernoulli_nb = BernoulliNB()\n",
    "multinomial_nb = MultinomialNB()\n",
    "gaussian_nb = GaussianNB()\n",
    "\n",
    "\n",
    "accuracy_scores = []\n",
    "precision_scores = []\n",
    "recall_scores = []\n",
    "f1_scores = []\n",
    "\n",
    "classifiers = [bernoulli_nb, multinomial_nb, gaussian_nb]\n",
    "for classifier in classifiers:\n",
    "    print(classifier)\n",
    "    accuracy = cross_val_score(classifier, X, y, cv=10, scoring='accuracy',verbose=3)\n",
    "    precision = cross_val_score(classifier, X, y, cv=10, scoring='precision', verbose=3)\n",
    "    recall = cross_val_score(classifier, X, y, cv=10, scoring='recall', verbose=3)\n",
    "    f1 = cross_val_score(classifier, X, y, cv=10, scoring='f1', verbose=3)\n",
    "\n",
    "    accuracy_scores.append(accuracy.mean())\n",
    "    precision_scores.append(precision.mean())\n",
    "    recall_scores.append(recall.mean())\n",
    "    f1_scores.append(f1.mean())\n"
   ]
  },
  {
   "cell_type": "code",
   "execution_count": 10,
   "id": "5d6ed547",
   "metadata": {
    "scrolled": false
   },
   "outputs": [
    {
     "data": {
      "text/plain": [
       "([0.8421824315557286, 0.9437598472631559, 0.9665003985245324],\n",
       " [0.9103036502195325, 0.942356569721567, 0.9494866420361572],\n",
       " [0.7619868795166449, 0.9471678414879754, 0.9858384670062789],\n",
       " [0.8288040782726682, 0.9443154187716232, 0.9672347345739196])"
      ]
     },
     "execution_count": 10,
     "metadata": {},
     "output_type": "execute_result"
    }
   ],
   "source": [
    "accuracy_scores, precision_scores, recall_scores,f1_scores"
   ]
  },
  {
   "cell_type": "markdown",
   "id": "bc10919c",
   "metadata": {},
   "source": [
    "# Discussion\n",
    "\n",
    "- We find that GaussianNB performs better on this data because the features are almost normally distributed  with a right skew, but still best suited for GaussianNB compared to other models\n",
    "\n",
    "- MultinomialNB also has a good performance as we are using text data to train out model\n",
    "\n",
    "- BernoulliNB doesnt perform well because it is designed for binomial data"
   ]
  },
  {
   "cell_type": "markdown",
   "id": "cdd99e26",
   "metadata": {},
   "source": [
    "## Conclusion\n",
    "\n",
    "    GaussianNB is better suited for this particular dataset with an accuracy score of 0.9665003985245324 which is highest of all the three models"
   ]
  }
 ],
 "metadata": {
  "kernelspec": {
   "display_name": "Python 3 (ipykernel)",
   "language": "python",
   "name": "python3"
  },
  "language_info": {
   "codemirror_mode": {
    "name": "ipython",
    "version": 3
   },
   "file_extension": ".py",
   "mimetype": "text/x-python",
   "name": "python",
   "nbconvert_exporter": "python",
   "pygments_lexer": "ipython3",
   "version": "3.10.0"
  }
 },
 "nbformat": 4,
 "nbformat_minor": 5
}
