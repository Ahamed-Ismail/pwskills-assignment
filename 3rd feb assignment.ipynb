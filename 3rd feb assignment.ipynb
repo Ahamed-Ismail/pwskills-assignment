{
 "cells": [
  {
   "cell_type": "markdown",
   "id": "1a5da74d",
   "metadata": {},
   "source": [
    "## Q1. Which keyword is used to create a function? Create a function to return a list of odd numbers in the range of 1 to 25.\n",
    "\n",
    "The \"def\" keyword is used to create a function in Python."
   ]
  },
  {
   "cell_type": "code",
   "execution_count": 1,
   "id": "d2c98679",
   "metadata": {},
   "outputs": [
    {
     "data": {
      "text/plain": [
       "[1, 3, 5, 7, 9, 11, 13, 15, 17, 19, 21, 23, 25]"
      ]
     },
     "execution_count": 1,
     "metadata": {},
     "output_type": "execute_result"
    }
   ],
   "source": [
    "def odd_numbers():\n",
    "    odd_numbers = []\n",
    "    for i in range(1, 26):\n",
    "        if i % 2 != 0:\n",
    "            odd_numbers.append(i)\n",
    "    return odd_numbers\n",
    "odd_numbers()"
   ]
  },
  {
   "cell_type": "markdown",
   "id": "8917ed65",
   "metadata": {},
   "source": [
    "## Q2. Why *args and **kwargs is used in some functions? Create a function each for *args and **kwargs to demonstrate their use.\n",
    "\n",
    "In Python, *args and **kwargs are special syntax used in function definitions to pass a variable number of arguments to a function.\n",
    "\n",
    "The *args syntax is used to pass a variable number of non-keyworded arguments to a function. These arguments are passed as a tuple and can be accessed by their index. \n",
    "\n",
    "The **kwargs syntax is used to pass a variable number of keyworded arguments to a function. These arguments are passed as a dictionary and can be accessed by their keys. "
   ]
  },
  {
   "cell_type": "code",
   "execution_count": 7,
   "id": "e7508953",
   "metadata": {},
   "outputs": [
    {
     "name": "stdout",
     "output_type": "stream",
     "text": [
      "*args:  [1, 2, 3, 4, 5]\n",
      "*kwargs:  {'name': 'John', 'age': 30, 'occupation': 'Engineer'}\n"
     ]
    }
   ],
   "source": [
    "def sum_numbers(*args):   #*args\n",
    "    lst=[]\n",
    "    for num in args:\n",
    "        lst.append(num)\n",
    "    return lst\n",
    "\n",
    "print(\"*args: \",sum_numbers(1, 2, 3, 4, 5))  \n",
    "\n",
    "\n",
    "def print_info(**kwargs):\n",
    "    return kwargs\n",
    "\n",
    "print(\"*kwargs: \",print_info(name=\"John\", age=30, occupation=\"Engineer\"))\n"
   ]
  },
  {
   "cell_type": "markdown",
   "id": "025f0d43",
   "metadata": {},
   "source": [
    "## Q3. What is an iterator in python? Name the method used to initialise the iterator object and the method used for iteration. Use these methods to print the first five elements of the given list [2, 4, 6, 8, 10, 12, 14, 16,18, 20].\n",
    "\n",
    "In Python, an iterator is an object that enables iteration over a sequence of values, one at a time. It allows you to iterate over a collection of elements such as a list, tuple, set, or dictionary, without needing to know the specific implementation details of the collection.\n",
    "\n",
    "To initialize an iterator object in Python, you can use the iter() function. The iter() function takes an iterable as an argument and returns an iterator object. You can then use the next() function to retrieve the next element in the iterator sequence."
   ]
  },
  {
   "cell_type": "code",
   "execution_count": 8,
   "id": "fbeb4d3e",
   "metadata": {},
   "outputs": [
    {
     "name": "stdout",
     "output_type": "stream",
     "text": [
      "2\n",
      "4\n",
      "6\n",
      "8\n",
      "10\n"
     ]
    }
   ],
   "source": [
    "my_list = [2, 4, 6, 8, 10, 12, 14, 16, 18, 20]\n",
    "my_iterator = iter(my_list)\n",
    "\n",
    "print(next(my_iterator))\n",
    "print(next(my_iterator))\n",
    "print(next(my_iterator))\n",
    "print(next(my_iterator))\n",
    "print(next(my_iterator))\n"
   ]
  },
  {
   "cell_type": "markdown",
   "id": "19774bc8",
   "metadata": {},
   "source": [
    "## Q4. What is a generator function in python? Why yield keyword is used? Give an example of a generator function.\n",
    "\n",
    "In Python, a generator function is a special type of function that uses the yield keyword to return an iterator object that can be iterated over. When a generator function is called, it returns a generator object, which can be used to generate a sequence of values on-the-fly, one at a time, without needing to generate the entire sequence at once.\n",
    "\n",
    "The yield keyword is used in a generator function to yield a value to the caller, while also pausing the execution of the function. When the function is called again, it resumes execution from where it left off, rather than starting over from the beginning"
   ]
  },
  {
   "cell_type": "code",
   "execution_count": 9,
   "id": "c6172c64",
   "metadata": {},
   "outputs": [
    {
     "name": "stdout",
     "output_type": "stream",
     "text": [
      "0\n",
      "2\n",
      "4\n",
      "6\n",
      "8\n"
     ]
    }
   ],
   "source": [
    "def generate_even_numbers():\n",
    "    n = 0\n",
    "    while True:\n",
    "        yield n\n",
    "        n += 2\n",
    "\n",
    "even_numbers = generate_even_numbers()\n",
    "\n",
    "print(next(even_numbers))\n",
    "print(next(even_numbers))\n",
    "print(next(even_numbers))\n",
    "print(next(even_numbers))\n",
    "print(next(even_numbers))\n"
   ]
  },
  {
   "cell_type": "markdown",
   "id": "0a6e45be",
   "metadata": {},
   "source": [
    "## Q5. Create a generator function for prime numbers less than 1000. Use the next() method to print the first 20 prime numbers."
   ]
  },
  {
   "cell_type": "code",
   "execution_count": 17,
   "id": "bf5b9305",
   "metadata": {},
   "outputs": [
    {
     "name": "stdout",
     "output_type": "stream",
     "text": [
      "2\n",
      "3\n",
      "5\n",
      "7\n",
      "11\n",
      "13\n",
      "17\n",
      "19\n",
      "23\n",
      "29\n",
      "31\n",
      "37\n",
      "41\n",
      "43\n",
      "47\n",
      "53\n",
      "59\n",
      "61\n",
      "67\n",
      "71\n"
     ]
    }
   ],
   "source": [
    "def generate_primes():\n",
    "    yield 2    \n",
    "    n = 3\n",
    "    while n < 1000:\n",
    "        is_prime = True        \n",
    "        for i in range(2, n):\n",
    "            if n % i == 0:\n",
    "                is_prime = False\n",
    "                break                \n",
    "        if is_prime:\n",
    "            yield n\n",
    "            \n",
    "        n += 2\n",
    "prime=generate_primes()\n",
    "for i in range(20):\n",
    "    print(next(prime))"
   ]
  }
 ],
 "metadata": {
  "kernelspec": {
   "display_name": "Python 3 (ipykernel)",
   "language": "python",
   "name": "python3"
  },
  "language_info": {
   "codemirror_mode": {
    "name": "ipython",
    "version": 3
   },
   "file_extension": ".py",
   "mimetype": "text/x-python",
   "name": "python",
   "nbconvert_exporter": "python",
   "pygments_lexer": "ipython3",
   "version": "3.10.0"
  }
 },
 "nbformat": 4,
 "nbformat_minor": 5
}
