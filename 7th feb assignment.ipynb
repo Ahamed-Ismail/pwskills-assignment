{
 "cells": [
  {
   "cell_type": "markdown",
   "id": "a5a28573",
   "metadata": {},
   "source": [
    "## Q1. You are writing code for a company. The requirement of the company is that you create a python function that will check whether the password entered by the user is correct or not. The function should take the password as input and return the string “Valid Password” if the entered password follows the below-given password guidelines else it should return “Invalid Password”.\n",
    "## Note: 1. The Password should contain at least two uppercase letters and at least two lowercase letters.\n",
    "## 2. The Password should contain at least a number and three special characters.\n",
    "## 3. The length of the password should be 10 characters long."
   ]
  },
  {
   "cell_type": "code",
   "execution_count": 2,
   "id": "52e8ba9c",
   "metadata": {},
   "outputs": [
    {
     "name": "stdout",
     "output_type": "stream",
     "text": [
      "Enter password: ajsh12###AAA\n",
      "Valid Password\n"
     ]
    }
   ],
   "source": [
    "def check(s):\n",
    "    upper=0\n",
    "    lower=0\n",
    "    flagnum=False\n",
    "    sp=0\n",
    "    if len(s)<10:\n",
    "        return 'Invalid Password'\n",
    "    for i in s:\n",
    "        if i.isupper():\n",
    "            upper+=1\n",
    "        elif i.islower():\n",
    "            lower+=1\n",
    "        elif (not flagnum) and i.isnumeric():\n",
    "            flagnum=True\n",
    "        elif not i.isalnum():\n",
    "            sp+=1\n",
    "    if (upper>=2 and lower>=2 and flagnum and sp>=0):\n",
    "        return 'Valid Password'\n",
    "    return 'Invalid Password'\n",
    "\n",
    "print(check(input(\"Enter password: \")))\n",
    "        "
   ]
  },
  {
   "cell_type": "markdown",
   "id": "c3141b81",
   "metadata": {},
   "source": [
    "## Q2. Solve the below-given questions using at least one of the following:\n",
    "1. Lambda function\n",
    "2. Filter function\n",
    "3. Map function\n",
    "4. List Comprehension\n",
    "\n",
    " Check if the string starts with a particular letter\n",
    " \n",
    " Check if the string is numeric\n",
    "\n",
    " Sort a list of tuples having fruit names and their quantity. [(\"mango\",99),(\"orange\",80), (\"grapes\", 1000)-\n",
    "\n",
    " Find the squares of numbers from 1 to 10\n",
    "\n",
    " Find the cube root of numbers from 1 to 10\n",
    "\n",
    " Check if a given number is even\n",
    "\n",
    " Filter odd numbers from the given list.\n",
    "[1,2,3,4,5,6,7,8,9,10-\n",
    "\n",
    " Sort a list of integers into positive and negative integers lists.\n",
    "[1,2,3,4,5,6,-1,-2,-3,-4,-5,0]"
   ]
  },
  {
   "cell_type": "code",
   "execution_count": 12,
   "id": "0a3475dc",
   "metadata": {},
   "outputs": [
    {
     "name": "stdout",
     "output_type": "stream",
     "text": [
      "True\n",
      "False\n"
     ]
    }
   ],
   "source": [
    "x=lambda a,b:  a[0]==b  #Check if the string starts with a particular letter\n",
    "print(x('hello','h'))\n",
    "print(x('hello','a'))"
   ]
  },
  {
   "cell_type": "code",
   "execution_count": 13,
   "id": "a8afc1d8",
   "metadata": {},
   "outputs": [
    {
     "name": "stdout",
     "output_type": "stream",
     "text": [
      "True\n",
      "False\n"
     ]
    }
   ],
   "source": [
    "x=lambda a: a.isnumeric()  #Check if the string is numeric\n",
    "print(x('40832039480238'))\n",
    "print(x('odhfdh'))"
   ]
  },
  {
   "cell_type": "code",
   "execution_count": 17,
   "id": "6022df96",
   "metadata": {},
   "outputs": [
    {
     "name": "stdout",
     "output_type": "stream",
     "text": [
      "[('orange', 80), ('mango', 99), ('grapes', 1000)]\n"
     ]
    }
   ],
   "source": [
    "x=lambda lst: sorted(lst,key=lambda x:x[1])   #Sort a list of tuples having fruit names and their quantity. [(\"mango\",99),(\"orange\",80), (\"grapes\", 1000)\n",
    "print(x([(\"mango\",99),(\"orange\",80), (\"grapes\", 1000)]))"
   ]
  },
  {
   "cell_type": "code",
   "execution_count": 26,
   "id": "594630a8",
   "metadata": {},
   "outputs": [
    {
     "name": "stdout",
     "output_type": "stream",
     "text": [
      "1 4 9 16 25 36 49 64 81 100 "
     ]
    }
   ],
   "source": [
    "def sq(n):    #Find the squares of numbers from 1 to 10\n",
    "    return n*n\n",
    "lst=[1,2,3,4,5,6]\n",
    "for i in map(sq,[1,2,3,4,5,6,7,8,9,10]):\n",
    "    print(i,end=\" \")"
   ]
  },
  {
   "cell_type": "code",
   "execution_count": 29,
   "id": "81f5cd3c",
   "metadata": {},
   "outputs": [
    {
     "name": "stdout",
     "output_type": "stream",
     "text": [
      "1 8 27 64 125 216 343 512 729 1000 "
     ]
    }
   ],
   "source": [
    "def cube(n):   #Find the cube root of numbers from 1 to 10\n",
    "    return n*n*n\n",
    "for i in map(cube,range(1,11)):\n",
    "    print(i,end=\" \")"
   ]
  },
  {
   "cell_type": "code",
   "execution_count": 36,
   "id": "cb3399a7",
   "metadata": {},
   "outputs": [
    {
     "name": "stdout",
     "output_type": "stream",
     "text": [
      "Even\n",
      "Odd\n",
      "Odd\n",
      "Even\n",
      "Even\n"
     ]
    }
   ],
   "source": [
    "x=lambda a: a%2==0   #Check if a given number is even\n",
    "\n",
    "for i in map(x,[2,5,3,4,6]):\n",
    "    print('Even') if i==True else print('Odd')"
   ]
  },
  {
   "cell_type": "code",
   "execution_count": 40,
   "id": "d2e3f639",
   "metadata": {},
   "outputs": [
    {
     "name": "stdout",
     "output_type": "stream",
     "text": [
      "5\n",
      "3\n"
     ]
    }
   ],
   "source": [
    "lst=filter(lambda a: a%2==1, [2,5,3,4,6])   #Filter odd numbers from the given list. [1,2,3,4,5,6,7,8,9,10]\n",
    "for i in lst:\n",
    "    print(i)"
   ]
  },
  {
   "cell_type": "code",
   "execution_count": 42,
   "id": "021cd2ff",
   "metadata": {},
   "outputs": [
    {
     "name": "stdout",
     "output_type": "stream",
     "text": [
      "[1, 2, 3, 4, 5, 6, 0]\n",
      "[-1, -2, -3, -4, -5]\n"
     ]
    }
   ],
   "source": [
    "lst=[1,2,3,4,5,6,-1,-2,-3,-4,-5,0]  #Sort a list of integers into positive and negative integers lists. [1,2,3,4,5,6,-1,-2,-3,-4,-5,0]\n",
    "pos_lst=[i for i in lst if i>=0]\n",
    "neg_lst=[i for i in lst if i<0]\n",
    "print(pos_lst)\n",
    "print(neg_lst)"
   ]
  }
 ],
 "metadata": {
  "kernelspec": {
   "display_name": "Python 3 (ipykernel)",
   "language": "python",
   "name": "python3"
  },
  "language_info": {
   "codemirror_mode": {
    "name": "ipython",
    "version": 3
   },
   "file_extension": ".py",
   "mimetype": "text/x-python",
   "name": "python",
   "nbconvert_exporter": "python",
   "pygments_lexer": "ipython3",
   "version": "3.10.0"
  }
 },
 "nbformat": 4,
 "nbformat_minor": 5
}
