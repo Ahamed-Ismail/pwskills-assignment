{
 "cells": [
  {
   "cell_type": "markdown",
   "id": "97f7ad9f",
   "metadata": {},
   "source": [
    "## Q1. What is multithreading in python? Why is it used? Name the module used to handle threads in python\n",
    "\n",
    "Multithreading in Python refers to the concurrent execution of multiple threads within a single process. A thread is a lightweight sub-process that can be scheduled and managed independently by the operating system. Multithreading allows you to perform multiple tasks concurrently, potentially improving the efficiency and responsiveness of your program.\n",
    "To handle threads in Python, you can import and use the threading module."
   ]
  },
  {
   "cell_type": "markdown",
   "id": "b4cc4a15",
   "metadata": {},
   "source": [
    "## Q2. Why threading module used? Write the use of the following functions\n",
    "## 1. activeCount()\n",
    "## 2. currentThread()\n",
    "## 3. enumerate()\n",
    "\n",
    "The threading module in Python is used to handle threads and provides a high-level interface for working with threads. It offers various functions and methods to create, manage, and synchronize threads. \n",
    "\n",
    "1. activeCount(): This function is used to obtain the number of currently active threads in the program. It returns the count of Thread objects currently alive. It can be useful to keep track of the number of threads running at any given point in time.\n",
    "2. currentThread(): This function returns the Thread object corresponding to the currently executing thread. It allows you to obtain a reference to the current thread and access its attributes or perform operations on it\n",
    "3. enumerate(): The enumerate() function returns a list of all currently active Thread objects. It provides a convenient way to iterate over all the threads in your program and perform operations on them collectively. "
   ]
  },
  {
   "cell_type": "markdown",
   "id": "e79ae113",
   "metadata": {},
   "source": [
    "## 3. Explain the following functions\n",
    "## 1. run()\n",
    "## 2. start()\n",
    "## 3. join()\n",
    "## 4. isAlive()\n",
    "\n",
    "1. run(): The run() method is defined in the Thread class and contains the code that will be executed when a thread starts. You can override this method in a subclass to define the specific behavior of the thread.\n",
    "2. start(): The start() method is used to start a thread by invoking its run() method. It initializes the thread's internal data structures, creates the thread, and schedules it for execution. Once start() is called, the thread's run() method will be invoked in a separate thread of execution. \n",
    "3. join(): The join() method is used to wait for a thread to complete its execution. When a thread is joined, the calling thread will block until the joined thread finishes. This is useful when you want to ensure that the main thread waits for all other threads to finish before exiting the program. \n",
    "4. isAlive(): The isAlive() method is used to check whether a thread is currently executing or not. It returns a boolean value indicating the thread's status. If the thread is currently active and running, isAlive() will return True; otherwise, it will return False"
   ]
  },
  {
   "cell_type": "markdown",
   "id": "839a0d98",
   "metadata": {},
   "source": [
    "## 4. Write a python program to create two threads. Thread one must print the list of squares and thread two must print the list of cubes"
   ]
  },
  {
   "cell_type": "code",
   "execution_count": 7,
   "id": "a6a449b5",
   "metadata": {},
   "outputs": [],
   "source": [
    "import threading\n",
    "import time\n",
    "\n",
    "def square():\n",
    "    for i in range(1,11):\n",
    "        print(\"square of \",i,\" : \",i*i)\n",
    "        time.sleep(1)\n",
    "def cube():\n",
    "    for i in range(1,11):\n",
    "        print(\"cube of \",i,\" : \",i**3)\n",
    "        time.sleep(1)"
   ]
  },
  {
   "cell_type": "code",
   "execution_count": 12,
   "id": "3eda0cff",
   "metadata": {},
   "outputs": [],
   "source": [
    "thread_sq=threading.Thread(target=square) \n",
    "thread_cu=threading.Thread(target=cube) "
   ]
  },
  {
   "cell_type": "code",
   "execution_count": 13,
   "id": "36ede4ba",
   "metadata": {},
   "outputs": [
    {
     "name": "stdout",
     "output_type": "stream",
     "text": [
      "square of  1  :  1\n",
      "square of  2  :  4\n",
      "square of  3  :  9\n",
      "square of  4  :  16\n",
      "square of  5  :  25\n",
      "square of  6  :  36\n",
      "square of  7  :  49\n",
      "square of  8  :  64\n",
      "square of  9  :  81\n",
      "square of  10  :  100\n",
      "cube of  1  :  1\n",
      "cube of  2  :  8\n",
      "cube of  3  :  27\n",
      "cube of  4  :  64\n",
      "cube of  5  :  125\n",
      "cube of  6  :  216\n",
      "cube of  7  :  343\n",
      "cube of  8  :  512\n",
      "cube of  9  :  729\n",
      "cube of  10  :  1000\n",
      "square of cube of  3  :  27\n",
      " 3  :  9\n",
      "square of cube of  4  :  64\n",
      " 4  :  16\n",
      "square of cube of  5  :  125\n",
      " 5  :  25\n",
      "square of cube of  6  :  216\n",
      " 6  :  36\n",
      "cube of square of  7  :  49\n",
      " 7  :  343\n",
      "cube of square of  8  :  64\n",
      " 8  :  512\n",
      "square of cube of  9  :  729\n",
      " 9  :  81\n",
      "square of cube of  10  :  1000\n",
      " 10  :  100\n"
     ]
    }
   ],
   "source": [
    "thread_sq.start()\n",
    "thread_sq.join()\n",
    "thread_cu.start()\n",
    "thread_cu.join()"
   ]
  },
  {
   "cell_type": "markdown",
   "id": "eef7c940",
   "metadata": {},
   "source": [
    "## Q5. State advantages and disadvantages of multithreading\n",
    "\n",
    "### Advantages\n",
    "Improved Performance: Multithreading can enhance the performance of a program by utilizing multiple threads to execute tasks concurrently. It allows for efficient utilization of system resources, such as CPU cores, and can lead to faster execution times for certain types of applications.\n",
    "\n",
    "Responsiveness: Multithreading enables programs to remain responsive even when performing time-consuming operations. By running lengthy tasks in separate threads, the main thread can continue to handle user input and provide a smooth user experience.\n",
    "\n",
    "Resource Sharing: Threads within a process can share resources such as memory, files, and network connections more easily than separate processes. This allows for efficient communication and data sharing between different parts of a program.\n",
    "\n",
    "### Disadvantages\n",
    "Complexity: Multithreaded programming introduces additional complexity compared to single-threaded programs. Synchronization and coordination between threads need to be carefully managed to prevent issues such as race conditions, deadlocks, and data inconsistencies.\n",
    "\n",
    "Difficult Debugging: Debugging multithreaded programs can be challenging due to the non-deterministic nature of thread scheduling. Issues like race conditions and thread synchronization bugs can be hard to reproduce and debug, making it more difficult to identify and fix problems.\n",
    "\n",
    "Increased Memory Consumption: Each thread in a program requires its own stack and thread-specific data structures. As a result, multithreading can increase memory consumption, especially when creating a large number of threads."
   ]
  },
  {
   "cell_type": "markdown",
   "id": "64ccd503",
   "metadata": {},
   "source": [
    "## Q6. Explain deadlocks and race conditions.\n",
    "\n",
    "1. Deadlocks:\n",
    "   A deadlock occurs when two or more threads are waiting indefinitely for each other to release resources, resulting in a program freeze or deadlock state. Deadlocks typically occur in situations where multiple threads compete for limited resources, and each thread holds a resource while waiting to acquire another resource held by another thread. This circular dependency prevents any thread from making progress, leading to a deadlock.\n",
    "\n",
    "2. Race Conditions:\n",
    "   A race condition occurs when two or more threads access shared data or resources concurrently, and the final outcome of the program depends on the timing or order of their execution. Race conditions arise when threads perform operations on shared data without proper synchronization or coordination, leading to unpredictable and incorrect results."
   ]
  }
 ],
 "metadata": {
  "kernelspec": {
   "display_name": "Python 3 (ipykernel)",
   "language": "python",
   "name": "python3"
  },
  "language_info": {
   "codemirror_mode": {
    "name": "ipython",
    "version": 3
   },
   "file_extension": ".py",
   "mimetype": "text/x-python",
   "name": "python",
   "nbconvert_exporter": "python",
   "pygments_lexer": "ipython3",
   "version": "3.10.0"
  }
 },
 "nbformat": 4,
 "nbformat_minor": 5
}
