{
 "cells": [
  {
   "cell_type": "code",
   "execution_count": 1,
   "id": "efcd7f1f",
   "metadata": {},
   "outputs": [],
   "source": [
    "import pandas as pd"
   ]
  },
  {
   "cell_type": "markdown",
   "id": "f26169b7",
   "metadata": {},
   "source": [
    "## Q1. Create a Pandas Series that contains the following data: 4, 8, 15, 16, 23, and 42. Then, print the series."
   ]
  },
  {
   "cell_type": "code",
   "execution_count": 4,
   "id": "ad03758f",
   "metadata": {},
   "outputs": [
    {
     "name": "stdout",
     "output_type": "stream",
     "text": [
      "0     4\n",
      "1     8\n",
      "2    15\n",
      "3    16\n",
      "4    23\n",
      "5    42\n",
      "dtype: int64\n"
     ]
    }
   ],
   "source": [
    "se1=pd.Series([4,8,15,16,23,42])\n",
    "print(se1)"
   ]
  },
  {
   "cell_type": "markdown",
   "id": "f25d1012",
   "metadata": {},
   "source": [
    "## Q2. Create a variable of list type containing 10 elements in it, and apply pandas.Series function on the variable print it."
   ]
  },
  {
   "cell_type": "code",
   "execution_count": 5,
   "id": "3e5ad1b2",
   "metadata": {},
   "outputs": [
    {
     "name": "stdout",
     "output_type": "stream",
     "text": [
      "0     1\n",
      "1     2\n",
      "2     3\n",
      "3     4\n",
      "4     5\n",
      "5     6\n",
      "6     7\n",
      "7     8\n",
      "8     9\n",
      "9    10\n",
      "dtype: int64\n"
     ]
    }
   ],
   "source": [
    "lst=[1,2,3,4,5,6,7,8,9,10]\n",
    "se2=pd.Series(lst)\n",
    "print(se2)"
   ]
  },
  {
   "cell_type": "markdown",
   "id": "9a8ce475",
   "metadata": {},
   "source": [
    "## Q3. Create a Pandas DataFrame that contains the following data: Then, print the DataFrame."
   ]
  },
  {
   "cell_type": "code",
   "execution_count": 6,
   "id": "b4f41d09",
   "metadata": {},
   "outputs": [
    {
     "data": {
      "text/html": [
       "<div>\n",
       "<style scoped>\n",
       "    .dataframe tbody tr th:only-of-type {\n",
       "        vertical-align: middle;\n",
       "    }\n",
       "\n",
       "    .dataframe tbody tr th {\n",
       "        vertical-align: top;\n",
       "    }\n",
       "\n",
       "    .dataframe thead th {\n",
       "        text-align: right;\n",
       "    }\n",
       "</style>\n",
       "<table border=\"1\" class=\"dataframe\">\n",
       "  <thead>\n",
       "    <tr style=\"text-align: right;\">\n",
       "      <th></th>\n",
       "      <th>Name</th>\n",
       "      <th>Age</th>\n",
       "      <th>Gender</th>\n",
       "    </tr>\n",
       "  </thead>\n",
       "  <tbody>\n",
       "    <tr>\n",
       "      <th>0</th>\n",
       "      <td>Alice</td>\n",
       "      <td>25</td>\n",
       "      <td>Female</td>\n",
       "    </tr>\n",
       "    <tr>\n",
       "      <th>1</th>\n",
       "      <td>Bob</td>\n",
       "      <td>30</td>\n",
       "      <td>Male</td>\n",
       "    </tr>\n",
       "    <tr>\n",
       "      <th>2</th>\n",
       "      <td>Claire</td>\n",
       "      <td>27</td>\n",
       "      <td>Female</td>\n",
       "    </tr>\n",
       "  </tbody>\n",
       "</table>\n",
       "</div>"
      ],
      "text/plain": [
       "     Name  Age  Gender\n",
       "0   Alice   25  Female\n",
       "1     Bob   30    Male\n",
       "2  Claire   27  Female"
      ]
     },
     "execution_count": 6,
     "metadata": {},
     "output_type": "execute_result"
    }
   ],
   "source": [
    "df1=pd.DataFrame({'Name':['Alice','Bob','Claire'], 'Age':[25,30,27],'Gender':['Female','Male','Female']})\n",
    "df1"
   ]
  },
  {
   "cell_type": "markdown",
   "id": "007e569d",
   "metadata": {},
   "source": [
    "## Q4. What is ‘DataFrame’ in pandas and how is it different from pandas.series? Explain with an example.\n",
    "\n",
    "In pandas, a DataFrame is a two-dimensional tabular data structure consisting of rows and columns, similar to a table in a relational database or a spreadsheet. It is a fundamental object in pandas and is designed to handle and analyze data efficiently. The DataFrame can hold various types of data, such as integers, floats, strings, and more.\n",
    "\n",
    "On the other hand, a Series is a one-dimensional labeled array in pandas. It can be thought of as a single column of data from a DataFrame. Each element in a Series has a unique label called an index, which allows for easy and efficient data access."
   ]
  },
  {
   "cell_type": "code",
   "execution_count": 10,
   "id": "72364388",
   "metadata": {},
   "outputs": [
    {
     "name": "stdout",
     "output_type": "stream",
     "text": [
      "     Name  Age  Gender\n",
      "0   Alice   25  Female\n",
      "1     Bob   30    Male\n",
      "2  Claire   27  Female \n",
      "\n",
      "0     Alice\n",
      "1       Bob\n",
      "2    Claire\n",
      "dtype: object\n"
     ]
    }
   ],
   "source": [
    "df=pd.DataFrame({'Name':['Alice','Bob','Claire'], 'Age':[25,30,27],'Gender':['Female','Male','Female']}) #Dataframe\n",
    "print(df,'\\n')\n",
    "se=pd.Series(['Alice','Bob','Claire'])  #Series\n",
    "print(se)"
   ]
  },
  {
   "cell_type": "markdown",
   "id": "1b77a675",
   "metadata": {},
   "source": [
    "## Q5. What are some common functions you can use to manipulate data in a Pandas DataFrame? Can you give an example of when you might use one of these functions?\n",
    "\n",
    "Pandas provides a wide range of functions to manipulate and transform data in a DataFrame. Here are some common functions that are frequently used:\n",
    "\n",
    "1. **head() and tail()**: These functions allow you to view the first or last few rows of a DataFrame, respectively. They are useful for quickly inspecting the data.\n",
    "\n",
    "\n",
    "2. **info()**: This function provides a summary of the DataFrame, including the data types, column names, and non-null values. It helps in understanding the structure of the data.\n",
    "\n",
    "\n",
    "3. **describe()**: This function generates descriptive statistics of the numerical columns in the DataFrame, such as count, mean, standard deviation, minimum, maximum, and quartile values.\n",
    "\n",
    "\n",
    "4. **sort_values()**: This function allows you to sort the DataFrame based on one or more columns. It is useful for organizing the data in a specific order.\n",
    "\n",
    "\n",
    "5. **groupby()**: This function enables you to group the data based on one or more columns and perform aggregation or analysis on the grouped data. It is often used with aggregate functions like `sum()`, `mean()`, `count()`, etc.\n"
   ]
  },
  {
   "cell_type": "markdown",
   "id": "e25d34e9",
   "metadata": {},
   "source": [
    "## Q6. Which of the following is mutable in nature Series, DataFrame, Panel? \n",
    "\n",
    "\n",
    "\n",
    "In pandas, both Series and DataFrame are mutable in nature, whereas Panel is not.\n",
    "\n",
    "A mutable object is one that can be modified after it is created. In the case of pandas, it means that you can change the values, add or remove elements, or modify the structure of a mutable object.\n",
    "\n",
    "Series:\n",
    "A Series is mutable because you can modify its values or assign new values to specific elements using indexing or slicing operations.\n",
    "\n",
    "DataFrame:\n",
    "A DataFrame is mutable as well. You can modify the values in individual cells, add or remove columns or rows, and perform various operations to alter the structure or content of the DataFrame.\n",
    "\n",
    "Panel:\n",
    "A Panel, on the other hand, is an advanced data structure in pandas that represents three-dimensional data. However, as of pandas version 1.0.0, the Panel object is deprecated and is no longer recommended for general use. Instead, it is recommended to use other data structures like DataFrame or MultiIndex DataFrame to handle multi-dimensional data."
   ]
  },
  {
   "cell_type": "markdown",
   "id": "316b165d",
   "metadata": {},
   "source": [
    "## Q7. Create a DataFrame using multiple Series. Explain with an example.\n",
    "\n",
    "To create a DataFrame using multiple Series, you can combine the Series objects using the pd.DataFrame() constructor provided by pandas. Each Series will represent a column in the resulting DataFram"
   ]
  },
  {
   "cell_type": "code",
   "execution_count": 11,
   "id": "322b6274",
   "metadata": {},
   "outputs": [
    {
     "name": "stdout",
     "output_type": "stream",
     "text": [
      "    Name  Age      City\n",
      "0   John   25  New York\n",
      "1  Alice   30    London\n",
      "2    Bob   35     Paris\n"
     ]
    }
   ],
   "source": [
    "import pandas as pd\n",
    "\n",
    "\n",
    "name_series = pd.Series(['John', 'Alice', 'Bob'])\n",
    "\n",
    "age_series = pd.Series([25, 30, 35])\n",
    "\n",
    "city_series = pd.Series(['New York', 'London', 'Paris'])\n",
    "\n",
    "df = pd.DataFrame({'Name': name_series, 'Age': age_series, 'City': city_series})\n",
    "\n",
    "print(df)\n"
   ]
  }
 ],
 "metadata": {
  "kernelspec": {
   "display_name": "Python 3 (ipykernel)",
   "language": "python",
   "name": "python3"
  },
  "language_info": {
   "codemirror_mode": {
    "name": "ipython",
    "version": 3
   },
   "file_extension": ".py",
   "mimetype": "text/x-python",
   "name": "python",
   "nbconvert_exporter": "python",
   "pygments_lexer": "ipython3",
   "version": "3.10.0"
  }
 },
 "nbformat": 4,
 "nbformat_minor": 5
}
