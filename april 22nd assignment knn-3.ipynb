{
 "cells": [
  {
   "cell_type": "code",
   "execution_count": 1,
   "id": "d686d10c",
   "metadata": {},
   "outputs": [],
   "source": [
    "import pandas as pd\n",
    "import numpy as np\n",
    "from sklearn import datasets\n",
    "from sklearn.preprocessing import StandardScaler\n",
    "from sklearn.model_selection import train_test_split\n",
    "from sklearn.metrics import accuracy_score\n",
    "from sklearn.neighbors import KNeighborsClassifier"
   ]
  },
  {
   "cell_type": "code",
   "execution_count": 18,
   "id": "b0992457",
   "metadata": {},
   "outputs": [],
   "source": [
    "import warnings\n",
    "warnings.filterwarnings('ignore')"
   ]
  },
  {
   "cell_type": "markdown",
   "id": "fded9e5b",
   "metadata": {},
   "source": [
    "## Q1. Write a Python code to implement the KNN classifier algorithm on load_iris dataset in sklearn.datasets."
   ]
  },
  {
   "cell_type": "code",
   "execution_count": 45,
   "id": "02fb7eed",
   "metadata": {},
   "outputs": [
    {
     "name": "stdout",
     "output_type": "stream",
     "text": [
      "Accuracy:  0.9811320754716981\n"
     ]
    }
   ],
   "source": [
    "\n",
    "\n",
    "x=datasets.load_iris().data\n",
    "y=datasets.load_iris().target\n",
    "\n",
    "xtrain,xtest,ytrain,ytest=train_test_split(x,y,test_size=0.35, random_state=42)\n",
    "\n",
    "scaler=StandardScaler()\n",
    "xtrain=scaler.fit_transform(xtrain)\n",
    "xtest=scaler.transform(xtest)\n",
    "\n",
    "model=KNeighborsClassifier()\n",
    "model.fit(xtrain,ytrain)\n",
    "\n",
    "ypred=model.predict(xtest)\n",
    "\n",
    "print(\"Accuracy: \",accuracy_score(ytest,ypred))"
   ]
  },
  {
   "cell_type": "markdown",
   "id": "fe62bdcc",
   "metadata": {},
   "source": [
    "## Q2. Write a Python code to implement the KNN regressor algorithm on load_boston dataset in sklearn.datasets."
   ]
  },
  {
   "cell_type": "code",
   "execution_count": 36,
   "id": "f25f4465",
   "metadata": {
    "scrolled": true
   },
   "outputs": [
    {
     "name": "stdout",
     "output_type": "stream",
     "text": [
      "Accuracy:  0.9833333333333333\n"
     ]
    }
   ],
   "source": [
    "from sklearn.datasets import fetch_openml\n",
    "\n",
    "boston = fetch_openml(name='boston', version=1)\n",
    "\n",
    "x = boston.data\n",
    "y = boston.target\n",
    "\n",
    "x=datasets.load_iris().data\n",
    "y=datasets.load_iris().target\n",
    "\n",
    "xtrain,xtest,ytrain,ytest=train_test_split(x,y,test_size=0.40, random_state=42)\n",
    "\n",
    "\n",
    "\n",
    "model=KNeighborsClassifier()\n",
    "model.fit(xtrain,ytrain)\n",
    "\n",
    "ypred=model.predict(xtest)\n",
    "\n",
    "print(\"Accuracy: \",accuracy_score(ytest,ypred))"
   ]
  },
  {
   "cell_type": "markdown",
   "id": "66244ef5",
   "metadata": {},
   "source": [
    "## Q3. Write a Python code snippet to find the optimal value of K for the KNN classifier algorithm using cross-validation on load_iris dataset in sklearn.datasets."
   ]
  },
  {
   "cell_type": "code",
   "execution_count": 35,
   "id": "77a6c1c6",
   "metadata": {},
   "outputs": [
    {
     "name": "stdout",
     "output_type": "stream",
     "text": [
      "Best k values is 3 with accuracy 0.9428571428571428\n"
     ]
    }
   ],
   "source": [
    "from sklearn.model_selection import cross_val_score\n",
    "\n",
    "x=datasets.load_iris().data\n",
    "y=datasets.load_iris().target\n",
    "\n",
    "xtrain,xtest,ytrain,ytest=train_test_split(x,y,test_size=0.30, random_state=42)\n",
    "\n",
    "scaler=StandardScaler()\n",
    "xtrain=scaler.fit_transform(xtrain)\n",
    "xtest=scaler.transform(xtest)\n",
    "\n",
    "k=list(range(1,30))\n",
    "final_score=[]\n",
    "\n",
    "for i in k:\n",
    "    score=cross_val_score(KNeighborsClassifier(n_neighbors=i), xtrain, ytrain, cv=5, scoring='accuracy')\n",
    "    final_score.append(score.mean())\n",
    "\n",
    "print(f\"Best k values is {k[final_score.index(max(final_score))]} with accuracy {max(final_score)}\")"
   ]
  },
  {
   "cell_type": "markdown",
   "id": "aa40aa4d",
   "metadata": {},
   "source": [
    "## Q4. Implement the KNN regressor algorithm with feature scaling on load_boston dataset in sklearn.datasets."
   ]
  },
  {
   "cell_type": "code",
   "execution_count": 37,
   "id": "d51d3552",
   "metadata": {},
   "outputs": [
    {
     "name": "stdout",
     "output_type": "stream",
     "text": [
      "Accuracy:  0.9833333333333333\n"
     ]
    }
   ],
   "source": [
    "from sklearn.datasets import fetch_openml\n",
    "\n",
    "boston = fetch_openml(name='boston', version=1)\n",
    "\n",
    "x = boston.data\n",
    "y = boston.target\n",
    "\n",
    "x=datasets.load_iris().data\n",
    "y=datasets.load_iris().target\n",
    "\n",
    "xtrain,xtest,ytrain,ytest=train_test_split(x,y,test_size=0.40, random_state=42)\n",
    "\n",
    "scaler=StandardScaler()\n",
    "xtrain=scaler.fit_transform(xtrain)\n",
    "xtest=scaler.transform(xtest)\n",
    "\n",
    "model=KNeighborsClassifier()\n",
    "model.fit(xtrain,ytrain)\n",
    "\n",
    "ypred=model.predict(xtest)\n",
    "\n",
    "print(\"Accuracy: \",accuracy_score(ytest,ypred))"
   ]
  },
  {
   "cell_type": "markdown",
   "id": "6965bfd4",
   "metadata": {},
   "source": [
    "## Q5. Write a Python code snippet to implement the KNN classifier algorithm with weighted voting on load_iris dataset in sklearn.datasets."
   ]
  },
  {
   "cell_type": "code",
   "execution_count": 46,
   "id": "f56e0d82",
   "metadata": {},
   "outputs": [
    {
     "name": "stdout",
     "output_type": "stream",
     "text": [
      "Accuracy:  0.9811320754716981\n"
     ]
    }
   ],
   "source": [
    "\n",
    "x=datasets.load_iris().data\n",
    "y=datasets.load_iris().target\n",
    "\n",
    "xtrain,xtest,ytrain,ytest=train_test_split(x,y,test_size=0.35, random_state=42)\n",
    "\n",
    "scaler=StandardScaler()\n",
    "xtrain=scaler.fit_transform(xtrain)\n",
    "xtest=scaler.transform(xtest)\n",
    "\n",
    "model=KNeighborsClassifier(weights='distance')\n",
    "model.fit(xtrain,ytrain)\n",
    "\n",
    "ypred=model.predict(xtest)\n",
    "\n",
    "print(\"Accuracy: \",accuracy_score(ytest,ypred))"
   ]
  },
  {
   "cell_type": "markdown",
   "id": "202f5b3c",
   "metadata": {},
   "source": [
    "## Q6. Implement a function to standardise the features before applying KNN classifier."
   ]
  },
  {
   "cell_type": "code",
   "execution_count": 66,
   "id": "fba76787",
   "metadata": {},
   "outputs": [],
   "source": [
    "from sklearn.preprocessing import StandardScaler\n",
    "\n",
    "def standardize_features(xtrain,xtest):\n",
    "    scaler=StandardScaler()\n",
    "    xtrain=scaler.fit_transform(xtrain)\n",
    "    xtest=scaler.transform(xtest)\n",
    "    \n",
    "    return xtrain,xtest"
   ]
  },
  {
   "cell_type": "code",
   "execution_count": 69,
   "id": "b8fc05f2",
   "metadata": {},
   "outputs": [
    {
     "name": "stdout",
     "output_type": "stream",
     "text": [
      "Accuracy with standardized features: 0.98\n"
     ]
    }
   ],
   "source": [
    "# Load the Iris dataset and split it into training and testing sets\n",
    "from sklearn.datasets import load_iris\n",
    "from sklearn.model_selection import train_test_split\n",
    "\n",
    "data = load_iris()\n",
    "X = data.data\n",
    "y = data.target\n",
    "\n",
    "X_train, X_test, y_train, y_test = train_test_split(X, y, test_size=0.35, random_state=42)\n",
    "\n",
    "X_train_std, X_test_std = standardize_features(X_train, X_test)\n",
    "\n",
    "\n",
    "knn_classifier = KNeighborsClassifier()\n",
    "knn_classifier.fit(X_train_std, y_train)\n",
    "\n",
    "y_pred = knn_classifier.predict(X_test_std)\n",
    "\n",
    "\n",
    "accuracy = accuracy_score(y_test, y_pred)\n",
    "print(f\"Accuracy with standardized features: {accuracy:.2f}\")\n"
   ]
  },
  {
   "cell_type": "markdown",
   "id": "7128bc70",
   "metadata": {},
   "source": [
    "## Q7. Write a Python function to calculate the euclidean distance between two points."
   ]
  },
  {
   "cell_type": "code",
   "execution_count": 52,
   "id": "bf21ceb5",
   "metadata": {},
   "outputs": [],
   "source": [
    "def euclidean_distance(p1,p2):\n",
    "    dist=((p1[0]-p2[0])**2 + (p1[1]-p2[1])**2)**(0.5)\n",
    "    return dist"
   ]
  },
  {
   "cell_type": "code",
   "execution_count": 56,
   "id": "8379edfd",
   "metadata": {},
   "outputs": [
    {
     "data": {
      "text/plain": [
       "5.656854249492381"
      ]
     },
     "execution_count": 56,
     "metadata": {},
     "output_type": "execute_result"
    }
   ],
   "source": [
    "euclidean_distance((1,1),(5,5))"
   ]
  },
  {
   "cell_type": "markdown",
   "id": "5604fe9e",
   "metadata": {},
   "source": [
    "## Q8. Write a Python function to calculate the manhattan distance between two points."
   ]
  },
  {
   "cell_type": "code",
   "execution_count": 61,
   "id": "0279fa57",
   "metadata": {},
   "outputs": [],
   "source": [
    "def manhattan_distance(p1,p2):\n",
    "    dist=abs(p1[0]-p2[0]) + abs(p1[1]-p2[1])\n",
    "    return dist"
   ]
  },
  {
   "cell_type": "code",
   "execution_count": 62,
   "id": "6e491545",
   "metadata": {},
   "outputs": [
    {
     "data": {
      "text/plain": [
       "6"
      ]
     },
     "execution_count": 62,
     "metadata": {},
     "output_type": "execute_result"
    }
   ],
   "source": [
    "manhattan_distance((1,4),(3,8))"
   ]
  }
 ],
 "metadata": {
  "kernelspec": {
   "display_name": "Python 3 (ipykernel)",
   "language": "python",
   "name": "python3"
  },
  "language_info": {
   "codemirror_mode": {
    "name": "ipython",
    "version": 3
   },
   "file_extension": ".py",
   "mimetype": "text/x-python",
   "name": "python",
   "nbconvert_exporter": "python",
   "pygments_lexer": "ipython3",
   "version": "3.10.0"
  }
 },
 "nbformat": 4,
 "nbformat_minor": 5
}
