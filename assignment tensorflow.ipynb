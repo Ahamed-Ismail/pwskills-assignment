{
 "cells": [
  {
   "cell_type": "markdown",
   "id": "37fc6047",
   "metadata": {},
   "source": [
    "# Part 1: Theoretical Questions"
   ]
  },
  {
   "cell_type": "markdown",
   "id": "9716a427",
   "metadata": {},
   "source": [
    "## 1. What are the different data structures used in Tensorflow?. Give some examples\n",
    "\n",
    "**Data Structures in TensorFlow:**\n",
    "\n",
    "1. **Tensors:** Tensors are the primary data structure in TensorFlow, representing the data as multi-dimensional arrays. These can be constants or variables, holding the data manipulated during computation.\n",
    "\n",
    "2. **Graphs:** TensorFlow uses computational graphs to represent the flow of data. These graphs consist of a series of nodes, each representing an operation, and edges representing the flow of tensors between these operations.\n",
    "\n",
    "3. **Variables:** Variables in TensorFlow are used to store and update parameters during the optimization process. These are typically used for model weights and biases that change during training.\n",
    "\n",
    "4. **Constants:** Constants are immutable tensors whose values cannot be changed during the execution of a graph. These are used for fixed values such as hyperparameters or fixed inputs."
   ]
  },
  {
   "cell_type": "code",
   "execution_count": 1,
   "id": "cf188799",
   "metadata": {},
   "outputs": [
    {
     "data": {
      "text/plain": [
       "<tf.Tensor: shape=(2, 2), dtype=int32, numpy=\n",
       "array([[1, 2],\n",
       "       [3, 4]])>"
      ]
     },
     "execution_count": 1,
     "metadata": {},
     "output_type": "execute_result"
    }
   ],
   "source": [
    "#Tensors: A 2x2 tensor in TensorFlow: \n",
    "import tensorflow as tf\n",
    "\n",
    "tensor = tf.constant([[1, 2], [3, 4]])\n",
    "tensor"
   ]
  },
  {
   "cell_type": "code",
   "execution_count": 4,
   "id": "7ea9d032",
   "metadata": {},
   "outputs": [
    {
     "data": {
      "text/plain": [
       "<tf.Tensor: shape=(), dtype=int32, numpy=10>"
      ]
     },
     "execution_count": 4,
     "metadata": {},
     "output_type": "execute_result"
    }
   ],
   "source": [
    "#Graphs:Defining a simple computational graph:\n",
    "\n",
    "a = tf.constant(5)\n",
    "b = tf.constant(2)\n",
    "c = tf.multiply(a, b)\n",
    "\n",
    "c"
   ]
  },
  {
   "cell_type": "code",
   "execution_count": 3,
   "id": "5b2e577b",
   "metadata": {
    "scrolled": false
   },
   "outputs": [
    {
     "data": {
      "text/plain": [
       "<tf.Variable 'Variable:0' shape=() dtype=float32, numpy=3.0>"
      ]
     },
     "execution_count": 3,
     "metadata": {},
     "output_type": "execute_result"
    }
   ],
   "source": [
    "#variable\n",
    "var = tf.Variable(3.0)\n",
    "var"
   ]
  },
  {
   "cell_type": "code",
   "execution_count": 7,
   "id": "314f5607",
   "metadata": {},
   "outputs": [
    {
     "data": {
      "text/plain": [
       "<tf.Tensor: shape=(), dtype=int32, numpy=10>"
      ]
     },
     "execution_count": 7,
     "metadata": {},
     "output_type": "execute_result"
    }
   ],
   "source": [
    "#constant\n",
    "const = tf.constant(10)\n",
    "const"
   ]
  },
  {
   "cell_type": "markdown",
   "id": "b059a835",
   "metadata": {},
   "source": [
    "## 2. How does the TensorFlow constant differ from a TensorFlow variable? Explain with an example\n",
    "\n",
    "**Difference between TensorFlow Constant and Variable:**\n",
    "\n",
    "TensorFlow Constants are immutable, meaning their values cannot change. They are used to hold constant values such as hyperparameters or fixed inputs. For example, if you define a constant as `a = tf.constant(5)`, the value of `a` will always be 5 during the execution of the graph.\n",
    "\n",
    "TensorFlow Variables, on the other hand, are used to store and update parameters during the optimization process, such as model weights and biases that change during training. For example, if you define a variable as `b = tf.Variable(3.0)`, you can update its value using operations like `assign` or `assign_add`."
   ]
  },
  {
   "cell_type": "markdown",
   "id": "2fdf30eb",
   "metadata": {},
   "source": [
    "## 3. Describe the process of matrix addition, multiplication, and element-wise operations in TensorFlow."
   ]
  },
  {
   "cell_type": "markdown",
   "id": "4363df01",
   "metadata": {},
   "source": [
    "**1. Addition**\n",
    "\n",
    "Matrix addition in TensorFlow is done using the tf.add function. It is an element wise operation which adds each corresponding elements respectively Here's an example:"
   ]
  },
  {
   "cell_type": "code",
   "execution_count": 10,
   "id": "fedd2617",
   "metadata": {},
   "outputs": [
    {
     "data": {
      "text/plain": [
       "<tf.Tensor: shape=(2, 2), dtype=int32, numpy=\n",
       "array([[ 6,  8],\n",
       "       [10, 12]])>"
      ]
     },
     "execution_count": 10,
     "metadata": {},
     "output_type": "execute_result"
    }
   ],
   "source": [
    "A = tf.constant([[1, 2], [3, 4]])\n",
    "B = tf.constant([[5, 6], [7, 8]])\n",
    "\n",
    "C = tf.add(A, B)\n",
    "\n",
    "C"
   ]
  },
  {
   "cell_type": "markdown",
   "id": "66c2b58e",
   "metadata": {},
   "source": [
    "**2. Matrix Multiplication**\n",
    "    \n",
    "Matrix multiplication in TensorFlow is done using the tf.matmul function. It performs a matrix multiplication which is a vector product. Here's an example:"
   ]
  },
  {
   "cell_type": "code",
   "execution_count": 11,
   "id": "d41e7c7c",
   "metadata": {},
   "outputs": [
    {
     "data": {
      "text/plain": [
       "<tf.Tensor: shape=(2, 2), dtype=int32, numpy=\n",
       "array([[19, 22],\n",
       "       [43, 50]])>"
      ]
     },
     "execution_count": 11,
     "metadata": {},
     "output_type": "execute_result"
    }
   ],
   "source": [
    "A = tf.constant([[1, 2], [3, 4]])\n",
    "B = tf.constant([[5, 6], [7, 8]])\n",
    "\n",
    "C = tf.matmul(A, B)\n",
    "\n",
    "C"
   ]
  },
  {
   "cell_type": "markdown",
   "id": "e3c8f945",
   "metadata": {},
   "source": [
    "**3. Element-wise Operations**\n",
    "\n",
    "Element-wise operations in TensorFlow can be performed using various functions such as tf.add, tf.subtract, tf.multiply, and tf.divide. Here's an example of performing element-wise multiplication:"
   ]
  },
  {
   "cell_type": "code",
   "execution_count": 12,
   "id": "5a403163",
   "metadata": {},
   "outputs": [
    {
     "data": {
      "text/plain": [
       "<tf.Tensor: shape=(2, 2), dtype=int32, numpy=\n",
       "array([[ 5, 12],\n",
       "       [21, 32]])>"
      ]
     },
     "execution_count": 12,
     "metadata": {},
     "output_type": "execute_result"
    }
   ],
   "source": [
    "A = tf.constant([[1, 2], [3, 4]])\n",
    "B = tf.constant([[5, 6], [7, 8]])\n",
    "\n",
    "C = tf.multiply(A, B)\n",
    "\n",
    "C"
   ]
  },
  {
   "cell_type": "markdown",
   "id": "e7cd1dcb",
   "metadata": {},
   "source": [
    "# Part 2: Practical Implementation"
   ]
  },
  {
   "cell_type": "markdown",
   "id": "1f7bb2d2",
   "metadata": {},
   "source": [
    "## Task 1: Creating and Manipulating Matrice"
   ]
  },
  {
   "cell_type": "markdown",
   "id": "a67c4b0f",
   "metadata": {},
   "source": [
    "## 1. Create a normal matrix A with dimensions 3x3, using TensorFlow's random_normal function. Display the values of matrix A"
   ]
  },
  {
   "cell_type": "code",
   "execution_count": 13,
   "id": "c4bf6a4a",
   "metadata": {},
   "outputs": [
    {
     "name": "stdout",
     "output_type": "stream",
     "text": [
      "tf.Tensor(\n",
      "[[ 1.9181497  -1.3291092  -0.8183831 ]\n",
      " [ 1.1213195   1.5685526  -0.89117664]\n",
      " [-0.0724829  -1.355397    0.41017064]], shape=(3, 3), dtype=float32)\n"
     ]
    }
   ],
   "source": [
    "A=tf.random.normal(shape=(3,3))\n",
    "print(A)"
   ]
  },
  {
   "cell_type": "markdown",
   "id": "2df37b8a",
   "metadata": {},
   "source": [
    "## 3. Create a Gaussian matrix B with dimensions 4x4, using TensorFlow's truncated_normal function. Display the values of matrix B"
   ]
  },
  {
   "cell_type": "code",
   "execution_count": 37,
   "id": "d107e002",
   "metadata": {},
   "outputs": [
    {
     "name": "stdout",
     "output_type": "stream",
     "text": [
      "tf.Tensor(\n",
      "[[-0.8618203  -0.8322235   0.9695119   0.38945365]\n",
      " [ 0.01134019 -0.02160602  0.65895146  0.22029424]\n",
      " [ 0.01374637  0.9393678   0.47552374 -0.58570683]\n",
      " [-0.24116395  0.4893404  -0.561031    0.45429933]], shape=(4, 4), dtype=float32)\n"
     ]
    }
   ],
   "source": [
    "B=tf.random.truncated_normal([4,4])\n",
    "print(B)"
   ]
  },
  {
   "cell_type": "markdown",
   "id": "0cd518e9",
   "metadata": {},
   "source": [
    "## 3. Create a matrix C with dimensions 2x2, where the values are drawn from a normal distribution with a mean of 3 and a standard deviation of 0.5, using TensorFlow's random.normal function. Display the values of matrix C"
   ]
  },
  {
   "cell_type": "code",
   "execution_count": 32,
   "id": "2934d9a1",
   "metadata": {},
   "outputs": [
    {
     "data": {
      "text/plain": [
       "<tf.Tensor: shape=(2, 2), dtype=float32, numpy=\n",
       "array([[2.3460484, 1.7692786],\n",
       "       [2.8570044, 2.675232 ]], dtype=float32)>"
      ]
     },
     "execution_count": 32,
     "metadata": {},
     "output_type": "execute_result"
    }
   ],
   "source": [
    "C=tf.random.normal(shape=(2,2) , mean=3, stddev=0.5)\n",
    "C"
   ]
  },
  {
   "cell_type": "markdown",
   "id": "992b5a4d",
   "metadata": {},
   "source": [
    "## 4.  Perform matrix addition between matrix A and matrix B, and store the result in matrix D"
   ]
  },
  {
   "cell_type": "code",
   "execution_count": 46,
   "id": "c913414f",
   "metadata": {},
   "outputs": [],
   "source": [
    "A=tf.random.normal((3,3))\n",
    "B=tf.random.normal((3,3))"
   ]
  },
  {
   "cell_type": "code",
   "execution_count": 47,
   "id": "17f4674f",
   "metadata": {},
   "outputs": [
    {
     "data": {
      "text/plain": [
       "<tf.Tensor: shape=(3, 3), dtype=float32, numpy=\n",
       "array([[-1.1670585,  0.8429472, -1.0525469],\n",
       "       [-2.6541073,  3.392046 ,  2.7256212],\n",
       "       [ 1.1744564, -1.3815911, -3.5718431]], dtype=float32)>"
      ]
     },
     "execution_count": 47,
     "metadata": {},
     "output_type": "execute_result"
    }
   ],
   "source": [
    "D=tf.add(A,B)\n",
    "D"
   ]
  },
  {
   "cell_type": "markdown",
   "id": "a85901c6",
   "metadata": {},
   "source": [
    "## 5. Perform matrix multiplication between matrix C and matrix D, and store the result in matrix E."
   ]
  },
  {
   "cell_type": "code",
   "execution_count": 49,
   "id": "7e3cd491",
   "metadata": {},
   "outputs": [],
   "source": [
    "C=tf.random.normal((3,3))"
   ]
  },
  {
   "cell_type": "code",
   "execution_count": 50,
   "id": "562fe997",
   "metadata": {},
   "outputs": [
    {
     "data": {
      "text/plain": [
       "<tf.Tensor: shape=(3, 3), dtype=float32, numpy=\n",
       "array([[ 0.4139423 ,  0.25420985,  3.7953494 ],\n",
       "       [-0.5246744 ,  0.9461523 , -0.3917484 ],\n",
       "       [-2.6876078 ,  2.4337003 ,  0.22782496]], dtype=float32)>"
      ]
     },
     "execution_count": 50,
     "metadata": {},
     "output_type": "execute_result"
    }
   ],
   "source": [
    "E=tf.matmul(C,D)\n",
    "E"
   ]
  },
  {
   "cell_type": "markdown",
   "id": "f5fcdc95",
   "metadata": {},
   "source": [
    "## Task 2: Performing Additional Matrix Operation"
   ]
  },
  {
   "cell_type": "markdown",
   "id": "8270dab6",
   "metadata": {},
   "source": [
    "## 1. Create a matrix F with dimensions 2x2, initialized with random values using TensorFlow's random_uniform function"
   ]
  },
  {
   "cell_type": "code",
   "execution_count": 56,
   "id": "a500cd90",
   "metadata": {},
   "outputs": [
    {
     "data": {
      "text/plain": [
       "<tf.Tensor: shape=(2, 2), dtype=float32, numpy=\n",
       "array([[7.6990438, 8.541239 ],\n",
       "       [8.165007 , 8.930044 ]], dtype=float32)>"
      ]
     },
     "execution_count": 56,
     "metadata": {},
     "output_type": "execute_result"
    }
   ],
   "source": [
    "F=tf.random.uniform((2,2), 5,10)\n",
    "F"
   ]
  },
  {
   "cell_type": "markdown",
   "id": "577f60ce",
   "metadata": {},
   "source": [
    "## 2. Calculate the transpose of matrix F and store the result in matrix G"
   ]
  },
  {
   "cell_type": "code",
   "execution_count": 59,
   "id": "8f140183",
   "metadata": {},
   "outputs": [
    {
     "data": {
      "text/plain": [
       "<tf.Tensor: shape=(2, 2), dtype=float32, numpy=\n",
       "array([[7.6990438, 8.165007 ],\n",
       "       [8.541239 , 8.930044 ]], dtype=float32)>"
      ]
     },
     "execution_count": 59,
     "metadata": {},
     "output_type": "execute_result"
    }
   ],
   "source": [
    "G=tf.transpose(F)\n",
    "G"
   ]
  },
  {
   "cell_type": "markdown",
   "id": "dcaf857e",
   "metadata": {},
   "source": [
    "## 3. Calculate the element wise exponential of matrix F and store the result in matrix H"
   ]
  },
  {
   "cell_type": "code",
   "execution_count": 60,
   "id": "7d2777fe",
   "metadata": {},
   "outputs": [
    {
     "data": {
      "text/plain": [
       "<tf.Tensor: shape=(2, 2), dtype=float32, numpy=\n",
       "array([[2206.2373, 5121.685 ],\n",
       "       [3515.7446, 7555.599 ]], dtype=float32)>"
      ]
     },
     "execution_count": 60,
     "metadata": {},
     "output_type": "execute_result"
    }
   ],
   "source": [
    "H=tf.exp(F)\n",
    "H"
   ]
  },
  {
   "cell_type": "markdown",
   "id": "25725781",
   "metadata": {},
   "source": [
    "## 4. Create a matrix I by concatenating matrix F and matrix G horizontally"
   ]
  },
  {
   "cell_type": "code",
   "execution_count": 65,
   "id": "c00a05b6",
   "metadata": {},
   "outputs": [
    {
     "data": {
      "text/plain": [
       "<tf.Tensor: shape=(2, 4), dtype=float32, numpy=\n",
       "array([[7.6990438, 8.541239 , 7.6990438, 8.165007 ],\n",
       "       [8.165007 , 8.930044 , 8.541239 , 8.930044 ]], dtype=float32)>"
      ]
     },
     "execution_count": 65,
     "metadata": {},
     "output_type": "execute_result"
    }
   ],
   "source": [
    "I=tf.concat([F,G], axis=1)\n",
    "I"
   ]
  },
  {
   "cell_type": "markdown",
   "id": "fdba3757",
   "metadata": {},
   "source": [
    "## 5. Create a matrix J by concatenating matrix F and matrix H vertically."
   ]
  },
  {
   "cell_type": "code",
   "execution_count": 67,
   "id": "a8db4149",
   "metadata": {},
   "outputs": [
    {
     "data": {
      "text/plain": [
       "<tf.Tensor: shape=(4, 2), dtype=float32, numpy=\n",
       "array([[   7.6990438,    8.541239 ],\n",
       "       [   8.165007 ,    8.930044 ],\n",
       "       [2206.2373   , 5121.685    ],\n",
       "       [3515.7446   , 7555.599    ]], dtype=float32)>"
      ]
     },
     "execution_count": 67,
     "metadata": {},
     "output_type": "execute_result"
    }
   ],
   "source": [
    "J=tf.concat([F,H], axis=0)\n",
    "J"
   ]
  }
 ],
 "metadata": {
  "kernelspec": {
   "display_name": "Python 3 (ipykernel)",
   "language": "python",
   "name": "python3"
  },
  "language_info": {
   "codemirror_mode": {
    "name": "ipython",
    "version": 3
   },
   "file_extension": ".py",
   "mimetype": "text/x-python",
   "name": "python",
   "nbconvert_exporter": "python",
   "pygments_lexer": "ipython3",
   "version": "3.10.0"
  }
 },
 "nbformat": 4,
 "nbformat_minor": 5
}
