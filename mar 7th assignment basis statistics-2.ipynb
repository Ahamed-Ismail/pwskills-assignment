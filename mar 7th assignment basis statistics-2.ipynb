{
 "cells": [
  {
   "cell_type": "code",
   "execution_count": 6,
   "id": "c8850499",
   "metadata": {},
   "outputs": [],
   "source": [
    "import warnings\n",
    "warnings.filterwarnings(\"ignore\")"
   ]
  },
  {
   "cell_type": "markdown",
   "id": "36079a4c",
   "metadata": {},
   "source": [
    "## Q1. What are the three measures of central tendency?\n",
    "\n",
    "The three mesaure of central tendency are Mean, Median, Mode."
   ]
  },
  {
   "cell_type": "markdown",
   "id": "b76f1f25",
   "metadata": {},
   "source": [
    "## Q2. What is the difference between the mean, median, and mode? How are they used to measure the central tendency of a dataset?\n",
    "\n",
    "The mean, median, and mode are measures of central tendency that provide information about the typical or representative value of a dataset. Here's a breakdown of their differences and how they are used:\n",
    "\n",
    "1. Mean: The mean is the sum of all values in a dataset divided by the total number of values. It is calculated by adding up all the values and then dividing by the count. The mean is sensitive to extreme values, as it takes into account the magnitude of each value. It is commonly used when the data is numerical and exhibits a roughly symmetrical distribution. For example, if you want to determine the average height of a group of people, you would calculate the mean by summing up all their heights and dividing by the total number of people.\n",
    "\n",
    "2. Median: The median is the middle value in a sorted dataset. To find the median, the data is arranged in ascending or descending order, and the middle value is identified. If the dataset has an odd number of values, the median is the exact middle value. If the dataset has an even number of values, the median is the average of the two middle values. The median is less affected by extreme values or outliers compared to the mean. It is commonly used when the data contains outliers or is skewed, as it represents the central value that divides the dataset into two equal halves. For example, if you want to determine the median income of a group of individuals, you would sort their incomes and identify the middle value.\n",
    "\n",
    "3. Mode: The mode represents the most frequently occurring value(s) in a dataset. It is the value that appears with the highest frequency. A dataset can have one mode (unimodal) if one value occurs most frequently, multiple modes (multimodal) if multiple values occur with the same highest frequency, or no mode if all values occur with equal frequency. The mode is useful when identifying the most common or popular value in a dataset. For example, if you want to determine the most common eye color in a group of individuals, you would find the color that appears with the highest frequency.\n",
    "\n",
    "In summary, the mean provides the average value and is influenced by extreme values, the median represents the middle value and is less affected by outliers, and the mode represents the most frequent value(s) in a dataset. Each measure has its strengths and weaknesses, and the choice of which measure to use depends on the nature of the data and the specific goals of the analysis."
   ]
  },
  {
   "cell_type": "markdown",
   "id": "64a55222",
   "metadata": {},
   "source": [
    "## Q3. Measure the three measures of central tendency for the given height data:\n",
    "## [178,177,176,177,178.2,178,175,179,180,175,178.9,176.2,177,172.5,178,176.5]"
   ]
  },
  {
   "cell_type": "code",
   "execution_count": 11,
   "id": "80627c01",
   "metadata": {},
   "outputs": [
    {
     "name": "stdout",
     "output_type": "stream",
     "text": [
      "Mean:  177.01875\n",
      "Median : 177.0\n",
      "Mode : 177.0\n"
     ]
    }
   ],
   "source": [
    "import numpy as np\n",
    "from scipy import stats\n",
    "\n",
    "height=[178,177,176,177,178.2,178,175,179,180,175,178.9,176.2,177,172.5,178,176.5]\n",
    "\n",
    "print('Mean: ',np.mean(height))\n",
    "print('Median :',np.median(height))\n",
    "print('Mode :',stats.mode(height)[0][0])"
   ]
  },
  {
   "cell_type": "markdown",
   "id": "5e53666a",
   "metadata": {},
   "source": [
    "## Q4. Find the standard deviation for the given data:\n",
    "## [178,177,176,177,178.2,178,175,179,180,175,178.9,176.2,177,172.5,178,176.5]"
   ]
  },
  {
   "cell_type": "code",
   "execution_count": 16,
   "id": "24ebc184",
   "metadata": {},
   "outputs": [
    {
     "name": "stdout",
     "output_type": "stream",
     "text": [
      "Standard deviation:  1.7885814036548633\n",
      "Standard deviation using numpy:  1.7885814036548633\n"
     ]
    }
   ],
   "source": [
    "lst=[178,177,176,177,178.2,178,175,179,180,175,178.9,176.2,177,172.5,178,176.5]\n",
    "\n",
    "var=0\n",
    "mean=np.mean(lst)\n",
    "for i in lst:\n",
    "    var+=(i-mean)**2\n",
    "print('Standard deviation: ',(var/len(lst))**(0.5))\n",
    "\n",
    "print('Standard deviation using numpy: ',np.std(lst))"
   ]
  },
  {
   "cell_type": "markdown",
   "id": "732f7e58",
   "metadata": {},
   "source": [
    "## Q5. How are measures of dispersion such as range, variance, and standard deviation used to describe the spread of a dataset? Provide an example.\n",
    "\n",
    "Measures of dispersion, such as range, variance, and standard deviation, are used to describe the spread or variability of a dataset. Here's an explanation of each measure and an example of how they can be used:\n",
    "\n",
    "1. Range: The range is the simplest measure of dispersion and represents the difference between the maximum and minimum values in a dataset. It gives an idea of the total spread of the data. However, it only considers the extreme values and does not take into account the distribution of values within the dataset. For example, if you have a dataset of exam scores ranging from 60 to 90, the range would be 30 (90 - 60).\n",
    "\n",
    "2. Variance: Variance measures the average squared deviation from the mean of a dataset. It takes into account all the values in the dataset and provides an indication of how spread out the values are. A higher variance indicates a greater dispersion of values, while a lower variance indicates a more concentrated dataset. The variance is calculated by taking the average of the squared differences between each value and the mean. For example, if you have a dataset of exam scores: [75, 80, 85, 90], you can calculate the variance as follows:\n",
    "\n",
    "   - Calculate the mean: (75 + 80 + 85 + 90) / 4 = 82.5\n",
    "   - Calculate the squared differences from the mean: [(75-82.5)^2, (80-82.5)^2, (85-82.5)^2, (90-82.5)^2] = [56.25, 6.25, 6.25, 56.25]\n",
    "   - Calculate the average of the squared differences: (56.25 + 6.25 + 6.25 + 56.25) / 4 = 31.25\n",
    "   - The variance is 31.25.\n",
    "\n",
    "3. Standard Deviation: The standard deviation is the square root of the variance and is often used as a more interpretable measure of dispersion. It represents the average distance of each data point from the mean. A higher standard deviation indicates a greater spread, while a lower standard deviation indicates a more concentrated dataset. Using the same example of exam scores, the standard deviation can be calculated as follows:\n",
    "\n",
    "   - Take the square root of the variance: sqrt(31.25) ≈ 5.59\n",
    "   - The standard deviation is approximately 5.59.\n",
    "\n",
    "In summary, the range gives a basic understanding of the spread of data by considering the maximum and minimum values. Variance and standard deviation provide more comprehensive measures by considering all values and their deviation from the mean. They offer insights into the distribution and concentration of data points."
   ]
  },
  {
   "cell_type": "markdown",
   "id": "426f9daf",
   "metadata": {},
   "source": [
    "## Q6. What is a Venn diagram?\n",
    "\n",
    "\n",
    "A Venn diagram is a visual representation of the relationships between different sets of items. It uses overlapping circles or other shapes to show the commonalities and differences between the sets. Each circle or shape represents a set, and the overlapping regions represent the elements shared by those sets.\n",
    "\n",
    "Venn diagrams are commonly used to illustrate concepts of set theory and to analyze logical relationships. They can help visualize the intersections and unions of sets, as well as the unique elements within each set. Venn diagrams are especially useful for organizing and understanding data that falls into distinct categories."
   ]
  },
  {
   "cell_type": "markdown",
   "id": "cb23c2db",
   "metadata": {},
   "source": [
    "## Q7. For the two given sets A = (2,3,4,5,6,7) & B = (0,2,6,8,10). Find:\n",
    "## (i) A ∩ B\n",
    "## (ii) A ⋃ B\n",
    "\n",
    "To find the requested operations for the given sets A = (2, 3, 4, 5, 6, 7) and B = (0, 2, 6, 8, 10), we can perform the following calculations:\n",
    "\n",
    "(i) A ∩ B (Intersection of A and B):\n",
    "To find the intersection of sets A and B, we identify the elements that are common to both sets.\n",
    "\n",
    "A = (2, 3, 4, 5, 6, 7)\n",
    "B = (0, 2, 6, 8, 10)\n",
    "\n",
    "The common elements in both sets are 2 and 6.\n",
    "\n",
    "Therefore, A ∩ B = (2, 6).\n",
    "\n",
    "(ii) A ⋃ B (Union of A and B):\n",
    "To find the union of sets A and B, we combine all the unique elements from both sets.\n",
    "\n",
    "A = (2, 3, 4, 5, 6, 7)\n",
    "B = (0, 2, 6, 8, 10)\n",
    "\n",
    "The unique elements from both sets are 0, 2, 3, 4, 5, 6, 7, 8, and 10.\n",
    "\n",
    "Therefore, A ⋃ B = (0, 2, 3, 4, 5, 6, 7, 8, 10).\n",
    "\n"
   ]
  },
  {
   "cell_type": "code",
   "execution_count": 18,
   "id": "0f7a70f2",
   "metadata": {},
   "outputs": [
    {
     "name": "stdout",
     "output_type": "stream",
     "text": [
      "Intersection:  {2, 6}\n",
      "Union:  {0, 2, 3, 4, 5, 6, 7, 8, 10}\n"
     ]
    }
   ],
   "source": [
    "A={2,3,4,5,6,7}\n",
    "B={0,2,6,8,10}\n",
    "\n",
    "print(\"Intersection: \",A.intersection(B))\n",
    "print(\"Union: \",A.union(B))"
   ]
  },
  {
   "cell_type": "markdown",
   "id": "36dff779",
   "metadata": {},
   "source": [
    "## Q8. What do you understand about skewness in data?\n",
    "\n",
    "Skewness in data refers to the measure of asymmetry or departure from symmetry in a probability distribution. It quantifies the extent to which a dataset's distribution is skewed or non-symmetrical.\n",
    "\n",
    "A dataset can exhibit three types of skewness:\n",
    "\n",
    "1. Positive Skewness (Right-skewed): In a positively skewed distribution, the tail on the right side of the distribution is longer or stretched out compared to the left side. This means that the majority of the data points are concentrated towards the left side, and the right tail contains a few extreme values. The mean tends to be greater than the median in a positively skewed distribution.\n",
    "\n",
    "2. Negative Skewness (Left-skewed): In a negatively skewed distribution, the tail on the left side of the distribution is longer or stretched out compared to the right side. This means that the majority of the data points are concentrated towards the right side, and the left tail contains a few extreme values. The mean tends to be smaller than the median in a negatively skewed distribution.\n",
    "\n",
    "3. Zero Skewness (Symmetrical): A symmetrical distribution has equal probabilities or frequencies on both sides of the central value. The mean and median are equal in a symmetrical distribution.\n",
    "\n",
    "Skewness can provide insights into the shape and characteristics of a dataset. It can be visually observed through a histogram or quantitatively measured using statistical methods. Skewed data can impact statistical analysis and inference since it may affect the assumptions of certain statistical tests. Therefore, understanding skewness is important in data analysis to properly interpret and handle the data.\n"
   ]
  },
  {
   "cell_type": "markdown",
   "id": "c56a6f17",
   "metadata": {},
   "source": [
    "## Q9. If a data is right skewed then what will be the position of median with respect to mean?\n",
    "\n",
    "In a right-skewed distribution, the median will typically be less than the mean. \n",
    "\n",
    "Here's why:\n",
    "\n",
    "1. Right-skewed distribution: In a right-skewed distribution, the tail of the distribution extends towards the right side, while the bulk of the data is concentrated on the left side. This means that there are some extreme values on the right side that pull the mean in that direction.\n",
    "\n",
    "2. Median: The median is the middle value in a dataset when it is arranged in ascending or descending order. Since a right-skewed distribution has a longer tail on the right side, the extreme values in the right tail can pull the mean towards the higher end. As a result, the mean gets influenced by these extreme values, making it larger than the median.\n",
    "\n",
    "3. Position of Median: Due to the influence of the right tail, the median tends to be less than the mean in a right-skewed distribution. This indicates that the median is closer to the lower end of the distribution where the bulk of the data points are concentrated.\n",
    "\n",
    "In summary, in a right-skewed distribution, the median is typically less than the mean. This is because the presence of extreme values on the right side of the distribution affects the mean, causing it to be larger than the median."
   ]
  },
  {
   "cell_type": "markdown",
   "id": "87b2f7d4",
   "metadata": {},
   "source": [
    "## Q10. Explain the difference between covariance and correlation. How are these measures used in statistical analysis?\n",
    "\n",
    "Covariance and correlation are both measures used to quantify the relationship between two variables in statistical analysis, but they differ in certain aspects. Let's explore the differences between covariance and correlation:\n",
    "\n",
    "Covariance:\n",
    "- Covariance measures the directional relationship between two variables. It determines how changes in one variable are related to changes in another variable.\n",
    "- Covariance can take any value, positive or negative, depending on the direction of the relationship. A positive covariance indicates a direct relationship (both variables tend to increase or decrease together), while a negative covariance indicates an inverse relationship (one variable tends to increase while the other decreases).\n",
    "- The magnitude of covariance is not standardized and depends on the units of the variables. Therefore, it is difficult to interpret the strength or degree of association based solely on the covariance value.\n",
    "- Covariance can be affected by the scale of the variables, making it challenging to compare covariances across different datasets or variables.\n",
    "\n",
    "Correlation:\n",
    "- Correlation measures the strength and direction of the linear relationship between two variables. It is a standardized measure that ranges between -1 and +1.\n",
    "- Correlation accounts for both the direction and strength of the relationship. A correlation of +1 indicates a perfect positive linear relationship, a correlation of -1 indicates a perfect negative linear relationship, and a correlation of 0 indicates no linear relationship.\n",
    "- Correlation is unitless, making it easier to interpret and compare across different datasets or variables.\n",
    "- Unlike covariance, correlation is sensitive to linear relationships only. It may not capture non-linear relationships between variables.\n",
    "- Correlation provides a more reliable measure of the relationship between variables as it is not affected by differences in scale or units.\n",
    "\n",
    "Both covariance and correlation are used in statistical analysis to understand the relationship between variables. They help to identify patterns, associations, and dependencies. Some common applications include:\n",
    "\n",
    "1. Relationship assessment: Covariance and correlation help determine whether two variables move together (positive relationship), move in opposite directions (negative relationship), or have no significant relationship.\n",
    "\n",
    "2. Variable selection: Covariance and correlation can assist in identifying variables that have a strong association with each other, which may be useful in feature selection for modeling or analysis.\n",
    "\n",
    "3. Risk and portfolio management: Covariance and correlation are essential in analyzing the relationships between financial assets and assessing their joint performance and risk.\n",
    "\n",
    "4. Data preprocessing: Correlation is used to identify highly correlated variables, helping to detect multicollinearity in regression models and reducing redundant information.\n",
    "\n",
    "In summary, covariance measures the direction of the relationship between variables, while correlation measures both the direction and strength of the linear relationship. Correlation provides a standardized measure that is easier to interpret and compare, while covariance is more affected by the units of the variables. Both measures are useful in analyzing relationships and dependencies between variables in statistical analysis."
   ]
  },
  {
   "cell_type": "markdown",
   "id": "7768229f",
   "metadata": {},
   "source": [
    "## Q11. What is the formula for calculating the sample mean? Provide an example calculation for a dataset.\n",
    "\n",
    "The mean also known as average is given by\n",
    "\n",
    "mean = (sum of all data points in the dataset)/(number of data points in the dataset)\n",
    "\n",
    "Ex: [1,2,3,4,5]\n",
    "mean = (1+2+3+4+5)/5\n",
    "     =3"
   ]
  },
  {
   "cell_type": "code",
   "execution_count": 19,
   "id": "a4e6388d",
   "metadata": {},
   "outputs": [
    {
     "name": "stdout",
     "output_type": "stream",
     "text": [
      "Mean:  3.0\n"
     ]
    }
   ],
   "source": [
    "lst=[1,2,3,4,5]\n",
    "sum=0\n",
    "for i in lst:\n",
    "    sum+=i\n",
    "print('Mean: ',sum/len(lst))"
   ]
  },
  {
   "cell_type": "markdown",
   "id": "3b626151",
   "metadata": {},
   "source": [
    "## Q12. For a normal distribution data what is the relationship between its measure of central tendency?\n",
    "\n",
    "In a normal distribution, the measures of central tendency—mean, median, and mode—are all equal or very close to each other. This is because a normal distribution is symmetric around its mean.\n",
    "\n",
    "Here's a closer look at the relationship between the measures of central tendency in a normal distribution:\n",
    "\n",
    "1. Mean: The mean is the arithmetic average of the data points in a distribution. In a normal distribution, the mean is located at the center of the distribution, and it represents the balance point of the data. The mean is equal to the median and the mode in a perfectly symmetrical normal distribution.\n",
    "\n",
    "2. Median: The median is the middle value in a sorted list of data. In a normal distribution, the median is also located at the center of the distribution, just like the mean. Therefore, the median is equal to the mean in a perfectly symmetrical normal distribution.\n",
    "\n",
    "3. Mode: The mode represents the most frequently occurring value(s) in a dataset. In a normal distribution, the mode is also located at the peak of the distribution, which coincides with the mean and median. Therefore, the mode is equal to the mean in a perfectly symmetrical normal distribution.\n",
    "\n",
    "In summary, for a normal distribution, the mean, median, and mode are all equal or very close to each other. They are all located at the center of the distribution due to its symmetric nature. This property of a normal distribution is one of the key characteristics that make it a useful and widely studied distribution in statistics."
   ]
  },
  {
   "cell_type": "markdown",
   "id": "8e481d2a",
   "metadata": {},
   "source": [
    "## Q13. How is covariance different from correlation?  \n",
    "\n",
    "Covariance and correlation are both measures used to describe the relationship between two variables, but they differ in several ways:\n",
    "\n",
    "1. Definition:\n",
    "   - Covariance: Covariance measures the extent to which two variables vary together. It indicates the direction of the relationship (positive or negative) and the magnitude of the relationship.\n",
    "   - Correlation: Correlation measures the strength and direction of the linear relationship between two variables. It is a standardized measure that ranges from -1 to +1.\n",
    "\n",
    "2. Scale and Interpretation:\n",
    "   - Covariance: Covariance is not standardized and depends on the units of the variables. It is difficult to interpret the magnitude of covariance directly.\n",
    "   - Correlation: Correlation is a unitless measure and is not affected by the scale or units of the variables. It provides a standardized measure that can be interpreted more easily. A correlation of +1 indicates a perfect positive linear relationship, -1 indicates a perfect negative linear relationship, and 0 indicates no linear relationship.\n",
    "\n",
    "3. Range and Bounds:\n",
    "   - Covariance: Covariance can take any value, positive or negative, and there are no bounds on the range of covariance.\n",
    "   - Correlation: Correlation ranges from -1 to +1, with -1 indicating a perfect negative linear relationship, +1 indicating a perfect positive linear relationship, and 0 indicating no linear relationship. Correlation is always bounded between -1 and +1.\n",
    "\n",
    "4. Interpretation of Strength:\n",
    "   - Covariance: The magnitude of covariance is not standardized, making it difficult to compare across different datasets or variables.\n",
    "   - Correlation: Correlation provides a standardized measure of the strength of the linear relationship between variables. It allows for easier comparison across different datasets or variables.\n",
    "\n",
    "5. Sensitivity to Linear Relationship:\n",
    "   - Covariance: Covariance measures the relationship between variables in terms of the direction but does not specifically focus on the linearity of the relationship. It can capture both linear and non-linear relationships between variables.\n",
    "   - Correlation: Correlation specifically measures the strength and direction of the linear relationship between variables. It focuses on the linearity of the relationship and may not capture non-linear relationships effectively.\n",
    "\n",
    "In summary, covariance measures the extent to which two variables vary together, while correlation measures the strength and direction of the linear relationship between variables. Covariance is affected by the scale and units of the variables, while correlation is a standardized measure that allows for easier interpretation and comparison. Correlation specifically focuses on linear relationships, while covariance can capture both linear and non-linear relationships."
   ]
  },
  {
   "cell_type": "markdown",
   "id": "489be057",
   "metadata": {},
   "source": [
    "## Q14. How do outliers affect measures of central tendency and dispersion? Provide an example.\n",
    "\n",
    "Outliers can have a significant impact on measures of central tendency and dispersion. Here's how outliers affect these measures and an example to illustrate their influence:\n",
    "\n",
    "1. Measures of Central Tendency:\n",
    "   - Mean: Outliers can greatly affect the mean. Since the mean is calculated by summing all values and dividing by the total number of values, extreme values can pull the mean towards them. A single outlier with a very large or very small value can significantly distort the mean.\n",
    "   - Median: The median is less affected by outliers. It is the middle value when the data is arranged in ascending or descending order. Outliers have less impact on the median because it only considers the position of values, not their magnitude.\n",
    "   - Mode: Outliers do not directly affect the mode. The mode represents the most frequently occurring value(s) in a dataset, and outliers may or may not influence this measure depending on their frequency.\n",
    "\n",
    "2. Measures of Dispersion:\n",
    "   - Range: Outliers can greatly affect the range, which is the difference between the maximum and minimum values. If an outlier is present, the range will be larger to accommodate the extreme values.\n",
    "   - Variance and Standard Deviation: Outliers can have a substantial impact on variance and standard deviation. Since these measures involve calculating squared differences from the mean, extreme values can greatly increase the deviations and subsequently inflate the variance and standard deviation.\n",
    "\n",
    "Example:\n",
    "Let's consider a dataset of exam scores: [80, 85, 90, 95, 100, 120]. The outlier value of 120 is much larger than the other scores. \n",
    "\n",
    "Impact on Measures of Central Tendency:\n",
    "- Mean: The mean is affected by the outlier and gets pulled towards the extreme value. The mean would be significantly influenced and higher than the typical central tendency of the other scores.\n",
    "- Median: The median is not affected by the outlier because it only considers the position of values. In this case, the median would be 92.5, which is not influenced by the outlier.\n",
    "- Mode: The mode is not affected by the outlier. In this case, the mode would be undefined since no score repeats.\n",
    "\n",
    "Impact on Measures of Dispersion:\n",
    "- Range: The range is affected by the outlier. With the outlier value of 120, the range would be larger, stretching from 80 to 120.\n",
    "- Variance and Standard Deviation: The outlier would significantly impact the variance and standard deviation. The squared differences from the mean would be larger, resulting in higher values for these measures.\n"
   ]
  }
 ],
 "metadata": {
  "kernelspec": {
   "display_name": "Python 3 (ipykernel)",
   "language": "python",
   "name": "python3"
  },
  "language_info": {
   "codemirror_mode": {
    "name": "ipython",
    "version": 3
   },
   "file_extension": ".py",
   "mimetype": "text/x-python",
   "name": "python",
   "nbconvert_exporter": "python",
   "pygments_lexer": "ipython3",
   "version": "3.10.0"
  }
 },
 "nbformat": 4,
 "nbformat_minor": 5
}
