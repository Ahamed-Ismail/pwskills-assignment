{
 "cells": [
  {
   "cell_type": "markdown",
   "id": "0ec9d5ef",
   "metadata": {},
   "source": [
    "## Q1. What is Bayes' theorem?\n",
    "\n",
    "Bayes' theorem is a fundamental principle in probability theory and statistics, named after the 18th-century statistician and philosopher Thomas Bayes. It describes how to update our beliefs or probabilities about an event based on new evidence or information. The theorem is particularly useful in situations involving conditional probabilities, where we want to find the probability of an event A given that we have observed event B.\n",
    "\n",
    "\n",
    "In essence, Bayes' theorem helps us update our beliefs by incorporating new evidence. It's widely used in various fields, including statistics, machine learning, and Bayesian inference, to make probabilistic inferences and decisions based on available data. Bayes' theorem is at the core of Bayesian statistics, which is a powerful framework for modeling uncertainty and making decisions under uncertainty."
   ]
  },
  {
   "cell_type": "markdown",
   "id": "1f60c536",
   "metadata": {},
   "source": [
    "## Q2. What is the formula for Bayes' theorem?\n",
    "\n",
    "The baye's theorem is given by\n",
    "\n",
    "$P(B|A) = \\frac{P(A|B) \\cdot P(B)}{p(A)}$\n",
    "\n",
    "where\n",
    "- $p(B|A)$ is the probability of B given A has happened\n",
    "- $p(A|B)$ is the probability of A given B has happened\n",
    "- $p(A)$ is the probability of A\n",
    "- $p(B)$ is the probability of B "
   ]
  },
  {
   "cell_type": "markdown",
   "id": "d9653e5f",
   "metadata": {},
   "source": [
    "## Q3. How is Bayes' theorem used in practice?\n",
    "\n",
    "\n",
    "\n",
    "1. **Medical Diagnosis**: Bayes' theorem is used in medical diagnosis to assess the probability of a patient having a particular disease based on their symptoms and test results. It helps doctors update their beliefs about a patient's condition as new information becomes available.\n",
    "\n",
    "2. **Spam Email Filtering**: Email spam filters often use Bayesian classification to determine whether an incoming email is spam or not. The algorithm learns from a set of labeled examples (spam and non-spam emails) and calculates the probability that a new email is spam based on the presence of specific words or patterns.\n",
    "\n",
    "3. **Machine Learning**: In machine learning, Bayesian methods are used for various tasks, including classification, regression, and model selection. Bayesian classifiers, such as Naive Bayes, are popular for text classification and sentiment analysis.\n",
    "\n",
    "4. **Weather Forecasting**: Bayes' theorem can be used in weather forecasting to update weather predictions as new observations (e.g., temperature, humidity) become available. It helps meteorologists improve the accuracy of their forecasts.\n",
    "\n",
    "5. **Finance and Risk Assessment**: In finance, Bayes' theorem is used for risk assessment and portfolio optimization. It helps investors update their beliefs about the future performance of assets based on new market data.\n",
    "\n",
    "6. **A/B Testing**: In web and product development, A/B testing involves comparing two versions of a webpage or application to determine which one performs better. Bayes' theorem can be used to analyze and update the probabilities of one version being better than the other as new user data is collected.\n",
    "\n",
    "7. **Natural Language Processing**: In language processing tasks, Bayesian models are used for various purposes, including language modeling, machine translation, and speech recognition.\n",
    "\n",
    "8. **Fault Diagnosis**: In engineering and manufacturing, Bayes' theorem can be used to diagnose faults in machinery and systems by updating the probability of different failure modes based on sensor data and historical information.\n",
    "\n",
    "9. **Epidemiology**: Epidemiologists use Bayesian methods to model disease outbreaks and assess the impact of interventions. It helps in estimating the likelihood of disease transmission and the effectiveness of control measures.\n",
    "\n",
    "10. **Image and Signal Processing**: Bayesian inference is applied in image and signal processing for tasks like image denoising, deblurring, and object recognition.\n",
    "\n"
   ]
  },
  {
   "cell_type": "markdown",
   "id": "20438789",
   "metadata": {},
   "source": [
    "## Q4. What is the relationship between Bayes' theorem and conditional probability?\n",
    "\n",
    "Bayes' theorem is closely related to conditional probability, as it provides a way to calculate conditional probabilities based on prior probabilities and new evidence. Conditional probability is a fundamental concept in probability theory that deals with the probability of an event occurring given that another event has already occurred.\n",
    "\n",
    "$P(B|A) = \\frac{P(A|B) \\cdot P(B)}{p(A)}$\n",
    "\n",
    "where\n",
    "- $p(B|A)$ is the probability of B given A has happened\n",
    "- $p(A|B)$ is the probability of A given B has happened\n",
    "- $p(A)$ is the probability of A\n",
    "- $p(B)$ is the probability of B \n",
    "\n",
    "Bayes' theorem allows us to update our beliefs (represented by $P(A)$) about event A based on new evidence (represented by $P(B|A)$) and the overall likelihood of observing event B (represented by $P(B)$). It essentially provides a formula for calculating the probability of A given B, taking into account the conditional relationship between A and B.\n",
    "."
   ]
  },
  {
   "cell_type": "markdown",
   "id": "2de53fe9",
   "metadata": {},
   "source": [
    "## Q5. How do you choose which type of Naive Bayes classifier to use for any given problem?\n",
    "\n",
    "Choosing the appropriate type of Naive Bayes classifier for a given problem depends on the nature of the data and the assumptions you can make about the independence of features. There are three common types of Naive Bayes classifiers:\n",
    "\n",
    "1. **Gaussian Naive Bayes (GNB)**:\n",
    "   - **Data Type**: GNB is suitable for continuous data where features are assumed to follow a Gaussian (normal) distribution.\n",
    "   - **Assumption**: It assumes that the features within each class are normally distributed. This means that it's best used when your data follows a bell-shaped curve.\n",
    "\n",
    "2. **Multinomial Naive Bayes (MNB)**:\n",
    "   - **Data Type**: MNB is typically used for discrete data, especially when dealing with text data and word frequencies.\n",
    "   - **Assumption**: It assumes that features represent counts or frequencies (e.g., the number of times a term appears in a document). It's commonly used in text classification tasks, like spam detection or sentiment analysis.\n",
    "\n",
    "3. **Bernoulli Naive Bayes (BNB)**:\n",
    "   - **Data Type**: BNB is suitable for binary data, where features are either present or absent.\n",
    "   - **Assumption**: It assumes that features are binary variables, representing the presence (1) or absence (0) of a feature. BNB is often used in text classification tasks where you're interested in whether certain words are present in a document or not.\n"
   ]
  },
  {
   "cell_type": "markdown",
   "id": "8089d024",
   "metadata": {},
   "source": [
    "## Q6. Assignment:\n",
    "## You have a dataset with two features, X1 and X2, and two possible classes, A and B. You want to use Naive Bayes to classify a new instance with features X1 = 3 and X2 = 4. The following table shows the frequency of each feature value for each class:\n",
    "## Class X1=1 X1=2 X1=3 X2=1 X2=2 X2=3 X2=4\n",
    "## A 3 3 4 4 3 3 3\n",
    "## B 2 2 1 2 2 2 3\n",
    "## Assuming equal prior probabilities for each class, which class would Naive Bayes predict the new instance to belong to?\n",
    "\n",
    "1. **For Class A:**\n",
    "\n",
    "Total occurrences of X1=3 in Class A: 4\n",
    "\n",
    "Total occurrences of X2=4 in Class A: 3\n",
    "\n",
    "Total data points in Class A: 23 (sum of all counts)\n",
    "\n",
    "2. **For Class B:**\n",
    "\n",
    "Total occurrences of X1=3 in Class B: 1\n",
    "\n",
    "Total occurrences of X2=4 in Class B: 3\n",
    "\n",
    "Total data points in Class B: 14 (sum of all counts)\n",
    "\n",
    "For Class A:\n",
    "$P(A | X1=3, X2=4) \\propto P(X1=3, X2=4 | A) \\cdot P(A) = \\frac{12}{529} \\cdot \\frac{1}{2} = \\frac{6}{529}$\n",
    "\n",
    "For Class B:\n",
    "$P(B | X1=3, X2=4) \\propto P(X1=3, X2=4 | B) \\cdot P(B) = \\frac{3}{196} \\cdot \\frac{1}{2} = \\frac{3}{392}$\n"
   ]
  },
  {
   "cell_type": "code",
   "execution_count": 3,
   "id": "79ab0512",
   "metadata": {},
   "outputs": [
    {
     "name": "stdout",
     "output_type": "stream",
     "text": [
      "0.5697674418604651 0.4302325581395348\n",
      "The data point is classified as class A\n"
     ]
    }
   ],
   "source": [
    "prob_A=(6/592)/((6/592)+(3/392))\n",
    "prob_B=(3/392)/((6/592)+(3/392))\n",
    "print(prob_A,prob_B)\n",
    "\n",
    "if(prob_A>prob_B):\n",
    "    print(\"The data point is classified as class A\")\n",
    "else:\n",
    "    print(\"The data point is classified as class B\")    "
   ]
  }
 ],
 "metadata": {
  "kernelspec": {
   "display_name": "Python 3 (ipykernel)",
   "language": "python",
   "name": "python3"
  },
  "language_info": {
   "codemirror_mode": {
    "name": "ipython",
    "version": 3
   },
   "file_extension": ".py",
   "mimetype": "text/x-python",
   "name": "python",
   "nbconvert_exporter": "python",
   "pygments_lexer": "ipython3",
   "version": "3.10.0"
  }
 },
 "nbformat": 4,
 "nbformat_minor": 5
}
