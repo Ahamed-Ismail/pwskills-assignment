{
 "cells": [
  {
   "cell_type": "markdown",
   "id": "0874af61",
   "metadata": {},
   "source": [
    "## Q1. What are the characteristics of the tuples? Is tuple immutable?\n",
    "\n",
    "Ordered: The order of elements in a tuple is maintained and each element can be accessed using its index.\n",
    "\n",
    "Immutable: Once a tuple is created, its elements cannot be modified or deleted. However, a new tuple can be created by concatenating or slicing existing tuples.\n",
    "\n",
    "Heterogeneous: A tuple can contain elements of different data types such as integers, floats, strings, and other objects.\n",
    "\n",
    "Indexed: Each element in a tuple is assigned a unique index, starting from 0.\n",
    "\n",
    "Yes, tuples are immutable, which means once a tuple is created, its elements cannot be modified or deleted."
   ]
  },
  {
   "cell_type": "markdown",
   "id": "ab6f2f7b",
   "metadata": {},
   "source": [
    "## Q2. What are the two tuple methods in python? Give an example of each method. Give a reason why tuples have only two in-built methods as compared to Lists.\n",
    "\n",
    "count(): This method returns the number of times a specified element appears in a tuple.\n",
    "\n",
    "index(): This method returns the index of the first occurrence of a specified element in a tuple.\n",
    "Example:"
   ]
  },
  {
   "cell_type": "code",
   "execution_count": 3,
   "id": "03982e9c",
   "metadata": {},
   "outputs": [
    {
     "name": "stdout",
     "output_type": "stream",
     "text": [
      "count:  3\n",
      "index:  3\n"
     ]
    }
   ],
   "source": [
    "my_tuple = (1, 2, 2, 3, 4, 2)  #count()\n",
    "count_twos = my_tuple.count(2)\n",
    "print(\"count: \",count_twos) \n",
    "\n",
    "my_tuple = (1, 2, 2, 3, 4, 2)  #index()\n",
    "index_three = my_tuple.index(3)\n",
    "print(\"index: \",index_three)  \n"
   ]
  },
  {
   "cell_type": "markdown",
   "id": "8167c7d6",
   "metadata": {},
   "source": [
    "## Q3. Which collection datatypes in python do not allow duplicate items? Write a code using a set to remove duplicates from the given list.\n",
    "\n",
    "The collection datatype in Python that does not allow duplicate items is the SET."
   ]
  },
  {
   "cell_type": "code",
   "execution_count": 7,
   "id": "709033be",
   "metadata": {},
   "outputs": [
    {
     "name": "stdout",
     "output_type": "stream",
     "text": [
      "[1, 2, 3, 4]\n"
     ]
    }
   ],
   "source": [
    "List =[1, 1, 1, 2, 1, 3, 1, 4, 2, 1, 2, 2, 2, 3, 2, 4, 3, 1, 3, 2, 3, 3, 3, 4, 4, 1, 4, 2, 4, 3, 4, 4]\n",
    "print(list(set(List))) "
   ]
  },
  {
   "cell_type": "markdown",
   "id": "8cafc9ab",
   "metadata": {},
   "source": [
    "## Q4. Explain the difference between the union() and update() methods for a set. Give an example of each method.\n",
    "\n",
    "\n",
    "The union() method returns a new set that contains all the unique elements from both sets. It does not modify the original sets. \n",
    "\n",
    "The update() method, on the other hand, adds all the elements from another set to the original set. It modifies the original set in place and does not return a new set."
   ]
  },
  {
   "cell_type": "code",
   "execution_count": 8,
   "id": "545769d4",
   "metadata": {},
   "outputs": [
    {
     "name": "stdout",
     "output_type": "stream",
     "text": [
      "{1, 2, 3, 4, 5}\n",
      "{1, 2, 3, 4, 5}\n"
     ]
    }
   ],
   "source": [
    "set1 = {1, 2, 3}  #union()\n",
    "set2 = {3, 4, 5}\n",
    "union_set = set1.union(set2)\n",
    "print(union_set) \n",
    "\n",
    "\n",
    "set1 = {1, 2, 3}  #update()\n",
    "set2 = {3, 4, 5}\n",
    "set1.update(set2)\n",
    "print(set1)  \n"
   ]
  },
  {
   "cell_type": "markdown",
   "id": "6b7576c4",
   "metadata": {},
   "source": [
    "## Q5. What is a dictionary? Give an example. Also, state whether a dictionary is ordered or unordered.\n",
    "\n",
    "In Python, a dictionary is a collection of key-value pairs, where each key is associated with a corresponding value.\n",
    "\n",
    "Dictionaries are unordered in Python, which means that the order of elements in a dictionary is not fixed. "
   ]
  },
  {
   "cell_type": "code",
   "execution_count": 9,
   "id": "f755ab5a",
   "metadata": {},
   "outputs": [
    {
     "data": {
      "text/plain": [
       "{'apple': 1, 'banana': 2, 'orange': 3}"
      ]
     },
     "execution_count": 9,
     "metadata": {},
     "output_type": "execute_result"
    }
   ],
   "source": [
    "my_dict = {\"apple\": 1, \"banana\": 2, \"orange\": 3}\n",
    "my_dict"
   ]
  },
  {
   "cell_type": "markdown",
   "id": "495974d3",
   "metadata": {},
   "source": [
    "## Q6. Can we create a nested dictionary? If so, please give an example by creating a simple one-level nested dictionary.\n",
    "\n",
    "Yes, we can create a nested dictionary in Python. A nested dictionary is a dictionary where the values are themselves dictionaries."
   ]
  },
  {
   "cell_type": "code",
   "execution_count": 11,
   "id": "ebe26341",
   "metadata": {},
   "outputs": [
    {
     "data": {
      "text/plain": [
       "{'fruit': {'apple': 1, 'banana': 2, 'orange': 3}}"
      ]
     },
     "execution_count": 11,
     "metadata": {},
     "output_type": "execute_result"
    }
   ],
   "source": [
    "my_dict = {\"fruit\": {\"apple\": 1, \"banana\": 2, \"orange\": 3}}\n",
    "my_dict"
   ]
  },
  {
   "cell_type": "markdown",
   "id": "15143d60",
   "metadata": {},
   "source": [
    "## Q7. Using setdefault() method, create key named topics in the given dictionary and also add the value of the key as this list ['Python', 'Machine Learning’, 'Deep Learning']\n",
    "## dict1 = {'language' : 'Python', 'course': 'Data Science Masters'}"
   ]
  },
  {
   "cell_type": "code",
   "execution_count": 12,
   "id": "fb5bfa62",
   "metadata": {},
   "outputs": [
    {
     "data": {
      "text/plain": [
       "{'language': 'Python',\n",
       " 'course': 'Data Science Masters',\n",
       " 'topics': ['Python', 'Machine Learning', 'Deep Learning']}"
      ]
     },
     "execution_count": 12,
     "metadata": {},
     "output_type": "execute_result"
    }
   ],
   "source": [
    "dict1 = {'language': 'Python', 'course': 'Data Science Masters'}\n",
    "dict1.setdefault('topics', ['Python', 'Machine Learning', 'Deep Learning'])\n",
    "dict1"
   ]
  },
  {
   "cell_type": "markdown",
   "id": "d3b8ecac",
   "metadata": {},
   "source": [
    "## Q8. What are the three view objects in dictionaries? Use the three in-built methods in python to display  these three view objects for the given dictionary. \n",
    "## dict1 = {'Sport': 'Cricket' , 'Teams': ['India', 'Australia', 'England', 'South Africa', 'Sri Lanka', 'New Zealand']}\n",
    "\n",
    "dict_keys(): This view object contains the keys of the dictionary.\n",
    "\n",
    "dict_values(): This view object contains the values of the dictionary.\n",
    "\n",
    "dict_items(): This view object contains the key-value pairs of the dictionary as tuples."
   ]
  },
  {
   "cell_type": "code",
   "execution_count": 13,
   "id": "813f136a",
   "metadata": {},
   "outputs": [
    {
     "name": "stdout",
     "output_type": "stream",
     "text": [
      "dict_keys(['Sport', 'Teams'])\n",
      "dict_values(['Cricket', ['India', 'Australia', 'England', 'South Africa', 'Sri Lanka', 'New Zealand']])\n",
      "dict_items([('Sport', 'Cricket'), ('Teams', ['India', 'Australia', 'England', 'South Africa', 'Sri Lanka', 'New Zealand'])])\n"
     ]
    }
   ],
   "source": [
    "dict1 = {'Sport': 'Cricket', 'Teams': ['India', 'Australia', 'England', 'South Africa', 'Sri Lanka', 'New Zealand']}\n",
    "\n",
    "\n",
    "keys_view = dict1.keys()\n",
    "values_view = dict1.values()\n",
    "items_view = dict1.items()\n",
    "\n",
    "print(keys_view)\n",
    "print(values_view)\n",
    "print(items_view)\n"
   ]
  }
 ],
 "metadata": {
  "kernelspec": {
   "display_name": "Python 3 (ipykernel)",
   "language": "python",
   "name": "python3"
  },
  "language_info": {
   "codemirror_mode": {
    "name": "ipython",
    "version": 3
   },
   "file_extension": ".py",
   "mimetype": "text/x-python",
   "name": "python",
   "nbconvert_exporter": "python",
   "pygments_lexer": "ipython3",
   "version": "3.10.0"
  }
 },
 "nbformat": 4,
 "nbformat_minor": 5
}
