{
 "cells": [
  {
   "cell_type": "markdown",
   "id": "a1755465",
   "metadata": {},
   "source": [
    "## Q1. Create one variable containing following type of data:\n",
    "## (i) string\n",
    "## (ii) list\n",
    "## (iii) float\n",
    "## (iv) tuple"
   ]
  },
  {
   "cell_type": "code",
   "execution_count": 4,
   "id": "d96938f5",
   "metadata": {},
   "outputs": [
    {
     "name": "stdout",
     "output_type": "stream",
     "text": [
      "<class 'str'>\n",
      "<class 'list'>\n",
      "<class 'float'>\n",
      "<class 'tuple'>\n"
     ]
    }
   ],
   "source": [
    "s=\"Hello world!\"  #string\n",
    "print(type(s)) \n",
    "\n",
    "lst=[1,2,'hello,True',8.333] #list\n",
    "print(type(lst))\n",
    "\n",
    "ft=2.34  #float\n",
    "print(type(ft))\n",
    "\n",
    "tpl=(1,2,3,'hello',True)  #tuple\n",
    "print(type(tpl))"
   ]
  },
  {
   "cell_type": "markdown",
   "id": "0b389bf0",
   "metadata": {},
   "source": [
    "## Q2. Given are some following variables containing data:\n",
    "## (i) var1 = ‘ ‘\n",
    "## (ii) var2 = ‘[ DS , ML , Python]’\n",
    "## (iii) var3 = [ ‘DS’ , ’ML’ , ‘Python’ ]\n",
    "## (iv) var4 = 1.\n",
    "## What will be the data type of the above given variable."
   ]
  },
  {
   "cell_type": "code",
   "execution_count": 5,
   "id": "b7ae346b",
   "metadata": {},
   "outputs": [
    {
     "name": "stdout",
     "output_type": "stream",
     "text": [
      "<class 'str'>\n",
      "<class 'str'>\n",
      "<class 'list'>\n",
      "<class 'int'>\n"
     ]
    }
   ],
   "source": [
    "var1=''\n",
    "print(type(var1))\n",
    "\n",
    "var2='[ DS , ML , Python]'\n",
    "print(type(var2))\n",
    "\n",
    "var3=[ 'DS' , 'ML' , 'Python']\n",
    "print(type(var3))\n",
    "\n",
    "var4=1\n",
    "print(type(var4))"
   ]
  },
  {
   "cell_type": "markdown",
   "id": "bd83e02e",
   "metadata": {},
   "source": [
    "## Q3. Explain the use of the following operators using an example:\n",
    "## (i) /\n",
    "## (ii) %\n",
    "## (iii) //\n",
    "## (iv) **\n",
    "\n",
    "(i) The / operator is the division operator in Python, which is used to divide two numbers and returns the result as a floating-point number.\n",
    "\n",
    "(ii) The % operator is the modulus operator in Python, which is used to find the remainder of the division operation.\n",
    "\n",
    "(iii) The // operator is the floor division operator in Python, which performs the division operation and returns the largest integer that is less than or equal to the result.\n",
    "\n",
    "(iv) The ** operator is the exponentiation operator in Python, which is used to raise a number to a power."
   ]
  },
  {
   "cell_type": "code",
   "execution_count": 6,
   "id": "a07ba045",
   "metadata": {},
   "outputs": [
    {
     "name": "stdout",
     "output_type": "stream",
     "text": [
      "1.6666666666666667\n",
      "2\n",
      "1\n",
      "125\n"
     ]
    }
   ],
   "source": [
    "x=5\n",
    "y=3\n",
    "\n",
    "print(x/y) \n",
    "print(x%y)\n",
    "print(x//y)\n",
    "print(x**y)"
   ]
  },
  {
   "cell_type": "markdown",
   "id": "bf9ed911",
   "metadata": {},
   "source": [
    "## Q4. Create a list of length 10 of your choice containing multiple types of data. Using for loop print the element and its data type."
   ]
  },
  {
   "cell_type": "code",
   "execution_count": 9,
   "id": "62af58fe",
   "metadata": {},
   "outputs": [
    {
     "name": "stdout",
     "output_type": "stream",
     "text": [
      "1 \t <class 'int'>\n",
      "2 \t <class 'int'>\n",
      "3 \t <class 'int'>\n",
      "4 \t <class 'int'>\n",
      "hello \t <class 'str'>\n",
      "2.55 \t <class 'float'>\n",
      "True \t <class 'bool'>\n",
      "False \t <class 'bool'>\n",
      "(3+4j) \t <class 'complex'>\n",
      "[1, 2, 3] \t <class 'list'>\n"
     ]
    }
   ],
   "source": [
    "lst=[1,2,3,4,'hello',2.55,True,False,3+4j,[1,2,3]]\n",
    "for i in lst:\n",
    "    print(i,\"\\t\",type(i))"
   ]
  },
  {
   "cell_type": "markdown",
   "id": "634da43d",
   "metadata": {},
   "source": [
    "## Q5. Using a while loop, verify if the number A is purely divisible by number B and if so then how many times it can be divisible."
   ]
  },
  {
   "cell_type": "code",
   "execution_count": 18,
   "id": "398ec53f",
   "metadata": {},
   "outputs": [
    {
     "name": "stdout",
     "output_type": "stream",
     "text": [
      "Yes, 100 is divisble by 5\n",
      "Count = 2\n"
     ]
    }
   ],
   "source": [
    "a=100\n",
    "a1=a\n",
    "b=5\n",
    "\n",
    "count=0\n",
    "while(a%b==0):\n",
    "    a=a/b\n",
    "    count+=1\n",
    "if count>0:\n",
    "    print(f\"Yes, {a1} is divisble by {b}\\nCount = {count}\")\n",
    "else:\n",
    "        print(f\"No, {a1} is not divisble by {b}\")"
   ]
  },
  {
   "cell_type": "markdown",
   "id": "e165a8fd",
   "metadata": {},
   "source": [
    "## Q6. Create a list containing 25 int type data. Using for loop and if-else condition print if the element is divisible by 3 or not."
   ]
  },
  {
   "cell_type": "code",
   "execution_count": 19,
   "id": "0a50c6c5",
   "metadata": {},
   "outputs": [
    {
     "name": "stdout",
     "output_type": "stream",
     "text": [
      "2 is not divisble by 3\n",
      "5 is not divisble by 3\n",
      "9 is divisble by 3\n",
      "12 is divisble by 3\n",
      "15 is divisble by 3\n",
      "18 is divisble by 3\n",
      "21 is divisble by 3\n",
      "24 is divisble by 3\n",
      "27 is divisble by 3\n",
      "30 is divisble by 3\n",
      "33 is divisble by 3\n",
      "36 is divisble by 3\n",
      "39 is divisble by 3\n",
      "42 is divisble by 3\n",
      "45 is divisble by 3\n",
      "48 is divisble by 3\n",
      "51 is divisble by 3\n",
      "54 is divisble by 3\n",
      "57 is divisble by 3\n",
      "60 is divisble by 3\n",
      "63 is divisble by 3\n",
      "66 is divisble by 3\n",
      "69 is divisble by 3\n",
      "72 is divisble by 3\n",
      "75 is divisble by 3\n"
     ]
    }
   ],
   "source": [
    "lst= [2, 5, 9, 12, 15, 18, 21, 24, 27, 30, 33, 36, 39, 42, 45, 48, 51, 54, 57, 60, 63, 66, 69, 72, 75]\n",
    "for i in lst:\n",
    "    if i%3==0:\n",
    "        print(f\"{i} is divisble by 3\")\n",
    "    else:\n",
    "        print(f\"{i} is not divisble by 3\")"
   ]
  },
  {
   "cell_type": "markdown",
   "id": "d3dcb0bb",
   "metadata": {},
   "source": [
    "## Q7. What do you understand about mutable and immutable data types? Give examples for both showing this property.\n",
    "\n",
    "Mutable data types are those that can be modified after creation, whereas immutable data types cannot be modified after creation.\n",
    "\n",
    "#### Immutable data types:\n",
    "\n",
    "int - integer values, such as 5 or -10\n",
    "float - floating-point values, such as 3.14 or -2.5\n",
    "bool - boolean values, either True or False\n",
    "str - string values, such as \"Hello, world!\" or \"1234\"\n",
    "tuple - ordered collections of values, enclosed in parentheses, such as (1, 2, 3) or (\"apple\", \"banana\", \"cherry\")\n",
    "\n",
    "#### Mutable data types:\n",
    "\n",
    "list - ordered collections of values, enclosed in square brackets, such as [1, 2, 3] or [\"apple\", \"banana\", \"cherry\"]\n",
    "dict - unordered collections of key-value pairs, enclosed in curly braces, such as {\"name\": \"Alice\", \"age\": 30}"
   ]
  },
  {
   "cell_type": "code",
   "execution_count": 21,
   "id": "b95cd45a",
   "metadata": {},
   "outputs": [
    {
     "ename": "TypeError",
     "evalue": "'str' object does not support item assignment",
     "output_type": "error",
     "traceback": [
      "\u001b[1;31m---------------------------------------------------------------------------\u001b[0m",
      "\u001b[1;31mTypeError\u001b[0m                                 Traceback (most recent call last)",
      "Cell \u001b[1;32mIn[21], line 7\u001b[0m\n\u001b[0;32m      4\u001b[0m s \u001b[38;5;241m=\u001b[39m \u001b[38;5;124m\"\u001b[39m\u001b[38;5;124mHello, world!\u001b[39m\u001b[38;5;124m\"\u001b[39m \u001b[38;5;66;03m# str\u001b[39;00m\n\u001b[0;32m      5\u001b[0m t \u001b[38;5;241m=\u001b[39m (\u001b[38;5;241m1\u001b[39m, \u001b[38;5;241m2\u001b[39m, \u001b[38;5;241m3\u001b[39m) \u001b[38;5;66;03m# tuple\u001b[39;00m\n\u001b[1;32m----> 7\u001b[0m \u001b[43ms\u001b[49m\u001b[43m[\u001b[49m\u001b[38;5;241;43m0\u001b[39;49m\u001b[43m]\u001b[49m \u001b[38;5;241m=\u001b[39m \u001b[38;5;124m\"\u001b[39m\u001b[38;5;124mh\u001b[39m\u001b[38;5;124m\"\u001b[39m \u001b[38;5;66;03m# TypeError: 'str' object does not support item assignment\u001b[39;00m\n\u001b[0;32m      8\u001b[0m t[\u001b[38;5;241m0\u001b[39m] \u001b[38;5;241m=\u001b[39m \u001b[38;5;241m0\u001b[39m \u001b[38;5;66;03m# TypeError: 'tuple' object does not support item assignment\u001b[39;00m\n",
      "\u001b[1;31mTypeError\u001b[0m: 'str' object does not support item assignment"
     ]
    }
   ],
   "source": [
    "x = 5 # int\n",
    "y = 3.14 # float\n",
    "z = True # bool\n",
    "s = \"Hello, world!\" # str\n",
    "t = (1, 2, 3) # tuple\n",
    "\n",
    "s[0] = \"h\" # TypeError: 'str' object does not support item assignment\n",
    "t[0] = 0 # TypeError: 'tuple' object does not support item assignment\n"
   ]
  },
  {
   "cell_type": "code",
   "execution_count": 23,
   "id": "746514a1",
   "metadata": {},
   "outputs": [
    {
     "name": "stdout",
     "output_type": "stream",
     "text": [
      "[0, 2, 3] \n",
      " {'name': 'Alice', 'age': 31}\n"
     ]
    }
   ],
   "source": [
    "l = [1, 2, 3] # list\n",
    "d = {\"name\": \"Alice\", \"age\": 30} # dict\n",
    "\n",
    "# Modifying a mutable data type is allowed\n",
    "l[0] = 0 # [0, 2, 3]\n",
    "d[\"age\"] = 31 # {\"name\": \"Alice\", \"age\": 31}\n",
    "print(l,\"\\n\",d)"
   ]
  }
 ],
 "metadata": {
  "kernelspec": {
   "display_name": "Python 3 (ipykernel)",
   "language": "python",
   "name": "python3"
  },
  "language_info": {
   "codemirror_mode": {
    "name": "ipython",
    "version": 3
   },
   "file_extension": ".py",
   "mimetype": "text/x-python",
   "name": "python",
   "nbconvert_exporter": "python",
   "pygments_lexer": "ipython3",
   "version": "3.10.0"
  }
 },
 "nbformat": 4,
 "nbformat_minor": 5
}
