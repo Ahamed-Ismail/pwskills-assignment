{
 "cells": [
  {
   "cell_type": "markdown",
   "id": "4443af2c",
   "metadata": {},
   "source": [
    "## Q1. What is the Probability density function?\n",
    "\n",
    "The Probability Density Function (PDF) is a fundamental concept in probability theory and statistics. It is a function that describes the likelihood of a continuous random variable taking on a particular value within a given range. In other words, the PDF provides a way to model the probability distribution of a continuous random variable.\n",
    "\n",
    "The PDF of a continuous random variable X is typically denoted by f(x) and satisfies the following properties:\n",
    "\n",
    "1. Non-negativity: The PDF is non-negative for all values of x: f(x) ≥ 0.\n",
    "\n",
    "2. Area under the curve: The total area under the PDF curve over the entire range of possible values is equal to 1. This means that the sum of all probabilities of the random variable equals 1."
   ]
  },
  {
   "cell_type": "markdown",
   "id": "d04490b0",
   "metadata": {},
   "source": [
    "## Q2. What are the types of Probability distribution?\n",
    "\n",
    "1. Binomial Distribution\n",
    "2. Poisson Distribution\n",
    "3. Normal Distribution\n",
    "4. Geometric Distribution\n",
    "5. Exponential Distribution\n",
    "6. Uniform Distribution"
   ]
  },
  {
   "cell_type": "markdown",
   "id": "1a34bb91",
   "metadata": {},
   "source": [
    "## Q3. Write a Python function to calculate the probability density function of a normal distribution with given mean and standard deviation at a given point."
   ]
  },
  {
   "cell_type": "code",
   "execution_count": 3,
   "id": "38541f1a",
   "metadata": {},
   "outputs": [
    {
     "name": "stdout",
     "output_type": "stream",
     "text": [
      "The pdf of x = 1.5 is 0.12951759566589174\n"
     ]
    }
   ],
   "source": [
    "import math\n",
    "\n",
    "def normal_dist(x,mean,std):\n",
    "    return (1/(std*math.sqrt(2*math.pi)))* math.exp(-((x-mean)**2)/(2*std**2))\n",
    "\n",
    "x=1.5\n",
    "std=1\n",
    "mean=0\n",
    "\n",
    "\n",
    "print(f\"The pdf of x = {x} is {normal_dist(x,mean,std)}\")"
   ]
  },
  {
   "cell_type": "markdown",
   "id": "04e78bfc",
   "metadata": {},
   "source": [
    "## Q4. What are the properties of Binomial distribution? Give two examples of events where binomial distribution can be applied.\n",
    "\n",
    "The Binomial distribution is a discrete probability distribution that models the number of successes in a fixed number of independent Bernoulli trials. It has the following key properties:\n",
    "\n",
    "1. Fixed Number of Trials: The binomial distribution deals with a fixed number of independent trials denoted by 'n'.\n",
    "\n",
    "2. Independent Trials: Each trial must be independent of the others, meaning the outcome of one trial does not influence the outcome of another.\n",
    "\n",
    "3. Two Possible Outcomes: Each trial has two possible outcomes, typically denoted as \"success\" (S) and \"failure\" (F), with probabilities 'p' and 'q' respectively, where p + q = 1.\n",
    "\n",
    "4. Constant Probability: The probability of success (p) remains constant across all trials.\n",
    "\n",
    "5. Discrete Nature: The binomial random variable is discrete, meaning it can only take on whole number values.\n",
    "\n",
    "The probability mass function (PMF) of the Binomial distribution is given by:\n",
    "\n",
    "P(X = k) = C(n, k) * p^k * q^(n - k)\n",
    "\n",
    "where:\n",
    "- X is the binomial random variable representing the number of successes.\n",
    "- k is the number of successes in 'n' trials.\n",
    "- C(n, k) is the binomial coefficient, which is the number of ways to choose 'k' successes out of 'n' trials, given by C(n, k) = n! / (k! * (n - k)!).\n",
    "- p is the probability of success in a single trial.\n",
    "- q = 1 - p is the probability of failure in a single trial.\n",
    "\n",
    "Example of event where the binomial distribution can be applied are:\n",
    "\n",
    "1. Coin Toss: When flipping a fair coin, the outcome of each flip can be considered a binomial event. For example, we can model the number of heads obtained in 10 coin flips.\n"
   ]
  },
  {
   "cell_type": "markdown",
   "id": "8fb929a5",
   "metadata": {},
   "source": [
    "## Q5. Generate a random sample of size 1000 from a binomial distribution with probability of success 0.4 and plot a histogram of the results using matplotlib."
   ]
  },
  {
   "cell_type": "code",
   "execution_count": 12,
   "id": "f35ab01e",
   "metadata": {},
   "outputs": [
    {
     "data": {
      "image/png": "[encoded data removed]",
      "text/plain": [
       "<Figure size 640x480 with 1 Axes>"
      ]
     },
     "metadata": {},
     "output_type": "display_data"
    }
   ],
   "source": [
    "import matplotlib.pyplot as plt\n",
    "import random\n",
    "\n",
    "def generate_binomial(n,success):\n",
    "    random_sample=[1 if random.random()>success else 0 for _ in range(n)]\n",
    "    \n",
    "    plt.hist(random_sample, bins=2,  align='mid', edgecolor='black', alpha=0.7)\n",
    "    plt.xticks([0.25, 0.75], ['Failure', 'Success'])\n",
    "    plt.xlabel('Outcome')\n",
    "    plt.ylabel('Frequency')\n",
    "    plt.title('Histogram of Random Sample from Binomial Distribution')\n",
    "    plt.grid(axis='y', linestyle='--', alpha=0.7)\n",
    "    plt.show()\n",
    "generate_binomial(1000,0.4)"
   ]
  },
  {
   "cell_type": "markdown",
   "id": "c791900f",
   "metadata": {},
   "source": [
    "## Q6. Write a Python function to calculate the cumulative distribution function of a Poisson distribution with given mean at a given point."
   ]
  },
  {
   "cell_type": "code",
   "execution_count": 16,
   "id": "b99b9143",
   "metadata": {},
   "outputs": [
    {
     "name": "stdout",
     "output_type": "stream",
     "text": [
      "CDF of x=4 is 0.8911780189141512\n"
     ]
    }
   ],
   "source": [
    "import math\n",
    "def CDF_poisson(Lambda,x):\n",
    "    cdf=0;\n",
    "    for i in range(x+1):\n",
    "        cdf+=math.exp(-Lambda)*(Lambda**i)/math.factorial(i)\n",
    "    return cdf\n",
    "\n",
    "x,mean=4,2.5\n",
    "print(f\"CDF of x={x} is {CDF_poisson(mean,x)}\")"
   ]
  },
  {
   "cell_type": "markdown",
   "id": "f435327d",
   "metadata": {},
   "source": [
    "## Q7. How Binomial distribution different from Poisson distribution?\n",
    "\n",
    "The Binomial distribution and the Poisson distribution are both probability distributions used to model the number of events or successes occurring in a fixed number of trials or a fixed interval of time or space. However, they have different characteristics and are used under different circumstances. Let's explore the differences between the two:\n",
    "\n",
    "1. Nature of Trials:\n",
    "- Binomial Distribution: The Binomial distribution models the number of successes (or events with a specific outcome) in a fixed number of independent Bernoulli trials. Each trial can result in either a success (with probability p) or a failure (with probability q = 1 - p), and the outcome of one trial does not affect the outcome of others.\n",
    "- Poisson Distribution: The Poisson distribution models the number of events that occur in a fixed interval of time or space, where events happen independently and at a constant average rate (λ) per unit interval.\n",
    "\n",
    "2. Number of Trials/Events:\n",
    "- Binomial Distribution: The number of trials (n) is fixed and specified in advance. The random variable in a binomial distribution represents the count of successes (k) in those fixed trials.\n",
    "- Poisson Distribution: The number of events is not fixed in advance but is measured within a fixed interval of time or space. The random variable in a Poisson distribution represents the count of events (k) in that fixed interval.\n",
    "\n",
    "3. Parameters:\n",
    "- Binomial Distribution: The Binomial distribution has two parameters: the probability of success in a single trial (p) and the number of trials (n).\n",
    "- Poisson Distribution: The Poisson distribution has one parameter: the average rate of events per unit interval (λ).\n",
    "\n",
    "4. Assumptions:\n",
    "- Binomial Distribution: The Binomial distribution assumes that each trial is independent, and the probability of success (p) remains constant across all trials.\n",
    "- Poisson Distribution: The Poisson distribution assumes that events occur independently and at a constant rate (λ) per unit interval. It is often used to approximate the Binomial distribution when the number of trials is large (n) and the probability of success in each trial is small (p), while the product λ = n * p remains fixed.\n",
    "\n",
    "5. Applications:\n",
    "- Binomial Distribution: The Binomial distribution is commonly used to model scenarios where there are two possible outcomes in each trial, such as the success/failure of a manufacturing process, the number of correct answers in multiple-choice questions, or the number of heads in a series of coin tosses.\n",
    "- Poisson Distribution: The Poisson distribution is frequently used to model scenarios involving the number of rare events, such as the number of customers arriving at a store in a given time period, the number of accidents in a day, or the number of emails received in an hour.\n"
   ]
  },
  {
   "cell_type": "markdown",
   "id": "a24cbc59",
   "metadata": {},
   "source": [
    "## Q8. Generate a random sample of size 1000 from a Poisson distribution with mean 5 and calculate the sample mean and variance."
   ]
  },
  {
   "cell_type": "code",
   "execution_count": 14,
   "id": "b1cde1de",
   "metadata": {},
   "outputs": [
    {
     "name": "stdout",
     "output_type": "stream",
     "text": [
      "Sample mean: 5.1190\n",
      "Sample variance: 5.1500\n"
     ]
    }
   ],
   "source": [
    "import numpy as np\n",
    "\n",
    "def sample_mean_variance(mean,size):\n",
    "    \n",
    "    sample = np.random.poisson(mean, size=sample_size)\n",
    "    \n",
    "    sample_mean = np.mean(sample)\n",
    "    sample_variance = np.var(sample, ddof=1)\n",
    "    return sample_mean, sample_variance\n",
    "\n",
    "mean = 5\n",
    "sample_size = 1000\n",
    "\n",
    "sample_mean, sample_variance = sample_mean_variance(mean,sample_size)\n",
    "\n",
    "print(f\"Sample mean: {sample_mean:.4f}\")\n",
    "print(f\"Sample variance: {sample_variance:.4f}\")\n"
   ]
  },
  {
   "cell_type": "markdown",
   "id": "2d27d6a8",
   "metadata": {},
   "source": [
    "## Q9. How mean and variance are related in Binomial distribution and Poisson distribution?\n",
    "\n",
    "1. Binomial Distribution\n",
    "   \n",
    "   In a binomial distribution, there are only two possible outcomes, i.e. success or failure. In binomial distribution Mean > Variance. The mean is equal to the success rate while the variance is equal to the product of success and failure rate.\n",
    "   ##### mean = p\n",
    "   ##### variance = (p*q)\n",
    "   \n",
    "\n",
    "2. Poisson Distribution\n",
    "    \n",
    "    There are an unlimited number of possible outcomes in the case of poisson distribution. In poisson distribution mean = variance. \n",
    "    ##### mean = variance = lambda*t"
   ]
  },
  {
   "cell_type": "markdown",
   "id": "11a4da02",
   "metadata": {},
   "source": [
    "## Q10. In normal distribution with respect to mean position, where does the least frequent data appear?\n",
    "\n",
    "In a normal distribution, the least frequent data points appear in the tails of the distribution. The normal distribution, also known as the Gaussian distribution, is a symmetrical bell-shaped curve. The highest frequency of data points is found around the mean (center) of the distribution, and as we move away from the mean towards the tails, the frequency of data points gradually decreases.\n",
    "\n",
    "In a standard normal distribution (mean = 0, standard deviation = 1), approximately 68% of the data falls within one standard deviation of the mean, about 95% falls within two standard deviations, and approximately 99.7% falls within three standard deviations. This means that only a small percentage (0.3%) of the data appears in the tails beyond three standard deviations from the mean on either side.\n",
    "\n",
    "In general, the further away from the mean a data point is, the less frequent it is in the distribution."
   ]
  }
 ],
 "metadata": {
  "kernelspec": {
   "display_name": "Python 3 (ipykernel)",
   "language": "python",
   "name": "python3"
  },
  "language_info": {
   "codemirror_mode": {
    "name": "ipython",
    "version": 3
   },
   "file_extension": ".py",
   "mimetype": "text/x-python",
   "name": "python",
   "nbconvert_exporter": "python",
   "pygments_lexer": "ipython3",
   "version": "3.10.0"
  }
 },
 "nbformat": 4,
 "nbformat_minor": 5
}
