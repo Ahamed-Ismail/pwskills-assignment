{
 "cells": [
  {
   "cell_type": "markdown",
   "id": "0ed392a0",
   "metadata": {},
   "source": [
    "## Q1. Write a Python function that takes in two arrays of data and calculates the F-value for a variance ratio test. The function should return the F-value and the corresponding p-value for the test."
   ]
  },
  {
   "cell_type": "code",
   "execution_count": 15,
   "id": "e37cd8d8",
   "metadata": {},
   "outputs": [
    {
     "name": "stdout",
     "output_type": "stream",
     "text": [
      "f_stats=0.015659955257270694, pvalue=0.9021921055216164\n"
     ]
    }
   ],
   "source": [
    "import scipy.stats as stats\n",
    "\n",
    "def f_ratio(data1,data2):\n",
    "        \n",
    "    f_stats, pvalue= stats.f_oneway(data1, data2)\n",
    "    \n",
    "    return f_stats, pvalue\n",
    "\n",
    "arr1=[1,2,5,2,3,4,5,6]\n",
    "arr2=[4,5,1,2,3,8,4,2]\n",
    "\n",
    "res=f_ratio(arr1,arr2)\n",
    "print(f\"f_stats={res[0]}, pvalue={res[1]}\")"
   ]
  },
  {
   "cell_type": "markdown",
   "id": "99808d09",
   "metadata": {},
   "source": [
    "## Q2. Given a significance level of 0.05 and the degrees of freedom for the numerator and denominator of an F-distribution, write a Python function that returns the critical F-value for a two-tailed test."
   ]
  },
  {
   "cell_type": "code",
   "execution_count": 14,
   "id": "a04bcd68",
   "metadata": {},
   "outputs": [
    {
     "name": "stdout",
     "output_type": "stream",
     "text": [
      "Critical value at 312 and alpha=0.05 is 4.474184809637748\n"
     ]
    }
   ],
   "source": [
    "def f_critical(alpha,dfn,dfd):\n",
    "    \n",
    "    return stats.f.ppf(1-alpha/2,dfn,dfd)\n",
    "\n",
    "alpha=0.05\n",
    "dfn=3\n",
    "dfd=12\n",
    "\n",
    "print(f\"Critical value at {dfn}{dfd} and alpha={alpha} is {f_critical(alpha,dfn,dfd)}\")"
   ]
  },
  {
   "cell_type": "markdown",
   "id": "af81bfef",
   "metadata": {},
   "source": [
    "## Q3. Write a Python program that generates random samples from two normal distributions with known variances and uses an F-test to determine if the variances are equal. The program should output the F- value, degrees of freedom, and p-value for the test."
   ]
  },
  {
   "cell_type": "code",
   "execution_count": 20,
   "id": "060b9df3",
   "metadata": {},
   "outputs": [
    {
     "name": "stdout",
     "output_type": "stream",
     "text": [
      "F-value: 0.18741609836095793\n",
      "Degrees of freedom (numerator): 19\n",
      "Degrees of freedom (denominator): 24\n",
      "p-value: 0.6672397074299508\n"
     ]
    }
   ],
   "source": [
    "import numpy as np\n",
    "import scipy.stats as stats\n",
    "\n",
    "def variance_ratio_test(data1, data2):\n",
    "    \n",
    "    # Convert the data arrays to numpy arrays\n",
    "    data1 = np.asarray(data1)\n",
    "    data2 = np.asarray(data2)\n",
    "\n",
    "    # Calculate the F-value and p-value using the f_oneway function\n",
    "    f_statistic, p_value =stats.f_oneway(data1, data2)\n",
    "\n",
    "    # Calculate degrees of freedom\n",
    "    dfn = len(data1) - 1\n",
    "    dfd = len(data2) - 1\n",
    "\n",
    "    return f_statistic, dfn, dfd, p_value\n",
    "\n",
    "\n",
    "np.random.seed(42)\n",
    "\n",
    "variance1 = 10\n",
    "variance2 = 15\n",
    "sample_size1 = 20\n",
    "sample_size2 = 25\n",
    "\n",
    "mean1, mean2 = 0, 0\n",
    "data1 = np.random.normal(mean1, np.sqrt(variance1), sample_size1)\n",
    "data2 = np.random.normal(mean2, np.sqrt(variance2), sample_size2)\n",
    "\n",
    "f_value, dfn, dfd, p_value = variance_ratio_test(data1, data2)\n",
    "\n",
    "print(\"F-value:\", f_value)\n",
    "print(\"Degrees of freedom (numerator):\", dfn)\n",
    "print(\"Degrees of freedom (denominator):\", dfd)\n",
    "print(\"p-value:\", p_value)\n",
    "\n"
   ]
  },
  {
   "cell_type": "markdown",
   "id": "abf60573",
   "metadata": {},
   "source": [
    "## Q4.The variances of two populations are known to be 10 and 15. A sample of 12 observations is taken from each population. Conduct an F-test at the 5% significance level to determine if the variances are significantly different.\n",
    "\n",
    "H0: There is significant difference between the two samples\n",
    "\n",
    "H1: There is no significant difference between the two samples"
   ]
  },
  {
   "cell_type": "code",
   "execution_count": 22,
   "id": "bea601d5",
   "metadata": {},
   "outputs": [
    {
     "name": "stdout",
     "output_type": "stream",
     "text": [
      "We failed to reject null hypothesis. There is no significant difference between the two samples\n"
     ]
    }
   ],
   "source": [
    "var1=10\n",
    "var2=15\n",
    "\n",
    "alpha=0.05\n",
    "\n",
    "dfn,dfd=11,11\n",
    "\n",
    "f=var1/var2\n",
    "\n",
    "critical_val=stats.f.ppf(1-alpha/2, dfn,dfd)\n",
    "if f>critical_val:\n",
    "    print(\"We reject null hypothesis. There is significant difference between the two samples\")\n",
    "else:\n",
    "    print(\"We failed to reject null hypothesis. There is no significant difference between the two samples\")    "
   ]
  },
  {
   "cell_type": "markdown",
   "id": "1079f22d",
   "metadata": {},
   "source": [
    "## Q5. A manufacturer claims that the variance of the diameter of a certain product is 0.005. A sample of 25 products is taken, and the sample variance is found to be 0.006. Conduct an F-test at the 1% significance level to determine if the claim is justified."
   ]
  },
  {
   "cell_type": "code",
   "execution_count": 28,
   "id": "77157349",
   "metadata": {},
   "outputs": [
    {
     "name": "stdout",
     "output_type": "stream",
     "text": [
      "F-statistic: 1.2\n",
      "p-value: 0.3293654682817244\n",
      "The claim is justified at the 1% significance level.\n"
     ]
    }
   ],
   "source": [
    "import numpy as np\n",
    "from scipy.stats import f\n",
    "\n",
    "def test():\n",
    "    claimed_variance = 0.005\n",
    "    sample_variance = 0.006\n",
    "    sample_size = 25\n",
    "\n",
    "    dfn = sample_size - 1\n",
    "    dfd = sample_size - 1\n",
    "\n",
    "    f_statistic = (sample_variance / claimed_variance)\n",
    "\n",
    "    p_value = 1 - f.cdf(f_statistic,dfn, dfd)\n",
    "\n",
    "    alpha = 0.01\n",
    "\n",
    "    print(\"F-statistic:\", f_statistic)\n",
    "    print(\"p-value:\", p_value)\n",
    "\n",
    "    if p_value < alpha:\n",
    "        print(\"The claim is not justified at the 1% significance level.\")\n",
    "    else:\n",
    "        print(\"The claim is justified at the 1% significance level.\")\n",
    "\n",
    "test()"
   ]
  },
  {
   "cell_type": "markdown",
   "id": "ac56ee32",
   "metadata": {},
   "source": [
    "## Q6. Write a Python function that takes in the degrees of freedom for the numerator and denominator of an F-distribution and calculates the mean and variance of the distribution. The function should return the mean and variance as a tuple."
   ]
  },
  {
   "cell_type": "code",
   "execution_count": 29,
   "id": "7cef9e4f",
   "metadata": {},
   "outputs": [
    {
     "name": "stdout",
     "output_type": "stream",
     "text": [
      "Mean: 1.2\n",
      "Variance: 1.56\n"
     ]
    }
   ],
   "source": [
    "def f_distribution_properties(dfn, dfd):\n",
    "\n",
    "    mean = dfd / (dfd - 2)\n",
    "    variance = (2 * (dfd**2) * (dfn + dfd - 2)) / (dfn * (dfd - 2)**2 * (dfd - 4))\n",
    "\n",
    "    return mean, variance\n",
    "\n",
    "\n",
    "dfn = 3\n",
    "dfd = 12\n",
    "mean, variance = f_distribution_properties(dfn, dfd)\n",
    "print(\"Mean:\", mean)\n",
    "print(\"Variance:\", variance)\n"
   ]
  },
  {
   "cell_type": "markdown",
   "id": "2d2c77a5",
   "metadata": {},
   "source": [
    "## Q7. A random sample of 10 measurements is taken from a normal population with unknown variance. The sample variance is found to be 25. Another random sample of 15 measurements is taken from another normal population with unknown variance, and the sample variance is found to be 20. Conduct an F-test at the 10% significance level to determine if the variances are significantly different.\n",
    "\n",
    "H0: The variance are not significantly different\n",
    "\n",
    "\n",
    "H1: The variance are significantly different"
   ]
  },
  {
   "cell_type": "code",
   "execution_count": 31,
   "id": "69956bf3",
   "metadata": {},
   "outputs": [
    {
     "name": "stdout",
     "output_type": "stream",
     "text": [
      "We failed to reject null hypothesis. The variance are not significantly different\n"
     ]
    }
   ],
   "source": [
    "alpha=0.1\n",
    "\n",
    "var1= 25\n",
    "sample_size1=10\n",
    "\n",
    "var2=20\n",
    "sample_size=15\n",
    "\n",
    "f=var1/var2\n",
    "\n",
    "critical_val=stats.f.ppf(1-alpha, dfn=sample_size1-1,dfd=sample_size2-1)\n",
    "\n",
    "if f>critical_val:\n",
    "    print(\"We reject null hypothesis. The variance are significantly different\")\n",
    "else:\n",
    "    print(\"We failed to reject null hypothesis. The variance are not significantly different\")    "
   ]
  },
  {
   "cell_type": "markdown",
   "id": "8e158e08",
   "metadata": {},
   "source": [
    "## Q8. The following data represent the waiting times in minutes at two different restaurants on a Saturday night: Restaurant A: 24, 25, 28, 23, 22, 20, 27; Restaurant B: 31, 33, 35, 30, 32, 36. Conduct an F-test at the 5% significance level to determine if the variances are significantly different.\n",
    "\n",
    "H0: The variance are not significantly different\n",
    "\n",
    "H1: The variance are significantly different"
   ]
  },
  {
   "cell_type": "code",
   "execution_count": 34,
   "id": "db28f5d4",
   "metadata": {},
   "outputs": [
    {
     "name": "stdout",
     "output_type": "stream",
     "text": [
      "We reject null hypothesis. The variance are significantly different\n"
     ]
    }
   ],
   "source": [
    "alpha =0.5\n",
    "\n",
    "restA=np.asarray([24, 25, 28, 23, 22, 20, 27])\n",
    "restB=np.asarray([31, 33, 35, 30, 32, 36])\n",
    "\n",
    "\n",
    "f=np.var(groupA)/np.var(groupB)\n",
    "\n",
    "dfn=len(groupA)-1\n",
    "dfd=len(groupB)-1\n",
    "\n",
    "critical_val=stats.f.ppf(1-alpha/2, dfn,dfd)\n",
    "\n",
    "if f>critical_val:\n",
    "    print(\"We reject null hypothesis. The variance are significantly different\")\n",
    "else:\n",
    "    print(\"We failed to reject null hypothesis. The variance are not significantly different\")   "
   ]
  },
  {
   "cell_type": "markdown",
   "id": "d4a35027",
   "metadata": {},
   "source": [
    "## Q9. The following data represent the test scores of two groups of students: \n",
    "## Group A: 80, 85, 90, 92, 87, 83;\n",
    "## Group B: 75, 78, 82, 79, 81, 84. Conduct an F-test at the 1% significance level to determine if the variances are significantly different.\n",
    "\n",
    "H0: The variance are not significantly different\n",
    "\n",
    "H1: The variance are significantly different"
   ]
  },
  {
   "cell_type": "code",
   "execution_count": 33,
   "id": "235db18d",
   "metadata": {},
   "outputs": [
    {
     "name": "stdout",
     "output_type": "stream",
     "text": [
      "We failed to reject null hypothesis. The variance are not significantly different\n"
     ]
    }
   ],
   "source": [
    "groupA=np.asarray([80, 85, 90, 92, 87, 83])\n",
    "\n",
    "groupB=np.asarray([75, 78, 82, 79, 81, 84])\n",
    "alpha=0.1\n",
    "\n",
    "f=np.var(groupA)/np.var(groupB)\n",
    "\n",
    "dfn=len(groupA)-1\n",
    "dfd=len(groupB)-1\n",
    "\n",
    "critical_val=stats.f.ppf(1-alpha/2, dfn,dfd)\n",
    "\n",
    "if f>critical_val:\n",
    "    print(\"We reject null hypothesis. The variance are significantly different\")\n",
    "else:\n",
    "    print(\"We failed to reject null hypothesis. The variance are not significantly different\")    "
   ]
  }
 ],
 "metadata": {
  "kernelspec": {
   "display_name": "Python 3 (ipykernel)",
   "language": "python",
   "name": "python3"
  },
  "language_info": {
   "codemirror_mode": {
    "name": "ipython",
    "version": 3
   },
   "file_extension": ".py",
   "mimetype": "text/x-python",
   "name": "python",
   "nbconvert_exporter": "python",
   "pygments_lexer": "ipython3",
   "version": "3.10.0"
  }
 },
 "nbformat": 4,
 "nbformat_minor": 5
}
