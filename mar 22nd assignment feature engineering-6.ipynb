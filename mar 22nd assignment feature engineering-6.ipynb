{
 "cells": [
  {
   "cell_type": "markdown",
   "id": "1e24586e",
   "metadata": {},
   "source": [
    "## Q1. Pearson correlation coefficient is a measure of the linear relationship between two variables. Suppose you have collected data on the amount of time students spend studying for an exam and their final exam scores. Calculate the Pearson correlation coefficient between these two variables and interpret the result."
   ]
  },
  {
   "cell_type": "code",
   "execution_count": 2,
   "id": "58099560",
   "metadata": {},
   "outputs": [
    {
     "data": {
      "text/html": [
       "<div>\n",
       "<style scoped>\n",
       "    .dataframe tbody tr th:only-of-type {\n",
       "        vertical-align: middle;\n",
       "    }\n",
       "\n",
       "    .dataframe tbody tr th {\n",
       "        vertical-align: top;\n",
       "    }\n",
       "\n",
       "    .dataframe thead th {\n",
       "        text-align: right;\n",
       "    }\n",
       "</style>\n",
       "<table border=\"1\" class=\"dataframe\">\n",
       "  <thead>\n",
       "    <tr style=\"text-align: right;\">\n",
       "      <th></th>\n",
       "      <th>Study Hours</th>\n",
       "      <th>Exam Score</th>\n",
       "    </tr>\n",
       "  </thead>\n",
       "  <tbody>\n",
       "    <tr>\n",
       "      <th>Study Hours</th>\n",
       "      <td>1.000000</td>\n",
       "      <td>0.986246</td>\n",
       "    </tr>\n",
       "    <tr>\n",
       "      <th>Exam Score</th>\n",
       "      <td>0.986246</td>\n",
       "      <td>1.000000</td>\n",
       "    </tr>\n",
       "  </tbody>\n",
       "</table>\n",
       "</div>"
      ],
      "text/plain": [
       "             Study Hours  Exam Score\n",
       "Study Hours     1.000000    0.986246\n",
       "Exam Score      0.986246    1.000000"
      ]
     },
     "execution_count": 2,
     "metadata": {},
     "output_type": "execute_result"
    }
   ],
   "source": [
    "import pandas as pd\n",
    "\n",
    "df=pd.DataFrame( {\n",
    "    \"Study Hours\": [2, 3, 5, 1, 4, 6, 7, 3, 2, 4],\n",
    "    \"Exam Score\": [65, 70, 75, 60, 72, 80, 85, 68, 62, 70]\n",
    "})\n",
    "\n",
    "df.corr(method='pearson')"
   ]
  },
  {
   "cell_type": "markdown",
   "id": "d90d0ff6",
   "metadata": {},
   "source": [
    "1. Exam score and Study Hours have a very high positive correlation indicating more time spent on studying result is higher marks"
   ]
  },
  {
   "cell_type": "markdown",
   "id": "5d2e2cdc",
   "metadata": {},
   "source": [
    "## Q2. Spearman's rank correlation is a measure of the monotonic relationship between two variables. Suppose you have collected data on the amount of sleep individuals get each night and their overall job satisfaction level on a scale of 1 to 10. Calculate the Spearman's rank correlation between these two variables and interpret the result."
   ]
  },
  {
   "cell_type": "code",
   "execution_count": 3,
   "id": "bd087d06",
   "metadata": {},
   "outputs": [
    {
     "data": {
      "text/html": [
       "<div>\n",
       "<style scoped>\n",
       "    .dataframe tbody tr th:only-of-type {\n",
       "        vertical-align: middle;\n",
       "    }\n",
       "\n",
       "    .dataframe tbody tr th {\n",
       "        vertical-align: top;\n",
       "    }\n",
       "\n",
       "    .dataframe thead th {\n",
       "        text-align: right;\n",
       "    }\n",
       "</style>\n",
       "<table border=\"1\" class=\"dataframe\">\n",
       "  <thead>\n",
       "    <tr style=\"text-align: right;\">\n",
       "      <th></th>\n",
       "      <th>Sleep Hours</th>\n",
       "      <th>Job Satisfaction</th>\n",
       "    </tr>\n",
       "  </thead>\n",
       "  <tbody>\n",
       "    <tr>\n",
       "      <th>Sleep Hours</th>\n",
       "      <td>1.000000</td>\n",
       "      <td>0.959224</td>\n",
       "    </tr>\n",
       "    <tr>\n",
       "      <th>Job Satisfaction</th>\n",
       "      <td>0.959224</td>\n",
       "      <td>1.000000</td>\n",
       "    </tr>\n",
       "  </tbody>\n",
       "</table>\n",
       "</div>"
      ],
      "text/plain": [
       "                  Sleep Hours  Job Satisfaction\n",
       "Sleep Hours          1.000000          0.959224\n",
       "Job Satisfaction     0.959224          1.000000"
      ]
     },
     "execution_count": 3,
     "metadata": {},
     "output_type": "execute_result"
    }
   ],
   "source": [
    "df=pd.DataFrame({\n",
    "    \"Sleep Hours\": [7, 6, 8, 5, 6, 7, 6, 8, 7, 5],\n",
    "    \"Job Satisfaction\": [8, 6, 9, 4, 7, 8, 5, 9, 7, 3]\n",
    "})\n",
    "\n",
    "df.corr(method='spearman')\n"
   ]
  },
  {
   "cell_type": "markdown",
   "id": "e4b5b767",
   "metadata": {},
   "source": [
    "1. We can see that sleep hours and job satisfaction have very high positive correlation which indicates that workers with more sleep hours have better job satifaction"
   ]
  },
  {
   "cell_type": "markdown",
   "id": "f8cd5f5c",
   "metadata": {},
   "source": [
    "## Q3. Suppose you are conducting a study to examine the relationship between the number of hours of exercise per week and body mass index (BMI) in a sample of adults. You collected data on both variables for 50 participants. Calculate the Pearson correlation coefficient and the Spearman's rank correlation between these two variables and compare the results."
   ]
  },
  {
   "cell_type": "code",
   "execution_count": 9,
   "id": "dc63e6be",
   "metadata": {},
   "outputs": [
    {
     "name": "stdout",
     "output_type": "stream",
     "text": [
      "Pearson's=                    Hours of Exercise       BMI\n",
      "Hours of Exercise           1.000000 -0.850164\n",
      "BMI                        -0.850164  1.000000\n",
      "Spearman's=                    Hours of Exercise       BMI\n",
      "Hours of Exercise           1.000000 -0.868298\n",
      "BMI                        -0.868298  1.000000\n"
     ]
    }
   ],
   "source": [
    "df=pd.DataFrame( {\n",
    "    \"Hours of Exercise\": [4, 3, 5, 2, 6, 3.5, 2.5, 4.5, 1, 2.5,\n",
    "                          3, 5, 1.5, 2, 6, 4, 3.5, 5.5, 2.5, 3,\n",
    "                          1.5, 4, 3, 2.5, 5, 3.5, 6, 4.5, 3, 1.5,\n",
    "                          5.5, 3, 2.5, 4, 3.5, 2, 1, 4, 3.5, 2.5,\n",
    "                          5, 3, 4.5, 1.5, 2.5, 6, 3, 5.5, 4],\n",
    "    \"BMI\": [25.2, 28.4, 22.1, 30.5, 24.9, 27.8, 31.2, 26.6, 29.8, 33.1,\n",
    "            28.9, 21.7, 34.0, 29.3, 25.8, 23.6, 27.1, 22.5, 31.8, 29.0,\n",
    "            32.5, 26.3, 29.7, 31.5, 25.4, 28.7, 24.2, 27.9, 29.5, 33.2,\n",
    "            21.4, 27.6, 29.2, 31.3, 28.1, 30.8, 34.5, 24.8, 26.2, 28.0,\n",
    "            22.9, 26.7, 23.5, 31.1, 30.3, 24.0, 27.3, 20.6, 23.9]\n",
    "})\n",
    "\n",
    "print(f\"Pearson's= {df.corr(method='pearson')}\")\n",
    "print(f\"Spearman's= {df.corr(method='spearman')}\")\n"
   ]
  },
  {
   "cell_type": "markdown",
   "id": "36d930f4",
   "metadata": {},
   "source": [
    "1. We see that both spearman and pearson correlation are nearly same\n",
    "2. we can see that Hours of Exercise has very high negative correlation with BMI of that individual which means more hours of exercise the lower their BMI index "
   ]
  },
  {
   "cell_type": "markdown",
   "id": "590fdb48",
   "metadata": {},
   "source": [
    "## Q4. A researcher is interested in examining the relationship between the number of hours individuals spend watching television per day and their level of physical activity. The researcher collected data on both variables from a sample of 50 participants. Calculate the Pearson correlation coefficient between these two variables."
   ]
  },
  {
   "cell_type": "code",
   "execution_count": 22,
   "id": "70e87abf",
   "metadata": {},
   "outputs": [
    {
     "name": "stdout",
     "output_type": "stream",
     "text": [
      "The pearson correltion between 'Physical Level' and 'Hours of TV' is 0.33166\n"
     ]
    }
   ],
   "source": [
    "df=pd.DataFrame( {\n",
    "    \"Hours of TV\": [3.5, 2.0, 1.5, 4.0, 1.0, 2.5, 2.0, 3.0, 1.0, 4.5,\n",
    "                    2.5, 3.0, 1.0, 4.0, 3.0, 2.0, 1.5, 4.0, 3.5, 2.5,\n",
    "                    1.5, 3.0, 2.5, 4.0, 2.0, 3.5, 1.0, 4.5, 2.0, 3.0,\n",
    "                    1.5, 3.5, 2.5, 4.0, 2.0, 3.0, 1.5, 4.5, 2.0, 3.0,\n",
    "                    1.5, 3.5, 2.5, 4.0, 2.0, 3.0, 1.5, 4.5],\n",
    "    \"Physical Level\": [\"Low\", \"Moderate\", \"High\", \"Moderate\", \"Low\",\n",
    "                                \"Moderate\", \"Low\", \"High\", \"Low\", \"High\",\n",
    "                                \"Moderate\", \"Moderate\", \"Low\", \"High\", \"High\",\n",
    "                                \"Moderate\", \"Low\", \"High\", \"Moderate\", \"Moderate\",\n",
    "                                \"High\", \"Moderate\", \"Moderate\", \"High\", \"Moderate\",\n",
    "                                \"Low\", \"High\", \"Low\", \"Moderate\", \"High\",\n",
    "                                \"Low\", \"Moderate\", \"High\", \"Moderate\", \"Low\",\n",
    "                                \"High\", \"Moderate\", \"Moderate\", \"Low\", \"High\",\n",
    "                                \"Moderate\", \"Moderate\", \"Low\", \"High\", \"High\",\n",
    "                                \"Moderate\", \"Low\", \"High\"]\n",
    "})\n",
    "\n",
    "from sklearn.preprocessing import OrdinalEncoder\n",
    "ohen=OrdinalEncoder(categories=[['Low','Moderate','High']])\n",
    "df['Physical Level']=ohen.fit_transform(df[['Physical Level']])\n",
    "\n",
    "corr=df.corr(method='pearson')\n",
    "''\n",
    "print(f\"The pearson correltion between 'Physical Level' and 'Hours of TV' is {corr['Hours of TV']['Physical Level']:.5f}\")"
   ]
  },
  {
   "cell_type": "markdown",
   "id": "de8d0905",
   "metadata": {},
   "source": [
    "## Q5. A survey was conducted to examine the relationship between age and preference for a particular brand of soft drink. The survey results are shown below:"
   ]
  },
  {
   "cell_type": "code",
   "execution_count": 28,
   "id": "d5edaf2a",
   "metadata": {},
   "outputs": [
    {
     "data": {
      "text/html": [
       "<div>\n",
       "<style scoped>\n",
       "    .dataframe tbody tr th:only-of-type {\n",
       "        vertical-align: middle;\n",
       "    }\n",
       "\n",
       "    .dataframe tbody tr th {\n",
       "        vertical-align: top;\n",
       "    }\n",
       "\n",
       "    .dataframe thead th {\n",
       "        text-align: right;\n",
       "    }\n",
       "</style>\n",
       "<table border=\"1\" class=\"dataframe\">\n",
       "  <thead>\n",
       "    <tr style=\"text-align: right;\">\n",
       "      <th></th>\n",
       "      <th>Age</th>\n",
       "      <th>Soft drink Preference</th>\n",
       "    </tr>\n",
       "  </thead>\n",
       "  <tbody>\n",
       "    <tr>\n",
       "      <th>3</th>\n",
       "      <td>19</td>\n",
       "      <td>Coke</td>\n",
       "    </tr>\n",
       "    <tr>\n",
       "      <th>0</th>\n",
       "      <td>25</td>\n",
       "      <td>Coke</td>\n",
       "    </tr>\n",
       "    <tr>\n",
       "      <th>5</th>\n",
       "      <td>28</td>\n",
       "      <td>Coke</td>\n",
       "    </tr>\n",
       "    <tr>\n",
       "      <th>4</th>\n",
       "      <td>31</td>\n",
       "      <td>Pepsi</td>\n",
       "    </tr>\n",
       "    <tr>\n",
       "      <th>2</th>\n",
       "      <td>37</td>\n",
       "      <td>Mountain dew</td>\n",
       "    </tr>\n",
       "    <tr>\n",
       "      <th>1</th>\n",
       "      <td>42</td>\n",
       "      <td>Pepsi</td>\n",
       "    </tr>\n",
       "  </tbody>\n",
       "</table>\n",
       "</div>"
      ],
      "text/plain": [
       "   Age Soft drink Preference\n",
       "3   19                  Coke\n",
       "0   25                  Coke\n",
       "5   28                  Coke\n",
       "4   31                 Pepsi\n",
       "2   37          Mountain dew\n",
       "1   42                 Pepsi"
      ]
     },
     "execution_count": 28,
     "metadata": {},
     "output_type": "execute_result"
    }
   ],
   "source": [
    "df=pd.DataFrame({\n",
    "    'Age':[25,42,37,19,31,28],\n",
    "    'Soft drink Preference':['Coke','Pepsi','Mountain dew','Coke','Pepsi','Coke']\n",
    "})\n",
    "df.sort_values(by='Age')"
   ]
  },
  {
   "cell_type": "markdown",
   "id": "b032a5dc",
   "metadata": {},
   "source": [
    "1. We could see that younger people below the age of 30 prefer Coke, while people above the age of 30 prefer either Pepsi or Mountain Dew"
   ]
  },
  {
   "cell_type": "markdown",
   "id": "c4385e7c",
   "metadata": {},
   "source": [
    "## Q6. A company is interested in examining the relationship between the number of sales calls made per day and the number of sales made per week. The company collected data on both variables from a sample of 30 sales representatives. Calculate the Pearson correlation coefficient between these two variables."
   ]
  },
  {
   "cell_type": "code",
   "execution_count": 23,
   "id": "23ff4df4",
   "metadata": {},
   "outputs": [
    {
     "name": "stdout",
     "output_type": "stream",
     "text": [
      "The pearson correltion between 'Sales Calls per Day' and 'Sales per Week' is 0.96362\n"
     ]
    }
   ],
   "source": [
    "df=pd.DataFrame( {\n",
    "    \"Sales Calls per Day\": [45, 55, 30, 50, 60, 40, 35, 55, 48, 52,\n",
    "                            42, 58, 47, 33, 56, 39, 51, 36, 49, 41,\n",
    "                            54, 38, 44, 37, 53, 46, 32, 57, 43, 31],\n",
    "    \"Sales per Week\": [10, 12, 6, 9, 14, 8, 7, 13, 11, 12,\n",
    "                       9, 15, 10, 5, 14, 8, 12, 7, 11, 9,\n",
    "                       13, 7, 10, 6, 14, 11, 4, 15, 9, 5]\n",
    "})\n",
    "\n",
    "corr=df.corr(method='pearson')\n",
    "\n",
    "print(f\"The pearson correltion between 'Sales Calls per Day' and 'Sales per Week' is {corr['Sales Calls per Day']['Sales per Week']:.5f}\")"
   ]
  }
 ],
 "metadata": {
  "kernelspec": {
   "display_name": "Python 3 (ipykernel)",
   "language": "python",
   "name": "python3"
  },
  "language_info": {
   "codemirror_mode": {
    "name": "ipython",
    "version": 3
   },
   "file_extension": ".py",
   "mimetype": "text/x-python",
   "name": "python",
   "nbconvert_exporter": "python",
   "pygments_lexer": "ipython3",
   "version": "3.10.0"
  }
 },
 "nbformat": 4,
 "nbformat_minor": 5
}
