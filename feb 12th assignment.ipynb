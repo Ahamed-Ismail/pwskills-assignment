{
 "cells": [
  {
   "cell_type": "markdown",
   "id": "73e7e54d",
   "metadata": {},
   "source": [
    "## Q1. What is an Exception in python? Write the difference between Exceptions and syntax error\n",
    "\n",
    "In Python, an exception is an event that occurs during the execution of a program, which disrupts the normal flow of the program's instructions. When an exceptional condition arises, an exception object is created, and if not handled properly, it can cause the program to terminate.\n",
    "\n",
    "Exceptions can occur due to various reasons, such as invalid input, resource unavailability, programming errors, or external factors. Examples of common exceptions in Python include ZeroDivisionError, TypeError, FileNotFoundError, and KeyError, among others.\n",
    "\n",
    "syntax errors occur during the parsing phase due to incorrect syntax, while exceptions occur during program execution when exceptional conditions arise. Exceptions can be handled using try-except blocks to prevent the program from terminating abruptly and allowing for graceful error handling and recovery."
   ]
  },
  {
   "cell_type": "markdown",
   "id": "92880560",
   "metadata": {},
   "source": [
    "## Q2. What happens when an exception is not handled? Explain with a example\n",
    "\n",
    "When an exception is not handled in a program, it leads to an unhandled exception, which can cause the program to terminate abruptly."
   ]
  },
  {
   "cell_type": "code",
   "execution_count": 1,
   "id": "fc325675",
   "metadata": {},
   "outputs": [
    {
     "ename": "ZeroDivisionError",
     "evalue": "division by zero",
     "output_type": "error",
     "traceback": [
      "\u001b[1;31m---------------------------------------------------------------------------\u001b[0m",
      "\u001b[1;31mZeroDivisionError\u001b[0m                         Traceback (most recent call last)",
      "Cell \u001b[1;32mIn[1], line 8\u001b[0m\n\u001b[0;32m      5\u001b[0m num1 \u001b[38;5;241m=\u001b[39m \u001b[38;5;241m10\u001b[39m\n\u001b[0;32m      6\u001b[0m num2 \u001b[38;5;241m=\u001b[39m \u001b[38;5;241m0\u001b[39m\n\u001b[1;32m----> 8\u001b[0m result \u001b[38;5;241m=\u001b[39m \u001b[43mdivide_numbers\u001b[49m\u001b[43m(\u001b[49m\u001b[43mnum1\u001b[49m\u001b[43m,\u001b[49m\u001b[43m \u001b[49m\u001b[43mnum2\u001b[49m\u001b[43m)\u001b[49m\n\u001b[0;32m      9\u001b[0m \u001b[38;5;28mprint\u001b[39m(\u001b[38;5;124m\"\u001b[39m\u001b[38;5;124mResult:\u001b[39m\u001b[38;5;124m\"\u001b[39m, result)\n",
      "Cell \u001b[1;32mIn[1], line 2\u001b[0m, in \u001b[0;36mdivide_numbers\u001b[1;34m(a, b)\u001b[0m\n\u001b[0;32m      1\u001b[0m \u001b[38;5;28;01mdef\u001b[39;00m \u001b[38;5;21mdivide_numbers\u001b[39m(a, b):\n\u001b[1;32m----> 2\u001b[0m     result \u001b[38;5;241m=\u001b[39m \u001b[43ma\u001b[49m\u001b[43m \u001b[49m\u001b[38;5;241;43m/\u001b[39;49m\u001b[43m \u001b[49m\u001b[43mb\u001b[49m\n\u001b[0;32m      3\u001b[0m     \u001b[38;5;28;01mreturn\u001b[39;00m result\n",
      "\u001b[1;31mZeroDivisionError\u001b[0m: division by zero"
     ]
    }
   ],
   "source": [
    "def divide_numbers(a, b):\n",
    "    result = a / b\n",
    "    return result\n",
    "\n",
    "num1 = 10\n",
    "num2 = 0\n",
    "\n",
    "result = divide_numbers(num1, num2)\n",
    "print(\"Result:\", result)\n"
   ]
  },
  {
   "cell_type": "markdown",
   "id": "3378048c",
   "metadata": {},
   "source": [
    "If we run this code without any exception handling, the program execution will be interrupted when the exception occurs. The Python interpreter will print a traceback that shows the point where the exception was raised.\n",
    "After displaying the traceback, the program terminates, and any code that follows the point where the exception occurred will not be executed. In this case, the line print(\"Result:\", result) is never reached."
   ]
  },
  {
   "cell_type": "markdown",
   "id": "67055f03",
   "metadata": {},
   "source": [
    "## Q3. Which python statements are used to handle exceptions?Explain with an example\n",
    "\n",
    "In Python, exceptions can be handled using try-except statements. The try block is used to enclose the code that might raise an exception, while the except block is used to handle the exception and define the necessary actions to be taken when the exception occurs"
   ]
  },
  {
   "cell_type": "code",
   "execution_count": 2,
   "id": "dcbdbf5a",
   "metadata": {},
   "outputs": [
    {
     "name": "stdout",
     "output_type": "stream",
     "text": [
      "division by zero\n"
     ]
    }
   ],
   "source": [
    "try:\n",
    "    print(10/0)\n",
    "except ZeroDivisionError as e:\n",
    "    print(e)"
   ]
  },
  {
   "cell_type": "markdown",
   "id": "40bf3d46",
   "metadata": {},
   "source": [
    "## Q4. Explain with example: \n",
    "## a)try and else \n",
    "##  b)finally \n",
    "## c)raise\n",
    "\n",
    "a) try and else:\n",
    "The else block is executed when no exceptions are raised within the corresponding try block. It allows you to specify code that should only run when the try block completes successfully."
   ]
  },
  {
   "cell_type": "code",
   "execution_count": 3,
   "id": "3f0792fb",
   "metadata": {},
   "outputs": [
    {
     "name": "stdout",
     "output_type": "stream",
     "text": [
      "Division result: 5.0\n",
      "Cannot divide by zero!\n"
     ]
    }
   ],
   "source": [
    "def divide_numbers(a, b):\n",
    "    try:\n",
    "        result = a / b\n",
    "    except ZeroDivisionError:\n",
    "        print(\"Cannot divide by zero!\")\n",
    "    else:\n",
    "        print(\"Division result:\", result)\n",
    "\n",
    "divide_numbers(10, 2)  # Valid division\n",
    "divide_numbers(10, 0)  # Division by zero\n"
   ]
  },
  {
   "cell_type": "markdown",
   "id": "484e6db4",
   "metadata": {},
   "source": [
    "b) finally:\n",
    "The finally block is used to define cleanup code that should be executed regardless of whether an exception occurs or not. It ensures that certain actions are always performed, such as closing files or releasing resources."
   ]
  },
  {
   "cell_type": "code",
   "execution_count": 4,
   "id": "6c0b2214",
   "metadata": {},
   "outputs": [
    {
     "name": "stdout",
     "output_type": "stream",
     "text": [
      "Division result: 5.0\n",
      "This will be excecuted always\n",
      "Cannot divide by zero!\n",
      "This will be excecuted always\n"
     ]
    }
   ],
   "source": [
    "def divide_numbers(a, b):\n",
    "    try:\n",
    "        result = a / b\n",
    "    except ZeroDivisionError:\n",
    "        print(\"Cannot divide by zero!\")\n",
    "    else:\n",
    "        print(\"Division result:\", result)\n",
    "    finally:\n",
    "        print('This will be excecuted always')\n",
    "\n",
    "divide_numbers(10, 2)  # Valid division\n",
    "divide_numbers(10, 0)  # Division by zero"
   ]
  },
  {
   "cell_type": "markdown",
   "id": "a3337f38",
   "metadata": {},
   "source": [
    "c) raise:\n",
    "The raise statement is used to manually raise an exception in Python. It allows you to create and raise custom exceptions or re-raise existing exceptions."
   ]
  },
  {
   "cell_type": "code",
   "execution_count": 5,
   "id": "c2203506",
   "metadata": {},
   "outputs": [
    {
     "name": "stdout",
     "output_type": "stream",
     "text": [
      "Enter age-4\n",
      "Age cannot be negative\n"
     ]
    }
   ],
   "source": [
    "try:\n",
    "    age=int(input(\"Enter age\"))\n",
    "    if age<0:\n",
    "        raise ValueError('Age cannot be negative')\n",
    "    print(\"Valid age\")\n",
    "except ValueError as e:\n",
    "    print(e)\n"
   ]
  },
  {
   "cell_type": "markdown",
   "id": "05756373",
   "metadata": {},
   "source": [
    "## Q5. What are custom exceptions in python? Why do we need custom exceptions? Explain with an Example\n",
    "\n",
    "Custom exceptions in Python are user-defined exception classes that inherit from the base Exception class or any of its subclasses. They allow programmers to define their own types of exceptions that can be raised in specific situations within their code.\n",
    "\n",
    "We need custom exceptions in Python for the following reasons:\n",
    "1. Enhanced Error Handling\n",
    "2. Code Readability and Maintainability\n",
    "3. Exception Hierarchy"
   ]
  },
  {
   "cell_type": "code",
   "execution_count": 8,
   "id": "e3c14519",
   "metadata": {},
   "outputs": [
    {
     "name": "stdout",
     "output_type": "stream",
     "text": [
      "Email sent successfully.\n",
      "Error: Invalid email address!\n"
     ]
    }
   ],
   "source": [
    "class InvalidEmailError(Exception):\n",
    "    pass\n",
    "\n",
    "def send_email(email):\n",
    "    if \"@\" not in email:\n",
    "        raise InvalidEmailError(\"Invalid email address!\")\n",
    "\n",
    "try:\n",
    "    send_email(\"user@example.com\")\n",
    "except InvalidEmailError as e:\n",
    "    print(\"Error:\", str(e))\n",
    "else:\n",
    "    print(\"Email sent successfully.\")\n",
    "\n",
    "try:\n",
    "    send_email(\"invalid.email\")\n",
    "except InvalidEmailError as e:\n",
    "    print(\"Error:\", str(e))\n",
    "else:\n",
    "    print(\"Email sent successfully.\")\n"
   ]
  },
  {
   "cell_type": "markdown",
   "id": "0f0cd32f",
   "metadata": {},
   "source": [
    "## Q6. Create a custom exception class. Use this class to handle an exception "
   ]
  },
  {
   "cell_type": "code",
   "execution_count": 6,
   "id": "783fc998",
   "metadata": {},
   "outputs": [],
   "source": [
    "class validage(Exception):\n",
    "    def __init__(self,msg):\n",
    "        self.msg=msg"
   ]
  },
  {
   "cell_type": "code",
   "execution_count": 7,
   "id": "396e3a33",
   "metadata": {},
   "outputs": [
    {
     "name": "stdout",
     "output_type": "stream",
     "text": [
      "Enter age: -364\n",
      "age cannot be negative\n"
     ]
    }
   ],
   "source": [
    "def validateage(age):\n",
    "    if age<0:\n",
    "        raise validage(\"age cannot be negative\")\n",
    "    elif age>200:\n",
    "        raise validage(\"age is too high\")\n",
    "    else:\n",
    "        print(\"valid age\")\n",
    "\n",
    "try:\n",
    "    validateage(int(input(\"Enter age: \")))\n",
    "except validage as e:\n",
    "    print(e)"
   ]
  }
 ],
 "metadata": {
  "kernelspec": {
   "display_name": "Python 3 (ipykernel)",
   "language": "python",
   "name": "python3"
  },
  "language_info": {
   "codemirror_mode": {
    "name": "ipython",
    "version": 3
   },
   "file_extension": ".py",
   "mimetype": "text/x-python",
   "name": "python",
   "nbconvert_exporter": "python",
   "pygments_lexer": "ipython3",
   "version": "3.10.0"
  }
 },
 "nbformat": 4,
 "nbformat_minor": 5
}
