{
 "cells": [
  {
   "cell_type": "code",
   "execution_count": 1,
   "id": "a07cbabf",
   "metadata": {},
   "outputs": [],
   "source": [
    "import warnings\n",
    "warnings.filterwarnings('ignore')"
   ]
  },
  {
   "cell_type": "markdown",
   "id": "21543844",
   "metadata": {},
   "source": [
    "## Q1. Install and load the latest versions of TensorFlow and Keras. Print their versions."
   ]
  },
  {
   "cell_type": "code",
   "execution_count": 2,
   "id": "63161676",
   "metadata": {},
   "outputs": [
    {
     "name": "stdout",
     "output_type": "stream",
     "text": [
      "Tensorflow version  2.14.0\n",
      "keras version  2.14.0\n"
     ]
    }
   ],
   "source": [
    "import keras \n",
    "import tensorflow as tf\n",
    "\n",
    "print('Tensorflow version ',tf.__version__)\n",
    "print('keras version ',keras.__version__)"
   ]
  },
  {
   "cell_type": "markdown",
   "id": "e6e17a8b",
   "metadata": {},
   "source": [
    "## Q2. Load the Wine Quality dataset and explore its dimensions.\n"
   ]
  },
  {
   "cell_type": "code",
   "execution_count": 4,
   "id": "4df971cf",
   "metadata": {},
   "outputs": [
    {
     "data": {
      "text/html": [
       "<div>\n",
       "<style scoped>\n",
       "    .dataframe tbody tr th:only-of-type {\n",
       "        vertical-align: middle;\n",
       "    }\n",
       "\n",
       "    .dataframe tbody tr th {\n",
       "        vertical-align: top;\n",
       "    }\n",
       "\n",
       "    .dataframe thead th {\n",
       "        text-align: right;\n",
       "    }\n",
       "</style>\n",
       "<table border=\"1\" class=\"dataframe\">\n",
       "  <thead>\n",
       "    <tr style=\"text-align: right;\">\n",
       "      <th></th>\n",
       "      <th>fixed acidity</th>\n",
       "      <th>volatile acidity</th>\n",
       "      <th>citric acid</th>\n",
       "      <th>residual sugar</th>\n",
       "      <th>chlorides</th>\n",
       "      <th>free sulfur dioxide</th>\n",
       "      <th>total sulfur dioxide</th>\n",
       "      <th>density</th>\n",
       "      <th>pH</th>\n",
       "      <th>sulphates</th>\n",
       "      <th>alcohol</th>\n",
       "      <th>quality</th>\n",
       "    </tr>\n",
       "  </thead>\n",
       "  <tbody>\n",
       "    <tr>\n",
       "      <th>0</th>\n",
       "      <td>7.4</td>\n",
       "      <td>0.70</td>\n",
       "      <td>0.00</td>\n",
       "      <td>1.9</td>\n",
       "      <td>0.076</td>\n",
       "      <td>11.0</td>\n",
       "      <td>34.0</td>\n",
       "      <td>0.9978</td>\n",
       "      <td>3.51</td>\n",
       "      <td>0.56</td>\n",
       "      <td>9.4</td>\n",
       "      <td>bad</td>\n",
       "    </tr>\n",
       "    <tr>\n",
       "      <th>1</th>\n",
       "      <td>7.8</td>\n",
       "      <td>0.88</td>\n",
       "      <td>0.00</td>\n",
       "      <td>2.6</td>\n",
       "      <td>0.098</td>\n",
       "      <td>25.0</td>\n",
       "      <td>67.0</td>\n",
       "      <td>0.9968</td>\n",
       "      <td>3.20</td>\n",
       "      <td>0.68</td>\n",
       "      <td>9.8</td>\n",
       "      <td>bad</td>\n",
       "    </tr>\n",
       "    <tr>\n",
       "      <th>2</th>\n",
       "      <td>7.8</td>\n",
       "      <td>0.76</td>\n",
       "      <td>0.04</td>\n",
       "      <td>2.3</td>\n",
       "      <td>0.092</td>\n",
       "      <td>15.0</td>\n",
       "      <td>54.0</td>\n",
       "      <td>0.9970</td>\n",
       "      <td>3.26</td>\n",
       "      <td>0.65</td>\n",
       "      <td>9.8</td>\n",
       "      <td>bad</td>\n",
       "    </tr>\n",
       "    <tr>\n",
       "      <th>3</th>\n",
       "      <td>11.2</td>\n",
       "      <td>0.28</td>\n",
       "      <td>0.56</td>\n",
       "      <td>1.9</td>\n",
       "      <td>0.075</td>\n",
       "      <td>17.0</td>\n",
       "      <td>60.0</td>\n",
       "      <td>0.9980</td>\n",
       "      <td>3.16</td>\n",
       "      <td>0.58</td>\n",
       "      <td>9.8</td>\n",
       "      <td>good</td>\n",
       "    </tr>\n",
       "    <tr>\n",
       "      <th>4</th>\n",
       "      <td>7.4</td>\n",
       "      <td>0.70</td>\n",
       "      <td>0.00</td>\n",
       "      <td>1.9</td>\n",
       "      <td>0.076</td>\n",
       "      <td>11.0</td>\n",
       "      <td>34.0</td>\n",
       "      <td>0.9978</td>\n",
       "      <td>3.51</td>\n",
       "      <td>0.56</td>\n",
       "      <td>9.4</td>\n",
       "      <td>bad</td>\n",
       "    </tr>\n",
       "  </tbody>\n",
       "</table>\n",
       "</div>"
      ],
      "text/plain": [
       "   fixed acidity  volatile acidity  citric acid  residual sugar  chlorides  \\\n",
       "0            7.4              0.70         0.00             1.9      0.076   \n",
       "1            7.8              0.88         0.00             2.6      0.098   \n",
       "2            7.8              0.76         0.04             2.3      0.092   \n",
       "3           11.2              0.28         0.56             1.9      0.075   \n",
       "4            7.4              0.70         0.00             1.9      0.076   \n",
       "\n",
       "   free sulfur dioxide  total sulfur dioxide  density    pH  sulphates  \\\n",
       "0                 11.0                  34.0   0.9978  3.51       0.56   \n",
       "1                 25.0                  67.0   0.9968  3.20       0.68   \n",
       "2                 15.0                  54.0   0.9970  3.26       0.65   \n",
       "3                 17.0                  60.0   0.9980  3.16       0.58   \n",
       "4                 11.0                  34.0   0.9978  3.51       0.56   \n",
       "\n",
       "   alcohol quality  \n",
       "0      9.4     bad  \n",
       "1      9.8     bad  \n",
       "2      9.8     bad  \n",
       "3      9.8    good  \n",
       "4      9.4     bad  "
      ]
     },
     "execution_count": 4,
     "metadata": {},
     "output_type": "execute_result"
    }
   ],
   "source": [
    "import pandas as pd\n",
    "\n",
    "df=pd.read_csv(r'C:\\Users\\tanji\\Desktop\\myPW\\assignments\\datasets\\wine.csv')\n",
    "\n",
    "df.head()"
   ]
  },
  {
   "cell_type": "code",
   "execution_count": 5,
   "id": "350f01bf",
   "metadata": {},
   "outputs": [
    {
     "data": {
      "text/plain": [
       "(1599, 12)"
      ]
     },
     "execution_count": 5,
     "metadata": {},
     "output_type": "execute_result"
    }
   ],
   "source": [
    "df.shape"
   ]
  },
  {
   "cell_type": "markdown",
   "id": "1dec4a32",
   "metadata": {},
   "source": [
    "It has 1599 datapoints with 11 independent feature and 1 dependent output variable"
   ]
  },
  {
   "cell_type": "markdown",
   "id": "3b63beff",
   "metadata": {},
   "source": [
    "## Q3. Check for null values, identify categorical variables, and encode them.\n"
   ]
  },
  {
   "cell_type": "code",
   "execution_count": 6,
   "id": "13aeefdf",
   "metadata": {},
   "outputs": [
    {
     "data": {
      "text/plain": [
       "fixed acidity           0\n",
       "volatile acidity        0\n",
       "citric acid             0\n",
       "residual sugar          0\n",
       "chlorides               0\n",
       "free sulfur dioxide     0\n",
       "total sulfur dioxide    0\n",
       "density                 0\n",
       "pH                      0\n",
       "sulphates               0\n",
       "alcohol                 0\n",
       "quality                 0\n",
       "dtype: int64"
      ]
     },
     "execution_count": 6,
     "metadata": {},
     "output_type": "execute_result"
    }
   ],
   "source": [
    "df.isnull().sum()"
   ]
  },
  {
   "cell_type": "code",
   "execution_count": 7,
   "id": "83ccdf34",
   "metadata": {},
   "outputs": [
    {
     "data": {
      "text/plain": [
       "(['quality'],\n",
       " ['fixed acidity',\n",
       "  'volatile acidity',\n",
       "  'citric acid',\n",
       "  'residual sugar',\n",
       "  'chlorides',\n",
       "  'free sulfur dioxide',\n",
       "  'total sulfur dioxide',\n",
       "  'density',\n",
       "  'pH',\n",
       "  'sulphates',\n",
       "  'alcohol'])"
      ]
     },
     "execution_count": 7,
     "metadata": {},
     "output_type": "execute_result"
    }
   ],
   "source": [
    "cat_col=df.select_dtypes(include=['object']).columns.tolist()\n",
    "num_col=df.select_dtypes(exclude=['object']).columns.tolist()\n",
    "\n",
    "cat_col, num_col"
   ]
  },
  {
   "cell_type": "code",
   "execution_count": 8,
   "id": "38ff16b1",
   "metadata": {},
   "outputs": [
    {
     "data": {
      "text/html": [
       "<div>\n",
       "<style scoped>\n",
       "    .dataframe tbody tr th:only-of-type {\n",
       "        vertical-align: middle;\n",
       "    }\n",
       "\n",
       "    .dataframe tbody tr th {\n",
       "        vertical-align: top;\n",
       "    }\n",
       "\n",
       "    .dataframe thead th {\n",
       "        text-align: right;\n",
       "    }\n",
       "</style>\n",
       "<table border=\"1\" class=\"dataframe\">\n",
       "  <thead>\n",
       "    <tr style=\"text-align: right;\">\n",
       "      <th></th>\n",
       "      <th>fixed acidity</th>\n",
       "      <th>volatile acidity</th>\n",
       "      <th>citric acid</th>\n",
       "      <th>residual sugar</th>\n",
       "      <th>chlorides</th>\n",
       "      <th>free sulfur dioxide</th>\n",
       "      <th>total sulfur dioxide</th>\n",
       "      <th>density</th>\n",
       "      <th>pH</th>\n",
       "      <th>sulphates</th>\n",
       "      <th>alcohol</th>\n",
       "      <th>quality</th>\n",
       "    </tr>\n",
       "  </thead>\n",
       "  <tbody>\n",
       "    <tr>\n",
       "      <th>0</th>\n",
       "      <td>7.4</td>\n",
       "      <td>0.70</td>\n",
       "      <td>0.00</td>\n",
       "      <td>1.9</td>\n",
       "      <td>0.076</td>\n",
       "      <td>11.0</td>\n",
       "      <td>34.0</td>\n",
       "      <td>0.9978</td>\n",
       "      <td>3.51</td>\n",
       "      <td>0.56</td>\n",
       "      <td>9.4</td>\n",
       "      <td>0</td>\n",
       "    </tr>\n",
       "    <tr>\n",
       "      <th>1</th>\n",
       "      <td>7.8</td>\n",
       "      <td>0.88</td>\n",
       "      <td>0.00</td>\n",
       "      <td>2.6</td>\n",
       "      <td>0.098</td>\n",
       "      <td>25.0</td>\n",
       "      <td>67.0</td>\n",
       "      <td>0.9968</td>\n",
       "      <td>3.20</td>\n",
       "      <td>0.68</td>\n",
       "      <td>9.8</td>\n",
       "      <td>0</td>\n",
       "    </tr>\n",
       "    <tr>\n",
       "      <th>2</th>\n",
       "      <td>7.8</td>\n",
       "      <td>0.76</td>\n",
       "      <td>0.04</td>\n",
       "      <td>2.3</td>\n",
       "      <td>0.092</td>\n",
       "      <td>15.0</td>\n",
       "      <td>54.0</td>\n",
       "      <td>0.9970</td>\n",
       "      <td>3.26</td>\n",
       "      <td>0.65</td>\n",
       "      <td>9.8</td>\n",
       "      <td>0</td>\n",
       "    </tr>\n",
       "    <tr>\n",
       "      <th>3</th>\n",
       "      <td>11.2</td>\n",
       "      <td>0.28</td>\n",
       "      <td>0.56</td>\n",
       "      <td>1.9</td>\n",
       "      <td>0.075</td>\n",
       "      <td>17.0</td>\n",
       "      <td>60.0</td>\n",
       "      <td>0.9980</td>\n",
       "      <td>3.16</td>\n",
       "      <td>0.58</td>\n",
       "      <td>9.8</td>\n",
       "      <td>1</td>\n",
       "    </tr>\n",
       "    <tr>\n",
       "      <th>4</th>\n",
       "      <td>7.4</td>\n",
       "      <td>0.70</td>\n",
       "      <td>0.00</td>\n",
       "      <td>1.9</td>\n",
       "      <td>0.076</td>\n",
       "      <td>11.0</td>\n",
       "      <td>34.0</td>\n",
       "      <td>0.9978</td>\n",
       "      <td>3.51</td>\n",
       "      <td>0.56</td>\n",
       "      <td>9.4</td>\n",
       "      <td>0</td>\n",
       "    </tr>\n",
       "  </tbody>\n",
       "</table>\n",
       "</div>"
      ],
      "text/plain": [
       "   fixed acidity  volatile acidity  citric acid  residual sugar  chlorides  \\\n",
       "0            7.4              0.70         0.00             1.9      0.076   \n",
       "1            7.8              0.88         0.00             2.6      0.098   \n",
       "2            7.8              0.76         0.04             2.3      0.092   \n",
       "3           11.2              0.28         0.56             1.9      0.075   \n",
       "4            7.4              0.70         0.00             1.9      0.076   \n",
       "\n",
       "   free sulfur dioxide  total sulfur dioxide  density    pH  sulphates  \\\n",
       "0                 11.0                  34.0   0.9978  3.51       0.56   \n",
       "1                 25.0                  67.0   0.9968  3.20       0.68   \n",
       "2                 15.0                  54.0   0.9970  3.26       0.65   \n",
       "3                 17.0                  60.0   0.9980  3.16       0.58   \n",
       "4                 11.0                  34.0   0.9978  3.51       0.56   \n",
       "\n",
       "   alcohol  quality  \n",
       "0      9.4        0  \n",
       "1      9.8        0  \n",
       "2      9.8        0  \n",
       "3      9.8        1  \n",
       "4      9.4        0  "
      ]
     },
     "execution_count": 8,
     "metadata": {},
     "output_type": "execute_result"
    }
   ],
   "source": [
    "from sklearn.preprocessing import OrdinalEncoder\n",
    "\n",
    "df['quality'].unique()\n",
    "\n",
    "encoder=OrdinalEncoder()\n",
    "\n",
    "df['quality']=encoder.fit_transform(df[['quality']])\n",
    "df['quality']=df['quality'].astype('int32')\n",
    "\n",
    "df.head()"
   ]
  },
  {
   "cell_type": "markdown",
   "id": "99061a8e",
   "metadata": {},
   "source": [
    "## Q4. Separate the features and target variables from the dataset.\n"
   ]
  },
  {
   "cell_type": "code",
   "execution_count": 18,
   "id": "d530f865",
   "metadata": {},
   "outputs": [],
   "source": [
    "x=df.drop('quality', axis=1)\n",
    "y=df['quality']"
   ]
  },
  {
   "cell_type": "markdown",
   "id": "d40d6646",
   "metadata": {},
   "source": [
    "## Q5. Perform a train-test split, dividing the data into training, validation, and test datasets.\n"
   ]
  },
  {
   "cell_type": "code",
   "execution_count": 19,
   "id": "1854913c",
   "metadata": {},
   "outputs": [],
   "source": [
    "from sklearn.model_selection import train_test_split\n",
    "\n",
    "xtrain,xtest,ytrain,ytest= train_test_split(x,y,test_size=0.25, random_state=42)\n",
    "\n",
    "xtrain,xvalid, ytrain,yvalid=train_test_split(x,y,test_size=0.20, random_state=42)"
   ]
  },
  {
   "cell_type": "code",
   "execution_count": 20,
   "id": "54643d13",
   "metadata": {},
   "outputs": [
    {
     "data": {
      "text/plain": [
       "((1279, 11), (400, 11), (320, 11))"
      ]
     },
     "execution_count": 20,
     "metadata": {},
     "output_type": "execute_result"
    }
   ],
   "source": [
    "xtrain.shape,xtest.shape,xvalid.shape"
   ]
  },
  {
   "cell_type": "markdown",
   "id": "8f2adbb8",
   "metadata": {},
   "source": [
    "## Q6. Scale the dataset using an appropriate scaling technique.\n"
   ]
  },
  {
   "cell_type": "code",
   "execution_count": 21,
   "id": "3cf2a200",
   "metadata": {},
   "outputs": [],
   "source": [
    "from sklearn.preprocessing import StandardScaler\n",
    "\n",
    "scaler=StandardScaler()\n",
    "xtrain=scaler.fit_transform(xtrain)\n",
    "xtest=scaler.transform(xtest)\n",
    "xvalid=scaler.transform(xvalid)"
   ]
  },
  {
   "cell_type": "markdown",
   "id": "67479d9d",
   "metadata": {},
   "source": [
    "## Q7. Design and implement at least two hidden layers and an output layer for the binary categorical variables."
   ]
  },
  {
   "cell_type": "code",
   "execution_count": 43,
   "id": "dd29e8f6",
   "metadata": {},
   "outputs": [],
   "source": [
    "import tensorflow as tf\n",
    "\n",
    "LAYERS=[\n",
    "    tf.keras.layers.Dense(200, activation='relu', input_shape=xtrain.shape[1:]),\n",
    "    tf.keras.layers.Dense(70,activation='relu'),\n",
    "    tf.keras.layers.Dense(1, activation='sigmoid')\n",
    "]"
   ]
  },
  {
   "cell_type": "markdown",
   "id": "d0db1fa0",
   "metadata": {},
   "source": [
    "## Q8. Create a Sequential model in Keras and add the previously designed layers to it.\n"
   ]
  },
  {
   "cell_type": "code",
   "execution_count": 44,
   "id": "4dd6372a",
   "metadata": {},
   "outputs": [],
   "source": [
    "model=tf.keras.models.Sequential(LAYERS)"
   ]
  },
  {
   "cell_type": "code",
   "execution_count": 45,
   "id": "c18255b4",
   "metadata": {},
   "outputs": [],
   "source": [
    "model.build(input_shape=(None,11))"
   ]
  },
  {
   "cell_type": "markdown",
   "id": "6786244d",
   "metadata": {},
   "source": [
    "## Q9. Print the summary of the model architecture.\n"
   ]
  },
  {
   "cell_type": "code",
   "execution_count": 46,
   "id": "3bc43f16",
   "metadata": {},
   "outputs": [
    {
     "name": "stdout",
     "output_type": "stream",
     "text": [
      "Model: \"sequential_2\"\n",
      "_________________________________________________________________\n",
      " Layer (type)                Output Shape              Param #   \n",
      "=================================================================\n",
      " dense_9 (Dense)             (None, 200)               2400      \n",
      "                                                                 \n",
      " dense_10 (Dense)            (None, 70)                14070     \n",
      "                                                                 \n",
      " dense_11 (Dense)            (None, 1)                 71        \n",
      "                                                                 \n",
      "=================================================================\n",
      "Total params: 16541 (64.61 KB)\n",
      "Trainable params: 16541 (64.61 KB)\n",
      "Non-trainable params: 0 (0.00 Byte)\n",
      "_________________________________________________________________\n"
     ]
    }
   ],
   "source": [
    "model.summary()"
   ]
  },
  {
   "cell_type": "markdown",
   "id": "59f910b4",
   "metadata": {},
   "source": [
    "## Q10. Set the loss function(‘binary_crossentropy’), optimizer, and include the accuracy metric in the model.\n"
   ]
  },
  {
   "cell_type": "code",
   "execution_count": 47,
   "id": "33eda086",
   "metadata": {},
   "outputs": [],
   "source": [
    "OPTIMIZER='adam'\n",
    "LOSS='binary_crossentropy'\n",
    "METRICS=['accuracy']"
   ]
  },
  {
   "cell_type": "markdown",
   "id": "2cd2a60f",
   "metadata": {},
   "source": [
    "## Q11. Compile the model with the specified loss function, optimizer, and metrics.\n"
   ]
  },
  {
   "cell_type": "code",
   "execution_count": 48,
   "id": "069fc7c3",
   "metadata": {},
   "outputs": [],
   "source": [
    "model.compile(loss=LOSS,\n",
    "              optimizer=OPTIMIZER,\n",
    "             metrics=METRICS\n",
    "             )"
   ]
  },
  {
   "cell_type": "markdown",
   "id": "06fe9a07",
   "metadata": {},
   "source": [
    "## Q12. Fit the model to the training data using appropriate batch size and number of epochs.\n"
   ]
  },
  {
   "cell_type": "code",
   "execution_count": 49,
   "id": "fafada46",
   "metadata": {
    "scrolled": true
   },
   "outputs": [
    {
     "name": "stdout",
     "output_type": "stream",
     "text": [
      "Epoch 1/40\n",
      "128/128 [==============================] - 3s 6ms/step - loss: 0.5556 - accuracy: 0.7154 - val_loss: 0.5109 - val_accuracy: 0.7344\n",
      "Epoch 2/40\n",
      "128/128 [==============================] - 1s 4ms/step - loss: 0.5071 - accuracy: 0.7608 - val_loss: 0.5047 - val_accuracy: 0.7375\n",
      "Epoch 3/40\n",
      "128/128 [==============================] - 1s 5ms/step - loss: 0.4946 - accuracy: 0.7709 - val_loss: 0.5021 - val_accuracy: 0.7156\n",
      "Epoch 4/40\n",
      "128/128 [==============================] - 1s 6ms/step - loss: 0.4823 - accuracy: 0.7756 - val_loss: 0.5027 - val_accuracy: 0.7219\n",
      "Epoch 5/40\n",
      "128/128 [==============================] - 1s 4ms/step - loss: 0.4713 - accuracy: 0.7780 - val_loss: 0.4915 - val_accuracy: 0.7437\n",
      "Epoch 6/40\n",
      "128/128 [==============================] - 1s 7ms/step - loss: 0.4687 - accuracy: 0.7787 - val_loss: 0.4878 - val_accuracy: 0.7469\n",
      "Epoch 7/40\n",
      "128/128 [==============================] - 1s 4ms/step - loss: 0.4590 - accuracy: 0.7936 - val_loss: 0.4787 - val_accuracy: 0.7531\n",
      "Epoch 8/40\n",
      "128/128 [==============================] - 1s 7ms/step - loss: 0.4492 - accuracy: 0.7858 - val_loss: 0.4808 - val_accuracy: 0.7563\n",
      "Epoch 9/40\n",
      "128/128 [==============================] - 1s 7ms/step - loss: 0.4415 - accuracy: 0.7897 - val_loss: 0.4665 - val_accuracy: 0.7750\n",
      "Epoch 10/40\n",
      "128/128 [==============================] - 1s 4ms/step - loss: 0.4318 - accuracy: 0.8022 - val_loss: 0.4817 - val_accuracy: 0.7594\n",
      "Epoch 11/40\n",
      "128/128 [==============================] - 1s 7ms/step - loss: 0.4270 - accuracy: 0.7991 - val_loss: 0.4785 - val_accuracy: 0.7563\n",
      "Epoch 12/40\n",
      "128/128 [==============================] - 1s 7ms/step - loss: 0.4230 - accuracy: 0.8014 - val_loss: 0.4619 - val_accuracy: 0.7656\n",
      "Epoch 13/40\n",
      "128/128 [==============================] - 1s 7ms/step - loss: 0.4168 - accuracy: 0.8030 - val_loss: 0.4651 - val_accuracy: 0.7563\n",
      "Epoch 14/40\n",
      "128/128 [==============================] - 1s 8ms/step - loss: 0.4087 - accuracy: 0.8186 - val_loss: 0.4750 - val_accuracy: 0.7563\n",
      "Epoch 15/40\n",
      "128/128 [==============================] - 1s 5ms/step - loss: 0.3998 - accuracy: 0.8194 - val_loss: 0.4721 - val_accuracy: 0.7844\n",
      "Epoch 16/40\n",
      "128/128 [==============================] - 1s 4ms/step - loss: 0.3958 - accuracy: 0.8163 - val_loss: 0.4614 - val_accuracy: 0.7688\n",
      "Epoch 17/40\n",
      "128/128 [==============================] - 1s 5ms/step - loss: 0.3789 - accuracy: 0.8288 - val_loss: 0.4658 - val_accuracy: 0.7781\n",
      "Epoch 18/40\n",
      "128/128 [==============================] - 1s 5ms/step - loss: 0.3740 - accuracy: 0.8303 - val_loss: 0.4578 - val_accuracy: 0.7812\n",
      "Epoch 19/40\n",
      "128/128 [==============================] - 1s 5ms/step - loss: 0.3776 - accuracy: 0.8280 - val_loss: 0.4658 - val_accuracy: 0.7719\n",
      "Epoch 20/40\n",
      "128/128 [==============================] - 1s 4ms/step - loss: 0.3630 - accuracy: 0.8358 - val_loss: 0.4607 - val_accuracy: 0.7969\n",
      "Epoch 21/40\n",
      "128/128 [==============================] - 1s 8ms/step - loss: 0.3555 - accuracy: 0.8397 - val_loss: 0.4615 - val_accuracy: 0.7844\n",
      "Epoch 22/40\n",
      "128/128 [==============================] - 1s 7ms/step - loss: 0.3459 - accuracy: 0.8452 - val_loss: 0.5049 - val_accuracy: 0.7719\n",
      "Epoch 23/40\n",
      "128/128 [==============================] - 1s 4ms/step - loss: 0.3412 - accuracy: 0.8483 - val_loss: 0.4698 - val_accuracy: 0.8000\n",
      "Epoch 24/40\n",
      "128/128 [==============================] - 1s 4ms/step - loss: 0.3303 - accuracy: 0.8569 - val_loss: 0.4477 - val_accuracy: 0.7969\n",
      "Epoch 25/40\n",
      "128/128 [==============================] - 1s 5ms/step - loss: 0.3272 - accuracy: 0.8483 - val_loss: 0.4585 - val_accuracy: 0.8031\n",
      "Epoch 26/40\n",
      "128/128 [==============================] - 1s 5ms/step - loss: 0.3198 - accuracy: 0.8632 - val_loss: 0.4673 - val_accuracy: 0.7937\n",
      "Epoch 27/40\n",
      "128/128 [==============================] - 1s 4ms/step - loss: 0.3167 - accuracy: 0.8608 - val_loss: 0.4626 - val_accuracy: 0.7781\n",
      "Epoch 28/40\n",
      "128/128 [==============================] - 1s 4ms/step - loss: 0.3051 - accuracy: 0.8663 - val_loss: 0.4711 - val_accuracy: 0.7969\n",
      "Epoch 29/40\n",
      "128/128 [==============================] - 1s 5ms/step - loss: 0.2996 - accuracy: 0.8710 - val_loss: 0.4842 - val_accuracy: 0.7937\n",
      "Epoch 30/40\n",
      "128/128 [==============================] - 1s 5ms/step - loss: 0.2951 - accuracy: 0.8710 - val_loss: 0.4780 - val_accuracy: 0.8094\n",
      "Epoch 31/40\n",
      "128/128 [==============================] - 1s 7ms/step - loss: 0.2833 - accuracy: 0.8796 - val_loss: 0.4823 - val_accuracy: 0.8062\n",
      "Epoch 32/40\n",
      "128/128 [==============================] - 1s 7ms/step - loss: 0.2779 - accuracy: 0.8835 - val_loss: 0.5114 - val_accuracy: 0.7781\n",
      "Epoch 33/40\n",
      "128/128 [==============================] - 1s 4ms/step - loss: 0.2802 - accuracy: 0.8772 - val_loss: 0.4850 - val_accuracy: 0.8031\n",
      "Epoch 34/40\n",
      "128/128 [==============================] - 1s 4ms/step - loss: 0.2673 - accuracy: 0.8851 - val_loss: 0.4865 - val_accuracy: 0.8156\n",
      "Epoch 35/40\n",
      "128/128 [==============================] - 1s 5ms/step - loss: 0.2611 - accuracy: 0.8819 - val_loss: 0.4788 - val_accuracy: 0.8000\n",
      "Epoch 36/40\n",
      "128/128 [==============================] - 1s 4ms/step - loss: 0.2545 - accuracy: 0.8921 - val_loss: 0.5060 - val_accuracy: 0.8125\n",
      "Epoch 37/40\n",
      "128/128 [==============================] - 1s 4ms/step - loss: 0.2500 - accuracy: 0.8944 - val_loss: 0.4901 - val_accuracy: 0.8188\n",
      "Epoch 38/40\n",
      "128/128 [==============================] - 1s 6ms/step - loss: 0.2349 - accuracy: 0.9007 - val_loss: 0.5196 - val_accuracy: 0.8062\n",
      "Epoch 39/40\n",
      "128/128 [==============================] - 1s 7ms/step - loss: 0.2342 - accuracy: 0.8991 - val_loss: 0.5087 - val_accuracy: 0.8156\n",
      "Epoch 40/40\n",
      "128/128 [==============================] - 1s 8ms/step - loss: 0.2345 - accuracy: 0.9023 - val_loss: 0.5216 - val_accuracy: 0.8000\n"
     ]
    }
   ],
   "source": [
    "EPOCHS=40\n",
    "BATCH=10\n",
    "\n",
    "history=model.fit(xtrain, ytrain, epochs=EPOCHS, validation_data=(xvalid,yvalid), batch_size=BATCH)"
   ]
  },
  {
   "cell_type": "markdown",
   "id": "ef046d48",
   "metadata": {},
   "source": [
    "## Q13. Obtain the model's parameters (weights and biases).\n"
   ]
  },
  {
   "cell_type": "code",
   "execution_count": 50,
   "id": "20f9e090",
   "metadata": {},
   "outputs": [
    {
     "name": "stdout",
     "output_type": "stream",
     "text": [
      "Weights of Layer 1 :\n",
      "[[ 4.8664883e-02  3.4052935e-01 -2.0536034e-01 ... -9.6051507e-02\n",
      "   2.9222044e-01 -2.3120892e-01]\n",
      " [ 9.5430084e-02 -9.8380096e-02 -4.3835748e-02 ...  5.5861007e-02\n",
      "  -8.3108105e-02  1.8201219e-01]\n",
      " [-1.8048190e-04 -3.8856265e-01 -5.5265617e-02 ...  2.3267962e-01\n",
      "  -2.4402632e-04 -7.9112358e-02]\n",
      " ...\n",
      " [ 8.5276909e-02 -2.5775179e-01  1.6757353e-01 ...  3.5007771e-02\n",
      "  -7.5525872e-02  1.1187211e-01]\n",
      " [-3.1977522e-01  5.5179335e-02  7.9008020e-02 ...  7.6262929e-02\n",
      "  -1.0876588e-01 -7.1624346e-02]\n",
      " [ 1.8834386e-02  2.3322570e-01 -2.0094307e-01 ... -2.0316847e-02\n",
      "  -1.5841934e-01  2.0580724e-02]]\n",
      "Bias of Layer1 :\n",
      "[-0.13115233 -0.06192419  0.02949423 -0.01548189  0.04182818 -0.07354537\n",
      "  0.02600428 -0.06753289 -0.01198943 -0.10167671 -0.01086173 -0.01393667\n",
      "  0.02225651 -0.12278841 -0.1395291   0.03532432 -0.11106676  0.05117275\n",
      " -0.08354441 -0.12248166  0.05902319 -0.09887439 -0.10675583 -0.046267\n",
      " -0.13918701  0.05404428 -0.18793264  0.02465257 -0.11260179  0.01398756\n",
      " -0.09072743 -0.00795611  0.02395291 -0.07788829 -0.09271072 -0.13647063\n",
      " -0.07865135 -0.07190761 -0.1550974  -0.22674957 -0.03383071 -0.05437242\n",
      " -0.18102182  0.10262292 -0.03034658 -0.08528929 -0.12978083 -0.0531525\n",
      " -0.01922085  0.07590341  0.00576716 -0.14632206  0.01186816 -0.04829646\n",
      " -0.14665169  0.00762668 -0.11772548 -0.04676818  0.01454785  0.02472273\n",
      " -0.04152806 -0.1149468   0.03431623 -0.25203788 -0.07234029  0.02763286\n",
      " -0.15062478  0.05242761 -0.07421193  0.06328521 -0.08179672 -0.03772843\n",
      " -0.01068131 -0.05219696 -0.04561279 -0.07735615 -0.08176218 -0.12355484\n",
      " -0.02077333  0.02705271 -0.0685839   0.04012701 -0.03529212 -0.06559779\n",
      " -0.13330966 -0.01976215 -0.15006776 -0.06116104 -0.12001763 -0.0583685\n",
      " -0.05789504 -0.07094466 -0.01034727 -0.02288409 -0.1178566   0.00668429\n",
      " -0.05674835 -0.13246158 -0.04742825 -0.15124214  0.11538808 -0.11977769\n",
      " -0.12069578  0.00308372  0.03215873  0.00352441  0.02218721 -0.02015681\n",
      "  0.00443199 -0.08269862 -0.06629532  0.06919909  0.06156061 -0.00144281\n",
      " -0.01243327  0.00422316  0.10140245  0.15125221  0.00234938 -0.00487855\n",
      " -0.07442653  0.08304786  0.00279067  0.02852095  0.05220534 -0.13596407\n",
      "  0.04611417 -0.06060453 -0.00915246 -0.03667342  0.03852557  0.01489213\n",
      " -0.08842131 -0.11030527 -0.07343274 -0.08272673  0.04346461 -0.00306965\n",
      " -0.06892552 -0.06175829 -0.02270168 -0.00193159  0.02561666 -0.05783141\n",
      " -0.14839283  0.04404848 -0.0969578  -0.14557904  0.04001017 -0.03565345\n",
      " -0.06457553 -0.01267684 -0.02889319  0.03380405 -0.12150341 -0.01685276\n",
      " -0.11136764 -0.1446585  -0.09006529  0.03933532  0.08825958 -0.05084118\n",
      " -0.04221828 -0.02126229  0.00255929 -0.12769042 -0.04523247 -0.00208901\n",
      "  0.04823067 -0.12844048 -0.06456834 -0.12648708  0.06655698 -0.04490495\n",
      " -0.20065339 -0.08035724  0.00310346 -0.08657163 -0.04381625 -0.09203447\n",
      " -0.09353846 -0.04581124 -0.0417388  -0.05924409 -0.22849967 -0.00301986\n",
      " -0.05042655 -0.07105999 -0.05459319 -0.06263515 -0.0290067  -0.10873357\n",
      " -0.12738302 -0.13745801 -0.04864067 -0.01782909 -0.02304701 -0.06308148\n",
      " -0.026522   -0.01715278]\n",
      "==========================================================\n",
      "Weights of Layer 2 :\n",
      "[[ 0.03028211 -0.04586355 -0.27899227 ...  0.22903867 -0.02017438\n",
      "   0.0155278 ]\n",
      " [-0.08192895  0.2042836   0.00708084 ... -0.17340684  0.22621012\n",
      "   0.27584913]\n",
      " [-0.07427232  0.01272743  0.08194815 ... -0.02597057  0.11004093\n",
      "  -0.1690574 ]\n",
      " ...\n",
      " [ 0.04259845 -0.02988306  0.28092495 ...  0.1779255   0.03836566\n",
      "  -0.01391502]\n",
      " [ 0.02744086 -0.03579798  0.03773907 ...  0.04016219  0.09632229\n",
      "  -0.13407907]\n",
      " [-0.11816685 -0.09064106  0.01796257 ...  0.11433125  0.0630516\n",
      "   0.12731281]]\n",
      "Bias of Layer2 :\n",
      "[-0.03764257  0.03447202  0.10604715  0.00420497  0.14587985 -0.0501359\n",
      " -0.05228195 -0.00663982  0.01210108  0.00272627  0.04237328  0.08725675\n",
      " -0.03556496 -0.02607104 -0.07601325  0.06179378 -0.04195655 -0.07524085\n",
      "  0.00623808 -0.0400342  -0.02639553  0.03495628  0.02206413 -0.00207184\n",
      " -0.02609272 -0.01484905  0.01484811  0.07536348  0.04082689 -0.01304219\n",
      "  0.04083867  0.01171293  0.03820495  0.0266507   0.03355843  0.12211541\n",
      "  0.02074084 -0.02751007 -0.01894399 -0.02992197 -0.02917382 -0.07435405\n",
      " -0.05930298  0.02690178  0.12601401 -0.04319275 -0.07777616 -0.00710764\n",
      "  0.01651275  0.03892951  0.0217956   0.00149162 -0.03249584  0.07006431\n",
      "  0.17549887  0.04992773  0.03655072 -0.0072853  -0.01314599 -0.03017069\n",
      "  0.05016143  0.10415374  0.04546703  0.02668899  0.01236643 -0.08297579\n",
      "  0.13656877  0.06819798  0.06099817  0.00383317]\n",
      "==========================================================\n",
      "Weights of Layer 3 :\n",
      "[[ 0.01073985]\n",
      " [ 0.35888052]\n",
      " [ 0.8169523 ]\n",
      " [ 0.24876471]\n",
      " [ 0.6585298 ]\n",
      " [ 0.40425178]\n",
      " [-0.60353255]\n",
      " [-0.31393176]\n",
      " [ 0.3933721 ]\n",
      " [ 0.26508266]\n",
      " [ 0.20895343]\n",
      " [ 0.6984178 ]\n",
      " [-0.3468139 ]\n",
      " [-0.18052699]\n",
      " [ 0.43169242]\n",
      " [ 0.06444199]\n",
      " [-0.38807184]\n",
      " [ 0.53237784]\n",
      " [ 0.3793413 ]\n",
      " [-0.4136692 ]\n",
      " [-0.45161566]\n",
      " [ 0.8629678 ]\n",
      " [ 0.49399146]\n",
      " [-0.3443772 ]\n",
      " [-0.6321161 ]\n",
      " [-0.3959612 ]\n",
      " [-0.1680865 ]\n",
      " [ 0.48147807]\n",
      " [ 0.33652502]\n",
      " [-0.7509848 ]\n",
      " [ 0.13053052]\n",
      " [-0.40403703]\n",
      " [ 0.3620932 ]\n",
      " [-0.4807768 ]\n",
      " [ 0.20822282]\n",
      " [ 0.5441603 ]\n",
      " [ 0.39919916]\n",
      " [-0.44810095]\n",
      " [-0.27555868]\n",
      " [-0.39944038]\n",
      " [-0.3276135 ]\n",
      " [-0.38778958]\n",
      " [-0.27472505]\n",
      " [ 0.39366958]\n",
      " [ 0.90483516]\n",
      " [-0.27088407]\n",
      " [-0.23801358]\n",
      " [-0.3696922 ]\n",
      " [-0.5173039 ]\n",
      " [ 0.355643  ]\n",
      " [ 0.19296867]\n",
      " [ 0.08338349]\n",
      " [-0.2741256 ]\n",
      " [-0.66642493]\n",
      " [-0.8827742 ]\n",
      " [ 0.31855848]\n",
      " [ 0.6958995 ]\n",
      " [-0.2896107 ]\n",
      " [-0.2824841 ]\n",
      " [ 0.37710652]\n",
      " [ 0.15532424]\n",
      " [ 0.11065586]\n",
      " [ 0.6335111 ]\n",
      " [-0.3034917 ]\n",
      " [ 0.0911774 ]\n",
      " [-0.07851943]\n",
      " [ 0.6587452 ]\n",
      " [ 0.07603624]\n",
      " [ 0.39258546]\n",
      " [ 0.3967131 ]]\n",
      "Bias of Layer3 :\n",
      "[0.05568016]\n",
      "==========================================================\n"
     ]
    }
   ],
   "source": [
    "param=model.get_weights()\n",
    "\n",
    "for ind,i in enumerate(range(0,len(param),2)):\n",
    "    print(f\"Weights of Layer {ind+1} :\\n{param[i]}\")\n",
    "    print(f\"Bias of Layer{ind+1} :\\n{param[i+1]}\")\n",
    "    print(\"==========================================================\")"
   ]
  },
  {
   "cell_type": "markdown",
   "id": "a8d27762",
   "metadata": {},
   "source": [
    "## Q14. Store the model's training history as a Pandas DataFrame.\n"
   ]
  },
  {
   "cell_type": "code",
   "execution_count": 51,
   "id": "e2e94fe3",
   "metadata": {},
   "outputs": [
    {
     "data": {
      "text/html": [
       "<div>\n",
       "<style scoped>\n",
       "    .dataframe tbody tr th:only-of-type {\n",
       "        vertical-align: middle;\n",
       "    }\n",
       "\n",
       "    .dataframe tbody tr th {\n",
       "        vertical-align: top;\n",
       "    }\n",
       "\n",
       "    .dataframe thead th {\n",
       "        text-align: right;\n",
       "    }\n",
       "</style>\n",
       "<table border=\"1\" class=\"dataframe\">\n",
       "  <thead>\n",
       "    <tr style=\"text-align: right;\">\n",
       "      <th></th>\n",
       "      <th>loss</th>\n",
       "      <th>accuracy</th>\n",
       "      <th>val_loss</th>\n",
       "      <th>val_accuracy</th>\n",
       "    </tr>\n",
       "  </thead>\n",
       "  <tbody>\n",
       "    <tr>\n",
       "      <th>0</th>\n",
       "      <td>0.555589</td>\n",
       "      <td>0.715403</td>\n",
       "      <td>0.510934</td>\n",
       "      <td>0.734375</td>\n",
       "    </tr>\n",
       "    <tr>\n",
       "      <th>1</th>\n",
       "      <td>0.507141</td>\n",
       "      <td>0.760751</td>\n",
       "      <td>0.504672</td>\n",
       "      <td>0.737500</td>\n",
       "    </tr>\n",
       "    <tr>\n",
       "      <th>2</th>\n",
       "      <td>0.494585</td>\n",
       "      <td>0.770915</td>\n",
       "      <td>0.502065</td>\n",
       "      <td>0.715625</td>\n",
       "    </tr>\n",
       "    <tr>\n",
       "      <th>3</th>\n",
       "      <td>0.482250</td>\n",
       "      <td>0.775606</td>\n",
       "      <td>0.502667</td>\n",
       "      <td>0.721875</td>\n",
       "    </tr>\n",
       "    <tr>\n",
       "      <th>4</th>\n",
       "      <td>0.471251</td>\n",
       "      <td>0.777952</td>\n",
       "      <td>0.491464</td>\n",
       "      <td>0.743750</td>\n",
       "    </tr>\n",
       "    <tr>\n",
       "      <th>5</th>\n",
       "      <td>0.468677</td>\n",
       "      <td>0.778733</td>\n",
       "      <td>0.487835</td>\n",
       "      <td>0.746875</td>\n",
       "    </tr>\n",
       "    <tr>\n",
       "      <th>6</th>\n",
       "      <td>0.458997</td>\n",
       "      <td>0.793589</td>\n",
       "      <td>0.478687</td>\n",
       "      <td>0.753125</td>\n",
       "    </tr>\n",
       "    <tr>\n",
       "      <th>7</th>\n",
       "      <td>0.449176</td>\n",
       "      <td>0.785770</td>\n",
       "      <td>0.480791</td>\n",
       "      <td>0.756250</td>\n",
       "    </tr>\n",
       "    <tr>\n",
       "      <th>8</th>\n",
       "      <td>0.441523</td>\n",
       "      <td>0.789679</td>\n",
       "      <td>0.466512</td>\n",
       "      <td>0.775000</td>\n",
       "    </tr>\n",
       "    <tr>\n",
       "      <th>9</th>\n",
       "      <td>0.431806</td>\n",
       "      <td>0.802189</td>\n",
       "      <td>0.481710</td>\n",
       "      <td>0.759375</td>\n",
       "    </tr>\n",
       "    <tr>\n",
       "      <th>10</th>\n",
       "      <td>0.426970</td>\n",
       "      <td>0.799062</td>\n",
       "      <td>0.478550</td>\n",
       "      <td>0.756250</td>\n",
       "    </tr>\n",
       "    <tr>\n",
       "      <th>11</th>\n",
       "      <td>0.423049</td>\n",
       "      <td>0.801407</td>\n",
       "      <td>0.461862</td>\n",
       "      <td>0.765625</td>\n",
       "    </tr>\n",
       "    <tr>\n",
       "      <th>12</th>\n",
       "      <td>0.416770</td>\n",
       "      <td>0.802971</td>\n",
       "      <td>0.465115</td>\n",
       "      <td>0.756250</td>\n",
       "    </tr>\n",
       "    <tr>\n",
       "      <th>13</th>\n",
       "      <td>0.408736</td>\n",
       "      <td>0.818608</td>\n",
       "      <td>0.475020</td>\n",
       "      <td>0.756250</td>\n",
       "    </tr>\n",
       "    <tr>\n",
       "      <th>14</th>\n",
       "      <td>0.399829</td>\n",
       "      <td>0.819390</td>\n",
       "      <td>0.472097</td>\n",
       "      <td>0.784375</td>\n",
       "    </tr>\n",
       "    <tr>\n",
       "      <th>15</th>\n",
       "      <td>0.395805</td>\n",
       "      <td>0.816263</td>\n",
       "      <td>0.461399</td>\n",
       "      <td>0.768750</td>\n",
       "    </tr>\n",
       "    <tr>\n",
       "      <th>16</th>\n",
       "      <td>0.378919</td>\n",
       "      <td>0.828772</td>\n",
       "      <td>0.465761</td>\n",
       "      <td>0.778125</td>\n",
       "    </tr>\n",
       "    <tr>\n",
       "      <th>17</th>\n",
       "      <td>0.374026</td>\n",
       "      <td>0.830336</td>\n",
       "      <td>0.457798</td>\n",
       "      <td>0.781250</td>\n",
       "    </tr>\n",
       "    <tr>\n",
       "      <th>18</th>\n",
       "      <td>0.377639</td>\n",
       "      <td>0.827991</td>\n",
       "      <td>0.465826</td>\n",
       "      <td>0.771875</td>\n",
       "    </tr>\n",
       "    <tr>\n",
       "      <th>19</th>\n",
       "      <td>0.362971</td>\n",
       "      <td>0.835809</td>\n",
       "      <td>0.460743</td>\n",
       "      <td>0.796875</td>\n",
       "    </tr>\n",
       "    <tr>\n",
       "      <th>20</th>\n",
       "      <td>0.355512</td>\n",
       "      <td>0.839719</td>\n",
       "      <td>0.461526</td>\n",
       "      <td>0.784375</td>\n",
       "    </tr>\n",
       "    <tr>\n",
       "      <th>21</th>\n",
       "      <td>0.345905</td>\n",
       "      <td>0.845192</td>\n",
       "      <td>0.504865</td>\n",
       "      <td>0.771875</td>\n",
       "    </tr>\n",
       "    <tr>\n",
       "      <th>22</th>\n",
       "      <td>0.341204</td>\n",
       "      <td>0.848319</td>\n",
       "      <td>0.469811</td>\n",
       "      <td>0.800000</td>\n",
       "    </tr>\n",
       "    <tr>\n",
       "      <th>23</th>\n",
       "      <td>0.330345</td>\n",
       "      <td>0.856919</td>\n",
       "      <td>0.447688</td>\n",
       "      <td>0.796875</td>\n",
       "    </tr>\n",
       "    <tr>\n",
       "      <th>24</th>\n",
       "      <td>0.327184</td>\n",
       "      <td>0.848319</td>\n",
       "      <td>0.458490</td>\n",
       "      <td>0.803125</td>\n",
       "    </tr>\n",
       "    <tr>\n",
       "      <th>25</th>\n",
       "      <td>0.319800</td>\n",
       "      <td>0.863174</td>\n",
       "      <td>0.467260</td>\n",
       "      <td>0.793750</td>\n",
       "    </tr>\n",
       "    <tr>\n",
       "      <th>26</th>\n",
       "      <td>0.316683</td>\n",
       "      <td>0.860829</td>\n",
       "      <td>0.462561</td>\n",
       "      <td>0.778125</td>\n",
       "    </tr>\n",
       "    <tr>\n",
       "      <th>27</th>\n",
       "      <td>0.305055</td>\n",
       "      <td>0.866302</td>\n",
       "      <td>0.471054</td>\n",
       "      <td>0.796875</td>\n",
       "    </tr>\n",
       "    <tr>\n",
       "      <th>28</th>\n",
       "      <td>0.299551</td>\n",
       "      <td>0.870993</td>\n",
       "      <td>0.484193</td>\n",
       "      <td>0.793750</td>\n",
       "    </tr>\n",
       "    <tr>\n",
       "      <th>29</th>\n",
       "      <td>0.295059</td>\n",
       "      <td>0.870993</td>\n",
       "      <td>0.478046</td>\n",
       "      <td>0.809375</td>\n",
       "    </tr>\n",
       "    <tr>\n",
       "      <th>30</th>\n",
       "      <td>0.283295</td>\n",
       "      <td>0.879593</td>\n",
       "      <td>0.482344</td>\n",
       "      <td>0.806250</td>\n",
       "    </tr>\n",
       "    <tr>\n",
       "      <th>31</th>\n",
       "      <td>0.277900</td>\n",
       "      <td>0.883503</td>\n",
       "      <td>0.511418</td>\n",
       "      <td>0.778125</td>\n",
       "    </tr>\n",
       "    <tr>\n",
       "      <th>32</th>\n",
       "      <td>0.280235</td>\n",
       "      <td>0.877248</td>\n",
       "      <td>0.484958</td>\n",
       "      <td>0.803125</td>\n",
       "    </tr>\n",
       "    <tr>\n",
       "      <th>33</th>\n",
       "      <td>0.267297</td>\n",
       "      <td>0.885066</td>\n",
       "      <td>0.486503</td>\n",
       "      <td>0.815625</td>\n",
       "    </tr>\n",
       "    <tr>\n",
       "      <th>34</th>\n",
       "      <td>0.261064</td>\n",
       "      <td>0.881939</td>\n",
       "      <td>0.478794</td>\n",
       "      <td>0.800000</td>\n",
       "    </tr>\n",
       "    <tr>\n",
       "      <th>35</th>\n",
       "      <td>0.254505</td>\n",
       "      <td>0.892103</td>\n",
       "      <td>0.506016</td>\n",
       "      <td>0.812500</td>\n",
       "    </tr>\n",
       "    <tr>\n",
       "      <th>36</th>\n",
       "      <td>0.250049</td>\n",
       "      <td>0.894449</td>\n",
       "      <td>0.490083</td>\n",
       "      <td>0.818750</td>\n",
       "    </tr>\n",
       "    <tr>\n",
       "      <th>37</th>\n",
       "      <td>0.234865</td>\n",
       "      <td>0.900704</td>\n",
       "      <td>0.519587</td>\n",
       "      <td>0.806250</td>\n",
       "    </tr>\n",
       "    <tr>\n",
       "      <th>38</th>\n",
       "      <td>0.234170</td>\n",
       "      <td>0.899140</td>\n",
       "      <td>0.508733</td>\n",
       "      <td>0.815625</td>\n",
       "    </tr>\n",
       "    <tr>\n",
       "      <th>39</th>\n",
       "      <td>0.234547</td>\n",
       "      <td>0.902267</td>\n",
       "      <td>0.521551</td>\n",
       "      <td>0.800000</td>\n",
       "    </tr>\n",
       "  </tbody>\n",
       "</table>\n",
       "</div>"
      ],
      "text/plain": [
       "        loss  accuracy  val_loss  val_accuracy\n",
       "0   0.555589  0.715403  0.510934      0.734375\n",
       "1   0.507141  0.760751  0.504672      0.737500\n",
       "2   0.494585  0.770915  0.502065      0.715625\n",
       "3   0.482250  0.775606  0.502667      0.721875\n",
       "4   0.471251  0.777952  0.491464      0.743750\n",
       "5   0.468677  0.778733  0.487835      0.746875\n",
       "6   0.458997  0.793589  0.478687      0.753125\n",
       "7   0.449176  0.785770  0.480791      0.756250\n",
       "8   0.441523  0.789679  0.466512      0.775000\n",
       "9   0.431806  0.802189  0.481710      0.759375\n",
       "10  0.426970  0.799062  0.478550      0.756250\n",
       "11  0.423049  0.801407  0.461862      0.765625\n",
       "12  0.416770  0.802971  0.465115      0.756250\n",
       "13  0.408736  0.818608  0.475020      0.756250\n",
       "14  0.399829  0.819390  0.472097      0.784375\n",
       "15  0.395805  0.816263  0.461399      0.768750\n",
       "16  0.378919  0.828772  0.465761      0.778125\n",
       "17  0.374026  0.830336  0.457798      0.781250\n",
       "18  0.377639  0.827991  0.465826      0.771875\n",
       "19  0.362971  0.835809  0.460743      0.796875\n",
       "20  0.355512  0.839719  0.461526      0.784375\n",
       "21  0.345905  0.845192  0.504865      0.771875\n",
       "22  0.341204  0.848319  0.469811      0.800000\n",
       "23  0.330345  0.856919  0.447688      0.796875\n",
       "24  0.327184  0.848319  0.458490      0.803125\n",
       "25  0.319800  0.863174  0.467260      0.793750\n",
       "26  0.316683  0.860829  0.462561      0.778125\n",
       "27  0.305055  0.866302  0.471054      0.796875\n",
       "28  0.299551  0.870993  0.484193      0.793750\n",
       "29  0.295059  0.870993  0.478046      0.809375\n",
       "30  0.283295  0.879593  0.482344      0.806250\n",
       "31  0.277900  0.883503  0.511418      0.778125\n",
       "32  0.280235  0.877248  0.484958      0.803125\n",
       "33  0.267297  0.885066  0.486503      0.815625\n",
       "34  0.261064  0.881939  0.478794      0.800000\n",
       "35  0.254505  0.892103  0.506016      0.812500\n",
       "36  0.250049  0.894449  0.490083      0.818750\n",
       "37  0.234865  0.900704  0.519587      0.806250\n",
       "38  0.234170  0.899140  0.508733      0.815625\n",
       "39  0.234547  0.902267  0.521551      0.800000"
      ]
     },
     "execution_count": 51,
     "metadata": {},
     "output_type": "execute_result"
    }
   ],
   "source": [
    "df=pd.DataFrame(history.history)\n",
    "df"
   ]
  },
  {
   "cell_type": "markdown",
   "id": "fde655ed",
   "metadata": {},
   "source": [
    "## Q15. Plot the training history (e.g., accuracy and loss) using suitable visualization techniques.\n"
   ]
  },
  {
   "cell_type": "code",
   "execution_count": 52,
   "id": "97f69e87",
   "metadata": {},
   "outputs": [
    {
     "data": {
      "text/plain": [
       "<Axes: >"
      ]
     },
     "execution_count": 52,
     "metadata": {},
     "output_type": "execute_result"
    },
    {
     "data": {
      "image/png": "[encoded data removed]",
      "text/plain": [
       "<Figure size 640x480 with 1 Axes>"
      ]
     },
     "metadata": {},
     "output_type": "display_data"
    }
   ],
   "source": [
    "df.plot()"
   ]
  },
  {
   "cell_type": "markdown",
   "id": "6e9cc6f8",
   "metadata": {},
   "source": [
    "## Q16. Evaluate the model's performance using the test dataset and report relevant metrics."
   ]
  },
  {
   "cell_type": "code",
   "execution_count": 53,
   "id": "1f0431da",
   "metadata": {},
   "outputs": [
    {
     "name": "stdout",
     "output_type": "stream",
     "text": [
      "13/13 - 0s - loss: 0.4525 - accuracy: 0.8300 - 290ms/epoch - 22ms/step\n"
     ]
    },
    {
     "data": {
      "text/plain": [
       "[0.4524878263473511, 0.8299999833106995]"
      ]
     },
     "execution_count": 53,
     "metadata": {},
     "output_type": "execute_result"
    }
   ],
   "source": [
    "evaluation=model.evaluate(xtest, ytest, verbose=2)\n",
    "evaluation"
   ]
  },
  {
   "cell_type": "code",
   "execution_count": 55,
   "id": "469aab62",
   "metadata": {},
   "outputs": [
    {
     "name": "stdout",
     "output_type": "stream",
     "text": [
      "13/13 [==============================] - 0s 3ms/step\n"
     ]
    }
   ],
   "source": [
    "import numpy as np\n",
    "\n",
    "ypred=model.predict(xtest)\n",
    "\n",
    "ypred=np.where(ypred>0.5,1,0)"
   ]
  },
  {
   "cell_type": "code",
   "execution_count": 56,
   "id": "76779760",
   "metadata": {},
   "outputs": [],
   "source": [
    "from sklearn.metrics import confusion_matrix, accuracy_score, classification_report"
   ]
  },
  {
   "cell_type": "code",
   "execution_count": 57,
   "id": "cc9430e2",
   "metadata": {},
   "outputs": [
    {
     "data": {
      "text/plain": [
       "array([[152,  26],\n",
       "       [ 42, 180]], dtype=int64)"
      ]
     },
     "execution_count": 57,
     "metadata": {},
     "output_type": "execute_result"
    }
   ],
   "source": [
    "confusion_matrix(ytest,ypred)"
   ]
  },
  {
   "cell_type": "code",
   "execution_count": 58,
   "id": "9c63a652",
   "metadata": {},
   "outputs": [
    {
     "data": {
      "text/plain": [
       "0.83"
      ]
     },
     "execution_count": 58,
     "metadata": {},
     "output_type": "execute_result"
    }
   ],
   "source": [
    "accuracy_score(ytest,ypred)"
   ]
  },
  {
   "cell_type": "code",
   "execution_count": 59,
   "id": "17659b8b",
   "metadata": {},
   "outputs": [
    {
     "name": "stdout",
     "output_type": "stream",
     "text": [
      "              precision    recall  f1-score   support\n",
      "\n",
      "           0       0.78      0.85      0.82       178\n",
      "           1       0.87      0.81      0.84       222\n",
      "\n",
      "    accuracy                           0.83       400\n",
      "   macro avg       0.83      0.83      0.83       400\n",
      "weighted avg       0.83      0.83      0.83       400\n",
      "\n"
     ]
    }
   ],
   "source": [
    "print(classification_report(ytest,ypred))"
   ]
  }
 ],
 "metadata": {
  "kernelspec": {
   "display_name": "Python 3 (ipykernel)",
   "language": "python",
   "name": "python3"
  },
  "language_info": {
   "codemirror_mode": {
    "name": "ipython",
    "version": 3
   },
   "file_extension": ".py",
   "mimetype": "text/x-python",
   "name": "python",
   "nbconvert_exporter": "python",
   "pygments_lexer": "ipython3",
   "version": "3.10.0"
  }
 },
 "nbformat": 4,
 "nbformat_minor": 5
}
