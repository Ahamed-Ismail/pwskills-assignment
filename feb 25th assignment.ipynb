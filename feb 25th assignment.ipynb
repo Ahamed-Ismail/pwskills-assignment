{
 "cells": [
  {
   "cell_type": "markdown",
   "id": "c821e3e8",
   "metadata": {},
   "source": [
    "## Consider following code to answer further questions:"
   ]
  },
  {
   "cell_type": "code",
   "execution_count": 2,
   "id": "adad311e",
   "metadata": {},
   "outputs": [],
   "source": [
    "import pandas as pd\n",
    "course_name = ['Data Science', 'Machine Learning', 'Big Data', 'Data Engineer']\n",
    "duration = [2,3,6,4]\n",
    "df = pd.DataFrame(data = {'course_name' : course_name, 'duration' : duration})"
   ]
  },
  {
   "cell_type": "markdown",
   "id": "fccf6ecf",
   "metadata": {},
   "source": [
    "## Q1. Write a code to print the data present in the second row of the dataframe, df."
   ]
  },
  {
   "cell_type": "code",
   "execution_count": 3,
   "id": "453395fb",
   "metadata": {},
   "outputs": [
    {
     "data": {
      "text/plain": [
       "course_name    Machine Learning\n",
       "duration                      3\n",
       "Name: 1, dtype: object"
      ]
     },
     "execution_count": 3,
     "metadata": {},
     "output_type": "execute_result"
    }
   ],
   "source": [
    "df.iloc[1]"
   ]
  },
  {
   "cell_type": "markdown",
   "id": "5d9eb1d3",
   "metadata": {},
   "source": [
    "## Q2. What is the difference between the functions loc and iloc in pandas.DataFrame?\n",
    "\n",
    "In pandas, the functions `loc` and `iloc` are used to access and manipulate data in a DataFrame, but they differ in their indexing methods. Here's an explanation of each:\n",
    "\n",
    "1. `loc` (label-based indexing):\n",
    "   - `loc` allows you to access rows and columns in a DataFrame using **labels** or **boolean arrays**.\n",
    "   - When using `loc`, you specify the **row labels** and **column labels** explicitly.\n",
    "   - The syntax for using `loc` is `df.loc[row_label, column_label]`.\n",
    "   - You can pass a single label or a list of labels for rows and columns.\n",
    "\n",
    "2. `iloc` (integer-based indexing):\n",
    "   - `iloc` allows you to access rows and columns in a DataFrame using **integer-based positions**.\n",
    "   - When using `iloc`, you specify the **row positions** and **column positions** explicitly.\n",
    "   - The syntax for using `iloc` is `df.iloc[row_position, column_position]`.\n",
    "   - You can pass a single position or a list of positions for rows and columns.\n",
    "\n"
   ]
  },
  {
   "cell_type": "markdown",
   "id": "3b6489f4",
   "metadata": {},
   "source": [
    "## Q3. Reindex the given dataframe using a variable, reindex = [3,0,1,2] and store it in the variable, new_df then find the output for both new_df.loc[2] and new_df.iloc[2].\n",
    "\n",
    "## Did you observe any difference in both the outputs? If so then explain it.\n",
    "\n",
    "`new_df.loc[2]` retrieves the row with label 2 in the DataFrame new_df. It returns a pandas Series containing the values `[30, 70]`, corresponding to columns 'A' and 'B'.\n",
    "\n",
    "`new_df.iloc[2]` retrieves the row at position 2 in the DataFrame new_df. It returns a pandas Series containing the values `[20, 60]`, corresponding to columns 'A' and 'B'."
   ]
  },
  {
   "cell_type": "code",
   "execution_count": 8,
   "id": "97fc88ba",
   "metadata": {},
   "outputs": [
    {
     "data": {
      "text/plain": [
       "course_name    Big Data\n",
       "duration              6\n",
       "Name: 2, dtype: object"
      ]
     },
     "execution_count": 8,
     "metadata": {},
     "output_type": "execute_result"
    }
   ],
   "source": [
    "reindex=[3,0,1,2]\n",
    "new_df=df.reindex(reindex)\n",
    "new_df.loc[2]"
   ]
  },
  {
   "cell_type": "code",
   "execution_count": 7,
   "id": "0046c3fc",
   "metadata": {},
   "outputs": [
    {
     "data": {
      "text/plain": [
       "course_name    Machine Learning\n",
       "duration                      3\n",
       "Name: 1, dtype: object"
      ]
     },
     "execution_count": 7,
     "metadata": {},
     "output_type": "execute_result"
    }
   ],
   "source": [
    "new_df.iloc[2]"
   ]
  },
  {
   "cell_type": "markdown",
   "id": "1495f214",
   "metadata": {},
   "source": [
    "## Consider the below code to answer further questions:"
   ]
  },
  {
   "cell_type": "code",
   "execution_count": 10,
   "id": "87bab946",
   "metadata": {},
   "outputs": [
    {
     "data": {
      "text/html": [
       "<div>\n",
       "<style scoped>\n",
       "    .dataframe tbody tr th:only-of-type {\n",
       "        vertical-align: middle;\n",
       "    }\n",
       "\n",
       "    .dataframe tbody tr th {\n",
       "        vertical-align: top;\n",
       "    }\n",
       "\n",
       "    .dataframe thead th {\n",
       "        text-align: right;\n",
       "    }\n",
       "</style>\n",
       "<table border=\"1\" class=\"dataframe\">\n",
       "  <thead>\n",
       "    <tr style=\"text-align: right;\">\n",
       "      <th></th>\n",
       "      <th>column_1</th>\n",
       "      <th>column_2</th>\n",
       "      <th>column_3</th>\n",
       "      <th>column_4</th>\n",
       "      <th>column_5</th>\n",
       "      <th>column_6</th>\n",
       "    </tr>\n",
       "  </thead>\n",
       "  <tbody>\n",
       "    <tr>\n",
       "      <th>1</th>\n",
       "      <td>0.312536</td>\n",
       "      <td>0.349255</td>\n",
       "      <td>0.665746</td>\n",
       "      <td>0.215175</td>\n",
       "      <td>0.219141</td>\n",
       "      <td>0.431110</td>\n",
       "    </tr>\n",
       "    <tr>\n",
       "      <th>2</th>\n",
       "      <td>0.371018</td>\n",
       "      <td>0.163757</td>\n",
       "      <td>0.463015</td>\n",
       "      <td>0.287852</td>\n",
       "      <td>0.062186</td>\n",
       "      <td>0.945928</td>\n",
       "    </tr>\n",
       "    <tr>\n",
       "      <th>3</th>\n",
       "      <td>0.948483</td>\n",
       "      <td>0.466972</td>\n",
       "      <td>0.556908</td>\n",
       "      <td>0.115868</td>\n",
       "      <td>0.930562</td>\n",
       "      <td>0.660665</td>\n",
       "    </tr>\n",
       "    <tr>\n",
       "      <th>4</th>\n",
       "      <td>0.852287</td>\n",
       "      <td>0.085744</td>\n",
       "      <td>0.302462</td>\n",
       "      <td>0.874817</td>\n",
       "      <td>0.783869</td>\n",
       "      <td>0.876854</td>\n",
       "    </tr>\n",
       "    <tr>\n",
       "      <th>5</th>\n",
       "      <td>0.212119</td>\n",
       "      <td>0.866695</td>\n",
       "      <td>0.397363</td>\n",
       "      <td>0.310642</td>\n",
       "      <td>0.667827</td>\n",
       "      <td>0.866323</td>\n",
       "    </tr>\n",
       "    <tr>\n",
       "      <th>6</th>\n",
       "      <td>0.978972</td>\n",
       "      <td>0.127798</td>\n",
       "      <td>0.732816</td>\n",
       "      <td>0.062434</td>\n",
       "      <td>0.392588</td>\n",
       "      <td>0.984597</td>\n",
       "    </tr>\n",
       "  </tbody>\n",
       "</table>\n",
       "</div>"
      ],
      "text/plain": [
       "   column_1  column_2  column_3  column_4  column_5  column_6\n",
       "1  0.312536  0.349255  0.665746  0.215175  0.219141  0.431110\n",
       "2  0.371018  0.163757  0.463015  0.287852  0.062186  0.945928\n",
       "3  0.948483  0.466972  0.556908  0.115868  0.930562  0.660665\n",
       "4  0.852287  0.085744  0.302462  0.874817  0.783869  0.876854\n",
       "5  0.212119  0.866695  0.397363  0.310642  0.667827  0.866323\n",
       "6  0.978972  0.127798  0.732816  0.062434  0.392588  0.984597"
      ]
     },
     "execution_count": 10,
     "metadata": {},
     "output_type": "execute_result"
    }
   ],
   "source": [
    "import pandas as pd\n",
    "import numpy as np\n",
    "columns = ['column_1', 'column_2', 'column_3', 'column_4', 'column_5', 'column_6']\n",
    "indices = [1,2,3,4,5,6]\n",
    "#Creating a dataframe:\n",
    "df1 = pd.DataFrame(np.random.rand(6,6), columns = columns, index = indices)\n",
    "df1"
   ]
  },
  {
   "cell_type": "markdown",
   "id": "ad397c8f",
   "metadata": {},
   "source": [
    "## Q4. Write a code to find the following statistical measurements for the above dataframe df1:\n",
    "## (i) mean of each and every column present in the dataframe.\n",
    "## (ii) standard deviation of column, ‘column_2’"
   ]
  },
  {
   "cell_type": "code",
   "execution_count": 11,
   "id": "eb0362b7",
   "metadata": {},
   "outputs": [
    {
     "data": {
      "text/plain": [
       "column_1    0.612569\n",
       "column_2    0.343370\n",
       "column_3    0.519718\n",
       "column_4    0.311131\n",
       "column_5    0.509362\n",
       "column_6    0.794246\n",
       "dtype: float64"
      ]
     },
     "execution_count": 11,
     "metadata": {},
     "output_type": "execute_result"
    }
   ],
   "source": [
    "df1.mean()"
   ]
  },
  {
   "cell_type": "code",
   "execution_count": 13,
   "id": "af58af02",
   "metadata": {},
   "outputs": [
    {
     "data": {
      "text/plain": [
       "0.2947148167890711"
      ]
     },
     "execution_count": 13,
     "metadata": {},
     "output_type": "execute_result"
    }
   ],
   "source": [
    "df1['column_2'].std()"
   ]
  },
  {
   "cell_type": "markdown",
   "id": "7cc4873a",
   "metadata": {},
   "source": [
    "## Q5. Replace the data present in the second row of column, ‘column_2’ by a string variable then find the mean of column, column_2.\n",
    "## If you are getting errors in executing it then explain why.\n",
    "## [Hint: To replace the data use df1.loc[] and equate this to string data of your choice.]\n"
   ]
  },
  {
   "cell_type": "markdown",
   "id": "b9530978",
   "metadata": {},
   "source": [
    "We get a `TypeError: unsupported operand type(s) for +: 'float' and 'str'` as string and integer cannot be used with '+' operator"
   ]
  },
  {
   "cell_type": "markdown",
   "id": "54b5eddb",
   "metadata": {},
   "source": [
    "## Q6. What do you understand about the windows function in pandas and list the types of windows functions?\n",
    "\n",
    "In pandas, window functions allow you to perform calculations on a specific window or subset of data within a DataFrame or Series. These functions operate on a rolling or expanding window of data and can be used to compute various statistical aggregations, such as moving averages, cumulative sums, and more.\n",
    "\n",
    "The types of window functions available in pandas are as follows:\n",
    "\n",
    "1. Rolling Window Functions:\n",
    "   - Rolling functions calculate values based on a fixed-size sliding window.\n",
    "   - They can be applied to both DataFrame and Series objects.\n",
    "   - Examples of rolling window functions include `rolling.mean()`, `rolling.sum()`, `rolling.std()`, `rolling.max()`, `rolling.min()`, etc.\n",
    "\n",
    "2. Expanding Window Functions:\n",
    "   - Expanding functions calculate values based on all data points up to the current point.\n",
    "   - They can be applied to both DataFrame and Series objects.\n",
    "   - Examples of expanding window functions include `expanding.mean()`, `expanding.sum()`, `expanding.std()`, `expanding.max()`, `expanding.min()`, etc.\n",
    "\n",
    "3. Rolling Time Window Functions:\n",
    "   - Rolling time window functions are similar to rolling window functions but operate on a time-based index.\n",
    "   - They require a time-based index in the DataFrame or Series.\n",
    "   - Examples of rolling time window functions include `rolling(window, freq).mean()`, `rolling(window, freq).sum()`, `rolling(window, freq).std()`, etc., where `window` specifies the size of the rolling window and `freq` specifies the time frequency.\n",
    "\n",
    "4. Expanding Time Window Functions:\n",
    "   - Expanding time window functions are similar to expanding window functions but operate on a time-based index.\n",
    "   - They require a time-based index in the DataFrame or Series.\n",
    "   - Examples of expanding time window functions include `expanding(window, freq).mean()`, `expanding(window, freq).sum()`, `expanding(window, freq).std()`, etc., where `window` specifies the size of the expanding window and `freq` specifies the time frequency."
   ]
  },
  {
   "cell_type": "markdown",
   "id": "9faa99ce",
   "metadata": {},
   "source": [
    "## Q7. Write a code to print only the current month and year at the time of answering this question.\n",
    "[Hint: Use pandas.datetime function]"
   ]
  },
  {
   "cell_type": "code",
   "execution_count": 22,
   "id": "ac206039",
   "metadata": {},
   "outputs": [
    {
     "name": "stdout",
     "output_type": "stream",
     "text": [
      "current year:  2023\n",
      "current month:  July\n"
     ]
    }
   ],
   "source": [
    "from datetime import datetime\n",
    "\n",
    "curr_time=datetime.now()\n",
    "date=pd.to_datetime(str(curr_time.year)+'-'+str(curr_time.month))\n",
    "print('current year: ',date.year)\n",
    "print('current month: ',date.strftime('%B'))"
   ]
  },
  {
   "cell_type": "markdown",
   "id": "0950bf1f",
   "metadata": {},
   "source": [
    "## Q8. Write a Python program that takes in two dates as input (in the format YYYY-MM-DD) and calculates the difference between them in days, hours, and minutes using Pandas time delta. The program should prompt the user to enter the dates and display the result."
   ]
  },
  {
   "cell_type": "code",
   "execution_count": 27,
   "id": "4fce495b",
   "metadata": {},
   "outputs": [
    {
     "name": "stdout",
     "output_type": "stream",
     "text": [
      "Enter date 1: 2023-11-01\n",
      "Enter date 2: 2023-11-05\n",
      "Difference between the two dates:\n",
      "Days: 4\n",
      "Hours: 0\n",
      "Minutes: 0\n"
     ]
    }
   ],
   "source": [
    "user_date1=pd.to_datetime(input(\"Enter date 1: \"))\n",
    "user_date2=pd.to_datetime(input(\"Enter date 2: \"))\n",
    "time_diff=user_date2-user_date1\n",
    "\n",
    "print(\"Difference between the two dates:\")\n",
    "print(f\"Days: {time_diff.days}\")\n",
    "print(f\"Hours: {time_diff.seconds // 3600}\")\n",
    "print(f\"Minutes: {(time_diff.seconds % 3600) // 60}\")\n"
   ]
  },
  {
   "cell_type": "markdown",
   "id": "e105cf02",
   "metadata": {},
   "source": [
    "## Q9. Write a Python program that reads a CSV file containing categorical data and converts a specified column to a categorical data type. The program should prompt the user to enter the file path, column name, and category order, and then display the sorted data."
   ]
  },
  {
   "cell_type": "code",
   "execution_count": null,
   "id": "35cd0f0b",
   "metadata": {},
   "outputs": [],
   "source": [
    "file_path = input(\"Enter the file path (CSV file): \")\n",
    "\n",
    "df = pd.read_csv(file_path)\n",
    "column_name = input(\"Enter the column name: \")\n",
    "df[column_name] = pd.Categorical(df[column_name])\n",
    "\n",
    "category_order = input(\"Enter the category order (comma-separated values): \")\n",
    "\n",
    "df[column_name] = df[column_name].cat.set_categories(category_order.split(','))\n",
    "\n",
    "sorted_df = df.sort_values(by=column_name)\n",
    "\n",
    "print(\"Sorted Data:\")\n",
    "print(sorted_df)\n"
   ]
  },
  {
   "cell_type": "markdown",
   "id": "e4a9e2c8",
   "metadata": {},
   "source": [
    "## Q10. Write a Python program that reads a CSV file containing sales data for different products and visualizes the data using a stacked bar chart to show the sales of each product category over time. The program should prompt the user to enter the file path and display the chart."
   ]
  },
  {
   "cell_type": "code",
   "execution_count": null,
   "id": "42c7fadf",
   "metadata": {},
   "outputs": [],
   "source": [
    "import matplotlib.pyplot as plt\n",
    "\n",
    "file_path = input(\"Enter the file path (CSV file): \")\n",
    "\n",
    "df = pd.read_csv(file_path)\n",
    "\n",
    "df['Date'] = pd.to_datetime(df['Date'])\n",
    "\n",
    "grouped_data = df.groupby(['Product Category', 'Date'])['Sales'].sum()\n",
    "\n",
    "plt.figure(figsize=(10, 6))\n",
    "grouped_data.plot(kind='bar', stacked=True)\n",
    "plt.xlabel('Date')\n",
    "plt.ylabel('Sales')\n",
    "plt.title('Sales of Each Product Category Over Time')\n",
    "plt.legend(loc='upper left')\n",
    "plt.xticks(rotation=45)\n",
    "plt.tight_layout()\n",
    "plt.show()\n"
   ]
  },
  {
   "cell_type": "markdown",
   "id": "38d22d18",
   "metadata": {},
   "source": [
    "## Q11. You are given a CSV file containing student data that includes the student ID and their test score. Write a Python program that reads the CSV file, calculates the mean, median, and mode of the test scores, and displays the results in a table."
   ]
  },
  {
   "cell_type": "code",
   "execution_count": null,
   "id": "b667599e",
   "metadata": {},
   "outputs": [],
   "source": [
    "df=pd.read_csv(input(\"Enter path of csv file: \"))\n",
    "\n",
    "mean=df['Test Score'].mean()\n",
    "median=df['Test Score'].median()\n",
    "mode=df['Test Score'].mode()\n",
    "\n",
    "print('+-----------+--------+')\n",
    "print('| Statistic | Value |')\n",
    "print('+-----------+--------+')\n",
    "print(f'| Mean | {mean} |')\n",
    "print(f'| Median | {median} |')\n",
    "print(f'| Mode | {mode} |')\n",
    "print('+-----------+--------+')"
   ]
  }
 ],
 "metadata": {
  "kernelspec": {
   "display_name": "Python 3 (ipykernel)",
   "language": "python",
   "name": "python3"
  },
  "language_info": {
   "codemirror_mode": {
    "name": "ipython",
    "version": 3
   },
   "file_extension": ".py",
   "mimetype": "text/x-python",
   "name": "python",
   "nbconvert_exporter": "python",
   "pygments_lexer": "ipython3",
   "version": "3.10.0"
  }
 },
 "nbformat": 4,
 "nbformat_minor": 5
}
