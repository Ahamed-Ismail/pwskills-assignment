{
 "cells": [
  {
   "cell_type": "markdown",
   "id": "f42eeffd",
   "metadata": {},
   "source": [
    "## Q1. You are working on a machine learning project where you have a dataset containing numerical and categorical features. You have identified that some of the features are highly correlated and there are missing values in some of the columns. You want to build a pipeline that automates the feature engineering process and handles the missing values.\n",
    "\n",
    "## Design a pipeline that includes the following steps:\n",
    "\n",
    "## Use an automated feature selection method to identify the important features in the dataset\n",
    "\n",
    "## Create a numerical pipeline that includes the following steps\"\n",
    "\n",
    "## Impute the missing values in the numerical columns using the mean of the column values\n",
    "\n",
    "## Scale the numerical columns using standardisationC\n",
    "\n",
    "## Create a categorical pipeline that includes the following steps\"\n",
    "\n",
    "## Impute the missing values in the categorical columns using the most frequent value of the column\n",
    "\n",
    "## One-hot encode the categorical columns\n",
    "\n",
    "## Combine the numerical and categorical pipelines using a ColumnTransformer\n",
    "\n",
    "## Use a Random Forest Classifier to build the final model\n",
    "\n",
    "## Evaluate the accuracy of the model on the test dataset\n",
    "\n",
    "## Note! Your solution should include code snippets for each step of the pipeline, and a brief explanation of each step. You should also provide an interpretation of the results and suggest possible improvements for the pipeline"
   ]
  },
  {
   "cell_type": "markdown",
   "id": "2c0c3b7f",
   "metadata": {},
   "source": [
    "```\n",
    "import numpy as np\n",
    "import pandas as pd\n",
    "from sklearn.compose import ColumnTransformer\n",
    "from sklearn.ensemble import RandomForestClassifier\n",
    "from sklearn.impute import SimpleImputer\n",
    "from sklearn.model_selection import train_test_split\n",
    "from sklearn.pipeline import Pipeline\n",
    "from sklearn.preprocessing import StandardScaler, OneHotEncoder\n",
    "from sklearn.feature_selection import SelectKBest, f_classif\n",
    "```\n",
    "- Importing necessary libraries"
   ]
  },
  {
   "cell_type": "markdown",
   "id": "75d0a6f3",
   "metadata": {},
   "source": [
    "```\n",
    "feature_selection = SelectKBest(score_func=f_classif, k=10)\n",
    "```\n",
    "\n",
    "- To get the best k features"
   ]
  },
  {
   "cell_type": "markdown",
   "id": "d0d610c8",
   "metadata": {},
   "source": [
    "```\n",
    "numerical_cols = X_train.select_dtypes(include=[np.number]).columns\n",
    "categorical_cols = X_train.select_dtypes(exclude=[np.number]).columns\n",
    "```\n",
    "- Here we separate the numerical and categorical features\n",
    "\n",
    "\n"
   ]
  },
  {
   "cell_type": "markdown",
   "id": "8bce822b",
   "metadata": {},
   "source": [
    "```\n",
    "numerical_pipeline=Pipeline(steps=[\n",
    "    ('mean_imputer',SimpleImputer(strategy='mean')),\n",
    "    ('scaler',StandardScaler())\n",
    "])\n",
    "\n",
    "categorical_pipeline = Pipeline(steps=[\n",
    "    ('imputer', SimpleImputer(strategy='most_frequent')),\n",
    "    ('onehot', OneHotEncoder())\n",
    "])\n",
    "```\n",
    "\n",
    "The pipeline for numerical features and categorical features are numerical_pipeline and categorical_pipeline respectively.\n",
    "- We impute the missing values of numerical features with ```SimpleImputer(strategy='mean')``` and standardize it with ```StandardScaler()```\n",
    "- We impute the missing values of categorical features with ```SimpleImputer(strategy='most_frequent')``` and encode the variables  with ```OneHotEncoder()```"
   ]
  },
  {
   "cell_type": "markdown",
   "id": "bb40ce8c",
   "metadata": {},
   "source": [
    "```\n",
    "processor=ColumnTransformer(\n",
    "    transformer=[\n",
    "        ('num',numerical_pipeline,numerical_cols),\n",
    "        ('cat',categorical_pipeline,categorical_cols)\n",
    "    ]\n",
    ")\n",
    "```\n",
    "\n",
    "- we combine the two pipelines into a single transformer using ColumnTransformer"
   ]
  },
  {
   "cell_type": "markdown",
   "id": "19dcd340",
   "metadata": {},
   "source": [
    "```\n",
    "pipeline = Pipeline([\n",
    "    ('feature_selection', feature_selection),\n",
    "    ('preprocessor', preprocessor),\n",
    "    ('classifier', RandomForestClassifier(random_state=42))\n",
    "])\n",
    "```\n",
    "\n",
    "- Here we combine all the pipelines into a single pipeline\n"
   ]
  },
  {
   "cell_type": "markdown",
   "id": "5b45bc65",
   "metadata": {},
   "source": [
    "```\n",
    "pipeline.fit(xtrain,xtest)\n",
    "ypred=pipleine.predict(xtest)\n",
    "```\n",
    "- Here we use the pipeline to predict the data"
   ]
  },
  {
   "cell_type": "markdown",
   "id": "cf5dab8e",
   "metadata": {},
   "source": [
    "```\n",
    "accuracy = pipeline.score(X_test, y_test)\n",
    "print(f\"Accuracy on the test dataset: {accuracy:.2f}\")\n",
    "```\n",
    "- To get the final accuracy score of the model"
   ]
  },
  {
   "cell_type": "markdown",
   "id": "2e978cae",
   "metadata": {},
   "source": [
    "## Q2. Build a pipeline that includes a random forest classifier and a logistic regression classifier, and then use a voting classifier to combine their predictions. Train the pipeline on the iris dataset and evaluate its accuracy."
   ]
  },
  {
   "cell_type": "code",
   "execution_count": 3,
   "id": "8b315590",
   "metadata": {},
   "outputs": [
    {
     "name": "stdout",
     "output_type": "stream",
     "text": [
      "Accuracy on the test dataset: 1.00\n"
     ]
    }
   ],
   "source": [
    "\n",
    "from sklearn.datasets import load_iris\n",
    "from sklearn.ensemble import RandomForestClassifier, VotingClassifier\n",
    "from sklearn.linear_model import LogisticRegression\n",
    "from sklearn.model_selection import train_test_split\n",
    "from sklearn.metrics import accuracy_score\n",
    "from sklearn.pipeline import Pipeline\n",
    "from sklearn.preprocessing import StandardScaler\n",
    "\n",
    "iris = load_iris()\n",
    "X = iris.data\n",
    "y = iris.target\n",
    "\n",
    "X_train, X_test, y_train, y_test = train_test_split(X, y, test_size=0.2, random_state=42)\n",
    "\n",
    "random_forest_classifier = RandomForestClassifier(n_estimators=100, random_state=42)\n",
    "logistic_regression_classifier = LogisticRegression(random_state=42)\n",
    "\n",
    "estimators = [\n",
    "    ('random_forest', random_forest_classifier),\n",
    "    ('logistic_regression', logistic_regression_classifier)\n",
    "]\n",
    "\n",
    "voting_classifier = VotingClassifier(estimators=estimators, voting='soft')\n",
    "\n",
    "pipeline = Pipeline([\n",
    "    ('scaler', StandardScaler()),     \n",
    "    ('voting_classifier', voting_classifier) \n",
    "])\n",
    "\n",
    "pipeline.fit(X_train, y_train)\n",
    "\n",
    "y_pred = pipeline.predict(X_test)\n",
    "\n",
    "accuracy = accuracy_score(y_test, y_pred)\n",
    "print(f\"Accuracy on the test dataset: {accuracy:.2f}\")\n"
   ]
  }
 ],
 "metadata": {
  "kernelspec": {
   "display_name": "Python 3 (ipykernel)",
   "language": "python",
   "name": "python3"
  },
  "language_info": {
   "codemirror_mode": {
    "name": "ipython",
    "version": 3
   },
   "file_extension": ".py",
   "mimetype": "text/x-python",
   "name": "python",
   "nbconvert_exporter": "python",
   "pygments_lexer": "ipython3",
   "version": "3.10.0"
  }
 },
 "nbformat": 4,
 "nbformat_minor": 5
}
