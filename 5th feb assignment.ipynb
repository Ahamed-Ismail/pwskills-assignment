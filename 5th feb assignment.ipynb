{
 "cells": [
  {
   "cell_type": "markdown",
   "id": "f256379c",
   "metadata": {},
   "source": [
    "## Q1. Explain Class and Object with respect to Object-Oriented Programming. Give a suitable example.\n",
    "\n",
    "In Object-Oriented Programming (OOP), a class is a blueprint or a template that defines the attributes (properties or data) and behaviors (methods or functions) of a particular type of object. An object, on the other hand, is an instance of a class that contains specific values for the attributes defined in the class and can perform actions using the methods defined in the class."
   ]
  },
  {
   "cell_type": "code",
   "execution_count": 4,
   "id": "dcb45030",
   "metadata": {},
   "outputs": [
    {
     "name": "stdout",
     "output_type": "stream",
     "text": [
      "John says: Hello, how are you?\n"
     ]
    }
   ],
   "source": [
    "class Person:\n",
    "    def __init__(self, name, age, gender, height):\n",
    "        self.name = name\n",
    "        self.age = age\n",
    "        self.gender = gender\n",
    "        self.height = height\n",
    "\n",
    "    def speak(self, message):\n",
    "        print(self.name + \" says: \" + message)\n",
    "john = Person(\"John\", 25, \"Male\", 180)\n",
    "john.speak(\"Hello, how are you?\")"
   ]
  },
  {
   "cell_type": "markdown",
   "id": "4d74255c",
   "metadata": {},
   "source": [
    "## Q2. Name the four pillars of OOPs.\n",
    "\n",
    "Encapsulation , Abstraction, Inheritence, Polymorphism"
   ]
  },
  {
   "cell_type": "markdown",
   "id": "5392109b",
   "metadata": {},
   "source": [
    "## Q3. Explain why the __init__() function is used. Give a suitable example.\n",
    "\n",
    "In Object-Oriented Programming, the __init__() function is a special method that is called automatically when an object is created from a class. It is used to initialize the attributes of the object with default or user-defined values."
   ]
  },
  {
   "cell_type": "code",
   "execution_count": 5,
   "id": "599978a5",
   "metadata": {},
   "outputs": [
    {
     "data": {
      "text/plain": [
       "('Honda', 'Civic', 2022, 25000)"
      ]
     },
     "execution_count": 5,
     "metadata": {},
     "output_type": "execute_result"
    }
   ],
   "source": [
    "class Car:\n",
    "    def __init__(self, make, model, year, price):\n",
    "        self.make = make\n",
    "        self.model = model\n",
    "        self.year = year\n",
    "        self.price = price\n",
    "    def detail(self):\n",
    "        return(self.make,self.model,self.year,self.price)\n",
    "my_car = Car(\"Honda\", \"Civic\", 2022, 25000)\n",
    "my_car.detail()"
   ]
  },
  {
   "cell_type": "markdown",
   "id": "b1cd2aa9",
   "metadata": {},
   "source": [
    "## Q4. Why self is used in OOPs?\n",
    "\n",
    "In Object-Oriented Programming (OOPs), self is a reference to the instance of a class, also known as an object. It is used to access the attributes and methods of the object within the class.\n",
    "\n",
    "The self keyword is used as the first argument to all instance methods in Python, including the __init__() method. It refers to the object that the method is being called on, and allows us to access its attributes and methods."
   ]
  },
  {
   "cell_type": "markdown",
   "id": "4fcfb3e5",
   "metadata": {},
   "source": [
    "## Q5. What is inheritance? Give an example for each type of inheritance.\n",
    "\n",
    "Inheritance is a key concept in Object-Oriented Programming (OOPs) that allows one class to inherit the properties and behavior of another class. Inheritance is a mechanism of creating a new class (derived class) from an existing class (base class) and adding or modifying the properties and behavior of the base class in the derived class"
   ]
  },
  {
   "cell_type": "code",
   "execution_count": 6,
   "id": "1a3d828d",
   "metadata": {},
   "outputs": [
    {
     "name": "stdout",
     "output_type": "stream",
     "text": [
      "Animal is eating...\n",
      "Dog is barking...\n"
     ]
    }
   ],
   "source": [
    "class Animal:       #single inheritence\n",
    "    def eat(self):\n",
    "        print(\"Animal is eating...\")\n",
    "\n",
    "class Dog(Animal):\n",
    "    def bark(self):\n",
    "        print(\"Dog is barking...\")\n",
    "\n",
    "my_dog = Dog()\n",
    "my_dog.eat()  \n",
    "my_dog.bark() \n"
   ]
  },
  {
   "cell_type": "code",
   "execution_count": 8,
   "id": "76177be9",
   "metadata": {},
   "outputs": [
    {
     "name": "stdout",
     "output_type": "stream",
     "text": [
      "Car is driving...\n",
      "Bike is riding...\n"
     ]
    }
   ],
   "source": [
    "class Car:     #multiple inheritence\n",
    "    def drive(self):\n",
    "        print(\"Car is driving...\")\n",
    "\n",
    "class Bike:\n",
    "    def ride(self):\n",
    "        print(\"Bike is riding...\")\n",
    "\n",
    "class HybridVehicle(Car, Bike):\n",
    "    pass\n",
    "\n",
    "my_hybrid = HybridVehicle()\n",
    "my_hybrid.drive()\n",
    "my_hybrid.ride()  \n"
   ]
  },
  {
   "cell_type": "code",
   "execution_count": 9,
   "id": "e462709c",
   "metadata": {},
   "outputs": [
    {
     "name": "stdout",
     "output_type": "stream",
     "text": [
      "Vehicle is starting...\n",
      "Vehicle is starting...\n"
     ]
    }
   ],
   "source": [
    "class Vehicle:        #hierarchical inheritence\n",
    "    def start(self):\n",
    "        print(\"Vehicle is starting...\")\n",
    "\n",
    "class Car(Vehicle):\n",
    "    def drive(self):\n",
    "        print(\"Car is driving...\")\n",
    "\n",
    "class Bike(Vehicle):\n",
    "    def ride(self):\n",
    "        print(\"Bike is riding...\")\n",
    "\n",
    "my_car = Car()\n",
    "my_bike = Bike()\n",
    "my_car.start() \n",
    "my_bike.start() \n"
   ]
  },
  {
   "cell_type": "code",
   "execution_count": 11,
   "id": "7d43ecd3",
   "metadata": {},
   "outputs": [
    {
     "name": "stdout",
     "output_type": "stream",
     "text": [
      "Vehicle is starting...\n",
      "Car is driving...\n",
      "Sports car is racing...\n"
     ]
    }
   ],
   "source": [
    "class Vehicle:         #multilevel inheritence\n",
    "    def start(self):\n",
    "        print(\"Vehicle is starting...\")\n",
    "\n",
    "class Car(Vehicle):\n",
    "    def drive(self):\n",
    "        print(\"Car is driving...\")\n",
    "\n",
    "class SportsCar(Car):\n",
    "    def race(self):\n",
    "        print(\"Sports car is racing...\")\n",
    "\n",
    "my_sports_car = SportsCar()\n",
    "my_sports_car.start() \n",
    "my_sports_car.drive()\n",
    "my_sports_car.race()\n"
   ]
  }
 ],
 "metadata": {
  "kernelspec": {
   "display_name": "Python 3 (ipykernel)",
   "language": "python",
   "name": "python3"
  },
  "language_info": {
   "codemirror_mode": {
    "name": "ipython",
    "version": 3
   },
   "file_extension": ".py",
   "mimetype": "text/x-python",
   "name": "python",
   "nbconvert_exporter": "python",
   "pygments_lexer": "ipython3",
   "version": "3.10.0"
  }
 },
 "nbformat": 4,
 "nbformat_minor": 5
}
