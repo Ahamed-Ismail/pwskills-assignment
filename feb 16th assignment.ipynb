{
 "cells": [
  {
   "cell_type": "markdown",
   "id": "0aefc3af",
   "metadata": {},
   "source": [
    "## Q1. What is a database? Differentiate between SQL and NoSQL databases.\n",
    "\n",
    "A database is a structured collection of data that is organized and stored for easy retrieval, management, and manipulation. It provides a way to store, manage, and retrieve large amounts of data efficiently.\n",
    "\n",
    "1. SQL Databases (Relational Databases):\n",
    "   SQL databases, also known as relational databases, use Structured Query Language (SQL) for defining and manipulating the data. They are based on the relational model, which organizes data into tables consisting of rows and columns. SQL databases have a predefined schema that defines the structure of the data, including relationships between tables\n",
    "\n",
    "2. NoSQL Databases (Non-Relational Databases):\n",
    "    NoSQL databases, as the name suggests, are non-relational and do not adhere to a fixed schema. They are designed to handle unstructured and semi-structured data, making them more flexible and scalable for certain types of applications. NoSQL databases use various data models, such as key-value pairs, documents, wide-column stores, or graphs, depending on the specific database system."
   ]
  },
  {
   "cell_type": "markdown",
   "id": "b6c767b5",
   "metadata": {},
   "source": [
    "## Q2. What is DDL? Explain why CREATE, DROP, ALTER, and TRUNCATE are used with an example.\n",
    "\n",
    "DDL commands, also known as Data Definition Language is a set of command used to define and manage the structure of the database. They are used to create, modify and delete components of a database.\n",
    "1. CREATE:\n",
    "   The CREATE statement is used to create database objects such as tables, indexes, views, or schemas. It defines the structure and properties of the object being created.\n",
    "   `CREATE TABLE Customers (  \n",
    "    id INT PRIMARY KEY,    \n",
    "    name VARCHAR(50),    \n",
    "    email VARCHAR(100)    \n",
    ");`\n",
    "   \n",
    "2. DROP:\n",
    "    The DROP statement is used to remove database objects such as tables, indexes, or views. It permanently deletes the object and its associated data from the database.\n",
    "`DROP TABLE Customers;`\n",
    "\n",
    "3. ALTER:\n",
    "    The ALTER statement is used to modify the structure of an existing database object. It allows adding, modifying, or deleting columns, constraints, or other properties of an object.\n",
    "`ALTER TABLE Customers ADD phone VARCHAR(15);`\n",
    "4. TRUNCATE:\n",
    "    The TRUNCATE statement is used to remove all rows from a table, but it keeps the table structure intact. Unlike the DELETE statement, which deletes rows one by one, TRUNCATE is faster as it removes all data in a single operation.\n",
    "`TRUNCATE TABLE Customers;`"
   ]
  },
  {
   "cell_type": "markdown",
   "id": "8fcb774f",
   "metadata": {},
   "source": [
    "## Q3. What is DML? Explain INSERT, UPDATE, and DELETE with an example.\n",
    "\n",
    "DML stands for Data Manipulation Language. It is a subset of SQL (Structured Query Language) used to manipulate data within a database. DML statements are used to insert, update, and delete data from tables.\n",
    "\n",
    "Here are explanations and examples of commonly used DML statements:\n",
    "\n",
    "1. INSERT:\n",
    "The INSERT statement is used to add new rows of data into a table. It specifies the table name and the values to be inserted into the corresponding columns.\n",
    "`INSERT INTO Customers (id, name, email)\n",
    "VALUES (1, 'John Smith', 'john@example.com');\n",
    "`\n",
    "2. UPDATE:\n",
    "The UPDATE statement is used to modify existing data within a table. It allows changing the values of specific columns in one or more rows that match a given condition.\n",
    "`UPDATE Customers\n",
    "SET email = 'john.smith@example.com'\n",
    "WHERE id = 1;`\n",
    "3. DELETE:\n",
    "The DELETE statement is used to remove one or more rows from a table. It allows deleting rows based on specified conditions.\n",
    "`DELETE FROM Customers\n",
    "WHERE id = 1;`"
   ]
  },
  {
   "cell_type": "markdown",
   "id": "8cae0f20",
   "metadata": {},
   "source": [
    "## Q4. What is DQL? Explain SELECT with an example.\n",
    "\n",
    "DQL stands for Data Query Language. It is a subset of SQL (Structured Query Language) used to retrieve and manipulate data from a database. DQL statements are primarily focused on querying and retrieving data from tables.\n",
    "\n",
    "The most commonly used DQL statement is SELECT, which is used to retrieve data from one or more tables based on specified criteria.\n",
    "\n",
    "1. SELECT:\n",
    "The SELECT statement is used to retrieve data from one or more tables in a database. It allows you to specify the columns you want to retrieve, the table(s) to query, and any conditions or criteria for filtering the results. It can also include functions, expressions, and sorting options to further refine the data retrieved.\n",
    "\n",
    "`SELECT name, email\n",
    "FROM Customers\n",
    "WHERE branch= \"mumbai\";\n",
    "`"
   ]
  },
  {
   "cell_type": "markdown",
   "id": "07575fe6",
   "metadata": {},
   "source": [
    "## Q5. Explain Primary Key and Foreign Key.\n",
    "\n",
    "1. A primary key is a column or a set of columns in a database table that uniquely identifies each row in that table. It serves as a unique identifier for each record and ensures the uniqueness and integrity of the data within the table. A primary key constraint enforces the uniqueness and non-nullability of the primary key columns.\n",
    "\n",
    "2. A foreign key establishes a relationship between two tables in a database. It refers to the primary key of another table and represents a link between the data in the two tables. The foreign key constraint ensures referential integrity, maintaining consistency and enforcing data relationships across related tables."
   ]
  },
  {
   "cell_type": "markdown",
   "id": "f781b28c",
   "metadata": {},
   "source": [
    "## Q6. Write a python code to connect MySQL to python. Explain the cursor() and execute() method.\n",
    "1. cursor():\n",
    "The cursor() method creates a cursor object, which is used to execute SQL statements and retrieve results from the database. The cursor acts as a handle or pointer to the result set of a query.\n",
    "\n",
    "2. execute():\n",
    "The execute() method is used to execute SQL queries or statements through the cursor object. It takes an SQL statement as a parameter and sends it to the MySQL server for execution. The method can also take additional parameters to pass values for prepared statements or placeholders."
   ]
  },
  {
   "cell_type": "code",
   "execution_count": null,
   "id": "708e5328",
   "metadata": {},
   "outputs": [],
   "source": [
    "import mysql.connenctor\n",
    "mydb=mysql.connector.connect(\n",
    "host='localhost',\n",
    "user='abc',\n",
    "password='password')\n",
    "\n",
    "mycursor=mydb.cursor()\n",
    "cursor.execute(\"SELECT * FROM customers\")"
   ]
  },
  {
   "cell_type": "markdown",
   "id": "1f786260",
   "metadata": {},
   "source": [
    "## Q7. Give the order of execution of SQL clauses in an SQL query.\n",
    "\n",
    "The order of execution of SQL clauses in an SQL query generally follows the logical sequence described below:\n",
    "\n",
    "1. FROM: The FROM clause specifies the tables or views from which the data will be retrieved. It identifies the data source for the query.\n",
    "\n",
    "2. JOIN: The JOIN clause is used to combine rows from multiple tables based on a related column between them. It joins tables together based on the specified join conditions.\n",
    "\n",
    "3. WHERE: The WHERE clause filters the rows based on specified conditions. It defines the criteria for selecting specific rows from the tables.\n",
    "\n",
    "4. GROUP BY: The GROUP BY clause is used to group the rows based on one or more columns. It allows for the aggregation of data within each group.\n",
    "\n",
    "4. HAVING: The HAVING clause is used in conjunction with the GROUP BY clause to filter the groups based on specified conditions. It filters the grouped data after the aggregation has been performed.\n",
    "\n",
    "6. SELECT: The SELECT clause specifies the columns or expressions to be included in the result set. It retrieves the desired columns and performs any necessary calculations or transformations.\n",
    "\n",
    "7. DISTINCT: The DISTINCT keyword eliminates duplicate rows from the result set, ensuring that each row is unique based on the specified columns.\n",
    "\n",
    "8. ORDER BY: The ORDER BY clause is used to sort the result set based on one or more columns. It specifies the sorting order, such as ascending (ASC) or descending (DESC).\n",
    "\n",
    "9. LIMIT/OFFSET: The LIMIT clause (sometimes combined with OFFSET) is used to restrict the number of rows returned in the result set. It allows for pagination or retrieving a specific range of rows."
   ]
  }
 ],
 "metadata": {
  "kernelspec": {
   "display_name": "Python 3 (ipykernel)",
   "language": "python",
   "name": "python3"
  },
  "language_info": {
   "codemirror_mode": {
    "name": "ipython",
    "version": 3
   },
   "file_extension": ".py",
   "mimetype": "text/x-python",
   "name": "python",
   "nbconvert_exporter": "python",
   "pygments_lexer": "ipython3",
   "version": "3.10.0"
  }
 },
 "nbformat": 4,
 "nbformat_minor": 5
}
